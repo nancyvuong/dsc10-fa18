{
 "cells": [
  {
   "cell_type": "markdown",
   "metadata": {},
   "source": [
    "# Hypothesis Testing, A/B Testing\n",
    "---\n",
    "\n",
    "Tonight we'll be conducting our own A/B test and extracting useful business insights!"
   ]
  },
  {
   "cell_type": "code",
   "execution_count": null,
   "metadata": {},
   "outputs": [],
   "source": [
    "from datascience import *\n",
    "import numpy as np\n",
    "import matplotlib.pyplot as plt\n",
    "%matplotlib inline"
   ]
  },
  {
   "cell_type": "markdown",
   "metadata": {},
   "source": [
    "You've just been hired as the Chief Data Scientist for CALPIRG.  You're being tasked with helping the UX (user experience) team tweak your website to try to get more people to pledge to Save the Bees™.  Here are the two strategies the team has come up with:\n",
    "1. Have a pledge button and call-to-action on just the main page of the site\n",
    "2. Have a popup with the pledge button and call-to-action whenever you visit the site\n",
    "\n",
    "As a data scientist, it is your job to see which method is more effective at driving pledges (we'll simply call them \"clicks\").  It is also your job to create a compelling argument to convince CALPIRG to act in accordance to your findings.\n",
    "\n",
    "Ready?  Let's begin."
   ]
  },
  {
   "cell_type": "markdown",
   "metadata": {},
   "source": [
    "# Step 0: Why do we do hypothesis testing?\n",
    "---\n",
    "\n",
    "Simply comparing the average of the two groups has a lot of room for error.\n",
    "\n",
    "Have you ever heard of a difference being \"*statistically significant*\"?  We don't just want to see if there's a difference—we want to know if that difference is caused by something, or if it's even a significant difference in the first place!\n",
    "\n",
    "We're able to determine if something is significant or not by hypothesis testing.\n",
    "\n",
    "Hypothesis testing helps with the following:\n",
    "* Figuring out the differences between two measurements when we're looking at a **sample** instead of the population\n",
    "* Figuring out if a difference could have happened by random chance\n",
    "* Establishing **causation** if we conducted an experiment"
   ]
  },
  {
   "cell_type": "code",
   "execution_count": null,
   "metadata": {},
   "outputs": [],
   "source": [
    "# That last point is very important"
   ]
  },
  {
   "cell_type": "markdown",
   "metadata": {},
   "source": [
    "# Step 1: Choosing our hypotheses\n",
    "---\n",
    "\n",
    "Recall, when conducting a hypothesis test we generate two hypotheses:\n",
    "\n",
    "### The Null Hypothesis (H<sub>0</sub>):\n",
    "States that nothing really changed.  Technically, it states that both of the samples came from the same population.\n",
    "\n",
    "### The Alternative Hypothesis (H<sub>1</sub>):\n",
    "States that there is a difference between the two distributions from which the samples were taken."
   ]
  },
  {
   "cell_type": "code",
   "execution_count": null,
   "metadata": {},
   "outputs": [],
   "source": [
    "# Alright, let's create our two hypotheses together"
   ]
  },
  {
   "cell_type": "markdown",
   "metadata": {},
   "source": [
    "```\n",
    "Null: ...\n",
    "Alt:  ...\n",
    "```"
   ]
  },
  {
   "cell_type": "code",
   "execution_count": null,
   "metadata": {},
   "outputs": [],
   "source": [
    "# It's important to be specific when working with statistics."
   ]
  },
  {
   "cell_type": "code",
   "execution_count": null,
   "metadata": {},
   "outputs": [],
   "source": [
    "# Let's create two more hypotheses:"
   ]
  },
  {
   "cell_type": "markdown",
   "metadata": {},
   "source": [
    "```\n",
    "Let c := the average click rate of visitors before the experiment (theoretically the same as control)\n",
    "\n",
    "H_0: ...\n",
    "H_1: ...\n",
    "\n",
    "or\n",
    "\n",
    "H_0: ...\n",
    "H_1: ...\n",
    "```"
   ]
  },
  {
   "cell_type": "markdown",
   "metadata": {},
   "source": [
    "# Step 2: Setting up the experiment\n",
    "---\n",
    "\n",
    "Now we need to figure out how to test this (and how to measure the results).\n",
    "\n",
    "Since we are scientists, after all, it is important that we follow some rules when conducting experiements:\n",
    "- The experiment must be controlled\n",
    "- The experiment must have a treatment and control group\n",
    "- The experiment must not be harmful\n",
    "- The experiment must produce results that can evaluate a hypothesis\n",
    "- The results must be reproducible (the experiment must be able to be repeated)\n",
    "\n",
    "Well, I hope we're not harming anyone by showing them a few popups.  As for fulfilling the rest of the requirements, what do you think is a good way to create our experiment?"
   ]
  },
  {
   "cell_type": "markdown",
   "metadata": {},
   "source": [
    "```\n",
    "...\n",
    "```"
   ]
  },
  {
   "cell_type": "markdown",
   "metadata": {},
   "source": [
    "Our experiment is a Random Controlled Trial (RCT), as opposed to an Observational Study.  What does this mean we can conclude from the results of the experiment?"
   ]
  },
  {
   "cell_type": "markdown",
   "metadata": {},
   "source": [
    "```\n",
    "...\n",
    "```"
   ]
  },
  {
   "cell_type": "markdown",
   "metadata": {},
   "source": [
    "# Step 3: Execute the experiment\n",
    "---\n",
    "\n",
    "Now we implement this experiment in the code for the website.  We need to make sure to record the results!\n",
    "\n",
    "We received 1000 visitors over the last week, and kept track of which group they were in and whether they pledged.\n",
    "\n",
    "`0 = Did not pledge; 1 = Pledged`"
   ]
  },
  {
   "cell_type": "code",
   "execution_count": null,
   "metadata": {},
   "outputs": [],
   "source": [
    "data = Table.read_table(\"popup-test.csv\")"
   ]
  },
  {
   "cell_type": "code",
   "execution_count": null,
   "metadata": {},
   "outputs": [],
   "source": [
    "data"
   ]
  },
  {
   "cell_type": "code",
   "execution_count": null,
   "metadata": {},
   "outputs": [],
   "source": [
    "# Is this the population?"
   ]
  },
  {
   "cell_type": "markdown",
   "metadata": {},
   "source": [
    "```\n",
    "...\n",
    "```"
   ]
  },
  {
   "cell_type": "markdown",
   "metadata": {},
   "source": [
    "# Step 4: Test the null hypothesis\n",
    "---\n",
    "\n",
    "Let's establish something thing before we go any further:\n",
    "- What is the statistic we are trying to test for?"
   ]
  },
  {
   "cell_type": "code",
   "execution_count": null,
   "metadata": {},
   "outputs": [],
   "source": [
    "# What are we looking at between treatment and control?"
   ]
  },
  {
   "cell_type": "markdown",
   "metadata": {},
   "source": [
    "```\n",
    "...\n",
    "Let's be specific: ...\n",
    "```"
   ]
  },
  {
   "cell_type": "code",
   "execution_count": null,
   "metadata": {},
   "outputs": [],
   "source": [
    "# Let's find that difference from our sample above\n",
    "num_clicks = ...\n",
    "num_clicks"
   ]
  },
  {
   "cell_type": "code",
   "execution_count": null,
   "metadata": {},
   "outputs": [],
   "source": [
    "group_counts = ...\n",
    "group_counts"
   ]
  },
  {
   "cell_type": "code",
   "execution_count": null,
   "metadata": {},
   "outputs": [],
   "source": [
    "click_rates = Table().with_columns(\n",
    "    \"Group\", [\"Control\", \"Treatment\"],\n",
    "    \"Rate\", num_clicks.column(\"Click sum\") / group_counts.column(\"count\")\n",
    ")\n",
    "click_rates"
   ]
  },
  {
   "cell_type": "code",
   "execution_count": null,
   "metadata": {},
   "outputs": [],
   "source": [
    "rates = ...\n",
    "observed_diff = ...\n",
    "observed_diff"
   ]
  },
  {
   "cell_type": "code",
   "execution_count": null,
   "metadata": {},
   "outputs": [],
   "source": [
    "# Does that seem like a big difference?"
   ]
  },
  {
   "cell_type": "markdown",
   "metadata": {},
   "source": [
    "```\n",
    "...\n",
    "```"
   ]
  },
  {
   "cell_type": "markdown",
   "metadata": {},
   "source": [
    "Now we are trying to figure out how likely it is to observe that distance or greater."
   ]
  },
  {
   "cell_type": "code",
   "execution_count": null,
   "metadata": {},
   "outputs": [],
   "source": [
    "# Why \"that distance or greater\"?  Why not \"that distance\"?"
   ]
  },
  {
   "cell_type": "markdown",
   "metadata": {},
   "source": [
    "```\n",
    "...\n",
    "```"
   ]
  },
  {
   "cell_type": "markdown",
   "metadata": {},
   "source": [
    "### A bit more detail into testing the null hypothesis\n",
    "\n",
    "What is the null hypothesis?\n",
    "\n",
    "> The popup has no effect.  The click rate for visitors who get the popup and for visitors who don't come **from the same population**.\n",
    "\n",
    "Recall, when we run a hypothesis test we are **trying to prove the null hypothesis**.  How would we do that?"
   ]
  },
  {
   "cell_type": "markdown",
   "metadata": {},
   "source": [
    "```\n",
    "...\n",
    "```"
   ]
  },
  {
   "cell_type": "markdown",
   "metadata": {},
   "source": [
    "### Permutation test\n",
    "All we have is a sample.  We have no other knowledge of our population.\n",
    "\n",
    "So... how are we going to try and prove the null hypothesis?"
   ]
  },
  {
   "cell_type": "markdown",
   "metadata": {},
   "source": [
    "```\n",
    "...\n",
    "```"
   ]
  },
  {
   "cell_type": "code",
   "execution_count": null,
   "metadata": {},
   "outputs": [],
   "source": [
    "# Let's conduct the permutation test\n",
    "trials = 1000\n",
    "differences = ...\n",
    "\n",
    "for ...:\n",
    "    # We choose one of the columns, either the Group or the Click, to shuffle\n",
    "    shuffled_groups = data...\n",
    "    \n",
    "    # Then we match it back up with our other column\n",
    "    shuffled_data = Table().with_columns(\n",
    "        \"Group\", shuffled_groups,\n",
    "        \"Click\", data.column(\"Click\")\n",
    "    )\n",
    "    \n",
    "    # Now, we see what differences we get after shuffling\n",
    "    click_rates = (\n",
    "        shuffled_data.group(\"Group\", sum).column(\"Click sum\")\n",
    "        / shuffled_data.group(\"Group\").column(\"count\")\n",
    "    )\n",
    "    \n",
    "    difference = ...\n",
    "    \n",
    "    differences = ..."
   ]
  },
  {
   "cell_type": "code",
   "execution_count": null,
   "metadata": {},
   "outputs": [],
   "source": [
    "# Let's visualize the distribution of differences\n",
    "Table().with_column(\"Difference\", differences)...\n",
    "\n",
    "# Where does our observed difference land?\n",
    "plt.axvline(observed_diff, c='r')"
   ]
  },
  {
   "cell_type": "code",
   "execution_count": null,
   "metadata": {},
   "outputs": [],
   "source": [
    "# Wow, that's more different than 6% would lead you to believe!"
   ]
  },
  {
   "cell_type": "code",
   "execution_count": null,
   "metadata": {},
   "outputs": [],
   "source": [
    "# What's the chance of a difference geq the observed difference occurring?\n",
    "..."
   ]
  },
  {
   "cell_type": "markdown",
   "metadata": {},
   "source": [
    "### Another type of test\n",
    "Let's say that we know the average click rate for visitors is 0.4.  Then, we can test the null hypothesis by simulation as opposed to permutation."
   ]
  },
  {
   "cell_type": "code",
   "execution_count": null,
   "metadata": {},
   "outputs": [],
   "source": [
    "trials = 1000\n",
    "visitors = 1000\n",
    "differences = []\n",
    "\n",
    "for i in range(trials):\n",
    "    d = {\"Control\": {\"visitors\": 0, \"clicks\": 0}, \"Treatment\": {\"visitors\": 0, \"clicks\": 0}}\n",
    "    \n",
    "    for visitor in range(visitors):\n",
    "        # 50% chance of being in treatment\n",
    "        ...\n",
    "\n",
    "        # 40% chance of clicking\n",
    "        ...\n",
    "        \n",
    "        d[group][\"visitors\"] += 1\n",
    "        d[group][\"clicks\"] += click\n",
    "        \n",
    "    rate_control = d[\"Control\"][\"clicks\"] / d[\"Control\"][\"visitors\"]\n",
    "    rate_treatment = d[\"Treatment\"][\"clicks\"] / d[\"Treatment\"][\"visitors\"]\n",
    "    difference = rate_control - rate_treatment\n",
    "    \n",
    "    differences.append(difference)"
   ]
  },
  {
   "cell_type": "code",
   "execution_count": null,
   "metadata": {},
   "outputs": [],
   "source": [
    "# Visualize again\n",
    "Table().with_column(\"Difference\", differences).hist()\n",
    "plt.axvline(observed_diff, c='r')"
   ]
  },
  {
   "cell_type": "code",
   "execution_count": null,
   "metadata": {},
   "outputs": [],
   "source": [
    "..."
   ]
  },
  {
   "cell_type": "markdown",
   "metadata": {},
   "source": [
    "# Step 5: Interpret the results\n",
    "---\n",
    "\n",
    "In order to interpret the results, and figure out whether or not the observed difference was statistically significant, we need to set a significance level, **<code>&alpha;</code>**.\n",
    "\n",
    "The significance level is defined as the probability of making a \"Type I Error\" in which we reject the null hypothesis when it is actually true.  Meaning, if we set $\\alpha = 0.05$ then we have 5% chance of mistakenly rejecting the null hypothesis.\n",
    "\n",
    "\n",
    "From our experiment, we calculate a **<code>p-value</code>**.\n",
    "\n",
    "The p-value is the defined as the probability of observing a difference greater than or equal to the observed difference if the null hypothesis were to be true."
   ]
  },
  {
   "cell_type": "code",
   "execution_count": null,
   "metadata": {},
   "outputs": [],
   "source": [
    "# What is the p-value of our experiment above?\n",
    "# (based on the permutation test)"
   ]
  },
  {
   "cell_type": "code",
   "execution_count": null,
   "metadata": {},
   "outputs": [],
   "source": [
    "..."
   ]
  },
  {
   "cell_type": "markdown",
   "metadata": {},
   "source": [
    "If the p-value is less than or equal to the significance level, then we reject the null hypothesis and support the alternative hypothesis."
   ]
  },
  {
   "cell_type": "code",
   "execution_count": null,
   "metadata": {},
   "outputs": [],
   "source": [
    "# Since this is an experiment, what does supporting the alternative hypothesis imply?"
   ]
  },
  {
   "cell_type": "markdown",
   "metadata": {},
   "source": [
    "```\n",
    "...\n",
    "```"
   ]
  },
  {
   "cell_type": "code",
   "execution_count": null,
   "metadata": {},
   "outputs": [],
   "source": [
    "# If the p-value is greater than the significance level, then we..."
   ]
  },
  {
   "cell_type": "markdown",
   "metadata": {},
   "source": [
    "```\n",
    "If p > 𝛼, then we ...\n",
    "```"
   ]
  },
  {
   "cell_type": "markdown",
   "metadata": {},
   "source": [
    "So, now it's time to prepare our presentation to CALPIRG:\n",
    "\n",
    "---"
   ]
  },
  {
   "cell_type": "markdown",
   "metadata": {},
   "source": [
    "In order to get more people to pledge while visiting the website, we should:\n",
    "...\n",
    "\n",
    "We concluded this from\n",
    "...\n",
    "in which we assigned\n",
    "...\n",
    "We collected\n",
    "...\n",
    "and saw\n",
    "...\n",
    "\n",
    "We proposed two hypotheses:\n",
    "...\n",
    "After running a\n",
    "...\n",
    "we discovered that the observed difference\n",
    "...\n",
    "\n",
    "So, we\n",
    "...\n",
    "because our p-value\n",
    "...\n",
    "And, therefore\n",
    "...\n",
    "\n",
    "In conclusion,\n",
    "..."
   ]
  },
  {
   "cell_type": "markdown",
   "metadata": {},
   "source": [
    "# Have a great Thanksgiving!"
   ]
  },
  {
   "cell_type": "code",
   "execution_count": null,
   "metadata": {},
   "outputs": [],
   "source": []
  }
 ],
 "metadata": {
  "kernelspec": {
   "display_name": "Python 3",
   "language": "python",
   "name": "python3"
  },
  "language_info": {
   "codemirror_mode": {
    "name": "ipython",
    "version": 3
   },
   "file_extension": ".py",
   "mimetype": "text/x-python",
   "name": "python",
   "nbconvert_exporter": "python",
   "pygments_lexer": "ipython3",
   "version": "3.6.2"
  }
 },
 "nbformat": 4,
 "nbformat_minor": 2
}
