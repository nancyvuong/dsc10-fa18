{
 "cells": [
  {
   "cell_type": "code",
   "execution_count": null,
   "metadata": {},
   "outputs": [],
   "source": [
    "from datascience import *\n",
    "import numpy as np\n",
    "import matplotlib.pyplot as plt\n",
    "%matplotlib inline"
   ]
  },
  {
   "cell_type": "markdown",
   "metadata": {},
   "source": [
    "# Let's talk about things\n",
    "---\n",
    "\n",
    "To start off—how was the midterm?  Any questions?"
   ]
  },
  {
   "cell_type": "markdown",
   "metadata": {},
   "source": [
    "Alright, let's get to the fun stuff!"
   ]
  },
  {
   "cell_type": "markdown",
   "metadata": {},
   "source": [
    "# Probability\n",
    "---"
   ]
  },
  {
   "cell_type": "code",
   "execution_count": null,
   "metadata": {},
   "outputs": [],
   "source": [
    "# What is a measure of probability?"
   ]
  },
  {
   "cell_type": "markdown",
   "metadata": {},
   "source": [
    "```\n",
    "...\n",
    "```"
   ]
  },
  {
   "cell_type": "code",
   "execution_count": null,
   "metadata": {},
   "outputs": [],
   "source": [
    "# How do we find a probability in general?"
   ]
  },
  {
   "cell_type": "markdown",
   "metadata": {},
   "source": [
    "```\n",
    "...\n",
    "```"
   ]
  },
  {
   "cell_type": "code",
   "execution_count": null,
   "metadata": {},
   "outputs": [],
   "source": [
    "# How do we calculate probability via experimentation or simulation?"
   ]
  },
  {
   "cell_type": "markdown",
   "metadata": {},
   "source": [
    "```\n",
    "...\n",
    "```"
   ]
  },
  {
   "cell_type": "markdown",
   "metadata": {},
   "source": [
    "# Time for some math :)\n",
    "---\n",
    "\n",
    "Let's look, just a bit, into the math behind probabilities."
   ]
  },
  {
   "cell_type": "code",
   "execution_count": null,
   "metadata": {},
   "outputs": [],
   "source": [
    "# If P(some event) = 0.4, and the events are independent then\n",
    "# what is P(some event happens twice)?\n",
    "\n",
    "prob_some = 0.4\n",
    "prob_some_twice = ..."
   ]
  },
  {
   "cell_type": "code",
   "execution_count": null,
   "metadata": {},
   "outputs": [],
   "source": [
    "# If P(some event) = 0.4, P(another event) = 0.2, and the events are independent then\n",
    "# what is P(some event happens then another event happens)?\n",
    "\n"
   ]
  },
  {
   "cell_type": "code",
   "execution_count": null,
   "metadata": {},
   "outputs": [],
   "source": [
    "# What about P(another events happens then some event happens)?\n",
    "\n"
   ]
  },
  {
   "cell_type": "code",
   "execution_count": null,
   "metadata": {},
   "outputs": [],
   "source": [
    "# Finally, if our outcome can either be some event, another event, or a cool event\n",
    "# then what must P(cool event) equal?\n",
    "\n"
   ]
  },
  {
   "cell_type": "markdown",
   "metadata": {},
   "source": [
    "# Let's *make* a dataset!\n",
    "---\n",
    "\n",
    "In tonight's discussion we'll be creating our datasets instead of downloading them!\n",
    "\n",
    "We'll be coming up with games and creating the rules, and then simulating matches to generate a dataset."
   ]
  },
  {
   "cell_type": "code",
   "execution_count": null,
   "metadata": {},
   "outputs": [],
   "source": [
    "# We'll cover more later, but first let's create a game and a dataset to go with it.\n",
    "#\n",
    "# Ex. You roll a die and flip a coin\n",
    "# write down the roll * 1 if heads or the roll * 2 if tails"
   ]
  },
  {
   "cell_type": "code",
   "execution_count": null,
   "metadata": {},
   "outputs": [],
   "source": [
    "# Let's create a dataset that contains every possible outcome\n",
    "# why is this helpful?"
   ]
  },
  {
   "cell_type": "markdown",
   "metadata": {},
   "source": [
    "```\n",
    "...\n",
    "```"
   ]
  },
  {
   "cell_type": "code",
   "execution_count": null,
   "metadata": {},
   "outputs": [],
   "source": [
    "Table().with_columns(\n",
    "    \"Roll\", [],\n",
    "    \"Flip\", [],\n",
    "    \"Score\", []\n",
    ")"
   ]
  },
  {
   "cell_type": "code",
   "execution_count": null,
   "metadata": {},
   "outputs": [],
   "source": [
    "# What logic should we use to populate our columns?\n",
    "#\n",
    "# I think I'd like to use some loops to create the roll and flip columns,\n",
    "# and then we can calculate the score column afterwards"
   ]
  },
  {
   "cell_type": "code",
   "execution_count": null,
   "metadata": {},
   "outputs": [],
   "source": [
    "rolls = make_array()\n",
    "flips = make_array()\n",
    "\n",
    "# Each time I play I roll a die\n",
    "for ...:\n",
    "    # Each time I play I flip a coin\n",
    "    for ...:\n",
    "        ..."
   ]
  },
  {
   "cell_type": "code",
   "execution_count": null,
   "metadata": {},
   "outputs": [],
   "source": [
    "possibilities = Table().with_columns(\n",
    "    \"Roll\", rolls,\n",
    "    \"Flip\", flips\n",
    ")\n",
    "possibilities"
   ]
  },
  {
   "cell_type": "code",
   "execution_count": null,
   "metadata": {},
   "outputs": [],
   "source": [
    "# Now we should add the \"Score\" column,\n",
    "# how do we do this?"
   ]
  },
  {
   "cell_type": "code",
   "execution_count": null,
   "metadata": {},
   "outputs": [],
   "source": [
    "..."
   ]
  },
  {
   "cell_type": "code",
   "execution_count": null,
   "metadata": {},
   "outputs": [],
   "source": [
    "possibilities = possibilities.with_column(\n",
    "    \"Score\", ...\n",
    ")\n",
    "possibilities"
   ]
  },
  {
   "cell_type": "markdown",
   "metadata": {},
   "source": [
    "# Let's look at the distribution of sums\n",
    "---\n",
    "\n",
    "We want to figure out the exact probability of all possible sums of the game are, based on all possible rolls and flips.\n",
    "\n",
    "Finally `normed=True` is useful!"
   ]
  },
  {
   "cell_type": "code",
   "execution_count": null,
   "metadata": {},
   "outputs": [],
   "source": [
    "# Let's make the bins of this histogram go from min to max ;) \n",
    "possibilities.hist(\n",
    "    ...\n",
    ")"
   ]
  },
  {
   "cell_type": "code",
   "execution_count": null,
   "metadata": {},
   "outputs": [],
   "source": [
    "# Let's save those bins for the future\n",
    "bins = ..."
   ]
  },
  {
   "cell_type": "code",
   "execution_count": null,
   "metadata": {},
   "outputs": [],
   "source": [
    "# I also want to print out all of the probabilities for reference\n",
    "\n",
    "for value in ...:\n",
    "    print(value, '\\t', ...)"
   ]
  },
  {
   "cell_type": "markdown",
   "metadata": {},
   "source": [
    "# Distributions: a quick aside\n",
    "---"
   ]
  },
  {
   "cell_type": "code",
   "execution_count": null,
   "metadata": {},
   "outputs": [],
   "source": [
    "# What kind of distribution did we plot above?"
   ]
  },
  {
   "cell_type": "markdown",
   "metadata": {},
   "source": [
    "```\n",
    "...\n",
    "```"
   ]
  },
  {
   "cell_type": "code",
   "execution_count": null,
   "metadata": {},
   "outputs": [],
   "source": [
    "# What other type of distribution is there, and how do we find it?"
   ]
  },
  {
   "cell_type": "markdown",
   "metadata": {},
   "source": [
    "```\n",
    "...\n",
    "```"
   ]
  },
  {
   "cell_type": "markdown",
   "metadata": {},
   "source": [
    "# Let's simulate our game\n",
    "---\n",
    "\n",
    "Say I wanted to simulate matches of the game we defined above."
   ]
  },
  {
   "cell_type": "code",
   "execution_count": null,
   "metadata": {},
   "outputs": [],
   "source": [
    "# We could write a function\n",
    "def simulate():\n",
    "    ...\n",
    "    return roll + flip\n",
    "\n",
    "# And use it a bunch of times\n",
    "trials = 10000\n",
    "results = make_array()\n",
    "\n",
    "for i in np.arange(trials):\n",
    "    results = np.append(results, simulate())\n",
    "    \n",
    "results"
   ]
  },
  {
   "cell_type": "code",
   "execution_count": null,
   "metadata": {},
   "outputs": [],
   "source": [
    "# But... this seems familiar.  Have we seen these \"simulations\" before?"
   ]
  },
  {
   "cell_type": "markdown",
   "metadata": {},
   "source": [
    "```\n",
    "...\n",
    "```"
   ]
  },
  {
   "cell_type": "code",
   "execution_count": null,
   "metadata": {},
   "outputs": [],
   "source": [
    "# So, what does that mean we can do instead of simulating?"
   ]
  },
  {
   "cell_type": "markdown",
   "metadata": {},
   "source": [
    "```\n",
    "...\n",
    "```"
   ]
  },
  {
   "cell_type": "markdown",
   "metadata": {},
   "source": [
    "# Sampling\n",
    "---\n",
    "\n",
    "Sampling is a way of getting a subset of population."
   ]
  },
  {
   "cell_type": "code",
   "execution_count": null,
   "metadata": {},
   "outputs": [],
   "source": [
    "# What do we use sampling for?"
   ]
  },
  {
   "cell_type": "markdown",
   "metadata": {},
   "source": [
    "```\n",
    "...\n",
    "```"
   ]
  },
  {
   "cell_type": "code",
   "execution_count": null,
   "metadata": {},
   "outputs": [],
   "source": [
    "# What kinds of sampling are there?\n",
    "#\n",
    "# Well... that was very vague.  Let's find some through examples"
   ]
  },
  {
   "cell_type": "code",
   "execution_count": null,
   "metadata": {},
   "outputs": [],
   "source": [
    "# If we take every row with a score of 6\n",
    "# what type of sampling is this?\n",
    "\n",
    "possibilities.where(\"Score\", 6)"
   ]
  },
  {
   "cell_type": "markdown",
   "metadata": {},
   "source": [
    "```\n",
    "...\n",
    "```"
   ]
  },
  {
   "cell_type": "code",
   "execution_count": null,
   "metadata": {},
   "outputs": [],
   "source": [
    "# If we sample a random selection of 5 rows\n",
    "# what type of sampling is this?\n",
    "\n",
    "possibilities.sample(5)"
   ]
  },
  {
   "cell_type": "markdown",
   "metadata": {},
   "source": [
    "```\n",
    "...\n",
    "```"
   ]
  },
  {
   "cell_type": "code",
   "execution_count": null,
   "metadata": {},
   "outputs": [],
   "source": [
    "# But we still need to be careful, because what about this?\n",
    "\n",
    "possibilities.sample(5, with_replacement=False)"
   ]
  },
  {
   "cell_type": "code",
   "execution_count": null,
   "metadata": {},
   "outputs": [],
   "source": [
    "# What happens if we want to sample 100 matches?\n",
    "\n",
    "possibilities.sample(...)"
   ]
  },
  {
   "cell_type": "code",
   "execution_count": null,
   "metadata": {},
   "outputs": [],
   "source": [
    "# What if we sample the first 5 rows that we see?\n",
    "# Is this not the same as simulating 5 times?\n",
    "# What kind of sampling is this?\n",
    "\n",
    "possibilities.take(np.arange(5))"
   ]
  },
  {
   "cell_type": "markdown",
   "metadata": {},
   "source": [
    "```\n",
    "...\n",
    "```"
   ]
  },
  {
   "cell_type": "code",
   "execution_count": null,
   "metadata": {},
   "outputs": [],
   "source": [
    "# Okay, what if we shuffle the possibilities, and then pick the first 5?\n",
    "# Should be fine, right?\n",
    "#\n",
    "# Don't worry about this first line of code, it's just putting all rows into a list\n",
    "rows = [possibilities.row(i) for i in np.arange(possibilities.num_rows)]\n",
    "\n",
    "np.random.shuffle(rows)\n",
    "\n",
    "shuffled = Table([\"Roll\", \"Flip\", \"Score\"]).with_rows(\n",
    "    rows\n",
    ")\n",
    "shuffled"
   ]
  },
  {
   "cell_type": "markdown",
   "metadata": {},
   "source": [
    "```\n",
    "...\n",
    "```"
   ]
  },
  {
   "cell_type": "code",
   "execution_count": null,
   "metadata": {},
   "outputs": [],
   "source": [
    "# What conditions must be satisfied for accurate sampling?"
   ]
  },
  {
   "cell_type": "markdown",
   "metadata": {},
   "source": [
    "```\n",
    "...\n",
    "```"
   ]
  },
  {
   "cell_type": "markdown",
   "metadata": {},
   "source": [
    "# What do we mean by \"accurate\" sampling?\n",
    "---\n",
    "\n",
    "I'm glad you asked!"
   ]
  },
  {
   "cell_type": "code",
   "execution_count": null,
   "metadata": {},
   "outputs": [],
   "source": [
    "# Recall that sampling is a way for us to discover things about\n",
    "# a population when we don't have access to that population.\n",
    "#\n",
    "# So by that logic, an \"accurate\" sample would mean..."
   ]
  },
  {
   "cell_type": "markdown",
   "metadata": {},
   "source": [
    "```\n",
    "...\n",
    "```"
   ]
  },
  {
   "cell_type": "code",
   "execution_count": null,
   "metadata": {},
   "outputs": [],
   "source": [
    "# Law of Large Numbers\n",
    "#\n",
    "# As long as we satisfy the conditions for an accurate sample\n",
    "# then we know that:\n",
    "\n",
    "# As the number of samples increases, the distribution of sample results\n",
    "# will approach the true distribution of the population\n",
    "\n",
    "# In other words,\n",
    "# the empirical distribution will get closer to the probability distribution"
   ]
  },
  {
   "cell_type": "code",
   "execution_count": null,
   "metadata": {},
   "outputs": [],
   "source": [
    "# Let's verify this ourselves"
   ]
  },
  {
   "cell_type": "code",
   "execution_count": null,
   "metadata": {},
   "outputs": [],
   "source": [
    "# We can define a simulate function\n",
    "def simulate(num):\n",
    "    ..."
   ]
  },
  {
   "cell_type": "code",
   "execution_count": null,
   "metadata": {},
   "outputs": [],
   "source": [
    "for trials in [10, 100, 1000, 10000]:\n",
    "    plt...\n",
    "    plt.show()"
   ]
  },
  {
   "cell_type": "code",
   "execution_count": null,
   "metadata": {},
   "outputs": [],
   "source": [
    "possibilities..."
   ]
  },
  {
   "cell_type": "code",
   "execution_count": null,
   "metadata": {},
   "outputs": [],
   "source": [
    "# Do you remember which distribution is which?"
   ]
  },
  {
   "cell_type": "markdown",
   "metadata": {},
   "source": [
    "```\n",
    "The top distributions were:\n",
    "The bottom distribution was:\n",
    "```"
   ]
  },
  {
   "cell_type": "markdown",
   "metadata": {},
   "source": [
    "# Sample statistics\n",
    "---\n",
    "\n",
    "In addition to the distribution of sample results approaching the true distribution, the average of sample statistics will approach the true population statistic."
   ]
  },
  {
   "cell_type": "code",
   "execution_count": null,
   "metadata": {},
   "outputs": [],
   "source": [
    "# What's a sample statistic?"
   ]
  },
  {
   "cell_type": "markdown",
   "metadata": {},
   "source": [
    "```\n",
    "...\n",
    "```"
   ]
  },
  {
   "cell_type": "code",
   "execution_count": null,
   "metadata": {},
   "outputs": [],
   "source": [
    "# Let's get a sample statistic\n",
    "#\n",
    "# In addition to choosing a statistic, there's another thing we\n",
    "# must decide.\n",
    "#\n",
    "# What is it?"
   ]
  },
  {
   "cell_type": "markdown",
   "metadata": {},
   "source": [
    "```\n",
    "...\n",
    "\n",
    "...\n",
    "```"
   ]
  },
  {
   "cell_type": "code",
   "execution_count": null,
   "metadata": {},
   "outputs": [],
   "source": [
    "# Alright, now let's compute a sample statistic.  Try with multiple sizes.\n",
    "..."
   ]
  },
  {
   "cell_type": "code",
   "execution_count": null,
   "metadata": {},
   "outputs": [],
   "source": [
    "# What does this mean in words?"
   ]
  },
  {
   "cell_type": "markdown",
   "metadata": {},
   "source": [
    "```\n",
    "...\n",
    "```"
   ]
  },
  {
   "cell_type": "code",
   "execution_count": null,
   "metadata": {},
   "outputs": [],
   "source": [
    "# Let's find another sample statistic\n",
    "\n",
    "\n",
    "\n",
    "\n",
    "\n",
    "\n",
    "\n",
    "\n",
    "\n",
    "\n",
    "\n",
    "\n",
    "\n",
    "\n",
    "\n",
    "\n",
    "\n",
    "\n",
    "\n",
    "\n",
    "\n",
    "\n",
    "\n",
    "\n",
    "\n",
    "\n",
    "\n",
    "\n",
    "\n",
    "\n",
    "\n",
    "\n",
    "\n"
   ]
  },
  {
   "cell_type": "code",
   "execution_count": null,
   "metadata": {},
   "outputs": [],
   "source": [
    "# Finding another sample statistic\n",
    "sample_size = 10\n",
    "( min(simulate(sample_size)) + max(simulate(sample_size)) ) / 2 # <-- What's wrong here?"
   ]
  },
  {
   "cell_type": "markdown",
   "metadata": {},
   "source": [
    "# Distribution of Sample Statistics\n",
    "---\n",
    "\n",
    "Recall, we said that:\n",
    ">As the number of trials grows large, the average of the distribution of sample statistics approaches the population average for that statistic."
   ]
  },
  {
   "cell_type": "code",
   "execution_count": null,
   "metadata": {},
   "outputs": [],
   "source": [
    "# But... how does \"number of trials\" differ from \"sample size\"?"
   ]
  },
  {
   "cell_type": "markdown",
   "metadata": {},
   "source": [
    "```\n",
    "...\n",
    "```"
   ]
  },
  {
   "cell_type": "code",
   "execution_count": null,
   "metadata": {},
   "outputs": [],
   "source": [
    "# Alright, let's find a bunch of sample statistics and find their average.\n",
    "trials = 1000\n",
    "sample_size = 10\n",
    "\n",
    "sample_stats = make_array()\n",
    "\n",
    "..."
   ]
  },
  {
   "cell_type": "code",
   "execution_count": null,
   "metadata": {},
   "outputs": [],
   "source": [
    "# We should probably know what the true population statistic is!\n",
    "..."
   ]
  },
  {
   "cell_type": "code",
   "execution_count": null,
   "metadata": {},
   "outputs": [],
   "source": [
    "# Let's change around the statistic we calculate :) \n",
    "\n",
    "\n",
    "\n",
    "\n",
    "\n",
    "\n",
    "\n",
    "\n",
    "\n",
    "\n",
    "\n",
    "\n",
    "\n",
    "\n",
    "\n",
    "\n",
    "\n",
    "\n",
    "\n",
    "\n",
    "\n",
    "\n",
    "\n",
    "\n",
    "\n",
    "\n",
    "\n",
    "\n",
    "\n"
   ]
  },
  {
   "cell_type": "code",
   "execution_count": null,
   "metadata": {},
   "outputs": [],
   "source": [
    "# Try a different statistic\n",
    "trials = 1000\n",
    "sample_size = 10\n",
    "\n",
    "sample_stats = make_array()\n",
    "\n",
    "for trial in np.arange(trials):\n",
    "    stat = np.mean(simulate(sample_size))\n",
    "    sample_stats = np.append(sample_stats, stat)\n",
    "    \n",
    "np.mean(sample_stats), np.mean(possibilities.column(\"Score\"))"
   ]
  },
  {
   "cell_type": "code",
   "execution_count": null,
   "metadata": {},
   "outputs": [],
   "source": [
    "# Let's plot the distribution of sample means and see what's going on as trials\n",
    "# and sample size change.\n",
    "trials = 10\n",
    "sample_size = 10\n",
    "\n",
    "sample_stats = make_array()\n",
    "\n",
    "for trial in np.arange(trials):\n",
    "    stat = np.mean(simulate(sample_size))\n",
    "    sample_stats = np.append(sample_stats, stat)\n",
    "    \n",
    "plt...\n",
    "plt.axvline(np.mean(possibilities.column(\"Score\")), c='r')\n",
    "plt.axvline(np.mean(np.mean(sample_stats)), c='navy')"
   ]
  },
  {
   "cell_type": "code",
   "execution_count": null,
   "metadata": {},
   "outputs": [],
   "source": [
    "# What is the relationship between accuracy and trials?"
   ]
  },
  {
   "cell_type": "markdown",
   "metadata": {},
   "source": [
    "```\n",
    "...\n",
    "```"
   ]
  },
  {
   "cell_type": "code",
   "execution_count": null,
   "metadata": {},
   "outputs": [],
   "source": [
    "# What is the relationship between accuracy and sample size?"
   ]
  },
  {
   "cell_type": "markdown",
   "metadata": {},
   "source": [
    "```\n",
    "...\n",
    "```"
   ]
  },
  {
   "cell_type": "code",
   "execution_count": null,
   "metadata": {},
   "outputs": [],
   "source": []
  }
 ],
 "metadata": {
  "kernelspec": {
   "display_name": "Python 3",
   "language": "python",
   "name": "python3"
  },
  "language_info": {
   "codemirror_mode": {
    "name": "ipython",
    "version": 3
   },
   "file_extension": ".py",
   "mimetype": "text/x-python",
   "name": "python",
   "nbconvert_exporter": "python",
   "pygments_lexer": "ipython3",
   "version": "3.6.2"
  }
 },
 "nbformat": 4,
 "nbformat_minor": 2
}
