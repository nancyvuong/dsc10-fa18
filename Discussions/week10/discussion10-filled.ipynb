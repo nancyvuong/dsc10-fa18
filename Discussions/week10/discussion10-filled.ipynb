{
 "cells": [
  {
   "cell_type": "code",
   "execution_count": 1,
   "metadata": {},
   "outputs": [],
   "source": [
    "from datascience import *\n",
    "import numpy as np\n",
    "import matplotlib.pyplot as plt\n",
    "plt.style.use(\"fivethirtyeight\")\n",
    "%matplotlib inline"
   ]
  },
  {
   "cell_type": "markdown",
   "metadata": {},
   "source": [
    "# I scream, you scream, we all scream for ice cream and shark attacks\n",
    "---\n",
    "\n",
    "Tonight we'll be looking at Ice Cream, Fudge, and Sharks—cool!"
   ]
  },
  {
   "cell_type": "code",
   "execution_count": 2,
   "metadata": {},
   "outputs": [
    {
     "data": {
      "text/html": [
       "<table border=\"1\" class=\"dataframe\">\n",
       "    <thead>\n",
       "        <tr>\n",
       "            <th>Ice Cream Sales (cones)</th> <th>Fudge Sale Volume (g)</th> <th>Shark Attacks</th>\n",
       "        </tr>\n",
       "    </thead>\n",
       "    <tbody>\n",
       "        <tr>\n",
       "            <td>20                     </td> <td>5090.23              </td> <td>296          </td>\n",
       "        </tr>\n",
       "    </tbody>\n",
       "        <tr>\n",
       "            <td>21                     </td> <td>5835.93              </td> <td>254          </td>\n",
       "        </tr>\n",
       "    </tbody>\n",
       "        <tr>\n",
       "            <td>22                     </td> <td>6015.84              </td> <td>448          </td>\n",
       "        </tr>\n",
       "    </tbody>\n",
       "        <tr>\n",
       "            <td>23                     </td> <td>6074.03              </td> <td>239          </td>\n",
       "        </tr>\n",
       "    </tbody>\n",
       "        <tr>\n",
       "            <td>24                     </td> <td>5876.72              </td> <td>347          </td>\n",
       "        </tr>\n",
       "    </tbody>\n",
       "        <tr>\n",
       "            <td>25                     </td> <td>6207.46              </td> <td>363          </td>\n",
       "        </tr>\n",
       "    </tbody>\n",
       "        <tr>\n",
       "            <td>26                     </td> <td>5700.7               </td> <td>272          </td>\n",
       "        </tr>\n",
       "    </tbody>\n",
       "        <tr>\n",
       "            <td>27                     </td> <td>6225.45              </td> <td>489          </td>\n",
       "        </tr>\n",
       "    </tbody>\n",
       "        <tr>\n",
       "            <td>28                     </td> <td>6268.22              </td> <td>376          </td>\n",
       "        </tr>\n",
       "    </tbody>\n",
       "        <tr>\n",
       "            <td>29                     </td> <td>6438.6               </td> <td>462          </td>\n",
       "        </tr>\n",
       "    </tbody>\n",
       "</table>\n",
       "<p>... (90 rows omitted)</p>"
      ],
      "text/plain": [
       "Ice Cream Sales (cones) | Fudge Sale Volume (g) | Shark Attacks\n",
       "20                      | 5090.23               | 296\n",
       "21                      | 5835.93               | 254\n",
       "22                      | 6015.84               | 448\n",
       "23                      | 6074.03               | 239\n",
       "24                      | 5876.72               | 347\n",
       "25                      | 6207.46               | 363\n",
       "26                      | 5700.7                | 272\n",
       "27                      | 6225.45               | 489\n",
       "28                      | 6268.22               | 376\n",
       "29                      | 6438.6                | 462\n",
       "... (90 rows omitted)"
      ]
     },
     "execution_count": 2,
     "metadata": {},
     "output_type": "execute_result"
    }
   ],
   "source": [
    "tbl = Table.read_table(\"ice-cream-stats.csv\")\n",
    "tbl"
   ]
  },
  {
   "cell_type": "code",
   "execution_count": 3,
   "metadata": {},
   "outputs": [],
   "source": [
    "# Let's set some variables to the columns for easier reference\n",
    "\n",
    "ice, fudge, shark = tbl.column(0), tbl.column(1), tbl.column(2)"
   ]
  },
  {
   "cell_type": "markdown",
   "metadata": {},
   "source": [
    "# First, let's cement some knowledge\n",
    "---"
   ]
  },
  {
   "cell_type": "markdown",
   "metadata": {},
   "source": [
    "Alrighty, before we get into it, let's make sure we are clear on a few things related to distributions, confidence intervals, hypothesis testing, etc.  Let's draw it all out on the chalkboard:\n",
    "\n",
    "1. **Population**\n",
    "   - Distribution\n",
    "   - Population Parameters\n",
    "     - Mean, SD, others\n",
    "     \n",
    "     \n",
    "2. **Sample**\n",
    "   - How to obtain (without replacement from pop)\n",
    "   - Distribution\n",
    "   - Sample Statistics\n",
    "     - Mean, SD, others\n",
    "     \n",
    "     \n",
    "3. **Distribution of Sample Statistics**\n",
    "   - How to obtain (with replacement from sample, or mathematically)\n",
    "   - Distribution\n",
    "     - What is the statistic?\n",
    "   - Features\n",
    "     - Mean, SD"
   ]
  },
  {
   "cell_type": "markdown",
   "metadata": {},
   "source": [
    "# Let's talk about relationships\n",
    "---\n",
    "\n",
    "Let's consider the following table:"
   ]
  },
  {
   "cell_type": "markdown",
   "metadata": {},
   "source": [
    "|x|y|\n",
    "|---|---|\n",
    "|1|1|\n",
    "|2|4|\n",
    "|4|8|\n",
    "|5|10|"
   ]
  },
  {
   "cell_type": "markdown",
   "metadata": {},
   "source": [
    "If we were to receive an $x=3$, what would we expect the corresponding $y$ to equal?"
   ]
  },
  {
   "cell_type": "code",
   "execution_count": null,
   "metadata": {},
   "outputs": [],
   "source": [
    "# Given x := 3, what do we expect y to equal?  Why?\n",
    "#\n",
    "# Does this expectation seem like a solid choice?"
   ]
  },
  {
   "cell_type": "markdown",
   "metadata": {},
   "source": [
    "```\n",
    "y = 6.\n",
    "\n",
    "Looks like there's a perfect relationship between x and y, where y = 2x.\n",
    "\n",
    "Solid prediction, because this relationship is exhibited on both sides of our x value.\n",
    "```"
   ]
  },
  {
   "cell_type": "markdown",
   "metadata": {},
   "source": [
    "Now, let's consider what we expect the value of $y$ to equal when we receive an $x=6$."
   ]
  },
  {
   "cell_type": "code",
   "execution_count": null,
   "metadata": {},
   "outputs": [],
   "source": [
    "# Given x := 6, what do we expect y to equal?\n",
    "#\n",
    "# Does this expectation seem like a solid choice?"
   ]
  },
  {
   "cell_type": "markdown",
   "metadata": {},
   "source": [
    "```\n",
    "Well, I would like to say that y should equal 12.  BUT, we're extrapolating beyond our data set, so this is a bit of a risky move.\n",
    "```"
   ]
  },
  {
   "cell_type": "markdown",
   "metadata": {},
   "source": [
    "What about the following graph of `Ice Cream Sales` versus `Fudge Sales Volume`?"
   ]
  },
  {
   "cell_type": "code",
   "execution_count": 4,
   "metadata": {},
   "outputs": [
    {
     "data": {
      "image/png": "[encoded data removed]",
      "text/plain": [
       "<matplotlib.figure.Figure at 0x7f5458fd56a0>"
      ]
     },
     "metadata": {
      "needs_background": "light"
     },
     "output_type": "display_data"
    }
   ],
   "source": [
    "tbl.scatter(0, 1)"
   ]
  },
  {
   "cell_type": "markdown",
   "metadata": {},
   "source": [
    "What, roughly, would we expect $Fudge\\ Sales\\ Volume$ to equal provided that $Ice\\ Cream\\ Sales = 100$?"
   ]
  },
  {
   "cell_type": "code",
   "execution_count": null,
   "metadata": {},
   "outputs": [],
   "source": [
    "# Given Ice Cream := 100, what do we expect Fudge to equal?"
   ]
  },
  {
   "cell_type": "markdown",
   "metadata": {},
   "source": [
    "```\n",
    "About 2000.\n",
    "```"
   ]
  },
  {
   "cell_type": "markdown",
   "metadata": {},
   "source": [
    "Let's focus on our justification for coming up with a value for $Fudge$.  We saw a strong *relationship* between $Ice \\ Cream$ and $Fudge$.  What does that mean?\n",
    "\n",
    "If we're speaking statistically, then we consider `relationship == association`.  And an association really boils down to the following claim:  \n",
    "\n",
    "<center>\"When this changes value, then that changes value too.\"</center>\n",
    "\n",
    "Recall our first lecture where we looked at the potential association between chocolate comsumption and heart disease.  The figures were as follows:  "
   ]
  },
  {
   "cell_type": "markdown",
   "metadata": {},
   "source": [
    "|Chocolate Consumption|% Developed Cardiovascular Disease|\n",
    "|---|---|\n",
    "|Top-tier consumers|12%|\n",
    "|Chocolate abstainers|17.4%|"
   ]
  },
  {
   "cell_type": "markdown",
   "metadata": {},
   "source": [
    "If I recall correctly, this exhibited a pretty even split between people saying that there was an association between chocolate consumption and heart disease, that there wasn't, and that it was impossible to tell.\n",
    "\n",
    "Looking at it now, what do you think?"
   ]
  },
  {
   "cell_type": "markdown",
   "metadata": {},
   "source": [
    "```\n",
    "I think there is an association between chocolate consumption and heart disease.\n",
    "\n",
    "BECAUSE, when the level of consumption changes, the rate of disease changes.\n",
    "```"
   ]
  },
  {
   "cell_type": "markdown",
   "metadata": {},
   "source": [
    "Even though we hadn't learned about it yet, in our minds we might have been thinking of something else that's a little bit different than just whether or not a relationship (association) exists.  Perhaps, we were thinking about correlation."
   ]
  },
  {
   "cell_type": "markdown",
   "metadata": {},
   "source": [
    "# Correlation\n",
    "---\n",
    "\n",
    "What does correlation (or the correlation coefficient) tell us?"
   ]
  },
  {
   "cell_type": "markdown",
   "metadata": {},
   "source": [
    "```\n",
    "Correlation tells us how LINEAR the relationship between x and y is.\n",
    "```"
   ]
  },
  {
   "cell_type": "markdown",
   "metadata": {},
   "source": [
    "Correlation can be positive or negative, and it can be perfect, strong, moderate, weak, or zero.  We can also quantify it using the correlation coefficient, $r$.\n",
    "\n",
    "So, going back to our table of $x$ and $y$ above, what correlation do we see?  What about for $Ice\\ Cream$ and $Fudge$?"
   ]
  },
  {
   "cell_type": "code",
   "execution_count": null,
   "metadata": {},
   "outputs": [],
   "source": [
    "# What is the correlation (qualitatively) between x and y?"
   ]
  },
  {
   "cell_type": "markdown",
   "metadata": {},
   "source": [
    "```\n",
    "x and y have a perfect positive correlation.\n",
    "```"
   ]
  },
  {
   "cell_type": "code",
   "execution_count": null,
   "metadata": {},
   "outputs": [],
   "source": [
    "# Ice Cream and Fudge are strongly associated.\n",
    "# What is the correlation between Ice Cream and Fudge?  Is it a strong correlation?"
   ]
  },
  {
   "cell_type": "markdown",
   "metadata": {},
   "source": [
    "```\n",
    "There is NOT a strong correlation, because the relationship between Ice Cream and Fudge is NOT linear!\n",
    "```"
   ]
  },
  {
   "cell_type": "markdown",
   "metadata": {},
   "source": [
    "So, how do we go about measuring the correlation (finding the correlation coefficient)?\n",
    "\n",
    "We must first put our x and y values into *\"standard units\"*.  Recall, to put a point into standard units, what formula is used?"
   ]
  },
  {
   "cell_type": "code",
   "execution_count": null,
   "metadata": {},
   "outputs": [],
   "source": [
    "# First, what does it mean (in words) for something a point to be `n` in standard units?"
   ]
  },
  {
   "cell_type": "markdown",
   "metadata": {},
   "source": [
    "```\n",
    "The point is n standard deviations away from the mean.\n",
    "```"
   ]
  },
  {
   "cell_type": "markdown",
   "metadata": {},
   "source": [
    "For some data set, $X$, let $x_i = some\\ datapoint\\ in\\ X$\n",
    "\n",
    "Then, \n",
    "$$x_{i, SU} = \\frac{x_i - mean(X)}{std(X)}$$\n",
    "\n",
    "And, replacing $x_i$ with all of our datapoints, $X$, we can convert the entire data set into standard units."
   ]
  },
  {
   "cell_type": "code",
   "execution_count": null,
   "metadata": {},
   "outputs": [],
   "source": [
    "# Before we convert Ice Cream and Fudge to SU, what do we know about what the scatter plot\n",
    "# will look like after converting both?"
   ]
  },
  {
   "cell_type": "markdown",
   "metadata": {},
   "source": [
    "```\n",
    "The shape will remain the same.\n",
    "```"
   ]
  },
  {
   "cell_type": "code",
   "execution_count": 5,
   "metadata": {},
   "outputs": [],
   "source": [
    "# Let's write a quick standard units function\n",
    "def standard_units(array):\n",
    "    return (array - np.mean(array)) / np.std(array)"
   ]
  },
  {
   "cell_type": "code",
   "execution_count": 6,
   "metadata": {},
   "outputs": [
    {
     "data": {
      "text/plain": [
       "<matplotlib.collections.PathCollection at 0x7f5409db02e8>"
      ]
     },
     "execution_count": 6,
     "metadata": {},
     "output_type": "execute_result"
    },
    {
     "data": {
      "image/png": "[encoded data removed]",
      "text/plain": [
       "<matplotlib.figure.Figure at 0x7f5409ecccc0>"
      ]
     },
     "metadata": {
      "needs_background": "light"
     },
     "output_type": "display_data"
    }
   ],
   "source": [
    "ice_su = standard_units(ice)\n",
    "fudge_su = standard_units(fudge)\n",
    "\n",
    "plt.scatter(ice_su, fudge_su)"
   ]
  },
  {
   "cell_type": "code",
   "execution_count": null,
   "metadata": {},
   "outputs": [],
   "source": [
    "# What changed between the two plots?"
   ]
  },
  {
   "cell_type": "markdown",
   "metadata": {},
   "source": [
    "```\n",
    "The units have changed.\n",
    "```"
   ]
  },
  {
   "cell_type": "markdown",
   "metadata": {},
   "source": [
    "Out of curiosity, what do you expect the mean and standard deviation of $Ice\\ Cream_{SU}$ to be?  What about $Fudge_{SU}$?"
   ]
  },
  {
   "cell_type": "code",
   "execution_count": 7,
   "metadata": {},
   "outputs": [
    {
     "data": {
      "text/plain": [
       "-9.769962616701378e-17"
      ]
     },
     "execution_count": 7,
     "metadata": {},
     "output_type": "execute_result"
    }
   ],
   "source": [
    "np.mean(ice_su)"
   ]
  },
  {
   "cell_type": "code",
   "execution_count": 8,
   "metadata": {},
   "outputs": [
    {
     "data": {
      "text/plain": [
       "1.0"
      ]
     },
     "execution_count": 8,
     "metadata": {},
     "output_type": "execute_result"
    }
   ],
   "source": [
    "np.std(ice_su)"
   ]
  },
  {
   "cell_type": "markdown",
   "metadata": {},
   "source": [
    "Now, to find our correlation coefficient between two data sets, $X$ and $Y$, there is one more formula.  It's written as?\n",
    "\n",
    "$$r = mean[X_{SU} * Y_{SU}]$$"
   ]
  },
  {
   "cell_type": "code",
   "execution_count": 9,
   "metadata": {},
   "outputs": [
    {
     "data": {
      "text/plain": [
       "-0.4709721009919221"
      ]
     },
     "execution_count": 9,
     "metadata": {},
     "output_type": "execute_result"
    }
   ],
   "source": [
    "# Calculate the correlation coefficient between a and b\n",
    "\n",
    "r = np.mean(ice_su * fudge_su)\n",
    "r"
   ]
  },
  {
   "cell_type": "markdown",
   "metadata": {},
   "source": [
    "Recalling what the correlation between two data sets tells us, what does this really mean?"
   ]
  },
  {
   "cell_type": "code",
   "execution_count": null,
   "metadata": {},
   "outputs": [],
   "source": [
    "# In words, what does our correlation coefficient mean?"
   ]
  },
  {
   "cell_type": "markdown",
   "metadata": {},
   "source": [
    "```\n",
    "There's a moderate negative linear relationship between Ice Cream Sales and Fudge Sales.\n",
    "```"
   ]
  },
  {
   "cell_type": "markdown",
   "metadata": {},
   "source": [
    "# Onwards, to regression!\n",
    "---\n",
    "\n",
    "So, we have a correlation coefficient now.  What can we do with it?\n",
    "\n",
    "One idea is to plot it somehow.  But how?"
   ]
  },
  {
   "cell_type": "code",
   "execution_count": 15,
   "metadata": {},
   "outputs": [
    {
     "data": {
      "text/plain": [
       "[<matplotlib.lines.Line2D at 0x7f5405e4bbe0>]"
      ]
     },
     "execution_count": 15,
     "metadata": {},
     "output_type": "execute_result"
    },
    {
     "data": {
      "image/png": "[encoded data removed]",
      "text/plain": [
       "<matplotlib.figure.Figure at 0x7f5405f0c5c0>"
      ]
     },
     "metadata": {
      "needs_background": "light"
     },
     "output_type": "display_data"
    }
   ],
   "source": [
    "# Let's try incorporating the correlation coefficient into our plot\n",
    "\n",
    "plt.scatter(ice_su, fudge_su)\n",
    "plt.axvline(r, c='b')\n",
    "plt.axhline(r, c='navy')\n",
    "xrange = np.linspace(min(ice_su), max(ice_su), 2)\n",
    "plt.plot(xrange, r * xrange, c='r')"
   ]
  },
  {
   "cell_type": "code",
   "execution_count": null,
   "metadata": {},
   "outputs": [],
   "source": [
    "# Now that we've incorporated r into our plot, what does r represent?"
   ]
  },
  {
   "cell_type": "markdown",
   "metadata": {},
   "source": [
    "```\n",
    "It's the best linear relationship between Ice Cream and Fudge that we've got.\n",
    "```"
   ]
  },
  {
   "cell_type": "markdown",
   "metadata": {},
   "source": [
    "And that's the premise of linear regression!\n",
    "\n",
    "So, before we go much further, let's figure something out: *What is the purpose of regression?*\n",
    "\n",
    "Well, it's very useful since it can help us **predict** a value when given an input.  Even if we don't have a data point we can still predict what the corresponding value would be.\n",
    "\n",
    "We've been looking just at linear regression—stuff that falls in a line—but the same concepts carry over to higher powers!\n",
    "\n",
    "How about we take a look at some data that's a bit more linear?  Take a look at the plot of $Ice\\ Cream\\ Sales$ vs $Shark\\ Attacks$."
   ]
  },
  {
   "cell_type": "code",
   "execution_count": 16,
   "metadata": {},
   "outputs": [
    {
     "data": {
      "image/png": "[encoded data removed]",
      "text/plain": [
       "<matplotlib.figure.Figure at 0x7f5405ef5940>"
      ]
     },
     "metadata": {
      "needs_background": "light"
     },
     "output_type": "display_data"
    }
   ],
   "source": [
    "tbl.scatter(0, 2)"
   ]
  },
  {
   "cell_type": "markdown",
   "metadata": {},
   "source": [
    "Okay, let's find the correlation coefficient so that we can plot a best fit line."
   ]
  },
  {
   "cell_type": "code",
   "execution_count": null,
   "metadata": {},
   "outputs": [],
   "source": [
    "# Before calculating anything, what do you think the correlation coefficient should be?"
   ]
  },
  {
   "cell_type": "markdown",
   "metadata": {},
   "source": [
    "```\n",
    "There's a very strong positive correlation between Ice Cream and Sharks.\n",
    "\n",
    "It looks like the slope of the best fit line would be about 20.\n",
    "\n",
    "But, 20 is not a valid value of the correlation coefficient!\n",
    "```"
   ]
  },
  {
   "cell_type": "code",
   "execution_count": 17,
   "metadata": {},
   "outputs": [
    {
     "data": {
      "text/plain": [
       "0.9808527710561902"
      ]
     },
     "execution_count": 17,
     "metadata": {},
     "output_type": "execute_result"
    }
   ],
   "source": [
    "# We can use the standard_units function we created\n",
    "ice_su = standard_units(ice)\n",
    "shark_su = standard_units(shark)\n",
    "\n",
    "r = np.mean(ice_su * shark_su)\n",
    "r"
   ]
  },
  {
   "cell_type": "code",
   "execution_count": 18,
   "metadata": {},
   "outputs": [
    {
     "data": {
      "text/plain": [
       "[<matplotlib.lines.Line2D at 0x7f5405dd9160>]"
      ]
     },
     "execution_count": 18,
     "metadata": {},
     "output_type": "execute_result"
    },
    {
     "data": {
      "image/png": "[encoded data removed]",
      "text/plain": [
       "<matplotlib.figure.Figure at 0x7f5405dd9400>"
      ]
     },
     "metadata": {
      "needs_background": "light"
     },
     "output_type": "display_data"
    }
   ],
   "source": [
    "# Let's plot it!\n",
    "\n",
    "xrange = np.linspace(min(ice), max(ice), 2)\n",
    "\n",
    "plt.scatter(ice, shark)\n",
    "plt.plot(xrange, xrange * r, c='r')"
   ]
  },
  {
   "cell_type": "markdown",
   "metadata": {},
   "source": [
    "Uh-oh.  What's wrong with that plot?"
   ]
  },
  {
   "cell_type": "code",
   "execution_count": 19,
   "metadata": {},
   "outputs": [
    {
     "data": {
      "text/plain": [
       "[<matplotlib.lines.Line2D at 0x7f5405d40160>]"
      ]
     },
     "execution_count": 19,
     "metadata": {},
     "output_type": "execute_result"
    },
    {
     "data": {
      "image/png": "[encoded data removed]",
      "text/plain": [
       "<matplotlib.figure.Figure at 0x7f5405d402b0>"
      ]
     },
     "metadata": {
      "needs_background": "light"
     },
     "output_type": "display_data"
    }
   ],
   "source": [
    "# Let's fix the plot\n",
    "\n",
    "xrange = np.linspace(min(ice_su), max(ice_su), 2)\n",
    "plt.scatter(ice_su, shark_su)\n",
    "plt.plot(xrange, xrange * r, c='r')"
   ]
  },
  {
   "cell_type": "code",
   "execution_count": null,
   "metadata": {},
   "outputs": [],
   "source": [
    "# What is the equation of the line we plotted?"
   ]
  },
  {
   "cell_type": "markdown",
   "metadata": {},
   "source": [
    "$$y = r \\cdot x$$"
   ]
  },
  {
   "cell_type": "markdown",
   "metadata": {},
   "source": [
    "Cool.  I'm glad we fixed that plot.  We should be able to plug in values into our best-fit line now.  But I'm not really satisfied with the plot we ended up creating."
   ]
  },
  {
   "cell_type": "code",
   "execution_count": null,
   "metadata": {},
   "outputs": [],
   "source": [
    "# Why am I sad?\n",
    "\n",
    "\n",
    "\n",
    "\n",
    "\n",
    "\n",
    "\n",
    "\n",
    "\n",
    "\n",
    "\n",
    "\n",
    "\n",
    "\n",
    "\n",
    "\n",
    "\n",
    "\n",
    "\n",
    "\n",
    "\n",
    "\n",
    "\n"
   ]
  },
  {
   "cell_type": "markdown",
   "metadata": {},
   "source": [
    "```\n",
    "It's still in standard units!\n",
    "```"
   ]
  },
  {
   "cell_type": "markdown",
   "metadata": {},
   "source": [
    "Let's go ahead and solve that problem.\n",
    "\n",
    "In order to come up with an equation for the best-fit line in original units (not standard units), what needs to be done?\n",
    "\n",
    "Well, let's examine what we'd need to change.  For starters, the best-fit line in standard units passes through (0, 0).  Second of all, it has a different slope than what we'd expect.\n",
    "\n",
    "In standard units, we have $y = rx$.  We want to put this back into original units as the form $y=mx+b$.\n",
    "\n",
    "$$m = r\\cdot \\frac{SD_y}{SD_x}$$\n",
    "\n",
    "$$b = mean_y - m\\cdot mean_x$$"
   ]
  },
  {
   "cell_type": "code",
   "execution_count": null,
   "metadata": {},
   "outputs": [],
   "source": [
    "# Let's derive this"
   ]
  },
  {
   "cell_type": "markdown",
   "metadata": {},
   "source": [
    "\n",
    "$$y_{SU} = r\\cdot x_{SU}$$\n",
    "\n",
    "$$\\frac{y - mean_y}{SD_y} = r\\cdot \\frac{x-mean_x}{SD_x}$$\n",
    "\n",
    "$$\\hspace{2.85cm} y-mean_y = r\\cdot \\frac{1}{SD_x} \\cdot (x-mean_x) \\cdot SD_y$$\n",
    "\n",
    "$$\\hspace{1.6cm} y-mean_y = \\frac{r\\cdot SD_y}{SD_x} \\cdot (x-mean_x)$$\n",
    "\n",
    "$$\\hspace{2.45cm} y-mean_y = \\frac{r\\cdot SD_y}{SD_x}x - \\frac{r\\cdot SD_y}{SD_x}mean_x$$\n",
    "\n",
    "$$\\hspace{6.2cm} y = \\frac{r\\cdot SD_y}{SD_x}x - (mean_y - \\frac{r\\cdot SD_y}{SD_x}mean_x)$$\n"
   ]
  },
  {
   "cell_type": "markdown",
   "metadata": {},
   "source": [
    "Great, so let's get our line into original units.  Then, we can start predicting values!"
   ]
  },
  {
   "cell_type": "code",
   "execution_count": 20,
   "metadata": {},
   "outputs": [
    {
     "data": {
      "text/plain": [
       "'Shark Attacks = 18.743829246182646 Ice Cream Sales (cones) + -141.1248984589306'"
      ]
     },
     "execution_count": 20,
     "metadata": {},
     "output_type": "execute_result"
    }
   ],
   "source": [
    "# Write the euqation of the best-fit line between\n",
    "# Ice Cream and Shark Attacks in original units.\n",
    "\n",
    "slope = r * (np.std(shark) / np.std(ice))\n",
    "intercept = np.mean(shark) - slope * np.mean(ice)\n",
    "\n",
    "\"Shark Attacks = {} Ice Cream Sales (cones) + {}\".format(slope, intercept)"
   ]
  },
  {
   "cell_type": "code",
   "execution_count": 21,
   "metadata": {},
   "outputs": [
    {
     "data": {
      "text/plain": [
       "[<matplotlib.lines.Line2D at 0x7f5405bd55f8>]"
      ]
     },
     "execution_count": 21,
     "metadata": {},
     "output_type": "execute_result"
    },
    {
     "data": {
      "image/png": "[encoded data removed]",
      "text/plain": [
       "<matplotlib.figure.Figure at 0x7f5405bd5908>"
      ]
     },
     "metadata": {
      "needs_background": "light"
     },
     "output_type": "display_data"
    }
   ],
   "source": [
    "# And plot it out\n",
    "xrange = np.linspace(min(ice), max(ice), 2)\n",
    "\n",
    "plt.scatter(ice, shark)\n",
    "plt.plot(xrange, slope * xrange + intercept, c='r')"
   ]
  },
  {
   "cell_type": "code",
   "execution_count": 22,
   "metadata": {},
   "outputs": [
    {
     "data": {
      "text/plain": [
       "1733.258026159334"
      ]
     },
     "execution_count": 22,
     "metadata": {},
     "output_type": "execute_result"
    }
   ],
   "source": [
    "# Alright, now, given an Ice Cream value of 100,\n",
    "# what do we expect the corresponding Shark attack value to be?\n",
    "\n",
    "value = slope * 100 + intercept\n",
    "value"
   ]
  },
  {
   "cell_type": "code",
   "execution_count": 23,
   "metadata": {},
   "outputs": [
    {
     "data": {
      "text/plain": [
       "-141.1248984589306"
      ]
     },
     "execution_count": 23,
     "metadata": {},
     "output_type": "execute_result"
    }
   ],
   "source": [
    "# What if Ice Cream has a value of 0?\n",
    "\n",
    "value = slope * 0 + intercept\n",
    "value"
   ]
  },
  {
   "cell_type": "markdown",
   "metadata": {},
   "source": [
    "```\n",
    "It's impossible to have negative shark attacks!!!\n",
    "\n",
    "This data point is not contained in our data –– it's extrapolation –– so, we need be careful about interpreting it.\n",
    "```"
   ]
  },
  {
   "cell_type": "code",
   "execution_count": null,
   "metadata": {},
   "outputs": [],
   "source": [
    "# Interpret the best-fit line equation in words"
   ]
  },
  {
   "cell_type": "markdown",
   "metadata": {},
   "source": [
    "```\n",
    "For every unit increase in Ice Cream Sales, the number of Shark Attacks increases by about 18.7.  This has a start point of about -141.1 when Ice Cream Sales is zero.\n",
    "```"
   ]
  },
  {
   "cell_type": "markdown",
   "metadata": {},
   "source": [
    "# And residuals\n",
    "---\n"
   ]
  },
  {
   "cell_type": "markdown",
   "metadata": {},
   "source": [
    "A residual is defined as the actual y value minus the predicted y value.  This is often written as $y-\\hat{y}$\n",
    "\n",
    "Let's take a look at our residuals for $Ice\\ Cream$ and $Shark\\ Attacks$, and then look at our residuals for $Ice\\ Cream$ and $Fudge\\ Sales$."
   ]
  },
  {
   "cell_type": "code",
   "execution_count": 24,
   "metadata": {},
   "outputs": [
    {
     "data": {
      "text/plain": [
       "<matplotlib.lines.Line2D at 0x7f5405b83fd0>"
      ]
     },
     "execution_count": 24,
     "metadata": {},
     "output_type": "execute_result"
    },
    {
     "data": {
      "image/png": "[encoded data removed]",
      "text/plain": [
       "<matplotlib.figure.Figure at 0x7f5405d8ee48>"
      ]
     },
     "metadata": {
      "needs_background": "light"
     },
     "output_type": "display_data"
    }
   ],
   "source": [
    "resids_ice_shark = shark - (slope * ice + intercept)\n",
    "\n",
    "plt.scatter(ice, resids_ice_shark)\n",
    "\n",
    "# Let's draw a handy line at y=0 (spot on prediction!)\n",
    "plt.axhline(0, c='k')"
   ]
  },
  {
   "cell_type": "code",
   "execution_count": 25,
   "metadata": {},
   "outputs": [
    {
     "data": {
      "text/plain": [
       "<matplotlib.lines.Line2D at 0x7f5405aa3358>"
      ]
     },
     "execution_count": 25,
     "metadata": {},
     "output_type": "execute_result"
    },
    {
     "data": {
      "image/png": "[encoded data removed]",
      "text/plain": [
       "<matplotlib.figure.Figure at 0x7f5405aa3f98>"
      ]
     },
     "metadata": {
      "needs_background": "light"
     },
     "output_type": "display_data"
    }
   ],
   "source": [
    "# Getting the best-fit line for ice cream and fudge sales.\n",
    "corr_ice_fudge = np.mean(ice_su * fudge_su)\n",
    "slope_ice_fudge = corr_ice_fudge * np.std(fudge) / np.std(ice)\n",
    "int_ice_fudge = np.mean(fudge) - slope_ice_fudge * np.mean(ice)\n",
    "\n",
    "# Calculating the residuals here\n",
    "resids_ice_fudge = fudge - (slope_ice_fudge * ice + int_ice_fudge)\n",
    "\n",
    "plt.scatter(ice, resids_ice_fudge)\n",
    "plt.axhline(0, c='k')"
   ]
  },
  {
   "cell_type": "markdown",
   "metadata": {},
   "source": [
    "In order for our \"best-fit\" to actually be even a *good* fit, there's a key feature of the residual plot that we should observe."
   ]
  },
  {
   "cell_type": "code",
   "execution_count": null,
   "metadata": {},
   "outputs": [],
   "source": [
    "# What needs to be true about our residual plot for our best-fit to be good?"
   ]
  },
  {
   "cell_type": "markdown",
   "metadata": {},
   "source": [
    "```\n",
    "There should be no patterns in the residual plot.  It should be random (and centered around zero).\n",
    "```"
   ]
  },
  {
   "cell_type": "markdown",
   "metadata": {},
   "source": [
    "Out of curiosity, what should the mean of the residual plot be?"
   ]
  },
  {
   "cell_type": "code",
   "execution_count": 26,
   "metadata": {},
   "outputs": [
    {
     "data": {
      "text/plain": [
       "(-1.0913936421275138e-13, 1.9838353182421998e-13)"
      ]
     },
     "execution_count": 26,
     "metadata": {},
     "output_type": "execute_result"
    }
   ],
   "source": [
    "np.mean(resids_ice_fudge), np.mean(resids_ice_shark)"
   ]
  },
  {
   "cell_type": "markdown",
   "metadata": {},
   "source": [
    "What about the standard deviation?  Which do we expect has a higher SD, the residual plot for Ice Cream and Fudge or for Ice Cream and Sharks?"
   ]
  },
  {
   "cell_type": "code",
   "execution_count": 27,
   "metadata": {},
   "outputs": [
    {
     "data": {
      "text/plain": [
       "(1758.8690065922972, 108.46565530615608)"
      ]
     },
     "execution_count": 27,
     "metadata": {},
     "output_type": "execute_result"
    }
   ],
   "source": [
    "np.std(resids_ice_fudge), np.std(resids_ice_shark)"
   ]
  },
  {
   "cell_type": "code",
   "execution_count": null,
   "metadata": {},
   "outputs": [],
   "source": [
    "# Why is this the case?"
   ]
  },
  {
   "cell_type": "markdown",
   "metadata": {},
   "source": [
    "```\n",
    "The two data sets are scaled differently (the units have different ranges).\n",
    "```"
   ]
  },
  {
   "cell_type": "markdown",
   "metadata": {},
   "source": [
    "# Ice Cream &Rightarrow; Shark Attacks?\n",
    "---\n",
    "\n",
    "Well, we've done it!  We've figured out that there's a very strong positive correlation between ice cream sales and shark attacks.  Does this mean that ice cream sales cause increased shark attacks?"
   ]
  },
  {
   "cell_type": "code",
   "execution_count": null,
   "metadata": {},
   "outputs": [],
   "source": [
    "# Does the strong correlation imply that Ice Cream Sales causes increase shark attacks?"
   ]
  },
  {
   "cell_type": "markdown",
   "metadata": {},
   "source": [
    "```\n",
    "Correlation does not imply causation!\n",
    "```"
   ]
  },
  {
   "cell_type": "markdown",
   "metadata": {},
   "source": [
    "# Bonus!\n",
    "---\n",
    "In addition to the correlation coefficient, $r$, there is also a *\"coefficient of determination\"*, $r^2$, which is defined as:\n",
    "> The proportion of the variance in the dependent variable that explained by the best-fit line.\n",
    "\n",
    "Let's interpret it in terms of Ice Cream Sales and Shark Attacks!"
   ]
  },
  {
   "cell_type": "code",
   "execution_count": 28,
   "metadata": {},
   "outputs": [
    {
     "data": {
      "text/plain": [
       "0.962072158488607"
      ]
     },
     "execution_count": 28,
     "metadata": {},
     "output_type": "execute_result"
    }
   ],
   "source": [
    "# Interpret (in words) the coefficient of determination\n",
    "\n",
    "r2 = r**2\n",
    "r2"
   ]
  },
  {
   "cell_type": "markdown",
   "metadata": {},
   "source": [
    "```\n",
    "About 96% of the variation in shark attacks can be explained by the best-fit line between ice cream sales and shark attacks.\n",
    "```"
   ]
  },
  {
   "cell_type": "markdown",
   "metadata": {},
   "source": [
    "# Thank you for a great quarter!\n",
    "### Final Review on Sunday 12/09, 4p–5:30p, Center 115\n",
    "### TA Evaluations are open\n",
    "### Best of luck with your future endeavors :')"
   ]
  },
  {
   "cell_type": "code",
   "execution_count": null,
   "metadata": {},
   "outputs": [],
   "source": []
  }
 ],
 "metadata": {
  "kernelspec": {
   "display_name": "Python 3",
   "language": "python",
   "name": "python3"
  },
  "language_info": {
   "codemirror_mode": {
    "name": "ipython",
    "version": 3
   },
   "file_extension": ".py",
   "mimetype": "text/x-python",
   "name": "python",
   "nbconvert_exporter": "python",
   "pygments_lexer": "ipython3",
   "version": "3.6.1"
  }
 },
 "nbformat": 4,
 "nbformat_minor": 2
}
