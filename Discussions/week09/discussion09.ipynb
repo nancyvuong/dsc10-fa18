{
 "cells": [
  {
   "cell_type": "markdown",
   "metadata": {},
   "source": [
    "# Self-confidence intervals, overly-confident intervals, ... oh and that concept in statistics, too\n",
    "---\n",
    "\n",
    "Tonight, we'll be collecting data from accross the world and calculating confidence intervals—fun!"
   ]
  },
  {
   "cell_type": "code",
   "execution_count": null,
   "metadata": {},
   "outputs": [],
   "source": [
    "from datascience import *\n",
    "import numpy as np\n",
    "import matplotlib.pyplot as plt\n",
    "%matplotlib inline\n",
    "plt.style.use(\"fivethirtyeight\")"
   ]
  },
  {
   "cell_type": "code",
   "execution_count": null,
   "metadata": {},
   "outputs": [],
   "source": [
    "full_data = Table.read_table(\"Life Expectancy Data.csv\")"
   ]
  },
  {
   "cell_type": "code",
   "execution_count": null,
   "metadata": {},
   "outputs": [],
   "source": [
    "full_data"
   ]
  },
  {
   "cell_type": "markdown",
   "metadata": {},
   "source": [
    "This data comes from the World Health Organization.  We can learn more about the meanings of the columns by looking here: https://www.kaggle.com/kumarajarshi/life-expectancy-who\n",
    "\n",
    "Let's travel back in time to the year 2015 and collect some data!  For the duration of this discussion, we're going to consider the following data to be our *\"population\"*.\n",
    "\n",
    "Let's take a look at it."
   ]
  },
  {
   "cell_type": "code",
   "execution_count": null,
   "metadata": {},
   "outputs": [],
   "source": [
    "recent_data = full_data.where(\"Year\", 2015)"
   ]
  },
  {
   "cell_type": "code",
   "execution_count": null,
   "metadata": {},
   "outputs": [],
   "source": [
    "recent_data"
   ]
  },
  {
   "cell_type": "code",
   "execution_count": null,
   "metadata": {},
   "outputs": [],
   "source": [
    "# Let's visualize our population distribution.\n",
    "\n",
    "# Defining a function to create bins easily.  We want our bins to go from the min to the max (inclusive!)\n",
    "def get_bins(array, bin_size=1):\n",
    "    return np.arange(\n",
    "        int(...), int(...) ..., bin_size\n",
    "    )"
   ]
  },
  {
   "cell_type": "code",
   "execution_count": null,
   "metadata": {},
   "outputs": [],
   "source": [
    "MEASURE = 3\n",
    "\n",
    "data = recent_data.where(MEASURE, are.above_or_equal_to(0)) # This is just to remove nans\n",
    "\n",
    "measured = data.column(MEASURE)\n",
    "\n",
    "bins = get_bins(measured, 2) # <-- Try playing around with the bin size\n",
    "\n",
    "data.hist(MEASURE, bins=bins)"
   ]
  },
  {
   "cell_type": "code",
   "execution_count": null,
   "metadata": {},
   "outputs": [],
   "source": [
    "# This is our ... ?"
   ]
  },
  {
   "cell_type": "markdown",
   "metadata": {},
   "source": [
    "```\n",
    "...\n",
    "```"
   ]
  },
  {
   "cell_type": "markdown",
   "metadata": {},
   "source": [
    "So, what is our aim?  We want to estimate the average life expectancy for the globe!  Let's say we don't have access to the entire population.  Flying around the world is pretty expensive, so we can only collect data from 15 countries\n",
    "\n",
    "As are standard procedures, we'll be creating a confidence interval around this estimate.  We can sample and use bootstrapping to find this."
   ]
  },
  {
   "cell_type": "code",
   "execution_count": null,
   "metadata": {},
   "outputs": [],
   "source": [
    "# How do we create a representative sample?\n",
    "collected = ..."
   ]
  },
  {
   "cell_type": "code",
   "execution_count": null,
   "metadata": {},
   "outputs": [],
   "source": [
    "collected"
   ]
  },
  {
   "cell_type": "code",
   "execution_count": null,
   "metadata": {},
   "outputs": [],
   "source": [
    "collected.hist(MEASURE, bins=...)"
   ]
  },
  {
   "cell_type": "code",
   "execution_count": null,
   "metadata": {},
   "outputs": [],
   "source": [
    "# This is our ...?"
   ]
  },
  {
   "cell_type": "markdown",
   "metadata": {},
   "source": [
    "```\n",
    "...\n",
    "```"
   ]
  },
  {
   "cell_type": "markdown",
   "metadata": {},
   "source": [
    "We're interested in estimating the mean life expectancy.  So, let's find the mean of our sample."
   ]
  },
  {
   "cell_type": "code",
   "execution_count": null,
   "metadata": {},
   "outputs": [],
   "source": [
    "sample_mean = ...\n",
    "sample_mean"
   ]
  },
  {
   "cell_type": "code",
   "execution_count": null,
   "metadata": {},
   "outputs": [],
   "source": [
    "# We can show our mean in relation to the sample.\n",
    "\n",
    "collected.hist(MEASURE, bins=get_bins(collected.column(MEASURE)))\n",
    "plt.axvline(sample_mean, c='r')"
   ]
  },
  {
   "cell_type": "code",
   "execution_count": null,
   "metadata": {},
   "outputs": [],
   "source": [
    "# This red line is our ... ?"
   ]
  },
  {
   "cell_type": "markdown",
   "metadata": {},
   "source": [
    "```\n",
    "...\n",
    "```"
   ]
  },
  {
   "cell_type": "markdown",
   "metadata": {},
   "source": [
    "What happens when we resample?"
   ]
  },
  {
   "cell_type": "code",
   "execution_count": null,
   "metadata": {},
   "outputs": [],
   "source": [
    "# Run this multiple time to see what changes.\n",
    "\n",
    "resampled = ...\n",
    "resampled_mean = np.mean(resampled.column(MEASURE))\n",
    "\n",
    "print(\"The resampled mean is:\\t\\t\", resampled_mean, \"\\nCompared to the original:\\t\", sample_mean)\n",
    "\n",
    "resampled.hist(MEASURE, bins=get_bins(collected.column(MEASURE)))\n",
    "plt.axvline(resampled_mean, c='r')\n",
    "plt.axvline(sample_mean, c='b')"
   ]
  },
  {
   "cell_type": "code",
   "execution_count": null,
   "metadata": {},
   "outputs": [],
   "source": [
    "# This blue line is our ... ?"
   ]
  },
  {
   "cell_type": "markdown",
   "metadata": {},
   "source": [
    "```\n",
    "...\n",
    "```"
   ]
  },
  {
   "cell_type": "markdown",
   "metadata": {},
   "source": [
    "Now, let's run the bootstrap so we can create our confidence interval!"
   ]
  },
  {
   "cell_type": "code",
   "execution_count": null,
   "metadata": {},
   "outputs": [],
   "source": [
    "sample_means = []\n",
    "\n",
    "for i in range(5000):\n",
    "    bootstrapped = collected.sample()\n",
    "    boot_mean = np.mean(bootstrapped.column(MEASURE))\n",
    "    sample_means.append(boot_mean)\n",
    "\n",
    "plt.hist(sample_means, bins=get_bins(sample_means, 0.5))"
   ]
  },
  {
   "cell_type": "code",
   "execution_count": null,
   "metadata": {},
   "outputs": [],
   "source": [
    "# This is our ... ?"
   ]
  },
  {
   "cell_type": "markdown",
   "metadata": {},
   "source": [
    "```\n",
    "...\n",
    "```"
   ]
  },
  {
   "cell_type": "markdown",
   "metadata": {},
   "source": [
    "Recall, the confidence interval uses percentiles as the bounds."
   ]
  },
  {
   "cell_type": "code",
   "execution_count": null,
   "metadata": {},
   "outputs": [],
   "source": [
    "# First, we choose a confidence level.\n",
    "confidence_level = ...\n",
    "\n",
    "# What is the mean we're estimating?\n",
    "mean = ...\n",
    "\n",
    "# And then our lower and upper bounds?\n",
    "# Let's try to find a way to calculate them regardless of our confidence level.\n",
    "lower_bound = percentile(..., sample_means)\n",
    "upper_bound = percentile(..., sample_means)\n",
    "\n",
    "# Printing it out so we can easily see our results.\n",
    "print(\"\"\"\n",
    " Mean:\\t{}\n",
    "\n",
    "Lower:\\t{}\n",
    "Upper:\\t{}\n",
    "\n",
    "Level:\\t{}%\n",
    "\"\"\".format(mean, lower_bound, upper_bound, confidence_level))"
   ]
  },
  {
   "cell_type": "code",
   "execution_count": null,
   "metadata": {},
   "outputs": [],
   "source": [
    "# How do we interpret this confidence interval?"
   ]
  },
  {
   "cell_type": "markdown",
   "metadata": {},
   "source": [
    "```\n",
    "...\n",
    "```"
   ]
  },
  {
   "cell_type": "markdown",
   "metadata": {},
   "source": [
    "Out of curiosity... what's the distance between our bounds and the mean?\n",
    "\n",
    "Before we find them—what do you expect to see?"
   ]
  },
  {
   "cell_type": "code",
   "execution_count": null,
   "metadata": {},
   "outputs": [],
   "source": [
    "# Dist between lower and mean\n",
    "..."
   ]
  },
  {
   "cell_type": "code",
   "execution_count": null,
   "metadata": {},
   "outputs": [],
   "source": [
    "# Dist between upper and mean\n",
    "..."
   ]
  },
  {
   "cell_type": "markdown",
   "metadata": {},
   "source": [
    "# Let's get a feel for how the distribution of sample means arises\n",
    "---\n",
    "\n",
    "We'll take a bunch of resamples and visualize the distribution of their as the number of resamples increases."
   ]
  },
  {
   "cell_type": "code",
   "execution_count": null,
   "metadata": {},
   "outputs": [],
   "source": [
    "from IPython.display import clear_output"
   ]
  },
  {
   "cell_type": "code",
   "execution_count": null,
   "metadata": {},
   "outputs": [],
   "source": [
    "trials = 1000\n",
    "\n",
    "sample_means = []\n",
    "\n",
    "update_var = 1\n",
    "\n",
    "for i in range(trials):\n",
    "    boots = collected.sample()\n",
    "    boot_mean = np.mean(boots.column(MEASURE))\n",
    "    sample_means.append(boot_mean)\n",
    "    \n",
    "    # Update the plot every once in a while (more frequently at lower values)\n",
    "    if i >= update_var - 1 or i==trials - 1:\n",
    "        update_var *= 1.25\n",
    "        clear_output(wait=True)\n",
    "        \n",
    "        plt.hist(sample_means, density=True, bins=get_bins(sample_means, 0.5))\n",
    "        \n",
    "        plt.pause(0.01)\n",
    "\n",
    "        print(\"Resamples:\\t\",i + 1)"
   ]
  },
  {
   "cell_type": "markdown",
   "metadata": {},
   "source": [
    "# A bit of recap\n",
    "---\n",
    "\n",
    "Let's draw some things on the chalkboard.\n",
    "\n",
    "- Our **POPULATION DISTRIBUTION** is unknown, and can be any shape.\n",
    "\n",
    "\n",
    "- A **SAMPLE DISTRIBUTION** should have a shape roughly similar to the population distribution.  \n",
    "(provided that the sample was large enough and was properly randomized)\n",
    "\n",
    "\n",
    "- A **SAMPLE MEAN** is just the mean of that sample distribution.\n",
    "\n",
    "\n",
    "- We can collect a handful of sample means (or fake it by bootstrapping)\n",
    "\n",
    "\n",
    "- The **DISTRIBUTION OF SAMPLE MEANS** will resemble a normal distribution as the number of sample means increases.\n",
    "\n",
    "\n",
    "- The **CENTER/MEAN** of the distribution of sample means should be similar to the true population mean.  \n",
    "(provided that our original sample was proper)"
   ]
  },
  {
   "cell_type": "code",
   "execution_count": null,
   "metadata": {},
   "outputs": [],
   "source": [
    "# Let's try this out on another column to see if the above claims hold!"
   ]
  },
  {
   "cell_type": "markdown",
   "metadata": {},
   "source": [
    "# What if I told you there's another way?\n",
    "---\n",
    "\n",
    "Since we know that a normal distribution will arise as the number of resamples increases, then do we really need to go through all the effort of running a bootstrap?\n",
    "\n",
    "Instead, we can rely on what we know about normal distributions!  The two defining features of a normal distribution are its center/mean and it's spread/standard deviation.\n",
    "\n",
    "So, what's the standard deviation of the normal distribution that arises?"
   ]
  },
  {
   "cell_type": "code",
   "execution_count": null,
   "metadata": {},
   "outputs": [],
   "source": [
    "from scipy.stats import norm"
   ]
  },
  {
   "cell_type": "code",
   "execution_count": null,
   "metadata": {},
   "outputs": [],
   "source": [
    "# Running a bootstrap again to get the distribution\n",
    "resampled_means = [np.mean(collected.sample().column(MEASURE)) for i in range(5000)]\n",
    "\n",
    "plt.hist(resampled_means, bins=get_bins(resampled_means, 0.25), density=True)\n",
    "\n",
    "\n",
    "# Plotting a normal curve over the top of it.\n",
    "\n",
    "mean = ... # The mean of the normal should be ..?\n",
    "\n",
    "# Let's figure out what the standard deviation of the normal should be!\n",
    "# Well, it *should* be:\n",
    "#\n",
    "#\n",
    "#\n",
    "# But, we don't have access to _____,\n",
    "# so instead, we use ____.\n",
    "\n",
    "std = ...\n",
    "\n",
    "x = np.linspace(*plt.xlim(), 100)\n",
    "plt.plot(x, norm.pdf(x, mean, std), c='r')"
   ]
  },
  {
   "cell_type": "markdown",
   "metadata": {},
   "source": [
    "So, we can create our CI mathemagically instead of running the bootstrap!"
   ]
  },
  {
   "cell_type": "markdown",
   "metadata": {},
   "source": [
    "For our normal curve, we'll have:\n",
    "$$Mean = ...$$\n",
    "\n",
    "$$Standard\\ Deviation = ...$$"
   ]
  },
  {
   "cell_type": "markdown",
   "metadata": {},
   "source": [
    "Now that we have a normal curve with a mean and standard deviation, how do we find the confidence interval from before?"
   ]
  },
  {
   "cell_type": "code",
   "execution_count": null,
   "metadata": {},
   "outputs": [],
   "source": [
    "# We know that 95% of data is within 1.96 standard deviations of\n",
    "# the mean of a normal distribution.\n",
    "\n",
    "mean = np.mean(collected.column(MEASURE))\n",
    "\n",
    "# What's the SD of the distrib. of sample means again?\n",
    "std = ...\n",
    "\n",
    "lower_bound = ...\n",
    "upper_bound = ...\n",
    "\n",
    "print(\"\"\"\n",
    " Mean:\\t{}\n",
    "\n",
    "Lower:\\t{}\n",
    "Upper:\\t{}\n",
    "\n",
    "Level:\\t95%\n",
    "\"\"\".format(mean, lower_bound, upper_bound))"
   ]
  },
  {
   "cell_type": "markdown",
   "metadata": {},
   "source": [
    "Just like before, I'm curious to see the distance between our bounds and mean."
   ]
  },
  {
   "cell_type": "code",
   "execution_count": null,
   "metadata": {},
   "outputs": [],
   "source": [
    "# Dist between lower and mean\n"
   ]
  },
  {
   "cell_type": "code",
   "execution_count": null,
   "metadata": {},
   "outputs": [],
   "source": [
    "# Dist between upper and mean\n"
   ]
  },
  {
   "cell_type": "code",
   "execution_count": null,
   "metadata": {},
   "outputs": [],
   "source": [
    "# How close were we to our bootstrap confidence interval?"
   ]
  },
  {
   "cell_type": "markdown",
   "metadata": {},
   "source": [
    "```\n",
    "...\n",
    "```"
   ]
  },
  {
   "cell_type": "code",
   "execution_count": null,
   "metadata": {},
   "outputs": [],
   "source": [
    "# What happens if we decrease/increase the number of resamples?"
   ]
  },
  {
   "cell_type": "markdown",
   "metadata": {},
   "source": [
    "```\n",
    "...\n",
    "```"
   ]
  },
  {
   "cell_type": "markdown",
   "metadata": {},
   "source": [
    "Cool!  Now, since we do have the *\"population\"* that we're estimating, let's check the validity of our confidence interval."
   ]
  },
  {
   "cell_type": "code",
   "execution_count": null,
   "metadata": {},
   "outputs": [],
   "source": [
    "# What was the population mean?\n",
    "pop_mean = ...\n",
    "pop_mean"
   ]
  },
  {
   "cell_type": "code",
   "execution_count": null,
   "metadata": {},
   "outputs": [],
   "source": [
    "# Is the population mean inside of our interval?\n",
    "# I want a statement that returns either True or False\n",
    "..."
   ]
  },
  {
   "cell_type": "code",
   "execution_count": null,
   "metadata": {},
   "outputs": [],
   "source": [
    "# How likely are we to have the true population mean within our interval?"
   ]
  },
  {
   "cell_type": "markdown",
   "metadata": {},
   "source": [
    "```\n",
    "...\n",
    "```"
   ]
  },
  {
   "cell_type": "code",
   "execution_count": null,
   "metadata": {},
   "outputs": [],
   "source": [
    "# Should we test this out together at the end?"
   ]
  },
  {
   "cell_type": "markdown",
   "metadata": {},
   "source": [
    "```\n",
    "...\n",
    "```"
   ]
  },
  {
   "cell_type": "markdown",
   "metadata": {},
   "source": [
    "# Interval widths\n",
    "---\n",
    "\n",
    "What if we think our interval size is too big?  How does our interval size change as other parameters change?"
   ]
  },
  {
   "cell_type": "code",
   "execution_count": null,
   "metadata": {},
   "outputs": [],
   "source": [
    "# Provided that we want to keep 95% level of confidence, how will we narrow\n",
    "# our interval width?"
   ]
  },
  {
   "cell_type": "code",
   "execution_count": null,
   "metadata": {},
   "outputs": [],
   "source": [
    "# BEFORE we answer that, let's think about one more thing:\n",
    "#\n",
    "# What is the width of our interval (roughly), in terms of\n",
    "# our mean and standard deviation?"
   ]
  },
  {
   "cell_type": "markdown",
   "metadata": {},
   "source": [
    "\n",
    "$$Interval\\ Width = ...$$"
   ]
  },
  {
   "cell_type": "code",
   "execution_count": null,
   "metadata": {},
   "outputs": [],
   "source": [
    "# So, how do we narrow our interval width?"
   ]
  },
  {
   "cell_type": "markdown",
   "metadata": {},
   "source": [
    "```\n",
    "...\n",
    "```"
   ]
  },
  {
   "cell_type": "code",
   "execution_count": null,
   "metadata": {},
   "outputs": [],
   "source": [
    "# Is there anything wrong with what we've done above?\n",
    "# Hint: representative sample?"
   ]
  },
  {
   "cell_type": "markdown",
   "metadata": {},
   "source": [
    "```\n",
    "...\n",
    "```"
   ]
  },
  {
   "cell_type": "code",
   "execution_count": null,
   "metadata": {},
   "outputs": [],
   "source": [
    "# What happens if we can't tolerate a 5% chance of being wrong?\n",
    "#\n",
    "# If this is really important, we may want 99.7% confidence!\n",
    "#\n",
    "# What will happen to the width of our interval?"
   ]
  },
  {
   "cell_type": "markdown",
   "metadata": {},
   "source": [
    "```\n",
    "Width increases as confidence increases.\n",
    "```"
   ]
  },
  {
   "cell_type": "code",
   "execution_count": null,
   "metadata": {},
   "outputs": [],
   "source": [
    "# What will our interval width be in term of mean and standard deviation?"
   ]
  },
  {
   "cell_type": "markdown",
   "metadata": {},
   "source": [
    "To answer this, we need to know the \"Empirical Rule\".\n",
    "\n",
    "It goes a little something like this:"
   ]
  },
  {
   "cell_type": "markdown",
   "metadata": {},
   "source": [
    "|# of SD away from mean|% of data contained in ± #SD|\n",
    "|---|---|\n",
    "|1|68%|\n",
    "|2|95%|\n",
    "|3|99.7%|"
   ]
  },
  {
   "cell_type": "code",
   "execution_count": null,
   "metadata": {},
   "outputs": [],
   "source": [
    "# So, we can calculate the CI if we need 99.7% confidence\n",
    "\n",
    "mean = np.mean(collected.column(MEASURE))\n",
    "\n",
    "std = np.std(collected.column(MEASURE)) / np.sqrt(collected.num_rows)\n",
    "\n",
    "lower_bound_997 = ...\n",
    "upper_bound_997 = ...\n",
    "\n",
    "print(\"\"\"\n",
    " Mean:\\t{}\n",
    "\n",
    "Lower:\\t{}\n",
    "Upper:\\t{}\n",
    "\n",
    "Level:\\t95%\n",
    "\"\"\".format(mean, lower_bound_997, upper_bound_997))"
   ]
  },
  {
   "cell_type": "code",
   "execution_count": null,
   "metadata": {},
   "outputs": [],
   "source": [
    "# Let's look at the bounds for 95% versus 99.7% confidence\n",
    "print(\"\"\"\n",
    "95% Lower:\\t{0}\\t99.7% Lower:\\t{2}\n",
    "95% Upper:\\t{1}\\t99.7% Upper:\\t{3}\n",
    "\"\"\".format(lower_bound, upper_bound, lower_bound_997, upper_bound_997))"
   ]
  },
  {
   "cell_type": "markdown",
   "metadata": {},
   "source": [
    "That's all for now, folks!\n",
    "\n",
    "If we have time, let's see if we can empirically calculate a probability for how often our population mean is within our mathematically-calculated confidence interval."
   ]
  },
  {
   "cell_type": "code",
   "execution_count": null,
   "metadata": {},
   "outputs": [],
   "source": []
  }
 ],
 "metadata": {
  "kernelspec": {
   "display_name": "Python 3",
   "language": "python",
   "name": "python3"
  },
  "language_info": {
   "codemirror_mode": {
    "name": "ipython",
    "version": 3
   },
   "file_extension": ".py",
   "mimetype": "text/x-python",
   "name": "python",
   "nbconvert_exporter": "python",
   "pygments_lexer": "ipython3",
   "version": "3.6.2"
  }
 },
 "nbformat": 4,
 "nbformat_minor": 2
}
