{
 "cells": [
  {
   "cell_type": "code",
   "execution_count": 1,
   "metadata": {},
   "outputs": [],
   "source": [
    "#: the usual imports\n",
    "from datascience import *\n",
    "import numpy as np\n",
    "\n",
    "%matplotlib inline\n",
    "import matplotlib.pyplot as plt\n",
    "import warnings; warnings.simplefilter('ignore')\n",
    "\n",
    "plt.style.use('fivethirtyeight')"
   ]
  },
  {
   "cell_type": "markdown",
   "metadata": {
    "slideshow": {
     "slide_type": "slide"
    }
   },
   "source": [
    "# Lecture 14\n",
    "\n",
    "### The Bootstrap and Confidence Intervals"
   ]
  },
  {
   "cell_type": "markdown",
   "metadata": {
    "slideshow": {
     "slide_type": "slide"
    }
   },
   "source": [
    "## Question\n",
    "\n",
    "- What is the median salary of San Diego city employees?\n",
    "- All city employee salary data is public."
   ]
  },
  {
   "cell_type": "code",
   "execution_count": 134,
   "metadata": {},
   "outputs": [
    {
     "data": {
      "text/html": [
       "<table border=\"1\" class=\"dataframe\">\n",
       "    <thead>\n",
       "        <tr>\n",
       "            <th>Employee Name</th> <th>Job Title</th> <th>Base Pay</th> <th>Overtime Pay</th> <th>Other Pay</th> <th>Benefits</th> <th>Total Pay</th> <th>Total Pay & Benefits</th> <th>Year</th> <th>Notes</th> <th>Agency</th> <th>Status</th>\n",
       "        </tr>\n",
       "    </thead>\n",
       "    <tbody>\n",
       "        <tr>\n",
       "            <td>David P Gerboth  </td> <td>Fire Battalion Chief    </td> <td>81917   </td> <td>172590      </td> <td>68870    </td> <td>5194    </td> <td>323377   </td> <td>328571              </td> <td>2017</td> <td>nan  </td> <td>San Diego</td> <td>FT    </td>\n",
       "        </tr>\n",
       "        <tr>\n",
       "            <td>Glen A Bartolome </td> <td>Fire Captain            </td> <td>85904   </td> <td>120682      </td> <td>99408    </td> <td>10107   </td> <td>305994   </td> <td>316101              </td> <td>2017</td> <td>nan  </td> <td>San Diego</td> <td>FT    </td>\n",
       "        </tr>\n",
       "        <tr>\n",
       "            <td>Scott C Chadwick </td> <td>Chief Operating Officer </td> <td>255000  </td> <td>0           </td> <td>31164    </td> <td>22688   </td> <td>286164   </td> <td>308852              </td> <td>2017</td> <td>nan  </td> <td>San Diego</td> <td>FT    </td>\n",
       "        </tr>\n",
       "        <tr>\n",
       "            <td>David W Pilkerton</td> <td>Fire Battalion Chief    </td> <td>100110  </td> <td>118798      </td> <td>62895    </td> <td>18746   </td> <td>281803   </td> <td>300549              </td> <td>2017</td> <td>nan  </td> <td>San Diego</td> <td>FT    </td>\n",
       "        </tr>\n",
       "        <tr>\n",
       "            <td>Daniel S Reeves  </td> <td>Fire Captain            </td> <td>41389   </td> <td>196284      </td> <td>42027    </td> <td>20125   </td> <td>279700   </td> <td>299825              </td> <td>2017</td> <td>nan  </td> <td>San Diego</td> <td>PT    </td>\n",
       "        </tr>\n",
       "        <tr>\n",
       "            <td>Edward S Jones   </td> <td>Fire Captain            </td> <td>46020   </td> <td>171896      </td> <td>59944    </td> <td>19669   </td> <td>277860   </td> <td>297529              </td> <td>2017</td> <td>nan  </td> <td>San Diego</td> <td>PT    </td>\n",
       "        </tr>\n",
       "        <tr>\n",
       "            <td>Richard L Ballard</td> <td>Fire Battalion Chief    </td> <td>99629   </td> <td>93528       </td> <td>61055    </td> <td>16630   </td> <td>254212   </td> <td>270842              </td> <td>2017</td> <td>nan  </td> <td>San Diego</td> <td>FT    </td>\n",
       "        </tr>\n",
       "        <tr>\n",
       "            <td>Mark A Hovey     </td> <td>Retirement Administrator</td> <td>240000  </td> <td>0           </td> <td>6190     </td> <td>21909   </td> <td>246190   </td> <td>268099              </td> <td>2017</td> <td>nan  </td> <td>San Diego</td> <td>FT    </td>\n",
       "        </tr>\n",
       "        <tr>\n",
       "            <td>Adrian A Blackson</td> <td>Fire Captain            </td> <td>44280   </td> <td>196978      </td> <td>16933    </td> <td>8304    </td> <td>258191   </td> <td>266495              </td> <td>2017</td> <td>nan  </td> <td>San Diego</td> <td>PT    </td>\n",
       "        </tr>\n",
       "        <tr>\n",
       "            <td>Stacey D Lomedico</td> <td>Asst Chief Oper Ofcr    </td> <td>215000  </td> <td>0           </td> <td>20352    </td> <td>30087   </td> <td>235352   </td> <td>265439              </td> <td>2017</td> <td>nan  </td> <td>San Diego</td> <td>FT    </td>\n",
       "        </tr>\n",
       "    </tbody>\n",
       "</table>\n",
       "<p>... (11174 rows omitted)</p>"
      ],
      "text/plain": [
       "Employee Name     | Job Title                | Base Pay | Overtime Pay | Other Pay | Benefits | Total Pay | Total Pay & Benefits | Year | Notes | Agency    | Status\n",
       "David P Gerboth   | Fire Battalion Chief     | 81917    | 172590       | 68870     | 5194     | 323377    | 328571               | 2017 | nan   | San Diego | FT\n",
       "Glen A Bartolome  | Fire Captain             | 85904    | 120682       | 99408     | 10107    | 305994    | 316101               | 2017 | nan   | San Diego | FT\n",
       "Scott C Chadwick  | Chief Operating Officer  | 255000   | 0            | 31164     | 22688    | 286164    | 308852               | 2017 | nan   | San Diego | FT\n",
       "David W Pilkerton | Fire Battalion Chief     | 100110   | 118798       | 62895     | 18746    | 281803    | 300549               | 2017 | nan   | San Diego | FT\n",
       "Daniel S Reeves   | Fire Captain             | 41389    | 196284       | 42027     | 20125    | 279700    | 299825               | 2017 | nan   | San Diego | PT\n",
       "Edward S Jones    | Fire Captain             | 46020    | 171896       | 59944     | 19669    | 277860    | 297529               | 2017 | nan   | San Diego | PT\n",
       "Richard L Ballard | Fire Battalion Chief     | 99629    | 93528        | 61055     | 16630    | 254212    | 270842               | 2017 | nan   | San Diego | FT\n",
       "Mark A Hovey      | Retirement Administrator | 240000   | 0            | 6190      | 21909    | 246190    | 268099               | 2017 | nan   | San Diego | FT\n",
       "Adrian A Blackson | Fire Captain             | 44280    | 196978       | 16933     | 8304     | 258191    | 266495               | 2017 | nan   | San Diego | PT\n",
       "Stacey D Lomedico | Asst Chief Oper Ofcr     | 215000   | 0            | 20352     | 30087    | 235352    | 265439               | 2017 | nan   | San Diego | FT\n",
       "... (11174 rows omitted)"
      ]
     },
     "execution_count": 134,
     "metadata": {},
     "output_type": "execute_result"
    }
   ],
   "source": [
    "#: read in the data\n",
    "population = Table.read_table('salaries.csv')\n",
    "population"
   ]
  },
  {
   "cell_type": "markdown",
   "metadata": {
    "slideshow": {
     "slide_type": "slide"
    }
   },
   "source": [
    "## The median salary\n",
    "\n",
    "- We can use `np.median()`:"
   ]
  },
  {
   "cell_type": "code",
   "execution_count": 3,
   "metadata": {},
   "outputs": [
    {
     "data": {
      "text/plain": [
       "66665.5"
      ]
     },
     "execution_count": 3,
     "metadata": {},
     "output_type": "execute_result"
    }
   ],
   "source": [
    "#...population_median\n",
    "# the median of the \"Total Pay\" column\n",
    "population_median = np.median(population.column('Total Pay'))\n",
    "population_median"
   ]
  },
  {
   "cell_type": "markdown",
   "metadata": {
    "slideshow": {
     "slide_type": "slide"
    }
   },
   "source": [
    "## But now...\n",
    "\n",
    "- ...suppose we don't have access to this data.\n",
    "- It is costly and time-consuming to survey *all* 11,000+ employees.\n",
    "- So we gather salaries for a random sample of, say, 500 people.\n",
    "- Hope the median of the sample $\\approx$ median of the population."
   ]
  },
  {
   "cell_type": "markdown",
   "metadata": {
    "slideshow": {
     "slide_type": "slide"
    }
   },
   "source": [
    "## In the language of statistics...\n",
    "\n",
    "- The full table of salaries is the **population**.\n",
    "- We observe a **sample** of 500 salaries from the population.\n",
    "- We really want the population median, but we don't have the whole population.\n",
    "- So we compute sample median as an **estimate**.\n",
    "- Hopefully the sample median is close to the population median."
   ]
  },
  {
   "cell_type": "markdown",
   "metadata": {
    "slideshow": {
     "slide_type": "slide"
    }
   },
   "source": [
    "## The sample median\n",
    "\n",
    "- Let's survey 500 employees at random.\n",
    "- We can use `.sample()`:"
   ]
  },
  {
   "cell_type": "code",
   "execution_count": 4,
   "metadata": {},
   "outputs": [],
   "source": [
    "#: take a sample of size 500\n",
    "sample = population.sample(500, with_replacement=False)"
   ]
  },
  {
   "cell_type": "code",
   "execution_count": 5,
   "metadata": {},
   "outputs": [
    {
     "data": {
      "text/plain": [
       "65579.5"
      ]
     },
     "execution_count": 5,
     "metadata": {},
     "output_type": "execute_result"
    }
   ],
   "source": [
    "#: compute the sample median\n",
    "sample_median = np.median(sample.column('Total Pay'))\n",
    "sample_median"
   ]
  },
  {
   "cell_type": "markdown",
   "metadata": {
    "slideshow": {
     "slide_type": "slide"
    }
   },
   "source": [
    "## How confident are we?\n",
    "\n",
    "- Our estimate depended on a random sample.\n",
    "- If our sample was different, our estimate would've been different, too.\n",
    "- **How different could the estimate have been?**\n",
    "- Our confidence in the estimate depends on the answer."
   ]
  },
  {
   "cell_type": "markdown",
   "metadata": {
    "slideshow": {
     "slide_type": "slide"
    }
   },
   "source": [
    "## The sample median is random\n",
    "\n",
    "- The sample median is a random number.\n",
    "- It comes from some distribution, which we don't know.\n",
    "- How different could the estimate have been?\n",
    "    - \"Narrow\" distribution $\\Rightarrow$ not too different\n",
    "    - \"Wide\" distribution $\\Rightarrow$ quite different\n",
    "- **What is the distribution of the sample median?**"
   ]
  },
  {
   "cell_type": "markdown",
   "metadata": {
    "slideshow": {
     "slide_type": "slide"
    }
   },
   "source": [
    "## A (costly) approach\n",
    "\n",
    "- Every sample of 500 people gives me one observation of the sample median.\n",
    "- So draw a bunch of samples, compute medians."
   ]
  },
  {
   "cell_type": "code",
   "execution_count": 71,
   "metadata": {},
   "outputs": [],
   "source": [
    "#: imports for animation\n",
    "from lecture import sampling_animation\n",
    "from IPython.display import HTML"
   ]
  },
  {
   "cell_type": "code",
   "execution_count": 72,
   "metadata": {},
   "outputs": [],
   "source": [
    "%%capture\n",
    "anim, sample_medians = sampling_animation(population)"
   ]
  },
  {
   "cell_type": "code",
   "execution_count": 73,
   "metadata": {},
   "outputs": [
    {
     "data": {
      "text/html": [
       "\n",
       "<link rel=\"stylesheet\"\n",
       "href=\"https://maxcdn.bootstrapcdn.com/font-awesome/4.4.0/\n",
       "css/font-awesome.min.css\">\n",
       "<script language=\"javascript\">\n",
       "  /* Define the Animation class */\n",
       "  function Animation(frames, img_id, slider_id, interval, loop_select_id){\n",
       "    this.img_id = img_id;\n",
       "    this.slider_id = slider_id;\n",
       "    this.loop_select_id = loop_select_id;\n",
       "    this.interval = interval;\n",
       "    this.current_frame = 0;\n",
       "    this.direction = 0;\n",
       "    this.timer = null;\n",
       "    this.frames = new Array(frames.length);\n",
       "\n",
       "    for (var i=0; i<frames.length; i++)\n",
       "    {\n",
       "     this.frames[i] = new Image();\n",
       "     this.frames[i].src = frames[i];\n",
       "    }\n",
       "    document.getElementById(this.slider_id).max = this.frames.length - 1;\n",
       "    this.set_frame(this.current_frame);\n",
       "  }\n",
       "\n",
       "  Animation.prototype.get_loop_state = function(){\n",
       "    var button_group = document[this.loop_select_id].state;\n",
       "    for (var i = 0; i < button_group.length; i++) {\n",
       "        var button = button_group[i];\n",
       "        if (button.checked) {\n",
       "            return button.value;\n",
       "        }\n",
       "    }\n",
       "    return undefined;\n",
       "  }\n",
       "\n",
       "  Animation.prototype.set_frame = function(frame){\n",
       "    this.current_frame = frame;\n",
       "    document.getElementById(this.img_id).src =\n",
       "            this.frames[this.current_frame].src;\n",
       "    document.getElementById(this.slider_id).value = this.current_frame;\n",
       "  }\n",
       "\n",
       "  Animation.prototype.next_frame = function()\n",
       "  {\n",
       "    this.set_frame(Math.min(this.frames.length - 1, this.current_frame + 1));\n",
       "  }\n",
       "\n",
       "  Animation.prototype.previous_frame = function()\n",
       "  {\n",
       "    this.set_frame(Math.max(0, this.current_frame - 1));\n",
       "  }\n",
       "\n",
       "  Animation.prototype.first_frame = function()\n",
       "  {\n",
       "    this.set_frame(0);\n",
       "  }\n",
       "\n",
       "  Animation.prototype.last_frame = function()\n",
       "  {\n",
       "    this.set_frame(this.frames.length - 1);\n",
       "  }\n",
       "\n",
       "  Animation.prototype.slower = function()\n",
       "  {\n",
       "    this.interval /= 0.7;\n",
       "    if(this.direction > 0){this.play_animation();}\n",
       "    else if(this.direction < 0){this.reverse_animation();}\n",
       "  }\n",
       "\n",
       "  Animation.prototype.faster = function()\n",
       "  {\n",
       "    this.interval *= 0.7;\n",
       "    if(this.direction > 0){this.play_animation();}\n",
       "    else if(this.direction < 0){this.reverse_animation();}\n",
       "  }\n",
       "\n",
       "  Animation.prototype.anim_step_forward = function()\n",
       "  {\n",
       "    this.current_frame += 1;\n",
       "    if(this.current_frame < this.frames.length){\n",
       "      this.set_frame(this.current_frame);\n",
       "    }else{\n",
       "      var loop_state = this.get_loop_state();\n",
       "      if(loop_state == \"loop\"){\n",
       "        this.first_frame();\n",
       "      }else if(loop_state == \"reflect\"){\n",
       "        this.last_frame();\n",
       "        this.reverse_animation();\n",
       "      }else{\n",
       "        this.pause_animation();\n",
       "        this.last_frame();\n",
       "      }\n",
       "    }\n",
       "  }\n",
       "\n",
       "  Animation.prototype.anim_step_reverse = function()\n",
       "  {\n",
       "    this.current_frame -= 1;\n",
       "    if(this.current_frame >= 0){\n",
       "      this.set_frame(this.current_frame);\n",
       "    }else{\n",
       "      var loop_state = this.get_loop_state();\n",
       "      if(loop_state == \"loop\"){\n",
       "        this.last_frame();\n",
       "      }else if(loop_state == \"reflect\"){\n",
       "        this.first_frame();\n",
       "        this.play_animation();\n",
       "      }else{\n",
       "        this.pause_animation();\n",
       "        this.first_frame();\n",
       "      }\n",
       "    }\n",
       "  }\n",
       "\n",
       "  Animation.prototype.pause_animation = function()\n",
       "  {\n",
       "    this.direction = 0;\n",
       "    if (this.timer){\n",
       "      clearInterval(this.timer);\n",
       "      this.timer = null;\n",
       "    }\n",
       "  }\n",
       "\n",
       "  Animation.prototype.play_animation = function()\n",
       "  {\n",
       "    this.pause_animation();\n",
       "    this.direction = 1;\n",
       "    var t = this;\n",
       "    if (!this.timer) this.timer = setInterval(function() {\n",
       "        t.anim_step_forward();\n",
       "    }, this.interval);\n",
       "  }\n",
       "\n",
       "  Animation.prototype.reverse_animation = function()\n",
       "  {\n",
       "    this.pause_animation();\n",
       "    this.direction = -1;\n",
       "    var t = this;\n",
       "    if (!this.timer) this.timer = setInterval(function() {\n",
       "        t.anim_step_reverse();\n",
       "    }, this.interval);\n",
       "  }\n",
       "</script>\n",
       "\n",
       "<div class=\"animation\" align=\"center\">\n",
       "    <img id=\"_anim_imgee67f574c72d4b779ae308086d3a5e49\">\n",
       "    <br>\n",
       "    <input id=\"_anim_slideree67f574c72d4b779ae308086d3a5e49\" type=\"range\" style=\"width:350px\"\n",
       "           name=\"points\" min=\"0\" max=\"1\" step=\"1\" value=\"0\"\n",
       "           onchange=\"animee67f574c72d4b779ae308086d3a5e49.set_frame(parseInt(this.value));\"></input>\n",
       "    <br>\n",
       "    <button onclick=\"animee67f574c72d4b779ae308086d3a5e49.slower()\"><i class=\"fa fa-minus\"></i></button>\n",
       "    <button onclick=\"animee67f574c72d4b779ae308086d3a5e49.first_frame()\"><i class=\"fa fa-fast-backward\">\n",
       "        </i></button>\n",
       "    <button onclick=\"animee67f574c72d4b779ae308086d3a5e49.previous_frame()\">\n",
       "        <i class=\"fa fa-step-backward\"></i></button>\n",
       "    <button onclick=\"animee67f574c72d4b779ae308086d3a5e49.reverse_animation()\">\n",
       "        <i class=\"fa fa-play fa-flip-horizontal\"></i></button>\n",
       "    <button onclick=\"animee67f574c72d4b779ae308086d3a5e49.pause_animation()\"><i class=\"fa fa-pause\">\n",
       "        </i></button>\n",
       "    <button onclick=\"animee67f574c72d4b779ae308086d3a5e49.play_animation()\"><i class=\"fa fa-play\"></i>\n",
       "        </button>\n",
       "    <button onclick=\"animee67f574c72d4b779ae308086d3a5e49.next_frame()\"><i class=\"fa fa-step-forward\">\n",
       "        </i></button>\n",
       "    <button onclick=\"animee67f574c72d4b779ae308086d3a5e49.last_frame()\"><i class=\"fa fa-fast-forward\">\n",
       "        </i></button>\n",
       "    <button onclick=\"animee67f574c72d4b779ae308086d3a5e49.faster()\"><i class=\"fa fa-plus\"></i></button>\n",
       "  <form action=\"#n\" name=\"_anim_loop_selectee67f574c72d4b779ae308086d3a5e49\" class=\"anim_control\">\n",
       "    <input type=\"radio\" name=\"state\"\n",
       "           value=\"once\" > Once </input>\n",
       "    <input type=\"radio\" name=\"state\"\n",
       "           value=\"loop\" checked> Loop </input>\n",
       "    <input type=\"radio\" name=\"state\"\n",
       "           value=\"reflect\" > Reflect </input>\n",
       "  </form>\n",
       "</div>\n",
       "\n",
       "\n",
       "<script language=\"javascript\">\n",
       "  /* Instantiate the Animation class. */\n",
       "  /* The IDs given should match those used in the template above. */\n",
       "  (function() {\n",
       "    var img_id = \"_anim_imgee67f574c72d4b779ae308086d3a5e49\";\n",
       "    var slider_id = \"_anim_slideree67f574c72d4b779ae308086d3a5e49\";\n",
       "    var loop_select_id = \"_anim_loop_selectee67f574c72d4b779ae308086d3a5e49\";\n",
       "    var frames = new Array(0);\n",
       "    \n",
       "  frames[0] = \"data:image/png;base64,iVBORw0KGgoAAAANSUhEUgAAAbAAAAEgCAYAAADVKCZpAAAABHNCSVQICAgIfAhkiAAAAAlwSFlz\\\n",
       "AAALEgAACxIB0t1+/AAAADl0RVh0U29mdHdhcmUAbWF0cGxvdGxpYiB2ZXJzaW9uIDIuMi4zLCBo\\\n",
       "dHRwOi8vbWF0cGxvdGxpYi5vcmcvIxREBQAAHJ9JREFUeJzt3XtYlHX+//EXctY0kABRUTZEWFEk\\\n",
       "TUFDy2gjLTPLYK9k17w8tdrJr5aWlqHuomtpZe52ULf0UmvTVmB1tSw0BEI74DEVbTE1TxFDYh4A\\\n",
       "798fLrOMoOD+1OEjz8d1cXU18+Gezxu9eM49c0+52Gw2SwAAGKaRszcAAMD/goABAIxEwAAARiJg\\\n",
       "AAAjETAAgJEIGADASAQMAGAkAgYAMBIBAwAYiYABAIxEwAAARiJgAAAjETAAgJEIGFCPpKamysfH\\\n",
       "R1lZWc7eClDvETAA11xZWZn++te/avTo0YqLi5O/v798fHy0cOFCZ28NBnFz9gYANDwnT57Uc889\\\n",
       "J0kKCAhQYGCgDh486ORdwTScgQG45ho3bqwPP/xQu3bt0p49ezR48GBnbwkGImC44vbv3y8fHx/d\\\n",
       "e++9Kioq0lNPPaXw8HAFBAQoNjZWixYt+v86flZWlpKSkhQZGamAgAC1a9dOd9xxhyZNmiTL+u//\\\n",
       "YPzw4cOaMWOG7r77brVv317+/v6KiIjQsGHD9O23315y38eOHdOYMWMUFhamli1b6u6771Z2drYk\\\n",
       "qbS0VM8//7w6duyogIAAxcTEaOXKldWOt2TJEvn4+Cg1NVWbNm3SgAEDFBwcrODgYA0aNEj5+fmX\\\n",
       "Nfd3332nJ554wv64oaGhGjx4cI3HKSkp0cyZM9WjRw8FBwerVatWioqKUnJycr14f83Dw0O/+c1v\\\n",
       "1KJFC2dvBQbjJURcNSUlJUpISJCHh4fuv/9+nTlzRmlpaXryySfVqFEjJScnX/YxP/74YyUlJalp\\\n",
       "06bq27evWrVqJZvNpn379umtt95SSkqK3NzO/7XOycnRa6+9pl69eun+++9X48aNtW/fPqWlpelf\\\n",
       "//qX1qxZo6ioqIvu29fXVw8//LB++OEHpaWl6aGHHtLHH3+sp59+Wr/88ov69eunEydOaMWKFRo6\\\n",
       "dKhatWqlbt26VTveV199pTlz5qhPnz4aMWKE9u3bp4yMDGVnZ2vlypWKiYmpde4NGzZo8ODBOn36\\\n",
       "tBISEhQaGqrDhw8rIyND69at09KlSxUfHy9JsixLgwYN0ubNm9W1a1clJyfLw8NDhw8fVk5OjjZs\\\n",
       "2KBevXpd9s8eqG8IGK6a7du369FHH9Urr7wiV1dXSdLo0aN122236fXXX/+fArZo0SJZlqWMjAx1\\\n",
       "7tzZ4b6ffvrJHi9J6t27t/bs2aOmTZs6rMvPz1e/fv2UkpKiFStW1LjvUaNGacaMGXJxcZEkzZ49\\\n",
       "W1OnTtV9992nPn36aP78+XJ3d5ck3XnnnRoxYoReffVVLVmypNrx1q1bp1mzZmnEiBH229LS0jRk\\\n",
       "yBA9/vjj2rRpk/1xalJSUqKhQ4fK3d1d69atU0REhP2+3bt3Kz4+XmPGjNGWLVvk6empHTt2aPPm\\\n",
       "zerbt6+WLVvmcCzLslRcXHzRx6pq69atWrVqVZ3WVnrkkUfUtm3by/oe4H9FwHDVNG7cWNOnT7fH\\\n",
       "S5IiIiIUGxur7OxsnThxolpcatOoUSP7sS/UvHlzh3/39/ev8RjR0dHq1auX1q9fr7KyMnuIKjVp\\\n",
       "0kQvvviiQ1QSExM1depU/fzzz5o+fbrD9zz44IMaPXq0tm3bVuPj3XzzzRo2bJjDbQMGDFBMTIzy\\\n",
       "8vKUl5en2NjYi878/vvv66efftKMGTMc4iVJ4eHh+v3vf6+//OUvWr9+vRISEi75M3Jxcan2c7qY\\\n",
       "bdu2aebMmXVaWykuLo6A4ZohYLhqQkNDdcMNN1S7vVWrVpLOn1lcbsASExOVnp6u+Ph4DRw4UL16\\\n",
       "9VK3bt0u+ktz7dq1WrhwofLz81VUVKTy8nKH+4uKiqq9DxMaGqomTZo43Fa5xsfHR8HBwQ73ubq6\\\n",
       "yt/fXz/88EONe+jRo4c9KlX17NlTeXl52rp16yUDlpeXJ0nasWOHUlNTq92/d+9eSdKePXuUkJCg\\\n",
       "8PBwRUdHa8WKFfr+++/Vr18/xcTEqEuXLvLy8rro41xo8ODBXFyBeo2A4app1qxZjbdXnpFVVFRc\\\n",
       "9jHvu+8+rVixQnPnztWyZcv03nvvSZI6dOigCRMmaMCAAfa1b775piZOnCgfHx/16dNHwcHB8vLy\\\n",
       "kouLi1atWqXt27frzJkz1R6jpqhWvjR5seC6urpWi2OlgICAGm+vPEP8+eefLzHx+ZdGJWnx4sWX\\\n",
       "XHfy5En7XlauXKlXXnlFK1euVEpKiqTzZ2QDBw7U1KlT5efnd8ljASYgYDBOfHy84uPjderUKX31\\\n",
       "1Vdat26dFixYoEcffVQZGRmKi4tTeXm5UlNTFRgYqA0bNlQ7y9q8efM12++xY8dqvP348eOSLh76\\\n",
       "SpX3r1+/XtHR0XV6TB8fH02bNk3Tpk1TYWGhcnJytHjxYi1ZskQHDhxQenp6rcfgPTDUdwQMxvL2\\\n",
       "9lZcXJzi4uIUEhKip59+WqtXr1ZcXJyKiopUUlKi3r17V4tXaWmptmzZcs32+cUXX+jcuXPVXkbM\\\n",
       "ycmRpBqvhKyqW7duSk9PV25ubp0DVlVISIhCQkKUmJio6Ohoff755yopKdGNN954ye/jPTDUd3wO\\\n",
       "DEZZv369fvnll2q3Hz16VJLs7/H4+/urcePG+uabb1RaWmpfV1ZWpokTJ6qoqOjabFjSvn37tGDB\\\n",
       "Aofb0tLSlJeXp7CwsFovo09OTpaPj49mzZqlTZs2Vbvfsizl5ubq7NmzkqTCwkLt3Lmz2rrS0lKd\\\n",
       "PHlSbm5uDldrXszgwYNls9ku64vL83EtcQYGo0yePFnff/+9brvtNrVp00ZeXl7asWOHPv30UzVv\\\n",
       "3lxDhgyRdP5qxVGjRmnOnDnq2bOn+vXrp7KyMmVlZam4uFi9evW6Zh/oveuuuzR58mStW7dOkZGR\\\n",
       "9s+BeXt7a+7cuZe8hF6SfH19tWjRIiUnJ+vuu+9W7969FRERIXd3dx06dEhffvmlDh48qMLCQnl4\\\n",
       "eGj79u1KTk5WVFSUOnTooKCgINlsNq1du1bFxcUaM2ZMtYtUnGHOnDnas2ePJNmv4Fy2bJn95d32\\\n",
       "7dtr7NixTtsf6j8CBqOMGzdOq1at0jfffGMPUMuWLfWHP/xBo0ePVuvWre1rJ02aJD8/Py1evFjv\\\n",
       "vvuumjVrpjvuuEOTJ0+u8Wq+q6Vr16569tlnNX36dL399tuSpD59+uiFF16o80uCvXv3VnZ2tt54\\\n",
       "4w19+umn2rRpk9zc3BQYGKhu3bppypQp9vfKbrnlFo0bN04bN25UZmamiouL1bx5c7Vv315/+tOf\\\n",
       "9MADD1y1WS/HunXr7P91k0qbN2+2B+y2224jYLgkF5vNZtW+DMDlWrJkicaMGaMJEybY/8O1AK4c\\\n",
       "3gMDABiJgAEAjMR7YHCq/fv3a+nSpXVay2eMAFTFe2BwqqysLPXv379OazMyMrhMG4AdAQMAGIn3\\\n",
       "wAAARiJgAAAjEbD/KCgocPYWnKahzt5Q55Ya7uwNdW7p+pydgAEAjETAAABGImAAACMRMACAkQgY\\\n",
       "AMBIBAwAYCQCBgAwEgEDABiJgAEAjETAAABGImAAACMRMACAkQgYAMBIBAwAYCQCBgAwEgEDABiJ\\\n",
       "gAEAjETAAABGImAAACMRMACAkQgYAMBIBAwAYCQCBgAwEgEDABiJgAEAjETAAABGImAAACMRMACA\\\n",
       "kVxsNpvl7E1cqKCgwNlbAABcAWFhYVft2PUyYM5QUFBwVX/Q9VlDnb2hzi013Nkb6tzS9Tk7LyEC\\\n",
       "AIxEwAAARiJgAAAjETAAgJEIGADASAQMAGAkAgYAMBIBAwAYiYABAIxEwAAARiJgAAAjETAAgJEI\\\n",
       "GADASAQMAGAkAgYAMBIBAwAYiYABAIxEwAAARiJgAAAjETAAgJEIGADASAQMAGAkAgYAMBIBAwAY\\\n",
       "iYABAIxEwAAARiJgAAAjETAAgJEIGADASAQMAGAkAgYAMBIBAwAYiYABAIxEwAAARiJgAAAjETAA\\\n",
       "gJEIGADASAQMAGAkAgYAMBIBAwAYiYABAIzkYrPZLGdv4kIFBQXO3gIA4AoICwu7aseulwFzhoKC\\\n",
       "gqv6g67PGursDXVuqeHO3lDnlq7P2XkJEQBgJAIGADASAQMAGImAAQCMRMAAAEYiYAAAIxEwAICR\\\n",
       "CBgAwEgEDABgJAIGADASAQMAGImAAQCMRMAAAEYiYAAAIxEwAICRCBgAwEgEDABgJAIGADASAQMA\\\n",
       "GImAAQCMRMAAAEYiYAAAIxEwAICRCBgAwEgEDABgJAIGADASAQMAGImAAQCMRMAAAEYiYAAAIxEw\\\n",
       "AICRCBgAwEgEDABgJAIGADASAQNqUHS64rJuB3DtETDgAnlHz2j+rpPaWVzmcPvO4jLN33VSeUfP\\\n",
       "OGlnAKpyc/YGgPok7+gZffbD+UClF56SJHXwddfO4jKlF56SJdnvjwn0dNY2AYiAAXZFpyu0/vB/\\\n",
       "z64snY/Yt8VlKigpl1Vl7frDZ9TuRjf5eble830COI+XEIH/8PNyVf+23nKpcpslac8F8XKR1L+t\\\n",
       "N/ECnIyAAVV08HXX/SGOEavKRdL9Id7q4Ot+LbcFoAYuNpvNqn3ZtVVQUODsLaCB+/i4qwp/qf78\\\n",
       "LqTxOd3tz5WIQF2FhYVdtWPXy/fArubAF1NQUOCUx60PGursF5t7Z3GZTpSeUnPv6t9zQlLZTeaf\\\n",
       "gfFn3vBcj7PzEiJQRdWrDWtSeWHHhZfYA7j2CBjwH0WnK5Sx/1S1Czba3+hW7cKOjP2n+FAz4GQE\\\n",
       "DPgPPy9X3RH03892VV6w8dDNjatd2HFHkCdXIQJOVi/fAwOcpfLDyesPn1H/tv99r6vynxn7T+mO\\\n",
       "IE8+xAzUAwQMuEBMoGeNH1Lu4OuuQO9GnHkB9QQvIQI1uFikiBdQfxAwAICRCBgAwEgEDABgJAIG\\\n",
       "ADASAQMAGImAAQCMRMAAAEYiYAAAIxEwAICRCBgAwEgEDABgJAIGADASAQMAGImAAQCMRMAAAEYi\\\n",
       "YAAAIxEwAICRCBgAwEgEDABgJAIGADASAQMAGImAAQCMRMAAAEYiYAAAIxEwAICRCBgAwEgEDABg\\\n",
       "JAIGADASAQMAGImAAQCMRMAAAEYiYAAAIxEwAICRCBgAwEgEDABgJBebzWY5exMXKigocPYWAABX\\\n",
       "QFhY2FU7dr0MmDMUFBRc1R90fdZQZ2+oc0sNd/aGOrd0fc7OS4gAACMRMACAkQgYAMBIBAwAYCQC\\\n",
       "BgAwEgEDABiJgAEAjETAAABGImAAACMRMACAkQgYAMBIBAwAYCQCBgAwEgEDABiJgAEAjETAAABG\\\n",
       "ImAAACMRMACAkQgYAMBIBAwAYCQCBgAwEgEDABiJgAEAjETAAABGImAAACMRMACAkQgYAMBIBAwA\\\n",
       "YCQCBgAwEgEDABiJgAEAjETAAABGImAAACMRMACAkQgYAMBIBAwAYCQCBgAwEgEDABiJgAEAjETA\\\n",
       "AABGcrHZbJazN3GhgoICZ28BAHAFhIWFXbVj18uAOUNBQcFV/UHXZw119oY6t9RwZ2+oc0vX5+y8\\\n",
       "hAgAMBIBAwAYiYABAIxEwAAARiJgAAAjETAAgJEIGADASAQMAGAkAgYAMBIBAwAYiYABAIxEwAAA\\\n",
       "RiJgAAAjETAAgJEIGADASAQMAGAkAgYAMBIBAwAYiYABAIxEwAAARiJgAAAjETAAgJEIGADASAQM\\\n",
       "AGAkAgYAMBIBAwAYiYABAIxEwAAARiJgAAAjudhsNsvZmwAA4HJxBgYAMBIBAwAYiYABAIxEwAAA\\\n",
       "RjI2YEeOHNFjjz2m0NBQBQYGKiYmRhs3bpQklZWVacqUKerZs6datmyp8PBwDR8+XAcOHHA4xpkz\\\n",
       "Z/TMM8/o5ptvVsuWLfXb3/5Whw4dclhz4MABJSUlqWXLlrr55pv17LPP6uzZsw5rNm7cqNtvv12B\\\n",
       "gYHq3LmzFi5c6LTZL/TUU0/Jx8dHc+fOdbjdxNnrMvfevXuVnJysNm3aKCgoSL1799bu3buNnluq\\\n",
       "ffbS0lI988wz6tChg1q0aKFbb71V8+bNcziGibN36tRJPj4+1b4SExPta+bPn6+oqCgFBgbq9ttv\\\n",
       "V05OznU/9+zZs9WnTx8FBwcrNDRUSUlJ2rlzp8MxLMtSamqqIiIi1KJFC91777369ttvHdbYbDaN\\\n",
       "HDlSbdq0UZs2bTRy5EjZbDaHNTt27FC/fv3UokUL/frXv9bMmTNlWfXj2j8jA2az2ZSQkCDLsvT3\\\n",
       "v/9deXl5+vOf/yx/f39J0i+//KItW7Zo/Pjx2rBhg5YuXapDhw5p0KBBKi8vtx/nueeeU0ZGhhYs\\\n",
       "WKDVq1frxIkTSkpKUkVFhSSpoqJCSUlJKi0t1erVq7VgwQKlp6dr0qRJ9mMUFhYqMTFR3bt31+ef\\\n",
       "f67/+7//07PPPqu0tDSnzF5VWlqavv76awUFBVW7z7TZ6zJ3YWGhEhIS1LZtW6Wnpys3N1eTJ09W\\\n",
       "kyZNjJ27rrNPmjRJH3/8sd58803l5eVp3LhxSklJ0fvvv2/07JmZmdq9e7f9a8OGDXJxcdEDDzwg\\\n",
       "Sfroo480ceJEjRs3Tp9//rm6d++uhx9+2OHJ6vU498aNGzVs2DCtXbtW6enpcnNz0wMPPKDi4mL7\\\n",
       "MV577TXNmzdPM2fO1GeffSZ/f38NHDhQJ06csK8ZPny4tm7dqg8//FDLly/X1q1bNWrUKPv9P//8\\\n",
       "swYOHKiAgAB99tlnmjFjhubOnas33njjqsx9uYy8jH7q1KnKzs7W2rVr6/w9u3btUmxsrLKzsxUZ\\\n",
       "GamSkhK1a9dO8+bNsz+rOXjwoDp16qTly5crPj5en3zyiRITE7Vt2za1bt1akvTBBx/oySefVEFB\\\n",
       "gZo1a6YpU6YoIyNDX3/9tf2xnnjiCe3atUuffPLJlR1cdZ/9+++/V0JCglauXKlBgwZp5MiReuKJ\\\n",
       "JyTJyNnrMvfw4cPl4uKid955p8b7TZxbqtvsPXr0UP/+/fX888/bb+vXr58iIyM1a9YsY2e/0Msv\\\n",
       "v6zXX39du3btUuPGjRUfH6/IyEi9/vrr9jVdunTRgAEDNGXKlOt27guVlpaqTZs2WrJkifr27SvL\\\n",
       "shQREaERI0Zo/PjxkqRTp04pLCxM06ZN09ChQ7V7927FxMRozZo1io2NlSTl5uaqb9++2rx5s8LC\\\n",
       "wrRgwQK99NJL2rNnj7y9vSVJs2bN0sKFC7Vz5065uLhc9dkvxcgzsFWrVqlr164aOnSo2rVrp7i4\\\n",
       "OL399tuXPK2tfNbh4+MjScrPz1dZWZnuvPNO+5rWrVsrPDxceXl5kqRNmzYpPDzc/pdakuLj43Xm\\\n",
       "zBnl5+fb11Q9RuWab775RmVlZVdm4CrqMnt5ebmGDx+u8ePHKzw8vNoxTJy9trnPnTunNWvWKDw8\\\n",
       "XA899JBCQ0PVp08fffTRR0bPXZfZJSk2NlZr1qzRwYMHJUl5eXnavn274uPjjZ69KsuytHjxYiUl\\\n",
       "Jalx48Y6e/as8vPzq+3nzjvvtM90Pc5dk9LSUp07d87++23//v06evSow569vb3Vs2dPh7lvuOEG\\\n",
       "xcTE2NfExsaqSZMmDmt69Ohhj5d0fu7Dhw9r//79V3zWy2VkwAoLC7VgwQKFhIRoxYoVeuyxx5SS\\\n",
       "knLRZ95nz57V5MmTdc8996hVq1aSpGPHjsnV1VV+fn4Oa/39/XXs2DH7mgtfmvPz85Orq+sl1/j7\\\n",
       "+6u8vFxFRUVXZN6q6jJ7amqqfH19NWzYsBqPYeLstc19/PhxlZaW2t8b+Mc//qGHHnpII0aM0Jo1\\\n",
       "a4yduy6zS9LMmTPVqVMndezYUTfddJPuvfdevfTSS7rnnnuMnr2qzMxM7d+/X7/73e8kSUVFRaqo\\\n",
       "qKhxP1X3e73NXZOJEyeqU6dO6t69uyTp6NGj9j1WdeHcfn5+DmdRLi4uuummm2qdu/I+Z3Nz9gb+\\\n",
       "F+fOndMtt9yiKVOmSJI6d+6s7777TvPnz9fIkSMd1paXl2vkyJEqKSnRsmXLaj22ZVnV/kBrcqk1\\\n",
       "lc+Mr8bpdW2zb9y4UUuXLlVWVtZlH7s+z17b3OfOnZN0/mWzxx9/XJIUFRWl/Px8zZ8/3/6LvCb1\\\n",
       "eW6pbn/f33rrLeXl5WnZsmUKDg5WTk6OXnjhBbVp00Z33XXXRY9d32ev6r333lOXLl0UFRV10b1V\\\n",
       "7qe2vVwPc1d6/vnn9cUXX2jNmjVydXV1uK+2n01Ne69tzbWauy6MPAMLDAys9tJY+/bt7S+fVCov\\\n",
       "L9ewYcO0Y8cOpaWlqXnz5vb7AgICVFFRUe3Z048//mh/hhEQEFDtWcaFz/pqWvPjjz/Kzc3N4fGu\\\n",
       "lNpmz8rK0pEjRxQeHi4/Pz/5+fnpwIEDmjJlijp06GDfs2mz1za3n5+f3NzcLrnGxLml2mc/deqU\\\n",
       "pk6dqpSUFPXt21cdO3bUyJEj9eCDD9qvPjV19krHjx/X6tWrNWTIEPttF54lVd1P1f1eb3NX9dxz\\\n",
       "z2nFihVKT09XSEiI/fbAwEBJ1c+SLpz7xx9/dHgp2rIsFRUV1Tq3VP3szhmMDFhsbKz27t3rcNve\\\n",
       "vXsVHBxs//eysjINHTpUO3bsUEZGhv0PtFJ0dLTc3d2VmZlpv+3QoUP2NzYlqXv37tq9e7fDJbeZ\\\n",
       "mZny9PRUdHS0fc369esdjp2ZmalbbrlF7u7uV2Teqmqbffjw4crOzlZWVpb9KygoSKNHj7ZfMWXi\\\n",
       "7LXN7eHhoS5duqigoOCia0ycW6p99rKyMpWVlVV79u3q6mo/MzV19kpLly6Vp6enHnzwQfttHh4e\\\n",
       "io6Odpipcj+VM12Pc1eaMGGCli9frvT0dLVv397hvrZt2yowMNBh7tOnTys3N9dh7tLSUm3atMm+\\\n",
       "ZtOmTTp58qTDmtzcXJ0+fdq+JjMzU0FBQWrbtu0VnfV/4Tpx4sSXnL2Jy9W6dWvNnDlTjRo1UosW\\\n",
       "LbRhwwZNnz5dY8eOVdeuXVVeXq4hQ4bo66+/1qJFi9S0aVOdPHlSJ0+elKurq9zd3eXl5aUjR47o\\\n",
       "nXfeUceOHVVSUqKxY8eqWbNmSklJUaNGjRQSEqKMjAx99tlnioyM1K5duzR+/Hg9/PDD6t+/vyTp\\\n",
       "V7/6lV599VUdP35cwcHBWr16tV555RVNnz5dERER13z2Jk2ayN/f3+Hrrbfe0u23366+fftKkpGz\\\n",
       "1za3JPn6+mrGjBkKCAhQs2bNlJ6ertdee01//OMf1a5dOyPnrsvsnp6eysrKsl/EYlmWVq1apdmz\\\n",
       "Z2vUqFG69dZbjZ1dOn9WMGbMGCUkJNgvI6/UtGlTpaamqkWLFvLy8tKsWbOUk5OjN954QzfeeON1\\\n",
       "O/f48eP1/vvv691331Xr1q3tv9+k82F3cXFRRUWF5syZo3bt2qmiokKTJk3S0aNH9eqrr8rT01M3\\\n",
       "3XSTvvzySy1fvlxRUVE6dOiQxo4dqy5dutgvpQ8NDdXf/vY3bdu2TWFhYcrNzdWLL76op59+2uHi\\\n",
       "D6ex2WyWiV8ffPCBFRkZaXl6elqhoaHWjBkzrOLiYstms1lbtmyxJNX4NW/ePPsxjhw5Yo0YMcLy\\\n",
       "9fW1vL29rYSEBGv79u0Oj7Nt2zYrISHB8vb2tnx9fa0RI0ZYR48edVjzz3/+04qKirI8PDysNm3a\\\n",
       "WLNnz3ba7DV9BQcHW9OmTXO4zcTZ6zL3vHnzrNDQUMvLy8vq0KGDNX/+fOPnrsvsu3fvth555BEr\\\n",
       "KCjI8vLyssLCwqxp06Y5rDF19vT0dEuS9emnn9Z4/8svv2wFBwdbHh4eVufOna1Vq1ZdF3/ml5r7\\\n",
       "Yr/fJkyYYF9TXFxsTZgwwQoMDLQ8PT2tnj17Wjk5OQ7H+fe//20lJiZaTZs2tZo2bWolJiZahYWF\\\n",
       "Dmuys7OtHj16WJ6enlZgYKA1ceLES/6+uZZfRn4ODAAAI98DAwCAgAEAjETAAABGImAAACMRMACA\\\n",
       "kf4fogeOY8fIn70AAAAASUVORK5CYII=\\\n",
       "\"\n",
       "  frames[1] = \"data:image/png;base64,iVBORw0KGgoAAAANSUhEUgAAAbAAAAEgCAYAAADVKCZpAAAABHNCSVQICAgIfAhkiAAAAAlwSFlz\\\n",
       "AAALEgAACxIB0t1+/AAAADl0RVh0U29mdHdhcmUAbWF0cGxvdGxpYiB2ZXJzaW9uIDIuMi4zLCBo\\\n",
       "dHRwOi8vbWF0cGxvdGxpYi5vcmcvIxREBQAAHatJREFUeJzt3XlU1WXix/EPsmsaiIAb6oSI44Ko\\\n",
       "KWhqIZ1Qy9Q0mEka87iVZmVaWlrmMqFj2WLOadGm9LjUaCOQjpaGhmBgi3sa2g8yc4u4JObC8v39\\\n",
       "4XCHKyjYiPDA+3XOPZ2+34fnPp8L537ud7nlZLPZLAEAYJg6Vb0AAAB+DwoMAGAkCgwAYCQKDABg\\\n",
       "JAoMAGAkCgwAYCQKDABgJAoMAGAkCgwAYCQKDABgJAoMAGAkCgwAYCQKDABgJAoMqEbi4uLk5eWl\\\n",
       "5OTkql4KUO25VPUCANQ+33//vT7++GNt2bJFR44c0cmTJ9WgQQOFhoZq1KhRGjBgQFUvEQagwADc\\\n",
       "cHPnztVHH32koKAgRUREqFGjRsrKyrKX2sSJEzVnzpyqXiaqOQoMwA3Xt29fTZw4UZ07d3bYfuDA\\\n",
       "AfXr10+LFi3S0KFDFRoaWkUrhAm4BobrLisrS15eXrr77ruVnZ2txx9/XMHBwfLz81N4eLiWLVv2\\\n",
       "P82fnJysmJgYtW/fXn5+fmrdurXuuOMOTZ8+XZb13//B+PHjxzVv3jzdddddatOmjXx9fdW2bVuN\\\n",
       "GjVK33777VXXferUKU2YMEFBQUFq2rSp7rrrLqWkpEiS8vLy9Oyzz6pDhw7y8/NTWFiY1q1bV2q+\\\n",
       "FStWyMvLS3FxcUpPT9egQYMUEBCggIAADRs2TLt27bqm3N9//70mTpxof97AwEANHz68zHlyc3M1\\\n",
       "f/589ejRQwEBAWrWrJlCQkIUGxtbLa6vxcbGliovSWrXrp2GDBkiSdVinajeOAJDpcnNzVVUVJTc\\\n",
       "3Nx077336sKFC4qPj9djjz2mOnXqKDY29prn/OSTTxQTE6P69eurf//+atasmWw2m44cOaK33npL\\\n",
       "s2bNkovLpT/r1NRUvfbaa+rdu7fuvfde1a1bV0eOHFF8fLz+/e9/a+PGjQoJCbniur29vXX//ffr\\\n",
       "p59+Unx8vIYOHapPPvlETzzxhH777TcNGDBAZ86c0dq1azVy5Eg1a9ZM3bp1KzXfV199pVdeeUUR\\\n",
       "EREaM2aMjhw5osTERKWkpGjdunUKCwsrN/e2bds0fPhwnT9/XlFRUQoMDNTx48eVmJiozZs3a+XK\\\n",
       "lYqMjJQkWZalYcOGaefOneratatiY2Pl5uam48ePKzU1Vdu2bVPv3r2v+bW/Udzc3CTJ/nsEroS/\\\n",
       "EFSaffv26aGHHtLLL78sZ2dnSdL48eN122236fXXX/9dBbZs2TJZlqXExER16tTJYd8vv/zi8KbX\\\n",
       "p08ffffdd6pfv77DuF27dmnAgAGaNWuW1q5dW+a6x40bp3nz5snJyUmStHDhQs2ePVv33HOPIiIi\\\n",
       "tGTJErm6ukq6dDpszJgxevXVV7VixYpS823evFkLFizQmDFj7Nvi4+M1YsQIPfroo0pPT7c/T1ly\\\n",
       "c3M1cuRIubq6avPmzWrbtq1936FDhxQZGakJEyZo9+7dcnd31/79+7Vz5071799fq1atcpjLsizl\\\n",
       "5ORc8blK2rNnj9avX1+hscUeeOABtWzZ8pp+pqTc3FzFx8fLyclJffv2/d3zoHagwFBp6tatq7lz\\\n",
       "59rLS5Latm2r8PBwpaSk6MyZM6XKpTx16tSxz325hg0bOvy7r69vmXOEhoaqd+/e2rp1q/Lz8+1F\\\n",
       "VKxevXp6/vnnHUolOjpas2fP1q+//qq5c+c6/Mx9992n8ePHa+/evWU+3y233KJRo0Y5bBs0aJDC\\\n",
       "wsKUlpamtLQ0hYeHXzHz6tWr9csvv2jevHkO5SVJwcHB+stf/qK///3v2rp1q6Kioq76Gjk5OZV6\\\n",
       "na5k7969mj9/foXGFuvVq9fvLrCioiI9+uijOnXqlEaPHq3g4ODfNQ9qDwoMlSYwMFA33XRTqe3N\\\n",
       "mjWTdOnT9rUWWHR0tBISEhQZGakhQ4aod+/e6tat2xXfNDdt2qR3331Xu3btUnZ2tgoKChz2Z2dn\\\n",
       "q3HjxqXWXa9ePYdtxWO8vLwUEBDgsM/Z2Vm+vr766aefylxDjx497KVSUs+ePZWWlqY9e/ZctcDS\\\n",
       "0tIkSfv371dcXFyp/YcPH5Ykfffdd4qKilJwcLBCQ0O1du1a/fDDDxowYIDCwsLUpUsXeXh4XPF5\\\n",
       "Ljd8+HANHz68wuP/F5Zl6cknn1RiYqJ69eqlF1988YY8L8xGgaHSNGjQoMztxUdkhYWF1zznPffc\\\n",
       "o7Vr12rRokVatWqV3n//fUmXLv5PnTpVgwYNso998803NW3aNHl5eSkiIkIBAQHy8PCQk5OT1q9f\\\n",
       "r3379unChQulnqOsUi0+NXmlwnV2di5VjsX8/PzK3F58hPjrr79eJfGlU6OStHz58quOO3v2rH0t\\\n",
       "69at08svv6x169Zp1qxZki4dkQ0ZMkSzZ8+Wj4/PVee6kYqKivT4449r+fLl6t27t1avXm2/DgZc\\\n",
       "DQUG40RGRioyMlLnzp3TV199pc2bN2vp0qV66KGH7J/gCwoKFBcXJ39/f23btq3UUdbOnTtv2HpP\\\n",
       "nTpV5vbTp09LunLRFyvev3Xr1grfVu7l5aU5c+Zozpw5yszMVGpqqpYvX64VK1bo6NGjSkhIKHeO\\\n",
       "G3ENrLCwUI888og+/PBDRUREaOXKlfL09Lym50TtRYHBWJ6enurVq5d69eqlVq1a6YknntCGDRvU\\\n",
       "q1cvZWdnKzc3V3369ClVXnl5edq9e/cNW+cXX3yhoqKiUqcRU1NTJanMOyFL6tatmxISErRjx47f\\\n",
       "9b2oVq1aqVWrVoqOjlZoaKg+//xz5ebm6uabb77qz1X2NbD8/HyNHj1a8fHx6tevn95//325u7tf\\\n",
       "0/OhduN7YDDK1q1b9dtvv5XafvLkSUmyX+Px9fVV3bp19c033ygvL88+Lj8/X9OmTVN2dvaNWbCk\\\n",
       "I0eOaOnSpQ7b4uPjlZaWpqCgoHJvo4+NjZWXl5cWLFig9PT0Uvsty9KOHTt08eJFSVJmZqYOHDhQ\\\n",
       "alxeXp7Onj0rFxeXCt2iPnz4cNlstmt6VPT2/AsXLujBBx9UfHy8Bg8erOXLl1NeuGYcgcEoM2bM\\\n",
       "0A8//KDbbrtNLVq0kIeHh/bv368tW7aoYcOGGjFihKRLdyuOGzdOr7zyinr27KkBAwYoPz9fycnJ\\\n",
       "ysnJUe/evW/YF2XvvPNOzZgxQ5s3b1b79u3t3wPz9PTUokWLrnoLvSR5e3tr2bJlio2N1V133aU+\\\n",
       "ffqobdu2cnV11bFjx/Tll1/qxx9/VGZmptzc3LRv3z7FxsYqJCRE7dq1U5MmTWSz2bRp0ybl5ORo\\\n",
       "woQJpW5SudEmTZqkjRs3qkGDBmrdurVeeumlUmM6duyoe+65pwpWB1NQYDDK5MmTtX79en3zzTf2\\\n",
       "AmratKkeeeQRjR8/Xs2bN7ePnT59unx8fLR8+XK99957atCgge644w7NmDGjzLv5KkvXrl319NNP\\\n",
       "a+7cuXr77bclSREREXruuecqfEqwT58+SklJ0RtvvKEtW7YoPT1dLi4u8vf3V7du3TRz5kz7tbLO\\\n",
       "nTtr8uTJ2r59u5KSkpSTk6OGDRuqTZs2evHFFzV48OBKy1pRWVlZki7dwFJWeUnSn//8ZwoMV+Vk\\\n",
       "s9ms8ocBuFYrVqzQhAkTNHXqVD3zzDNVvRygxuEaGADASBQYAMBIXANDlcrKytLKlSsrNPZ//e/s\\\n",
       "AahZuAaGKpWcnKyBAwdWaGxiYmK1/q+oA7ixKDAAgJG4BgYAMBIFBgAwEgX2HxkZGVW9hCpTW7PX\\\n",
       "1txS7c1eW3NLNTM7BQYAMBIFBgAwEgUGADASBQYAMBIFBgAwEgUGADASBQYAMBIFBgAwEgUGADAS\\\n",
       "BQYAMBIFBgAwEgUGADASBQYAMBIFBgAwEgUGADASBQYAMBIFBgAwEgUGADASBQYAMBIFBgAwEgUG\\\n",
       "ADASBQYAMBIFBgAwEgUGADASBQYAMBIFBgAwEgUGADASBQYAMJKTzWazqnoRl8vIyKjqJQAAroOg\\\n",
       "oKBKm7taFlhVyMjIqNQXujqrrdlra26p9mavrbmlmpmdU4gAACNRYAAAI1FgAAAjUWAAACNRYAAA\\\n",
       "I1FgAAAjUWAAACNRYAAAI1FgAAAjUWAAACNRYAAAI1FgAAAjUWAAACNRYAAAI1FgAAAjUWAAACNR\\\n",
       "YAAAI1FgAAAjUWAAACNRYAAAI1FgAAAjUWAAACNRYAAAI1FgAAAjUWAAACNRYAAAI1FgAAAjUWAA\\\n",
       "ACNRYAAAI1FgAAAjUWAAACNRYAAAI1FgAAAjUWAAACNRYAAAI1FgAAAjUWAAACNRYAAAI1FgAAAj\\\n",
       "UWAAACNRYAAAIznZbDarqhdxuYyMjKpeAgDgOggKCqq0uatlgVWFjIyMSn2hq7Pamr225pZqb/ba\\\n",
       "mluqmdk5hQgAMBIFBgAwEgUGADASBQYAMBIFBgAwEgUGADASBQYAMBIFBgAwEgUGADASBQYAMBIF\\\n",
       "BgAwEgUGADASBQYAMBIFBgAwEgUGADASBQYAMBIFBgAwEgUGADASBQYAMBIFBgAwEgUGADASBQYA\\\n",
       "MBIFBgAwEgUGADASBQYAMBIFBgAwEgUGADASBQYAMBIFBgAwEgUGADASBQYAMBIFBgAwEgUGADAS\\\n",
       "BQYAMBIFBpQh+3zhNW2vaWp7fpiBAgMuk3bygpYcPKsDOfkO2w/k5GvJwbNKO3mhilZ2Y9T2/DCH\\\n",
       "S1UvAKhO0k5e0Gc/XXqDTsg8J0lq5+2qAzn5Ssg8J0uy7w/zd6+qZVaa2p4fZqHAgP/IPl+orcf/\\\n",
       "e3Rh6dKb+Lc5+crILZBVYuzW4xfU+mYX+Xg43/B1Vpbanh/m4RQi8B8+Hs4a2NJTTiW2WZK+u+zN\\\n",
       "20nSwJaeNe7Nu7bnh3koMKCEdt6uureV45t4SU6S7m3lqXberjdyWTdMbc8PszjZbDar/GE3VkZG\\\n",
       "RlUvAbXcJ6edlflb6c93reoW6S7fmn8nXm3Pj+snKCio0uaultfAKjPwlWRkZFTJ81YHtTX7lXIf\\\n",
       "yMnXmbxzauhZ+mfOSMpvZP4RyNV+5zU5f239W5dqZnZOIQIllLzbrizFNzZcfot5TVHb88MsFBjw\\\n",
       "H9nnC5WYda7UDQttbnYpdWNDYta5Gvel3tqeH+ahwID/8PFw1h1N/vvdpuIbFobeUrfUjQ13NHGv\\\n",
       "cXfh1fb8ME+1vAYGVJXiL+duPX5BA1v+91pP8T8Ts87pjibuNfZLvLU9P8xCgQGXCfN3L/NLuu28\\\n",
       "XeXvWafGH3nU9vwwB6cQgTJc6U26trx51/b8MAMFBgAwEgUGADASBQYAMBIFBgAwEgUGADASBQYA\\\n",
       "MBIFBgAwEgUGADASBQYAMBIFBgAwEgUGADASBQYAMBIFBgAwEgUGADASBQYAMBIFBgAwEgUGADAS\\\n",
       "BQYAMBIFBgAwEgUGADASBQYAMBIFBgAwEgUGADASBQYAMBIFBgAwEgUGADASBQYAMBIFBgAwEgUG\\\n",
       "ADASBQYAMBIFBgAwEgUGADASBQYAMBIFBgAwEgUGADCSk81ms6p6EZfLyMio6iUAAK6DoKCgSpu7\\\n",
       "WhZYVcjIyKjUF7o6q63Za2tuqfZmr625pZqZnVOIAAAjUWAAACNRYAAAI1FgAAAjUWAAACNRYAAA\\\n",
       "I1FgAAAjUWAAACNRYAAAI1FgAAAjUWAAACNRYAAAI1FgAAAjUWAAACNRYAAAI1FgAAAjUWAAACNR\\\n",
       "YAAAI1FgAAAjUWAAACNRYAAAI1FgAAAjUWAAACNRYAAAI1FgAAAjUWAAACNRYAAAI1FgAAAjUWAA\\\n",
       "ACNRYAAAI1FgAAAjUWAAACNRYAAAI1FgAAAjUWAAACNRYAAAI1FgAAAjUWAAACNRYAAAI1FgAAAj\\\n",
       "OdlsNquqF3G5jIyMql4CAOA6CAoKqrS5q2WBVYWMjIxKfaGrs9qavbbmlmpv9tqaW6qZ2TmFCAAw\\\n",
       "EgUGADASBQYAMBIFBgAwEgUGADASBQYAMBIFBgAwEgUGADASBQYAMBIFBgAwEgUGADASBQYAMBIF\\\n",
       "BgAwEgUGADASBQYAMBIFBgAwEgUGADASBQYAMBIFBgAwEgUGADASBQYAMBIFBgAwEgUGADASBQYA\\\n",
       "MBIFBgAwEgUGADASBQYAMBIFBgAwEgUGADCSk81ms6p6EQAAXCuOwAAARqLAAABGosAAAEaiwAAA\\\n",
       "RjK2wE6cOKGHH35YgYGB8vf3V1hYmLZv3y5Jys/P18yZM9WzZ081bdpUwcHBGj16tI4ePeowx4UL\\\n",
       "F/TUU0/plltuUdOmTfWnP/1Jx44dcxhz9OhRxcTEqGnTprrlllv09NNP6+LFiw5jtm/frttvv13+\\\n",
       "/v7q1KmT3n333SrLfrnHH39cXl5eWrRokcN2E7NXJPfhw4cVGxurFi1aqEmTJurTp48OHTpkdG6p\\\n",
       "/Ox5eXl66qmn1K5dOzVu3Fi33nqrFi9e7DCHidk7duwoLy+vUo/o6Gj7mCVLligkJET+/v66/fbb\\\n",
       "lZqaWuNzL1y4UBEREQoICFBgYKBiYmJ04MABhzksy1JcXJzatm2rxo0b6+6779a3337rMMZms2ns\\\n",
       "2LFq0aKFWrRoobFjx8pmszmM2b9/vwYMGKDGjRvrj3/8o+bPny/Lqh73/hlZYDabTVFRUbIsSx9+\\\n",
       "+KHS0tL0t7/9Tb6+vpKk3377Tbt379aUKVO0bds2rVy5UseOHdOwYcNUUFBgn+eZZ55RYmKili5d\\\n",
       "qg0bNujMmTOKiYlRYWGhJKmwsFAxMTHKy8vThg0btHTpUiUkJGj69On2OTIzMxUdHa3u3bvr888/\\\n",
       "15NPPqmnn35a8fHxVZK9pPj4eH399ddq0qRJqX2mZa9I7szMTEVFRally5ZKSEjQjh07NGPGDNWr\\\n",
       "V8/Y3BXNPn36dH3yySd68803lZaWpsmTJ2vWrFlavXq10dmTkpJ06NAh+2Pbtm1ycnLS4MGDJUkf\\\n",
       "ffSRpk2bpsmTJ+vzzz9X9+7ddf/99zt8WK2Jubdv365Ro0Zp06ZNSkhIkIuLiwYPHqycnBz7HK+9\\\n",
       "9poWL16s+fPn67PPPpOvr6+GDBmiM2fO2MeMHj1ae/bs0T//+U+tWbNGe/bs0bhx4+z7f/31Vw0Z\\\n",
       "MkR+fn767LPPNG/ePC1atEhvvPFGpeS+VkbeRj979mylpKRo06ZNFf6ZgwcPKjw8XCkpKWrfvr1y\\\n",
       "c3PVunVrLV682P6p5scff1THjh21Zs0aRUZG6tNPP1V0dLT27t2r5s2bS5I++OADPfbYY8rIyFCD\\\n",
       "Bg00c+ZMJSYm6uuvv7Y/18SJE3Xw4EF9+umn1ze4Kp79hx9+UFRUlNatW6dhw4Zp7NixmjhxoiQZ\\\n",
       "mb0iuUePHi0nJye98847Ze43MbdUsew9evTQwIED9eyzz9q3DRgwQO3bt9eCBQuMzX65l156Sa+/\\\n",
       "/roOHjyounXrKjIyUu3bt9frr79uH9OlSxcNGjRIM2fOrLG5L5eXl6cWLVpoxYoV6t+/vyzLUtu2\\\n",
       "bTVmzBhNmTJFknTu3DkFBQVpzpw5GjlypA4dOqSwsDBt3LhR4eHhkqQdO3aof//+2rlzp4KCgrR0\\\n",
       "6VK98MIL+u677+Tp6SlJWrBggd59910dOHBATk5OlZ79aow8Alu/fr26du2qkSNHqnXr1urVq5fe\\\n",
       "fvvtqx7WFn/q8PLykiTt2rVL+fn56tu3r31M8+bNFRwcrLS0NElSenq6goOD7X/UkhQZGakLFy5o\\\n",
       "165d9jEl5yge88033yg/P//6BC6hItkLCgo0evRoTZkyRcHBwaXmMDF7ebmLioq0ceNGBQcHa+jQ\\\n",
       "oQoMDFRERIQ++ugjo3NXJLskhYeHa+PGjfrxxx8lSWlpadq3b58iIyONzl6SZVlavny5YmJiVLdu\\\n",
       "XV28eFG7du0qtZ6+ffvaM9XE3GXJy8tTUVGR/f0tKytLJ0+edFizp6enevbs6ZD7pptuUlhYmH1M\\\n",
       "eHi46tWr5zCmR48e9vKSLuU+fvy4srKyrnvWa2VkgWVmZmrp0qVq1aqV1q5dq4cfflizZs264ifv\\\n",
       "ixcvasaMGerXr5+aNWsmSTp16pScnZ3l4+PjMNbX11enTp2yj7n81JyPj4+cnZ2vOsbX11cFBQXK\\\n",
       "zs6+LnlLqkj2uLg4eXt7a9SoUWXOYWL28nKfPn1aeXl59msD//rXvzR06FCNGTNGGzduNDZ3RbJL\\\n",
       "0vz589WxY0d16NBBjRo10t13360XXnhB/fr1Mzp7SUlJScrKytKDDz4oScrOzlZhYWGZ6ym53pqW\\\n",
       "uyzTpk1Tx44d1b17d0nSyZMn7Wss6fLcPj4+DkdRTk5OatSoUbm5i/dVNZeqXsDvUVRUpM6dO2vm\\\n",
       "zJmSpE6dOun777/XkiVLNHbsWIexBQUFGjt2rHJzc7Vq1apy57Ysq9QvtCxXG1P8ybgyDq/Ly759\\\n",
       "+3atXLlSycnJ1zx3dc5eXu6ioiJJl06bPfroo5KkkJAQ7dq1S0uWLLG/kZelOueWKvb3/tZbbykt\\\n",
       "LU2rVq1SQECAUlNT9dxzz6lFixa68847rzh3dc9e0vvvv68uXbooJCTkimsrXk95a6kJuYs9++yz\\\n",
       "+uKLL7Rx40Y5Ozs77CvvtSlr7eWNuVG5K8LIIzB/f/9Sp8batGljP31SrKCgQKNGjdL+/fsVHx+v\\\n",
       "hg0b2vf5+fmpsLCw1Kenn3/+2f4Jw8/Pr9SnjMs/9ZU15ueff5aLi4vD810v5WVPTk7WiRMnFBwc\\\n",
       "LB8fH/n4+Ojo0aOaOXOm2rVrZ1+zadnLy+3j4yMXF5erjjExt1R+9nPnzmn27NmaNWuW+vfvrw4d\\\n",
       "Omjs2LG677777Hefmpq92OnTp7VhwwaNGDHCvu3yo6SS6ym53pqWu6RnnnlGa9euVUJCglq1amXf\\\n",
       "7u/vL6n0UdLluX/++WeHU9GWZSk7O7vc3FLpo7uqYGSBhYeH6/Dhww7bDh8+rICAAPu/5+fna+TI\\\n",
       "kdq/f78SExPtv9BioaGhcnV1VVJSkn3bsWPH7Bc2Jal79+46dOiQwy23SUlJcnd3V2hoqH3M1q1b\\\n",
       "HeZOSkpS586d5erqel3yllRe9tGjRyslJUXJycn2R5MmTTR+/Hj7HVMmZi8vt5ubm7p06aKMjIwr\\\n",
       "jjExt1R+9vz8fOXn55f69O3s7Gw/MjU1e7GVK1fK3d1d9913n32bm5ubQkNDHTIVr6c4U03MXWzq\\\n",
       "1Klas2aNEhIS1KZNG4d9LVu2lL+/v0Pu8+fPa8eOHQ658/LylJ6ebh+Tnp6us2fPOozZsWOHzp8/\\\n",
       "bx+TlJSkJk2aqGXLltc16+/hPG3atBeqehHXqnnz5po/f77q1Kmjxo0ba9u2bZo7d64mTZqkrl27\\\n",
       "qqCgQCNGjNDXX3+tZcuWqX79+jp79qzOnj0rZ2dnubq6ysPDQydOnNA777yjDh06KDc3V5MmTVKD\\\n",
       "Bg00a9Ys1alTR61atVJiYqI+++wztW/fXgcPHtSUKVN0//33a+DAgZKkP/zhD3r11Vd1+vRpBQQE\\\n",
       "aMOGDXr55Zc1d+5ctW3b9oZnr1evnnx9fR0eb731lm6//Xb1799fkozMXl5uSfL29ta8efPk5+en\\\n",
       "Bg0aKCEhQa+99pr++te/qnXr1kbmrkh2d3d3JScn229isSxL69ev18KFCzVu3DjdeuutxmaXLh0V\\\n",
       "TJgwQVFRUfbbyIvVr19fcXFxaty4sTw8PLRgwQKlpqbqjTfe0M0331xjc0+ZMkWrV6/We++9p+bN\\\n",
       "m9vf36RLxe7k5KTCwkK98sorat26tQoLCzV9+nSdPHlSr776qtzd3dWoUSN9+eWXWrNmjUJCQnTs\\\n",
       "2DFNmjRJXbp0sd9KHxgYqH/84x/au3evgoKCtGPHDj3//PN64oknHG7+qDI2m80y8fHBBx9Y7du3\\\n",
       "t9zd3a3AwEBr3rx5Vk5OjmWz2azdu3dbksp8LF682D7HiRMnrDFjxlje3t6Wp6enFRUVZe3bt8/h\\\n",
       "efbu3WtFRUVZnp6elre3tzVmzBjr5MmTDmM+/vhjKyQkxHJzc7NatGhhLVy4sMqyl/UICAiw5syZ\\\n",
       "47DNxOwVyb148WIrMDDQ8vDwsNq1a2ctWbLE+NwVyX7o0CHrgQcesJo0aWJ5eHhYQUFB1pw5cxzG\\\n",
       "mJo9ISHBkmRt2bKlzP0vvfSSFRAQYLm5uVmdOnWy1q9fXyN+51fLfaX3t6lTp9rH5OTkWFOnTrX8\\\n",
       "/f0td3d3q2fPnlZqaqrDPP/3f/9nRUdHW/Xr17fq169vRUdHW5mZmQ5jUlJSrB49elju7u6Wv7+/\\\n",
       "NW3atKu+39zIh5HfAwMAwMhrYAAAUGAAACNRYAAAI1FgAAAjUWAAACP9P794R2EyKymEAAAAAElF\\\n",
       "TkSuQmCC\\\n",
       "\"\n",
       "  frames[2] = \"data:image/png;base64,iVBORw0KGgoAAAANSUhEUgAAAbAAAAEgCAYAAADVKCZpAAAABHNCSVQICAgIfAhkiAAAAAlwSFlz\\\n",
       "AAALEgAACxIB0t1+/AAAADl0RVh0U29mdHdhcmUAbWF0cGxvdGxpYiB2ZXJzaW9uIDIuMi4zLCBo\\\n",
       "dHRwOi8vbWF0cGxvdGxpYi5vcmcvIxREBQAAHgZJREFUeJzt3XlU1XXi//EXsmsaSICooIWII4pb\\\n",
       "CppaSidSM7MUOsmMOW6NtthoaWmZy4w6lpbmnBZtSo9ak5bA6KiZG4KhLbimoYW5a8RFMRfAz+8P\\\n",
       "f9zxylWwrwpv7vNxzj0dP5837/t+Xey+7me55Waz2SwBAGCYahW9AAAAfg8KDABgJAoMAGAkCgwA\\\n",
       "YCQKDABgJAoMAGAkCgwAYCQKDABgJAoMAGAkCgwAYCQKDABgJAoMAGAkCgwAYCQKDKhEpkyZIj8/\\\n",
       "P6WlpVX0UoBKz6OiFwDA9fz000+aNWuWsrKydOjQIeXn56t27dq68847lZSUpISEBHl6elb0MlHJ\\\n",
       "UWAAbrm9e/fqs88+0913361WrVrJz89Pubm5WrNmjYYPH65FixYpOTlZHh68ReHq+NsB4Jbr2rWr\\\n",
       "cnJy5Obm5rD9woUL6t27t9LT0/X555+rb9++FbRCmIBrYLjhDhw4ID8/P/Xo0UO5ubl67rnnFBkZ\\\n",
       "qaCgIMXGxmr+/Pn/p/nT0tKUmJioqKgoBQUFqVGjRrrvvvs0duxYWdb//gfjR48e1dSpU/XAAw+o\\\n",
       "cePGCgwMVJMmTTRw4EB9//3311z3iRMnNHz4cEVERKhu3bp64IEHlJ6eLkkqKCjQyy+/rGbNmiko\\\n",
       "KEgxMTFatmxZqfkWLlwoPz8/TZkyRVu2bFGvXr0UGhqq0NBQ9enTR1lZWdeV+8cff9Qzzzxjf97w\\\n",
       "8HD169fP6Tz5+fmaNm2a2rdvr9DQUNWrV0/R0dFKSkqqFNfXvLy8SpVXyfaHHnpIkrR///5bvSwY\\\n",
       "hiMw3DT5+fmKj4+Xl5eXHn74YZ0/f17Jycl69tlnVa1aNSUlJV33nKtXr1ZiYqJq1qypbt26qV69\\\n",
       "erLZbNq/f7/effddTZgwwX7aKSMjQ2+99ZY6deqkhx9+WNWrV9f+/fuVnJys//73v1q5cqWio6Ov\\\n",
       "um5/f3/17dtXR44cUXJysh577DGtXr1aI0aM0G+//abu3bvr9OnTWrp0qQYMGKB69eqpbdu2peb7\\\n",
       "5ptvNHPmTHXp0kWDBw/W/v37lZqaqvT0dC1btkwxMTFl5t6wYYP69eunc+fOKT4+XuHh4Tp69KhS\\\n",
       "U1O1Zs0aLVq0SHFxcZIky7LUp08fbd26VW3atFFSUpK8vLx09OhRZWRkaMOGDerUqdN1v/a3QnFx\\\n",
       "sb744gtJUvPmzSt4NajsKDDcNDt37tSTTz6pN954Q+7u7pKkYcOG6Z577tGsWbN+V4HNnz9flmUp\\\n",
       "NTVVLVq0cNj366+/Olwz6dy5s3744QfVrFnTYVxWVpa6d++uCRMmaOnSpU7XPXToUE2dOtV+lDBj\\\n",
       "xgxNnDhRDz30kLp06aK5c+fabzLo2rWrBg8erDfffFMLFy4sNd+aNWs0ffp0DR482L4tOTlZ/fv3\\\n",
       "19NPP60tW7Y4PRopkZ+frwEDBsjT01Nr1qxRkyZN7Pv27t2ruLg4DR8+XNu2bZO3t7d27dqlrVu3\\\n",
       "qlu3blq8eLHDXJZlKS8v76rPdbnt27dr+fLl5Rpb4oknnlCDBg3KPf7o0aP68MMPdfHiRf36669a\\\n",
       "u3atfvrpJz3++OPq0aPHdT03XA8FhpumevXqmjx5sr28JKlJkyaKjY1Venq6Tp8+XapcylKtWjX7\\\n",
       "3FeqXbu2w58DAwOdztGyZUt16tRJ69evV2FhYam73WrUqKFXX33VoVQSEhI0ceJEnTp1SpMnT3b4\\\n",
       "mUcffVTDhg3Tjh07nD7fXXfdpYEDBzps69Wrl2JiYpSZmanMzEzFxsZeNfPHH3+sX3/9VVOnTnUo\\\n",
       "L0mKjIzUn/70J/3zn//U+vXrFR8ff83XyM3NrdTrdDU7duzQtGnTyjW2RMeOHa+rwI4dO+bwHNWq\\\n",
       "VdOIESM0duzY63peuCYKDDdNeHi4brvttlLb69WrJ+nSkcX1FlhCQoJSUlIUFxen3r17q1OnTmrb\\\n",
       "tu1V3zRXrVqlDz74QFlZWcrNzVVRUZHD/tzcXNWpU6fUumvUqOGwrWSMn5+fQkNDHfa5u7srMDBQ\\\n",
       "R44ccbqG9u3b20vlch06dFBmZqa2b99+zQLLzMyUJO3atUtTpkwptX/fvn2SpB9++EHx8fGKjIxU\\\n",
       "y5YttXTpUv3888/q3r27YmJi1Lp1a/n4+Fz1ea7Ur18/9evXr9zjf49WrVrJZrOpuLhYR44cUWpq\\\n",
       "qqZOnaq0tDR9+umn5S5buCYKDDdNrVq1nG4vOSIrLi6+7jkfeughLV26VLNnz9bixYv10UcfSZKa\\\n",
       "Nm2q0aNHq1evXvax77zzjsaMGSM/Pz916dJFoaGh8vHxkZubm5YvX66dO3fq/PnzpZ7DWamWnJq8\\\n",
       "WuG6u7uXKscSQUFBTreXHCGeOnXqGokvnRqVpAULFlxz3JkzZ+xrWbZsmd544w0tW7ZMEyZMkHTp\\\n",
       "iKx3796aOHGiAgICrjnXrebu7q7Q0FANGzZMderU0Z///GdNmjRJM2fOrOiloRKjwGCcuLg4xcXF\\\n",
       "6ezZs/rmm2+0Zs0azZs3T08++aRSU1PVsWNHFRUVacqUKQoODtaGDRtKHWVt3br1lq33xIkTTref\\\n",
       "PHlS0tWLvkTJ/vXr16tly5blek4/Pz9NmjRJkyZNUk5OjjIyMrRgwQItXLhQBw8eVEpKSplz3Ipr\\\n",
       "YM6U3IyyadOm/9M8qPooMBjL19dXHTt2VMeOHdWwYUONGDFCK1asUMeOHZWbm6v8/Hx17ty5VHkV\\\n",
       "FBRo27Ztt2ydX331lS5evFjqNGJGRoYkOb0T8nJt27ZVSkqKNm/eXO4Cu1zDhg3VsGFDJSQkqGXL\\\n",
       "ltq4caPy8/N1++23X/PnbsU1MGdKTsXyJWaUhe+BwSjr16/Xb7/9Vmr78ePHJcl+jScwMFDVq1fX\\\n",
       "d999p4KCAvu4wsJCjRkzRrm5ubdmwbr0faZ58+Y5bEtOTlZmZqYiIiLKvI0+KSlJfn5+mj59urZs\\\n",
       "2VJqv2VZ2rx5sy5cuCBJysnJ0e7du0uNKygo0JkzZ+Th4VGucujXr59sNtt1Pcp7e35mZqbT07cF\\\n",
       "BQV66aWXJEnx8fHlmguui484MMq4ceP0888/65577lFYWJh8fHy0a9cuffnll6pdu7b69+8v6dLd\\\n",
       "bEOHDtXMmTPVoUMHde/eXYWFhUpLS1NeXp46dep0y77Qe//992vcuHFas2aNoqKi7N8D8/X11ezZ\\\n",
       "s695C70k+fv7a/78+UpKStIDDzygzp07q0mTJvL09NThw4f19ddf69ChQ8rJyZGXl5d27typpKQk\\\n",
       "RUdHq2nTpgoJCZHNZtOqVauUl5en4cOHl7pJ5VabOHGidu/erQ4dOqhevXry8fHRkSNHtHr1ap06\\\n",
       "dUrt2rXTqFGjKnSNqPwoMBhl5MiRWr58ub777jt7AdWtW1d/+ctfNGzYMNWvX98+duzYsQoICNCC\\\n",
       "BQv04YcfqlatWrrvvvs0btw4p3fz3Sxt2rTRiy++qMmTJ+u9996TJHXp0kWvvPJKuU8Jdu7cWenp\\\n",
       "6Xr77bf15ZdfasuWLfLw8FBwcLDatm2r8ePH26+VtWrVSiNHjtSmTZu0bt065eXlqXbt2mrcuLH+\\\n",
       "/ve/65FHHrlpWctryJAhSk5OVlZWljZu3KizZ8/Kz89PrVu3Vu/evdWvXz9OIaJMbjabzSp7GIDr\\\n",
       "tXDhQg0fPlyjR4+2nxYDcONwDQwAYCQKDABgJE4yo0IdOHBAixYtKtfYG/EdIwBVB9fAUKHS0tLU\\\n",
       "s2fPco1NTU2ttP8VdQC3HgUGADAS18AAAEaiwAAARqLA/r/s7OyKXkKFcdXsrppbct3srppbqprZ\\\n",
       "KTAAgJEoMACAkSgwAICRKDAAgJEoMACAkSgwAICRKDAAgJEoMACAkSgwAICRKDAAgJEoMACAkSgw\\\n",
       "AICRKDAAgJEoMACAkSgwAICRKDAAgJEoMACAkSgwAICRKDAAgJEoMACAkSgwAICRKDAAgJEoMACA\\\n",
       "kSgwAICRKDAAgJEoMACAkSgwAICRKDAAgJHcbDabVdGLuFJ2dnZFLwEAcANERETctLkrZYFVhOzs\\\n",
       "7Jv6QldmrprdVXNLrpvdVXNLVTM7pxABAEaiwAAARqLAAABGosAAAEaiwAAARqLAAABGosAAAEai\\\n",
       "wAAARqLAAABGosAAAEaiwAAARqLAAABGosAAAEaiwAAARqLAAABGosAAAEaiwAAARqLAAABGosAA\\\n",
       "AEaiwAAARqLAAABGosAAAEaiwAAARqLAAABGosAAAEaiwAAARqLAAABGosAAAEaiwAAARqLAAABG\\\n",
       "osAAAEaiwAAARqLAAABGosAAAEaiwAAARqLAAABGosAAAEaiwAAARqLAAABGosAAAEaiwAAARnKz\\\n",
       "2WxWRS/iStnZ2RW9BADADRAREXHT5q6UBVYRsrOzb+oLXZm5anZXzS25bnZXzS1VzeycQgQAGIkC\\\n",
       "AwAYiQIDABiJAgMAGIkCAwAYiQIDABiJAgMAGIkCAwAYiQIDABiJAgMAGIkCAwAYiQIDABiJAgMA\\\n",
       "GIkCAwAYiQIDABiJAgMAGIkCAwAYiQIDABiJAgMAGIkCAwAYiQIDABiJAgMAGIkCAwAYiQIDABiJ\\\n",
       "AgMAGIkCAwAYiQIDABiJAgMAGIkCAwAYiQIDABiJAgMAGIkCAwAYiQIDABiJAgMAGIkCQ7nlniu+\\\n",
       "ru0mc6Wszrh6fpiBAkO5ZB4/r7l7zmh3XqHD9t15hZq754wyj5+voJXdeK6U1RlXzw9zeFT0AlD5\\\n",
       "ZR4/r7VHLr1ppeSclSQ19ffU7rxCpeSclSXZ98cEe1fUMm8IV8rqjKvnh1koMFxT7rlirT/6v0/c\\\n",
       "li69sX2fV6js/CJZl41df/S8Gt3uoQAf91u+zhvBlbI64+r5YR5OIeKaAnzc1bOBr9wu22ZJ+uGK\\\n",
       "NzQ3ST0b+Br9huZKWZ1x9fwwDwWGMjX199TDDR3f2C7nJunhhr5q6u95K5d1U7hSVmdcPT/M4maz\\\n",
       "2ayyh91a2dnZFb0EOLH6pLtyfiv9madh9Yt6ILBq3Z3mSlmdcfX8uHEiIiJu2tyV8hrYzQx8NdnZ\\\n",
       "2RXyvJVBebLvzivU6YKzqu1bet9pSYV3mPep/Gq5q2LWK13rd16V8/PvedXKzilElOnyO9CcKbnY\\\n",
       "f+Vt1yZypazOuHp+mIUCwzXlnitW6oGzpS7iN77do9TF/tQDZ43+oqsrZXXG1fPDPBQYrinAx133\\\n",
       "hfzv+z4lF/Efu6t6qYv994V4G31nmitldcbV88M8lfIaGCqXki+srj96Xj0b/O/6R8k/Uw+c1X0h\\\n",
       "3lXii62ulNUZV88Ps1BgKJeYYG+nX1xt6u+pYN9qVerTuCtldcbV88McnEJEuV3tjasqvqG5UlZn\\\n",
       "XD0/zECBAQCMRIEBAIxEgQEAjESBAQCMRIEBAIxEgQEAjESBAQCMRIEBAIxEgQEAjESBAQCMRIEB\\\n",
       "AIxEgQEAjESBAQCMRIEBAIxEgQEAjESBAQCMRIEBAIxEgQEAjESBAQCMRIEBAIxEgQEAjESBAQCM\\\n",
       "RIEBAIxEgQEAjESBAQCMRIEBAIxEgQEAjESBAQCMRIEBAIxEgQEAjESBAQCMRIEBAIxEgQEAjESB\\\n",
       "AQCMRIEBAIzkZrPZrIpexJWys7MregkAgBsgIiLips1dKQusImRnZ9/UF7oyc9Xsrppbct3srppb\\\n",
       "qprZOYUIADASBQYAMBIFBgAwEgUGADASBQYAMBIFBgAwEgUGADASBQYAMBIFBgAwEgUGADASBQYA\\\n",
       "MBIFBgAwEgUGADASBQYAMBIFBgAwEgUGADASBQYAMBIFBgAwEgUGADASBQYAMBIFBgAwEgUGADAS\\\n",
       "BQYAMBIFBgAwEgUGADASBQYAMBIFBgAwEgUGADASBQYAMBIFBgAwEgUGADASBQYAMBIFBgAwEgUG\\\n",
       "ADASBQYAMBIFBgAwEgUGADASBQYAMBIFBgAwEgUGADCSm81msyp6EVfKzs6u6CUAAG6AiIiImzZ3\\\n",
       "pSywipCdnX1TX+jKzFWzu2puyXWzu2puqWpm5xQiAMBIFBgAwEgUGADASBQYAMBIFBgAwEgUGADA\\\n",
       "SBQYAMBIFBgAwEgUGADASBQYAMBIFBgAwEgUGADASBQYAMBIFBgAwEgUGADASBQYAMBIFBgAwEgU\\\n",
       "GADASBQYAMBIFBgAwEgUGADASBQYAMBIFBgAwEgUGADASBQYAMBIFBgAwEgUGADASBQYAMBIFBgA\\\n",
       "wEhuNpvNquhFAABwvTgCAwAYiQIDABiJAgMAGIkCAwAYydgCO3bsmJ566imFh4crODhYMTEx2rRp\\\n",
       "kySpsLBQ48ePV4cOHVS3bl1FRkZq0KBBOnjwoMMc58+f1wsvvKC77rpLdevW1eOPP67Dhw87jDl4\\\n",
       "8KASExNVt25d3XXXXXrxxRd14cIFhzGbNm3Svffeq+DgYLVo0UIffPBBhWW/0nPPPSc/Pz/Nnj3b\\\n",
       "YbuJ2cuTe9++fUpKSlJYWJhCQkLUuXNn7d271+jcUtnZCwoK9MILL6hp06aqU6eO7r77bs2ZM8dh\\\n",
       "DhOzN2/eXH5+fqUeCQkJ9jFz585VdHS0goODde+99yojI6PK554xY4a6dOmi0NBQhYeHKzExUbt3\\\n",
       "73aYw7IsTZkyRU2aNFGdOnXUo0cPff/99w5jbDabhgwZorCwMIWFhWnIkCGy2WwOY3bt2qXu3bur\\\n",
       "Tp06+sMf/qBp06bJsirHvX9GFpjNZlN8fLwsy9K///1vZWZm6h//+IcCAwMlSb/99pu2bdumUaNG\\\n",
       "acOGDVq0aJEOHz6sPn36qKioyD7PSy+9pNTUVM2bN08rVqzQ6dOnlZiYqOLiYklScXGxEhMTVVBQ\\\n",
       "oBUrVmjevHlKSUnR2LFj7XPk5OQoISFB7dq108aNG/XXv/5VL774opKTkysk++WSk5P17bffKiQk\\\n",
       "pNQ+07KXJ3dOTo7i4+PVoEEDpaSkaPPmzRo3bpxq1KhhbO7yZh87dqxWr16td955R5mZmRo5cqQm\\\n",
       "TJigjz/+2Ojs69at0969e+2PDRs2yM3NTY888ogk6bPPPtOYMWM0cuRIbdy4Ue3atVPfvn0dPqxW\\\n",
       "xdybNm3SwIEDtWrVKqWkpMjDw0OPPPKI8vLy7HO89dZbmjNnjqZNm6a1a9cqMDBQvXv31unTp+1j\\\n",
       "Bg0apO3bt+vTTz/VkiVLtH37dg0dOtS+/9SpU+rdu7eCgoK0du1aTZ06VbNnz9bbb799U3JfLyNv\\\n",
       "o584caLS09O1atWqcv/Mnj17FBsbq/T0dEVFRSk/P1+NGjXSnDlz7J9qDh06pObNm2vJkiWKi4vT\\\n",
       "F198oYSEBO3YsUP169eXJH3yySd69tlnlZ2drVq1amn8+PFKTU3Vt99+a3+uZ555Rnv27NEXX3xx\\\n",
       "Y4Or/Nl//vlnxcfHa9myZerTp4+GDBmiZ555RpKMzF6e3IMGDZKbm5vef/99p/tNzC2VL3v79u3V\\\n",
       "s2dPvfzyy/Zt3bt3V1RUlKZPn25s9iu9/vrrmjVrlvbs2aPq1asrLi5OUVFRmjVrln1M69at1atX\\\n",
       "L40fP77K5r5SQUGBwsLCtHDhQnXr1k2WZalJkyYaPHiwRo0aJUk6e/asIiIiNGnSJA0YMEB79+5V\\\n",
       "TEyMVq5cqdjYWEnS5s2b1a1bN23dulURERGaN2+eXnvtNf3www/y9fWVJE2fPl0ffPCBdu/eLTc3\\\n",
       "t5ue/VqMPAJbvny52rRpowEDBqhRo0bq2LGj3nvvvWse1pZ86vDz85MkZWVlqbCwUF27drWPqV+/\\\n",
       "viIjI5WZmSlJ2rJliyIjI+1/qSUpLi5O58+fV1ZWln3M5XOUjPnuu+9UWFh4YwJfpjzZi4qKNGjQ\\\n",
       "II0aNUqRkZGl5jAxe1m5L168qJUrVyoyMlKPPfaYwsPD1aVLF3322WdG5y5PdkmKjY3VypUrdejQ\\\n",
       "IUlSZmamdu7cqbi4OKOzX86yLC1YsECJiYmqXr26Lly4oKysrFLr6dq1qz1TVcztTEFBgS5evGh/\\\n",
       "fztw4ICOHz/usGZfX1916NDBIfdtt92mmJgY+5jY2FjVqFHDYUz79u3t5SVdyn306FEdOHDghme9\\\n",
       "XkYWWE5OjubNm6eGDRtq6dKleuqppzRhwoSrfvK+cOGCxo0bpwcffFD16tWTJJ04cULu7u4KCAhw\\\n",
       "GBsYGKgTJ07Yx1x5ai4gIEDu7u7XHBMYGKiioiLl5ubekLyXK0/2KVOmyN/fXwMHDnQ6h4nZy8p9\\\n",
       "8uRJFRQU2K8NfP7553rsscc0ePBgrVy50tjc5ckuSdOmTVPz5s3VrFkz3XHHHerRo4dee+01Pfjg\\\n",
       "g0Znv9y6det04MAB/fGPf5Qk5ebmqri42Ol6Ll9vVcvtzJgxY9S8eXO1a9dOknT8+HH7Gi93Ze6A\\\n",
       "gACHoyg3NzfdcccdZeYu2VfRPCp6Ab/HxYsX1apVK40fP16S1KJFC/3444+aO3euhgwZ4jC2qKhI\\\n",
       "Q4YMUX5+vhYvXlzm3JZllfqFOnOtMSWfjG/G4XVZ2Tdt2qRFixYpLS3tuueuzNnLyn3x4kVJl06b\\\n",
       "Pf3005Kk6OhoZWVlae7cufY3cmcqc26pfH/f3333XWVmZmrx4sUKDQ1VRkaGXnnlFYWFhen++++/\\\n",
       "6tyVPfvlPvroI7Vu3VrR0dFXXVvJespaS1XIXeLll1/WV199pZUrV8rd3d1hX1mvjbO1lzXmVuUu\\\n",
       "DyOPwIKDg0udGmvcuLH99EmJoqIiDRw4ULt27VJycrJq165t3xcUFKTi4uJSn55++eUX+yeMoKCg\\\n",
       "Up8yrvzU52zML7/8Ig8PD4fnu1HKyp6WlqZjx44pMjJSAQEBCggI0MGDBzV+/Hg1bdrUvmbTspeV\\\n",
       "OyAgQB4eHtccY2JuqezsZ8+e1cSJEzVhwgR169ZNzZo105AhQ/Too4/a7z41NXuJkydPasWKFerf\\\n",
       "v79925VHSZev5/L1VrXcl3vppZe0dOlSpaSkqGHDhvbtwcHBkkofJV2Z+5dffnE4FW1ZlnJzc8vM\\\n",
       "LZU+uqsIRhZYbGys9u3b57Bt3759Cg0Ntf+5sLBQAwYM0K5du5Sammr/hZZo2bKlPD09tW7dOvu2\\\n",
       "w4cP2y9sSlK7du20d+9eh1tu161bJ29vb7Vs2dI+Zv369Q5zr1u3Tq1atZKnp+cNyXu5srIPGjRI\\\n",
       "6enpSktLsz9CQkI0bNgw+x1TJmYvK7eXl5dat26t7Ozsq44xMbdUdvbCwkIVFhaW+vTt7u5uPzI1\\\n",
       "NXuJRYsWydvbW48++qh9m5eXl1q2bOmQqWQ9JZmqYu4So0eP1pIlS5SSkqLGjRs77GvQoIGCg4Md\\\n",
       "cp87d06bN292yF1QUKAtW7bYx2zZskVnzpxxGLN582adO3fOPmbdunUKCQlRgwYNbmjW38N9zJgx\\\n",
       "r1X0Iq5X/fr1NW3aNFWrVk116tTRhg0bNHnyZD3//PNq06aNioqK1L9/f3377beaP3++atasqTNn\\\n",
       "zujMmTNyd3eXp6enfHx8dOzYMb3//vtq1qyZ8vPz9fzzz6tWrVqaMGGCqlWrpoYNGyo1NVVr165V\\\n",
       "VFSU9uzZo1GjRqlv377q2bOnJOnOO+/Um2++qZMnTyo0NFQrVqzQG2+8ocmTJ6tJkya3PHuNGjUU\\\n",
       "GBjo8Hj33Xd17733qlu3bpJkZPayckuSv7+/pk6dqqCgINWqVUspKSl666239Le//U2NGjUyMnd5\\\n",
       "snt7eystLc1+E4tlWVq+fLlmzJihoUOH6u677zY2u3TpqGD48OGKj4+330ZeombNmpoyZYrq1Kkj\\\n",
       "Hx8fTZ8+XRkZGXr77bd1++23V9nco0aN0scff6wPP/xQ9evXt7+/SZeK3c3NTcXFxZo5c6YaNWqk\\\n",
       "4uJijR07VsePH9ebb74pb29v3XHHHfr666+1ZMkSRUdH6/Dhw3r++efVunVr+6304eHh+te//qUd\\\n",
       "O3YoIiJCmzdv1quvvqoRI0Y43PxRYWw2m2Xi45NPPrGioqIsb29vKzw83Jo6daqVl5dn2Ww2a9u2\\\n",
       "bZYkp485c+bY5zh27Jg1ePBgy9/f3/L19bXi4+OtnTt3OjzPjh07rPj4eMvX19fy9/e3Bg8ebB0/\\\n",
       "ftxhzH/+8x8rOjra8vLyssLCwqwZM2ZUWHZnj9DQUGvSpEkO20zMXp7cc+bMscLDwy0fHx+radOm\\\n",
       "1ty5c43PXZ7se/futZ544gkrJCTE8vHxsSIiIqxJkyY5jDE1e0pKiiXJ+vLLL53uf/31163Q0FDL\\\n",
       "y8vLatGihbV8+fIq8Tu/Vu6rvb+NHj3aPiYvL88aPXq0FRwcbHl7e1sdOnSwMjIyHOb56aefrISE\\\n",
       "BKtmzZpWzZo1rYSEBCsnJ8dhTHp6utW+fXvL29vbCg4OtsaMGXPN95tb+TDye2AAABh5DQwAAAoM\\\n",
       "AGAkCgwAYCQKDABgJAoMAGCk/wfgDNSi4nOVYgAAAABJRU5ErkJggg==\\\n",
       "\"\n",
       "  frames[3] = \"data:image/png;base64,iVBORw0KGgoAAAANSUhEUgAAAbAAAAEgCAYAAADVKCZpAAAABHNCSVQICAgIfAhkiAAAAAlwSFlz\\\n",
       "AAALEgAACxIB0t1+/AAAADl0RVh0U29mdHdhcmUAbWF0cGxvdGxpYiB2ZXJzaW9uIDIuMi4zLCBo\\\n",
       "dHRwOi8vbWF0cGxvdGxpYi5vcmcvIxREBQAAHgxJREFUeJzt3XtUVXXi/vEHuWMaily8oIyIMKJI\\\n",
       "moLmJaMVqZlZhrPSxlwKlnYdLTUtQ53UMe2itrpIUzpqzWijMDpYlhqCoZV4TUMbzLxHHBJvAe7f\\\n",
       "H/444xEUnK8En8P7tdZZrfb+uM/n2ZvOc/YFc7HZbJYAADBMvZqeAAAA/wsKDABgJAoMAGAkCgwA\\\n",
       "YCQKDABgJAoMAGAkCgwAYCQKDABgJAoMAGAkCgwAYCQKDABgJAoMAGAkCgwAYCQKDKhFZs6cKV9f\\\n",
       "X2VkZNT0VIBajwIDUCvMnj1bvr6+8vX11fr162t6OjAABQagxm3fvl1z5szRTTfdVNNTgUEoMAA1\\\n",
       "6uzZs0pKStKtt96q/v371/R0YBAKDDfcoUOH5Ovrq/79+ys/P19PPfWUwsPDFRAQoNjYWC1evPj/\\\n",
       "tP2MjAwNGTJEkZGRCggIUJs2bXT77bdr8uTJsqz//g/Gjx07plmzZumuu+5S27Zt5e/vr4iICI0c\\\n",
       "OVLffvvtNed98uRJjR07VmFhYWrWrJnuuusuZWZmSpKKior0/PPPq3379goICFBMTIxWrVpVbntL\\\n",
       "ly6Vr6+vZs6cqa1bt2rgwIEKDg5WcHCwBg8erJycnOvK/f333+uJJ56wv29oaKiGDh1a4XYKCws1\\\n",
       "e/ZsdevWTcHBwWrevLmioqI0bNiwWnd/7YUXXtCRI0f05ptvql49PpJQdW41PQE4r8LCQsXHx8vD\\\n",
       "w0P33nuvLly4oNWrV+vJJ59UvXr1NGzYsOve5ieffKIhQ4aoQYMG6tu3r5o3by6bzaaDBw/q7bff\\\n",
       "VnJystzcLv1YZ2Vl6fXXX1fPnj117733ysfHRwcPHtTq1av173//W+np6YqKirrqvBs1aqQHH3xQ\\\n",
       "R48e1erVq/XAAw/ok08+0dNPP62zZ8+qX79+On36tFauXKkRI0aoefPm6tKlS7ntff3113r11VfV\\\n",
       "p08fJSYm6uDBg0pLS1NmZqZWrVqlmJiYSnNv2rRJQ4cO1fnz5xUfH6/Q0FAdO3ZMaWlpWr9+vZYt\\\n",
       "W6a4uDhJkmVZGjx4sLZt26bOnTtr2LBh8vDw0LFjx5SVlaVNmzapZ8+e173vq8Onn36qlJQUzZkz\\\n",
       "R61bt67p6cAwFBiqze7du/XII49o7ty5cnV1lSSNGTNGt912m954443/qcAWL14sy7KUlpamjh07\\\n",
       "Oqz7+eef7eUlSb169dJ3332nBg0aOIzLyclRv379lJycrJUrV1Y479GjR2vWrFlycXGRJM2bN0/T\\\n",
       "pk3TPffcoz59+mjRokVyd3eXJN1xxx1KTEzUa6+9pqVLl5bb3vr16zVnzhwlJibal61evVrDhw/X\\\n",
       "448/rq1bt9rfpyKFhYUaMWKE3N3dtX79ekVERNjX7d+/X3FxcRo7dqx27NghT09P7dmzR9u2bVPf\\\n",
       "vn21fPlyh21ZlqWCgoKrvtfldu7cqTVr1lRpbJmHHnpIrVq1qtLYn3/+WY8//rh69+6tUaNGXdf7\\\n",
       "ABIFhmrk4+OjGTNm2MtLkiIiIhQbG6vMzEydPn26XLlUpuwSk4+PT7l1jRs3dvh3f3//CrcRHR2t\\\n",
       "nj17auPGjSouLrYXUZn69evrxRdfdCiVhIQETZs2Tb/88otmzJjh8Gfuv/9+jRkzRrt27arw/Vq3\\\n",
       "bq2RI0c6LBs4cKBiYmKUnZ2t7OxsxcbGXjXzhx9+qJ9//lmzZs1yKC9JCg8P1x//+Ee9+eab2rhx\\\n",
       "o+Lj46+5j1xcXMrtp6vZtWuXZs+eXaWxZXr06FHlAnvqqad07tw5LViw4JoFDlwNBYZqExoaWuFT\\\n",
       "Zc2bN5d06cziegssISFBqampiouL06BBg9SzZ0916dLlqh+a69at03vvvaecnBzl5+erpKTEYX1+\\\n",
       "fr6CgoLKzbt+/foOy8rG+Pr6Kjg42GGdq6ur/P39dfTo0Qrn0K1btwrv7XTv3l3Z2dnauXPnNQss\\\n",
       "OztbkrRnzx7NnDmz3PoDBw5Ikr777jvFx8crPDxc0dHRWrlypX744Qf169dPMTEx6tSpk7y8vK76\\\n",
       "PlcaOnSohg4dWuXx1+Nvf/ub0tLStGDBgnL7E6gqCgzVpmHDhhUuLzsjKy0tve5t3nPPPVq5cqXm\\\n",
       "z5+v5cuX64MPPpAktWvXThMmTNDAgQPtY9966y1NnDhRvr6+6tOnj4KDg+Xl5SUXFxetWbNGu3fv\\\n",
       "1oULF8q9R0WlWnZp8mqF6+rqWq4cywQEBFS4vOwM8ZdffrlG4kuX2iRpyZIl1xx35swZ+1xWrVql\\\n",
       "uXPnatWqVUpOTpZ06Yxs0KBBmjZtmvz8/K65rep09OhRTZo0SXfffff/dBkZKEOBwThxcXGKi4vT\\\n",
       "uXPn9PXXX2v9+vVKSUnRI488orS0NPXo0UMlJSWaOXOmAgMDtWnTpnJnWdu2bfvN5nvy5MkKl586\\\n",
       "dUrS1Yu+TNn6jRs3Kjo6ukrv6evrq+nTp2v69OnKy8tTVlaWlixZoqVLl+rw4cNKTU2tdBvVdQ/s\\\n",
       "4MGDOn36tNLT0+Xr61vhmMGDB0uSXn75ZY0ZM+a65oC6gwKDsby9vdWjRw/16NFDISEhevrpp7V2\\\n",
       "7Vr16NFD+fn5KiwsVK9evcqVV1FRkXbs2PGbzfPLL7/UxYsXy11GzMrKkqQKn4S8XJcuXZSamqot\\\n",
       "W7ZUucAuFxISopCQECUkJCg6OlpffPGFCgsLdfPNN1/zz1XXPbCgoCA9/PDDFa7LysrSwYMHFRcX\\\n",
       "p2bNmqldu3bX9f6oWygwGGXjxo3q2rVruQcUTpw4IUn2ezz+/v7y8fHR9u3bVVRUZL8XV1xcrIkT\\\n",
       "Jyo/P/83m/PBgweVkpJS7inE7OxshYWFVfoY/bBhwzR37lzNmTNHnTt3VteuXR3WW5alL7/8Up07\\\n",
       "d5aHh4fy8vJ09uzZch/+RUVFOnPmjNzc3Bye1rya6roHFhYWpvnz51e47rHHHtPBgwf12GOP6c47\\\n",
       "77zh7w3nQoHBKFOmTNEPP/yg2267TS1btpSXl5f27Nmjzz77TI0bN9bw4cMlXXpacfTo0Xr11VfV\\\n",
       "vXt39evXT8XFxcrIyFBBQYF69uz5m/1C75133qkpU6Zo/fr1ioyMtP8emLe3t+bPn1/pE3iNGjXS\\\n",
       "4sWLNWzYMN11113q1auXIiIi5O7uriNHjuirr77Sjz/+qLy8PHl4eGj37t0aNmyYoqKi1K5dOzVt\\\n",
       "2lQ2m03r1q1TQUGBxo4dW+4hFcBEFBiMMm7cOK1Zs0bbt2+3F1CzZs302GOPacyYMWrRooV97OTJ\\\n",
       "k+Xn56clS5bo/fffV8OGDXX77bdrypQpFT7NV106d+6s5557TjNmzNA777wjSerTp49eeOGFKl8S\\\n",
       "7NWrlzIzM7VgwQJ99tln2rp1q9zc3BQYGKguXbpo6tSp9ntlt9xyi8aNG6fNmzdrw4YNKigoUOPG\\\n",
       "jdW2bVu9/PLLuu+++6otK/BbcrHZbFblwwBcr6VLl2rs2LGaMGGCJk2aVNPTAZwOf/EYAMBIFBgA\\\n",
       "wEjcA0ONOnTokJYtW1alsdfz9+wBcH7cA0ONysjI0IABA6o0Ni0trdb8LeoAah4FBgAwEvfAAABG\\\n",
       "osAAAEaiwP6/3Nzcmp5Cjamr2etqbqnuZq+ruSXnzE6BAQCMRIEBAIxEgQEAjESBAQCMRIEBAIxE\\\n",
       "gQEAjESBAQCMRIEBAIxEgQEAjESBAQCMRIEBAIxEgQEAjESBAQCMRIEBAIxEgQEAjESBAQCMRIEB\\\n",
       "AIxEgQEAjESBAQCMRIEBAIxEgQEAjESBAQCMRIEBAIxEgQEAjESBAQCMRIEBAIxEgQEAjESBAQCM\\\n",
       "5GKz2ayansSVcnNza3oKAIAbICwsrNq2XSsLrCbk5uZW646uzepq9rqaW6q72etqbsk5s3MJEQBg\\\n",
       "JAoMAGAkCgwAYCQKDABgJAoMAGAkCgwAYCQKDABgJAoMAGAkCgwAYCQKDABgJAoMAGAkCgwAYCQK\\\n",
       "DABgJAoMAGAkCgwAYCQKDABgJAoMAGAkCgwAYCQKDABgJAoMAGAkCgwAYCQKDABgJAoMAGAkCgwA\\\n",
       "YCQKDABgJAoMAGAkCgwAYCQKDABgJAoMAGAkCgwAYCQKDABgJAoMAGAkCgwAYCQKDABgJAoMAGAk\\\n",
       "CgwAYCQKDABgJAoMAGAkCgwAYCQKDABgJAoMAGAkF5vNZtX0JK6Um5tb01MAANwAYWFh1bbtWllg\\\n",
       "NSE3N7dad3RtVlez19XcUt3NXldzS86ZnUuIAAAjUWAAACNRYAAAI1FgAAAjUWAAACNRYAAAI1Fg\\\n",
       "AAAjUWAAACNRYAAAI1FgAAAjUWAAACNRYAAAI1FgAAAjUWAAACNRYAAAI1FgAAAjUWAAACNRYAAA\\\n",
       "I1FgAAAjUWAAACNRYAAAI1FgAAAjUWAAACNRYAAAI1FgAAAjUWAAACNRYAAAI1FgAAAjUWAAACNR\\\n",
       "YAAAI1FgAAAjUWAAACNRYAAAI1FgAAAjUWCosvzzpde13GSVZXX2feHs+eAcKDBUSfaJC1q074z2\\\n",
       "FhQ7LN9bUKxF+84o+8SFGprZjVdZ1vf2FTn1vqhLxxpmc6vpCaD2yz5xQZ8fvfShlZp3TpLUrpG7\\\n",
       "9hYUKzXvnCzJvj4m0LOmpnlDVJb18JlSfXH0gn7XwNUp90VdOtYwHwWGa8o/X6qNx/77jdvSpQ+2\\\n",
       "bwuKlVtYIuuysRuPXVCbm93k5+X6m8/zRqgs65mSizp0ukSSlFdUqsZe9ZxqX9SlYw3nwCVEXJOf\\\n",
       "l6sGtPKWy2XLLEnfXfGB5iJpQCtvoz/QKsvq41ZPbW92k4uL1PZmN3m71XOqfVGXjjWcA2dgqFS7\\\n",
       "Ru6SZL+EdCUXSfeGeNvHmayyrAHerurT3Et7fi52yn1Rl441zOdis9kq+jmtUbm5uTU9BVTgk1Ou\\\n",
       "yjtb/qQ9xOei7vJ3rqfTKsvq7PvC2fPhtxMWFlZt266VZ2DVGfhqcnNza+R9a4OqZN9bUKzTRefU\\\n",
       "2Lv8utOSipuY9638arkry7rPw12nvYuN3hfXOubOeKzL8N+5c2XnHhgqdfkTaBUpu9l/5WPXJqos\\\n",
       "68lzpXp7b5FOnqv4LMT0fVGXjjXMR4HhmvLPlyrt0LlyN/Hb3uxW7mZ/2qFzRv+ia2VZz5ZcvPRA\\\n",
       "g3XpwYZzJRedal/UpWMN50CB4Zr8vFx1e9P//r5P2U38B1r76N4QxyfWbm/qafSTaZVlre9WT60a\\\n",
       "XLrqHnKTq3zc6jnVvqhLxxrOoVbeA0PtUvYLqxuPXdCAVv+9/1H2z7RD53R7U0+n+MXWqmTt3MRd\\\n",
       "p85fdMp9UZeONcxHgaFKYgI9K/zF1XaN3BXoXc+pvo1XJWv++VKn3Rd16VjDbFxCRJVd7YPLGT/Q\\\n",
       "Ksvq7PvC2fPBOVBgAAAjUWAAACNRYAAAI1FgAAAjUWAAACNRYAAAI1FgAAAjUWAAACNRYAAAI1Fg\\\n",
       "AAAjUWAAACNRYAAAI1FgAAAjUWAAACNRYAAAI1FgAAAjUWAAACNRYAAAI1FgAAAjUWAAACNRYAAA\\\n",
       "I1FgAAAjUWAAACNRYAAAI1FgAAAjUWAAACNRYAAAI1FgAAAjUWAAACNRYAAAI1FgAAAjUWAAACNR\\\n",
       "YAAAI1FgAAAjUWAAACO52Gw2q6YncaXc3NyangIA4AYICwurtm3XygKrCbm5udW6o2uzupq9ruaW\\\n",
       "6m72uppbcs7sXEIEABiJAgMAGIkCAwAYiQIDABiJAgMAGIkCAwAYiQIDABiJAgMAGIkCAwAYiQID\\\n",
       "ABiJAgMAGIkCAwAYiQIDABiJAgMAGIkCAwAYiQIDABiJAgMAGIkCAwAYiQIDABiJAgMAGIkCAwAY\\\n",
       "iQIDABiJAgMAGIkCAwAYiQIDABiJAgMAGIkCAwAYiQIDABiJAgMAGIkCAwAYiQIDABiJAgMAGIkC\\\n",
       "AwAYiQIDABiJAgMAGIkCAwAYiQIDABiJAgMAGIkCAwAYiQIDABjJxWazWTU9iSvl5ubW9BQAADdA\\\n",
       "WFhYtW27VhZYTcjNza3WHV2b1dXsdTW3VHez19XcknNm5xIiAMBIFBgAwEgUGADASBQYAMBIFBgA\\\n",
       "wEgUGADASBQYAMBIFBgAwEgUGADASBQYAMBIFBgAwEgUGADASBQYAMBIFBgAwEgUGADASBQYAMBI\\\n",
       "FBgAwEgUGADASBQYAMBIFBgAwEgUGADASBQYAMBIFBgAwEgUGADASBQYAMBIFBgAwEgUGADASBQY\\\n",
       "AMBIFBgAwEguNpvNqulJAABwvTgDAwAYiQIDABiJAgMAGIkCAwAYydgCO378uB599FGFhoYqMDBQ\\\n",
       "MTEx2rx5sySpuLhYU6dOVffu3dWsWTOFh4dr1KhROnz4sMM2Lly4oGeffVatW7dWs2bN9Ic//EFH\\\n",
       "jhxxGHP48GENGTJEzZo1U+vWrfXcc8/p119/dRizefNm9e7dW4GBgerYsaPee++9Gst+paeeekq+\\\n",
       "vr6aP3++w3ITs1cl94EDBzRs2DC1bNlSTZs2Va9evbR//36jc0uVZy8qKtKzzz6rdu3aKSgoSLfe\\\n",
       "eqsWLlzosA0Ts3fo0EG+vr7lXgkJCfYxixYtUlRUlAIDA9W7d29lZWU5fe558+apT58+Cg4OVmho\\\n",
       "qIYMGaK9e/c6bMOyLM2cOVMREREKCgpS//799e233zqMsdlsSkpKUsuWLdWyZUslJSXJZrM5jNmz\\\n",
       "Z4/69eunoKAg/f73v9fs2bNlWbXj2T8jC8xmsyk+Pl6WZenvf/+7srOz9Ze//EX+/v6SpLNnz2rH\\\n",
       "jh0aP368Nm3apGXLlunIkSMaPHiwSkpK7NuZNGmS0tLSlJKSorVr1+r06dMaMmSISktLJUmlpaUa\\\n",
       "MmSIioqKtHbtWqWkpCg1NVWTJ0+2byMvL08JCQnq2rWrvvjiC/3pT3/Sc889p9WrV9dI9sutXr1a\\\n",
       "33zzjZo2bVpunWnZq5I7Ly9P8fHxatWqlVJTU7VlyxZNmTJF9evXNzZ3VbNPnjxZn3zyid566y1l\\\n",
       "Z2dr3LhxSk5O1ocffmh09g0bNmj//v3216ZNm+Ti4qL77rtPkvTxxx9r4sSJGjdunL744gt17dpV\\\n",
       "Dz74oMOXVWfMvXnzZo0cOVLr1q1Tamqq3NzcdN9996mgoMC+jddff10LFy7U7Nmz9fnnn8vf31+D\\\n",
       "Bg3S6dOn7WNGjRqlnTt36h//+IdWrFihnTt3avTo0fb1v/zyiwYNGqSAgAB9/vnnmjVrlubPn68F\\\n",
       "CxZUS+7rZeRj9NOmTVNmZqbWrVtX5T+zb98+xcbGKjMzU5GRkSosLFSbNm20cOFC+7eaH3/8UR06\\\n",
       "dNCKFSsUFxenTz/9VAkJCdq1a5datGghSfroo4/05JNPKjc3Vw0bNtTUqVOVlpamb775xv5eTzzx\\\n",
       "hPbt26dPP/30xgZX1bP/8MMPio+P16pVqzR48GAlJSXpiSeekCQjs1cl96hRo+Ti4qJ33323wvUm\\\n",
       "5paqlr1bt24aMGCAnn/+efuyfv36KTIyUnPmzDE2+5VeeeUVvfHGG9q3b598fHwUFxenyMhIvfHG\\\n",
       "G/YxnTp10sCBAzV16lSnzX2loqIitWzZUkuXLlXfvn1lWZYiIiKUmJio8ePHS5LOnTunsLAwTZ8+\\\n",
       "XSNGjND+/fsVExOj9PR0xcbGSpK2bNmivn37atu2bQoLC1NKSopeeuklfffdd/L29pYkzZkzR++9\\\n",
       "95727t0rFxeXas9+LUaega1Zs0adO3fWiBEj1KZNG/Xo0UPvvPPONU9ry751+Pr6SpJycnJUXFys\\\n",
       "O+64wz6mRYsWCg8PV3Z2tiRp69atCg8Pt/9QS1JcXJwuXLignJwc+5jLt1E2Zvv27SouLr4xgS9T\\\n",
       "lewlJSUaNWqUxo8fr/Dw8HLbMDF7ZbkvXryo9PR0hYeH64EHHlBoaKj69Omjjz/+2OjcVckuSbGx\\\n",
       "sUpPT9ePP/4oScrOztbu3bsVFxdndPbLWZalJUuWaMiQIfLx8dGvv/6qnJyccvO544477JmcMXdF\\\n",
       "ioqKdPHiRfvn26FDh3TixAmHOXt7e6t79+4OuW+66SbFxMTYx8TGxqp+/foOY7p162YvL+lS7mPH\\\n",
       "junQoUM3POv1MrLA8vLylJKSopCQEK1cuVKPPvqokpOTr/rN+9dff9WUKVN09913q3nz5pKkkydP\\\n",
       "ytXVVX5+fg5j/f39dfLkSfuYKy/N+fn5ydXV9Zpj/P39VVJSovz8/BuS93JVyT5z5kw1atRII0eO\\\n",
       "rHAbJmavLPepU6dUVFRkvzfwz3/+Uw888IASExOVnp5ubO6qZJek2bNnq0OHDmrfvr2aNGmi/v37\\\n",
       "66WXXtLdd99tdPbLbdiwQYcOHdLDDz8sScrPz1dpaWmF87l8vs6WuyITJ05Uhw4d1LVrV0nSiRMn\\\n",
       "7HO83JW5/fz8HM6iXFxc1KRJk0pzl62raW41PYH/xcWLF3XLLbdo6tSpkqSOHTvq+++/16JFi5SU\\\n",
       "lOQwtqSkRElJSSosLNTy5csr3bZlWeUOaEWuNabsm3F1nF5Xln3z5s1atmyZMjIyrnvbtTl7Zbkv\\\n",
       "Xrwo6dJls8cff1ySFBUVpZycHC1atMj+QV6R2pxbqtrP+9tvv63s7GwtX75cwcHBysrK0gsvvKCW\\\n",
       "LVvqzjvvvOq2a3v2y33wwQfq1KmToqKirjq3svlUNhdnyF3m+eef15dffqn09HS5uro6rKts31Q0\\\n",
       "98rG/Fa5q8LIM7DAwMByl8batm1rv3xSpqSkRCNHjtSePXu0evVqNW7c2L4uICBApaWl5b49/fTT\\\n",
       "T/ZvGAEBAeW+ZVz5ra+iMT/99JPc3Nwc3u9GqSx7RkaGjh8/rvDwcPn5+cnPz0+HDx/W1KlT1a5d\\\n",
       "O/ucTcteWW4/Pz+5ubldc4yJuaXKs587d07Tpk1TcnKy+vbtq/bt2yspKUn333+//elTU7OXOXXq\\\n",
       "lNauXavhw4fbl115lnT5fC6fr7PlvtykSZO0cuVKpaamKiQkxL48MDBQUvmzpCtz//TTTw6Xoi3L\\\n",
       "Un5+fqW5pfJndzXByAKLjY3VgQMHHJYdOHBAwcHB9n8vLi7WiBEjtGfPHqWlpdkPaJno6Gi5u7tr\\\n",
       "w4YN9mVHjhyx39iUpK5du2r//v0Oj9xu2LBBnp6eio6Oto/ZuHGjw7Y3bNigW265Re7u7jck7+Uq\\\n",
       "yz5q1ChlZmYqIyPD/mratKnGjBljf2LKxOyV5fbw8FCnTp2Um5t71TEm5pYqz15cXKzi4uJy375d\\\n",
       "XV3tZ6amZi+zbNkyeXp66v7777cv8/DwUHR0tEOmsvmUZXLG3GUmTJigFStWKDU1VW3btnVY16pV\\\n",
       "KwUGBjrkPn/+vLZs2eKQu6ioSFu3brWP2bp1q86cOeMwZsuWLTp//rx9zIYNG9S0aVO1atXqhmb9\\\n",
       "X7hOnDjxpZqexPVq0aKFZs+erXr16ikoKEibNm3SjBkz9Mwzz6hz584qKSnR8OHD9c0332jx4sVq\\\n",
       "0KCBzpw5ozNnzsjV1VXu7u7y8vLS8ePH9e6776p9+/YqLCzUM888o4YNGyo5OVn16tVTSEiI0tLS\\\n",
       "9PnnnysyMlL79u3T+PHj9eCDD2rAgAGSpN/97nd67bXXdOrUKQUHB2vt2rWaO3euZsyYoYiIiN88\\\n",
       "e/369eXv7+/wevvtt9W7d2/17dtXkozMXlluSWrUqJFmzZqlgIAANWzYUKmpqXr99df15z//WW3a\\\n",
       "tDEyd1Wye3p6KiMjw/4Qi2VZWrNmjebNm6fRo0fr1ltvNTa7dOmsYOzYsYqPj7c/Rl6mQYMGmjlz\\\n",
       "poKCguTl5aU5c+YoKytLCxYs0M033+y0ucePH68PP/xQ77//vlq0aGH/fJMuFbuLi4tKS0v16quv\\\n",
       "qk2bNiotLdXkyZN14sQJvfbaa/L09FSTJk301VdfacWKFYqKitKRI0f0zDPPqFOnTvZH6UNDQ/XX\\\n",
       "v/5Vu3btUlhYmLZs2aIXX3xRTz/9tMPDHzXGZrNZJr4++ugjKzIy0vL09LRCQ0OtWbNmWQUFBZbN\\\n",
       "ZrN27NhhSarwtXDhQvs2jh8/biUmJlqNGjWyvL29rfj4eGv37t0O77Nr1y4rPj7e8vb2tho1amQl\\\n",
       "JiZaJ06ccBjzr3/9y4qKirI8PDysli1bWvPmzaux7BW9goODrenTpzssMzF7VXIvXLjQCg0Ntby8\\\n",
       "vKx27dpZixYtMj53VbLv37/feuihh6ymTZtaXl5eVlhYmDV9+nSHMaZmT01NtSRZn332WYXrX3nl\\\n",
       "FSs4ONjy8PCwOnbsaK1Zs8Ypjvm1cl/t823ChAn2MQUFBdaECROswMBAy9PT0+revbuVlZXlsJ3/\\\n",
       "/Oc/VkJCgtWgQQOrQYMGVkJCgpWXl+cwJjMz0+rWrZvl6elpBQYGWhMnTrzm581v+TLy98AAADDy\\\n",
       "HhgAABQYAMBIFBgAwEgUGADASBQYAMBI/w9za9zn6b552wAAAABJRU5ErkJggg==\\\n",
       "\"\n",
       "  frames[4] = \"data:image/png;base64,iVBORw0KGgoAAAANSUhEUgAAAbAAAAEgCAYAAADVKCZpAAAABHNCSVQICAgIfAhkiAAAAAlwSFlz\\\n",
       "AAALEgAACxIB0t1+/AAAADl0RVh0U29mdHdhcmUAbWF0cGxvdGxpYiB2ZXJzaW9uIDIuMi4zLCBo\\\n",
       "dHRwOi8vbWF0cGxvdGxpYi5vcmcvIxREBQAAIABJREFUeJzt3Xt8z3Xj//HnbGxzHLMNGbuamRwX\\\n",
       "stEQ67LIMZpucV1ycypS+VKELjlcjUhKrl8HOhA6UGxxQ84za1TmGKaaJMfZxuSwzfv3h2uffGx2\\\n",
       "uszHa3vcb7f94f1+eb1fz89Hn+fnfdgtp9TUVEsAABimjKMXAABAUVBgAAAjUWAAACNRYAAAI1Fg\\\n",
       "AAAjUWAAACNRYAAAI1FgAAAjUWAAACNRYAAAI1FgAAAjUWAAACNRYAAAI1FgwF0kMjJSHh4eiomJ\\\n",
       "cfRSgLseBQbAIS5fvqz58+crLCxM9erVU61atdSyZUuNHDlShw4dcvTyYAAXRy8AQOmTmZmpHj16\\\n",
       "KD4+Xv7+/urVq5fc3d21b98+ffrpp/riiy/05Zdfql27do5eKu5iFBiAO+6bb75RfHy8QkNDtXLl\\\n",
       "Sjk7O9v2ffTRRxo1apRmzpxJgSFPXELEbXf06FF5eHjo0UcfVXJysp5//nkFBgbK29tbISEhWrhw\\\n",
       "4f80f0xMjPr27atGjRrJ29tb9erV00MPPaQJEybIsv76H4yfOHFC06dPV6dOnVS/fn15eXmpQYMG\\\n",
       "GjRokH766ac813369GmNGDFCAQEBqlWrljp16qTY2FhJUnp6usaPH6/GjRvL29tbwcHBWrFiRY75\\\n",
       "Fi9eLA8PD0VGRmrHjh3q0aOHfH195evrqz59+ighIaFQuX/55ReNHDnSdlx/f3/169cv13nS0tI0\\\n",
       "Y8YMtW7dWr6+vrrnnnvUtGlT9e/f/664v5aUlCRJ6tSpk115SVLXrl0lScnJyXd6WTAMBYZik5aW\\\n",
       "pvDwcO3cuVPdu3fXE088oRMnTui5557Tp59+WqQ5161bp+7duysuLk6hoaF69tln1b17d1WpUkXv\\\n",
       "vfeesrKybGO3b9+ut956Sx4eHurevbueeeYZtWjRQitXrlRYWJj27NmT57p/+uknPf744+rUqZN2\\\n",
       "7typ3r17a8+ePerevbs2btyoLl26qHfv3vr11181cOBA7dy5M9f5fvjhB3Xt2lVubm4aMmSIOnbs\\\n",
       "qI0bN6pz586Kj48vUO4tW7aoXbt2Wrp0qZo1a6ann35aHTt21IYNGxQeHq4NGzbYxlqWpT59+igy\\\n",
       "MlLly5dX//79NXjwYIWEhCghIUFbtmwpxCtePBo0aCDp+vt543smXT87k6SHHnroTi8LhuESIorN\\\n",
       "vn379NRTT+mNN96wfcsePny4HnzwQb399tvq379/oedcuHChLMtSdHS0mjVrZrfv3LlzcnH56590\\\n",
       "u3btdPjwYVWqVMluXEJCgrp06aLJkydr+fLlua572LBhmj59upycnCRJs2fP1pQpU9S1a1d16NBB\\\n",
       "8+fPV9myZSVJHTt21JAhQzRnzhwtXrw4x3zr16/XzJkzNWTIENu2lStXasCAAXr22We1Y8cO23Fy\\\n",
       "k5aWpoEDB6ps2bJav3697cNfkg4dOqSwsDCNGDFCu3fvlqurq/bv36+dO3eqc+fOWrp0qd1clmUp\\\n",
       "JSXllse60Z49e7Rq1aoCjc325JNPqm7duvmOCw8PV7du3RQdHa3g4GB16NBB5cuX1969e7V161ZF\\\n",
       "RERowoQJhTo2Sh8KDMWmfPnymjZtmt0logYNGigkJESxsbG6cOFCjnLJT5kyZWxz36xatWp2f/by\\\n",
       "8sp1jqCgILVt21abN29WRkaGrYiyVahQQf/617/sSiUiIkJTpkzR+fPnNW3aNLu/89hjj2n48OHa\\\n",
       "u3dvrse79957NWjQILttPXr0UHBwsOLj4xUfH6+QkJBbZv7ss8907tw5TZ8+3a68JCkwMFD//Oc/\\\n",
       "9Z///EebN29WeHh4nq+Rk5NTjtfpVvbu3asZM2YUaGy20NDQAhWYk5OTFi5cqFmzZmn69Ok6cuSI\\\n",
       "bV/Lli3Vv39/VahQoVDHRulDgaHY+Pv7q2LFijm233PPPZKun1kUtsAiIiIUFRWlsLAw9erVS23b\\\n",
       "ttUDDzxwyw/NtWvX6sMPP1RCQoKSk5OVmZlptz85OVk1atTIse6bPzyzx3h4eMjX19dun7Ozs7y8\\\n",
       "vPTHH3/kuobWrVvbSuVGbdq0UXx8vPbs2ZNngWVfZty/f78iIyNz7M/+8D98+LDCw8MVGBiooKAg\\\n",
       "LV++XL/99pu6dOmi4OBgNW/eXG5ubrc8zs369eunfv36FXh8YVy+fFnPPPOM1q1bp+nTp6tbt26q\\\n",
       "WLGiEhISNH78ePXs2VPvv/+++vTpUyzHR8lAgaHYVK5cOdft2WdkN9/7KIiuXbtq+fLlmjt3rpYu\\\n",
       "XapPPvlEktSwYUONHTtWPXr0sI199913NW7cOHl4eKhDhw7y9fWVm5ubnJyctGrVKu3bt09XrlzJ\\\n",
       "cYzcSjX70uStCtfZ2TlHOWbz9vbOdXv2GeL58+fzSHz90qgkLVq0KM9xFy9etK1lxYoVeuONN7Ri\\\n",
       "xQpNnjxZ0vUzsl69emnKlCny9PTMc67iNnv2bH399dd67bXX7C6thoaG6osvvlBQUJDGjx+v3r17\\\n",
       "53l5FaUbBQbjhIWFKSwsTJcuXdIPP/yg9evXa8GCBXrqqacUHR2t0NBQZWZmKjIyUj4+PtqyZUuO\\\n",
       "s6xbPXBRHE6fPp3r9jNnzki6ddFny96/efNmBQUFFeiYHh4emjp1qqZOnaqkpCRt375dixYt0uLF\\\n",
       "i3Xs2DFFRUXlO0dx3gNbu3atJKl9+/Y59tWoUUP169fXnj179Mcff9jO2IGbUWAwlru7u0JDQxUa\\\n",
       "Gio/Pz+98MILWr16tUJDQ5WcnKy0tDS1a9cuR3mlp6dr9+7dd2yd3333na5du5bjMuL27dslSU2b\\\n",
       "Ns3z7z/wwAOKiopSXFxcgQvsRn5+fvLz81NERISCgoK0detWpaWlqUqVKnn+veK8B5aRkSFJOnv2\\\n",
       "bK77sx+hd3V1LdTxUbrwGD2MsnnzZv355585tp86dUqSbPd4vLy8VL58ee3atUvp6em2cRkZGRo3\\\n",
       "btwd/R2jn3/+WQsWLLDbtnLlSsXHxysgIEDBwcF5/v3+/fvLw8NDM2fO1I4dO3LstyxLcXFxunr1\\\n",
       "qqTrv2N14MCBHOPS09N18eJFubi42D2teSv9+vVTampqoX7atm2b77zS9fuCkjRr1ixdvnzZbt8H\\\n",
       "H3yg48ePq2HDhqpevXqB5kPpxBkYjDJx4kT99ttvevDBB1WnTh25ublp//792rBhg6pVq6YBAwZI\\\n",
       "uv604rBhw/Tmm2+qTZs26tKlizIyMhQTE6OUlBS1bdv2jv1C78MPP6yJEydq/fr1atSokX7++WdF\\\n",
       "R0fL3d1dc+fOzfceT9WqVbVw4UL1799fnTp1Urt27dSgQQOVLVtWx48f1/fff6/ff/9dSUlJKleu\\\n",
       "nPbt26f+/furadOmatiwoWrWrKnU1FStXbtWKSkpGjFihMOf8Bs9erTWrFmjmJgYtWzZUn//+99V\\\n",
       "oUIF7dq1S7GxsXJ1ddXrr7/u0DXi7keBwSijR4/WqlWrtGvXLlsB1apVS88884yGDx+u2rVr28ZO\\\n",
       "mDBBnp6eWrRokT7++GNVrlxZDz30kCZOnJjr03zFpUWLFnrppZc0bdo0vf/++5KkDh066JVXXinw\\\n",
       "JcF27dopNjZW77zzjjZs2KAdO3bIxcVFPj4+euCBBzRp0iTbvbL7779fo0eP1rZt27Rp0yalpKSo\\\n",
       "WrVqql+/vl577TX17Nmz2LIWVK1atbRlyxbNmTNH69at09KlS5WVlSUfHx/17dtXL7zwgu677z5H\\\n",
       "LxN3OafU1FQr/2EACmvx4sUaMWKExo4dq5dfftnRywFKHO6BAQCMRIEBAIzEPTA41NGjR7VkyZIC\\\n",
       "jS3o7xgBKB24BwaHiomJUbdu3Qo0Njo6usCPaQMo+SgwAICRuAcGADASBQYAMBIF9l+JiYmOXoLD\\\n",
       "lNbspTW3VHqzl9bcUsnMToEBAIxEgQEAjESBAQCMRIEBAIxEgQEAjESBAQCMRIEBAIxEgQEAjESB\\\n",
       "AQCMRIEBAIxEgQEAjESBAQCMRIEBAIxEgQEAjESBAQCMRIEBAIxEgQEAjESBAQCMRIEBAIxEgQEA\\\n",
       "jESBAQCMRIEBAIxEgQEAjESBAQCMRIEBAIxEgQEAjESBAQCMRIEBAIzklJqaajl6ETdLTEx09BIA\\\n",
       "ALdBQEBAsc19VxaYIyQmJhbrC303K63ZS2tuqfRmL625pZKZnUuIAAAjUWAAACNRYAAAI1FgAAAj\\\n",
       "UWAAACNRYAAAI1FgAAAjUWAAACNRYAAAI1FgAAAjUWAAACNRYAAAI1FgAAAjUWAAACNRYAAAI1Fg\\\n",
       "AAAjUWAAACNRYAAAI1FgAAAjUWAAACNRYAAAI1FgAAAjUWAAACNRYAAAI1FgAAAjUWAAACNRYAAA\\\n",
       "I1FgAAAjUWAAACNRYAAAI1FgAAAjUWAAACNRYAAAI1FgAAAjUWAAACNRYAAAI1FgAAAjUWAAACNR\\\n",
       "YAAAI1FgAAAjUWAAACM5paamWo5exM0SExMdvQQAwG0QEBBQbHPflQXmCImJicX6Qt/NSmv20ppb\\\n",
       "Kr3ZS2tuqWRm5xIiAMBIFBgAwEgUGADASBQYAMBIFBgAwEgUGADASBQYAMBIFBgAwEgUGADASBQY\\\n",
       "AMBIFBgAwEgUGADASBQYAMBIFBgAwEgUGADASBQYAMBIFBgAwEgUGADASBQYAMBIFBgAwEgUGADA\\\n",
       "SBQYAMBIFBgAwEgUGADASBQYAMBIFBgAwEgUGADASBQYAMBIFBgAwEgUGADASBQYAMBIFBgAwEgU\\\n",
       "GADASBQYAMBIFFgJlXw5q1DbHTXn7Ti2I7I68rUoisKu17R8KJ0osBIo/tQVzT94UQdSMuy2H0jJ\\\n",
       "0PyDFxV/6spdMeftOPar35/Xq9+fv6NZPzyY7rDXoigK+9458r0GCsN53Lhxrzp6EXeDc+fOydPT\\\n",
       "09HL+J/Fn7qijX9ckSXpcGqmqrmVkZe7sw6kZCgq6ZIsSb9eyFK5MlLtii6S8s9elDnvRJ7/tz9d\\\n",
       "v5zPVMqVazpyPlN+lVwKta7ccueX9djFLMWdvKoykk78ee2OvhZFcas8O46laGuqa471OvK9vhNK\\\n",
       "yn/nRVESs5v3LxC3lHw5S5tP/PXt2JIUlXRJP6VkKDEtU9YNYzefuKJ6VVzk6eZ8x+e8HXn2JGfo\\\n",
       "1wuZtn1JFzL12ZGLauZZrtiyXsy8pqP/PWZSepaquZW5Y69FUeSVJz7ZWVWr/TV284krquZWxmHv\\\n",
       "NVAUXEIsQTzdnNWtrrucbthmSTp804ePk6Rudd0L9OFTHHMWVF7HdnNxUv0qLraD16/iIneXMsWa\\\n",
       "tbxLGdWv4iKnG453p16Losgzj/XX1uz1BlQp67D3GigKzsBKmIZVy0qS7XLPzZwkdfdzt41z1Jy3\\\n",
       "49he7s5ycnKSLEvV3XN+mBZHVm93Z3W4x037z2Xc8deiKAr73jnyvQYKyyk1NTW3f6cOlZiY6Ogl\\\n",
       "GG/dGWcl/ZnzBNuv/DV18irak2TFMeftOLakO57Vka9FURR2vablw90rICCg2Oa+K8/AijPwrSQm\\\n",
       "JjrkuMXhQEqGLqRfUjX3nPsuSMqobv8NuiDZCzvn7ZTXsX+5fO36GZhnzjOw/NZ1q9z5ZT1Yrqwu\\\n",
       "uGc45LUoitzynEs+p2qe1XJdryPf6+JWkv47L6ySmP2uLDAU3Y1Pi+Um+8a8pAJ/CBXHnAWV17HP\\\n",
       "XMrSodRMyUkK1PVLiv/ruvLLevpSlrYduKL6VVxyHK+oxyxOhX3vHPleA4XFQxwlSPLlLEUfvZTj\\\n",
       "hnv9Ki45bsxHH71UoF9KLY45CyqvY1/OtHQ4LdN28MNpmbqUea1Ys/6Zee2/D0D8dbw79VoURZ55\\\n",
       "nP7amr3exLQMh73XQFFQYCWIp5uzHqrpavtz9g333veWV3c/+6fLHqrpWuAn8273nAWV17H71iuv\\\n",
       "v1X66wKCXyUXPVGvQrFmreBSRnX/e0y/is4q71Lmjr0WRZFXng6eWTnWG1ClrMPea6Ao+EXm/yop\\\n",
       "v+RXu6KLypWRjqZn2T0t5uXurGpuZZSYlqkOtVwV7PPXB1V+2Ysy553I41fJRT+fz1RV1zIa3qhi\\\n",
       "odeVW+78sp66lKWWXuXk4ux0x1+LorhVHl1IVkAtrxzrdeR7fSeUlP/Oi6IkZuceWAkU7OOa6y+Z\\\n",
       "NqxaVj7uZYr0zbk45rwdx361ZWVJuuNZky9nOeS1KIrCvneOfK+BwqDASqhbfcj8Lx8+xTFncR67\\\n",
       "OLM68rUoisKu17R8KJ24BwYAMBIFBgAwEgUGADASBQYAMBIFBgAwEgUGADASBQYAMBIFBgAwEgUG\\\n",
       "ADASBQYAMBIFBgAwEgUGADASBQYAMBIFBgAwEgUGADASBQYAMBIFBgAwEgUGADASBQYAMBIFBgAw\\\n",
       "EgUGADASBQYAMBIFBgAwEgUGADASBQYAMBIFBgAwEgUGADASBQYAMBIFBgAwEgUGADASBQYAMBIF\\\n",
       "BgAwEgUGADASBQYAMBIFBgAwklNqaqrl6EXcLDEx0dFLAADcBgEBAcU2911ZYI6QmJhYrC/03ay0\\\n",
       "Zi+tuaXSm7205pZKZnYuIQIAjESBAQCMRIEBAIxEgQEAjESBAQCMRIEBAIxEgQEAjESBAQCMRIEB\\\n",
       "AIxEgQEAjESBAQCMRIEBAIxEgQEAjESBAQCMRIEBAIxEgQEAjESBAQCMRIEBAIxEgQEAjESBAQCM\\\n",
       "RIEBAIxEgQEAjESBAQCMRIEBAIxEgQEAjESBAQCMRIEBAIxEgQEAjESBAQCMRIEBAIxEgQEAjESB\\\n",
       "AQCMRIEBAIxEgQEAjESBAQCMRIEBAIxEgQEAjESBAQCMRIEBAIxEgQEAjOSUmppqOXoRN0tMTHT0\\\n",
       "EgAAt0FAQECxzX1XFpgjJCYmFusLfTcrrdlLa26p9GYvrbmlkpmdS4gAACNRYAAAI1FgAAAjUWAA\\\n",
       "ACNRYAAAI1FgAAAjUWAAACNRYAAAI1FgAAAjUWAAACNRYAAAI1FgAAAjUWAAACNRYAAAI1FgAAAj\\\n",
       "UWAAACNRYAAAI1FgAAAjUWAAACNRYAAAI1FgAAAjUWAAACNRYAAAI1FgAAAjUWAAACNRYAAAI1Fg\\\n",
       "AAAjUWAAACNRYAAAIzmlpqZajl4EAACFxRkYAMBIFBgAwEgUGADASBQYAMBIxhbYyZMn9fTTT8vf\\\n",
       "318+Pj4KDg7Wtm3bJEkZGRmaNGmS2rRpo1q1aikwMFCDBw/WsWPH7Oa4cuWKXnzxRd17772qVauW\\\n",
       "nnjiCR0/ftxuzLFjx9S3b1/VqlVL9957r1566SVdvXrVbsy2bdvUvn17+fj4qFmzZvrwww8dlv1m\\\n",
       "zz//vDw8PDR37ly77SZmL0juI0eOqH///qpTp45q1qypdu3a6dChQ0bnlvLPnp6erhdffFENGzZU\\\n",
       "jRo11LJlS82bN89uDhOzN2nSRB4eHjl+IiIibGPmz5+vpk2bysfHR+3bt9f27dtLfO7Zs2erQ4cO\\\n",
       "8vX1lb+/v/r27asDBw7YzWFZliIjI9WgQQPVqFFDjz76qH766Se7MampqRo6dKjq1KmjOnXqaOjQ\\\n",
       "oUpNTbUbs3//fnXp0kU1atTQfffdpxkzZsiy7o5n/4wssNTUVIWHh8uyLH3xxReKj4/X66+/Li8v\\\n",
       "L0nSn3/+qd27d2vMmDHasmWLlixZouPHj6tPnz7KzMy0zfPyyy8rOjpaCxYs0OrVq3XhwgX17dtX\\\n",
       "WVlZkqSsrCz17dtX6enpWr16tRYsWKCoqChNmDDBNkdSUpIiIiLUqlUrbd26Vf/3f/+nl156SStX\\\n",
       "rnRI9hutXLlSP/74o2rWrJljn2nZC5I7KSlJ4eHhqlu3rqKiohQXF6eJEyeqQoUKxuYuaPYJEyZo\\\n",
       "3bp1evfddxUfH6/Ro0dr8uTJ+uyzz4zOvmnTJh06dMj2s2XLFjk5Oalnz56SpK+++krjxo3T6NGj\\\n",
       "tXXrVrVq1UqPP/643ZfVkph727ZtGjRokNauXauoqCi5uLioZ8+eSklJsc3x1ltvad68eZoxY4Y2\\\n",
       "btwoLy8v9erVSxcuXLCNGTx4sPbs2aMvv/xSy5Yt0549ezRs2DDb/vPnz6tXr17y9vbWxo0bNX36\\\n",
       "dM2dO1fvvPNOseQuLCMfo58yZYpiY2O1du3aAv+dgwcPKiQkRLGxsWrUqJHS0tJUr149zZs3z/at\\\n",
       "5vfff1eTJk20bNkyhYWF6dtvv1VERIT27t2r2rVrS5I+//xzPffcc0pMTFTlypU1adIkRUdH68cf\\\n",
       "f7Qda+TIkTp48KC+/fbb2xtcBc/+22+/KTw8XCtWrFCfPn00dOhQjRw5UpKMzF6Q3IMHD5aTk5M+\\\n",
       "+OCDXPebmFsqWPbWrVurW7duGj9+vG1bly5d1KhRI82cOdPY7DebNWuW3n77bR08eFDly5dXWFiY\\\n",
       "GjVqpLfffts2pnnz5urRo4cmTZpUYnPfLD09XXXq1NHixYvVuXNnWZalBg0aaMiQIRozZowk6dKl\\\n",
       "SwoICNDUqVM1cOBAHTp0SMHBwVqzZo1CQkIkSXFxcercubN27typgIAALViwQK+++qoOHz4sd3d3\\\n",
       "SdLMmTP14Ycf6sCBA3Jycir27Hkx8gxs1apVatGihQYOHKh69eopNDRU77//fp6ntdnfOjw8PCRJ\\\n",
       "CQkJysjIUMeOHW1jateurcDAQMXHx0uSduzYocDAQNs/akkKCwvTlStXlJCQYBtz4xzZY3bt2qWM\\\n",
       "jIzbE/gGBcmemZmpwYMHa8yYMQoMDMwxh4nZ88t97do1rVmzRoGBgerdu7f8/f3VoUMHffXVV0bn\\\n",
       "Lkh2SQoJCdGaNWv0+++/S5Li4+O1b98+hYWFGZ39RpZladGiRerbt6/Kly+vq1evKiEhIcd6Onbs\\\n",
       "aMtUEnPnJj09XdeuXbN9vh09elSnTp2yW7O7u7vatGljl7tixYoKDg62jQkJCVGFChXsxrRu3dpW\\\n",
       "XtL13CdOnNDRo0dve9bCMrLAkpKStGDBAvn5+Wn58uV6+umnNXny5Ft+87569aomTpyoRx55RPfc\\\n",
       "c48k6fTp03J2dpanp6fdWC8vL50+fdo25uZLc56ennJ2ds5zjJeXlzIzM5WcnHxb8t6oINkjIyNV\\\n",
       "tWpVDRo0KNc5TMyeX+4zZ84oPT3ddm/g66+/Vu/evTVkyBCtWbPG2NwFyS5JM2bMUJMmTdS4cWNV\\\n",
       "r15djz76qF599VU98sgjRme/0aZNm3T06FH94x//kCQlJycrKysr1/XcuN6Sljs348aNU5MmTdSq\\\n",
       "VStJ0qlTp2xrvNHNuT09Pe3OopycnFS9evV8c2fvczQXRy+gKK5du6b7779fkyZNkiQ1a9ZMv/zy\\\n",
       "i+bPn6+hQ4fajc3MzNTQoUOVlpampUuX5ju3ZVk53tDc5DUm+5txcZxe55d927ZtWrJkiWJiYgo9\\\n",
       "992cPb/c165dk3T9stmzzz4rSWratKkSEhI0f/582wd5bu7m3FLB/r2/9957io+P19KlS+Xr66vt\\\n",
       "27frlVdeUZ06dfTwww/fcu67PfuNPvnkEzVv3lxNmza95dqy15PfWkpC7mzjx4/Xd999pzVr1sjZ\\\n",
       "2dluX36vTW5rz2/MncpdEEaegfn4+OS4NFa/fn3b5ZNsmZmZGjRokPbv36+VK1eqWrVqtn3e3t7K\\\n",
       "ysrK8e3p7Nmztm8Y3t7eOb5l3PytL7cxZ8+elYuLi93xbpf8ssfExOjkyZMKDAyUp6enPD09dezY\\\n",
       "MU2aNEkNGza0rdm07Pnl9vT0lIuLS55jTMwt5Z/90qVLmjJliiZPnqzOnTurcePGGjp0qB577DHb\\\n",
       "06emZs925swZrV69WgMGDLBtu/ks6cb13Ljekpb7Ri+//LKWL1+uqKgo+fn52bb7+PhIynmWdHPu\\\n",
       "s2fP2l2KtixLycnJ+eaWcp7dOYKRBRYSEqIjR47YbTty5Ih8fX1tf87IyNDAgQO1f/9+RUdH297Q\\\n",
       "bEFBQSpbtqw2bdpk23b8+HHbjU1JatWqlQ4dOmT3yO2mTZvk6uqqoKAg25jNmzfbzb1p0ybdf//9\\\n",
       "Klu27G3Je6P8sg8ePFixsbGKiYmx/dSsWVPDhw+3PTFlYvb8cpcrV07NmzdXYmLiLceYmFvKP3tG\\\n",
       "RoYyMjJyfPt2dna2nZmamj3bkiVL5Orqqscee8y2rVy5cgoKCrLLlL2e7EwlMXe2sWPHatmyZYqK\\\n",
       "ilL9+vXt9tWtW1c+Pj52uS9fvqy4uDi73Onp6dqxY4dtzI4dO3Tx4kW7MXFxcbp8+bJtzKZNm1Sz\\\n",
       "Zk3VrVv3tmYtCudx48a96uhFFFbt2rU1Y8YMlSlTRjVq1NCWLVs0bdo0jRo1Si1atFBmZqYGDBig\\\n",
       "H3/8UQsXLlSlSpV08eJFXbx4Uc7Ozipbtqzc3Nx08uRJffDBB2rcuLHS0tI0atQoVa5cWZMnT1aZ\\\n",
       "MmXk5+en6Ohobdy4UY0aNdLBgwc1ZswYPf744+rWrZsk6W9/+5vmzJmjM2fOyNfXV6tXr9Ybb7yh\\\n",
       "adOmqUGDBnc8e4UKFeTl5WX3895776l9+/bq3LmzJBmZPb/cklS1alVNnz5d3t7eqly5sqKiovTW\\\n",
       "W2/p3//+t+rVq2dk7oJkd3V1VUxMjO0hFsuytGrVKs2ePVvDhg1Ty5Ytjc0uXT8rGDFihMLDw22P\\\n",
       "kWerVKmSIiMjVaNGDbm5uWnmzJnavn273nnnHVWpUqXE5h4zZow+++wzffzxx6pdu7bt8026XuxO\\\n",
       "Tk7KysrSm2++qXr16ikrK0sTJkzQqVOnNGfOHLm6uqp69er6/vvvtWzZMjVt2lTHjx/XqFGj1Lx5\\\n",
       "c9uj9P7+/vroo4+0d+9eBQQEKC4uTv/617/0wgsv2D384TCpqamWiT+ff/651ahRI8vV1dXy9/e3\\\n",
       "pk+fbqWkpFipqanW7t27LUm5/sybN882x8mTJ60hQ4ZYVatWtdzd3a3w8HBr3759dsfZu3evFR4e\\\n",
       "brm7u1tVq1a1hgwZYp06dcpuzDfffGM1bdrUKleunFWnTh1r9uzZDsue24+vr681depUu20mZi9I\\\n",
       "7nnz5ln+/v6Wm5ub1bBhQ2v+/PnG5y5I9kOHDllPPvmkVbNmTcvNzc0KCAiwpk6dajfG1OxRUVGW\\\n",
       "JGvDhg257p81a5bl6+trlSviF7PoAAAAiUlEQVRXzmrWrJm1atWqEvGe55X7Vp9vY8eOtY1JSUmx\\\n",
       "xo4da/n4+Fiurq5WmzZtrO3bt9vN8+uvv1oRERFWpUqVrEqVKlkRERFWUlKS3ZjY2FirdevWlqur\\\n",
       "q+Xj42ONGzcuz8+bO/lj5O+BAQBg5D0wAAAoMACAkSgwAICRKDAAgJEoMACAkf4/JiQPeQ7VwAUA\\\n",
       "AAAASUVORK5CYII=\\\n",
       "\"\n",
       "  frames[5] = \"data:image/png;base64,iVBORw0KGgoAAAANSUhEUgAAAbAAAAEgCAYAAADVKCZpAAAABHNCSVQICAgIfAhkiAAAAAlwSFlz\\\n",
       "AAALEgAACxIB0t1+/AAAADl0RVh0U29mdHdhcmUAbWF0cGxvdGxpYiB2ZXJzaW9uIDIuMi4zLCBo\\\n",
       "dHRwOi8vbWF0cGxvdGxpYi5vcmcvIxREBQAAIABJREFUeJzt3XtcVHX+P/DXMFwGFOUiV0EpriuK\\\n",
       "txQ0b0QbaZlZBvtNWvPnrdVupqaprXlp0bW8ZO52Ubf0odamrUCamomGQGiZN0wdLcwr4MigXJ3L\\\n",
       "+f0BMzLDwICK8Blez8eDR48953PO5/2eM5zXnDMHV6ZWqyUQEREJxq65CyAiIroTDDAiIhISA4yI\\\n",
       "iITEACMiIiExwIiISEgMMCIiEhIDjIiIhMQAIyIiITHAiIhISAwwIiISEgOMiIiExAAjIiIhMcCI\\\n",
       "iEhIDDCi+yw5ORlubm7IyMho7lKIhMYAI6ImodFo8O9//xuTJ0/GgAED4OXlBTc3N6xbt87qtpWV\\\n",
       "lVi1ahViY2MRGBgIf39/9O7dGy+99BKuXbt2H6onEdg3dwFEZJtKS0vx1ltvAQC8vb3h4+ODixcv\\\n",
       "Wt0uPz8fI0eOxMmTJ9GzZ08kJSXBwcEBly5dQnp6OgoKCtChQ4emLp8EwAAjoibh4uKCr776Ct26\\\n",
       "dYOvry+Sk5OxZMmSerfR6/V48cUXcfLkSaxatQovvPCCyXpJkqDX65uybBIIbyHSHTl//jzc3Nzw\\\n",
       "xBNPQKVS4bXXXkN4eDi8vb0RExOD9evX39X+MzIykJiYiMjISHh7eyMkJARDhgzBnDlzIEm3/0/E\\\n",
       "r1y5gsWLF+Oxxx5DWFgYvLy8EBERgXHjxuHXX3+tt+6CggJMmTIFoaGh8Pf3x2OPPYbMzEwAQElJ\\\n",
       "CWbPno2uXbvC29sb0dHR2LZtW639bdy4EW5ubkhOTsbBgwcxYsQIBAYGIjAwEKNGjcKRI0ca1fdv\\\n",
       "v/2GV155xThvcHAwRo8ebXE/xcXFWLJkCfr164fAwEB07NgRUVFRSEpKahHfrzk6OuLPf/4zfH19\\\n",
       "G7zNN998g+zsbCQmJtYKLwCQyWSQy+X3skwSGK/A6K4UFxcjPj4ejo6OeOqpp1BZWYmUlBS8+uqr\\\n",
       "sLOzQ1JSUqP3uXv3biQmJsLV1RVDhw5Fx44doVarce7cOXz88ceYP38+7O2r3rpZWVlYuXIlBg4c\\\n",
       "iKeeegouLi44d+4cUlJS8O2332Lnzp2Iioqqs253d3c899xzuHz5MlJSUvDss89i9+7deP3111FW\\\n",
       "VoZhw4bh5s2b2Lp1K8aOHYuOHTuiT58+tfb3888/Y/ny5YiNjcWECRNw7tw5pKWlITMzE9u2bUN0\\\n",
       "dLTVvvfv34/Ro0ejoqIC8fHxCA4OxpUrV5CWloY9e/Zg06ZNiIuLA1B1JTJq1CgcOnQIvXv3RlJS\\\n",
       "EhwdHXHlyhVkZWVh//79GDhwYKNf++a2ZcsWAEBSUhKuXr2K3bt3o7CwEL6+voiNjYW/v38zV0gt\\\n",
       "CQOM7sqJEyfw4osv4v333zd+Mp48eTIefvhhfPDBB3cUYOvXr4ckSUhLS0P37t1N1l2/ft0YXgAw\\\n",
       "aNAgnDlzBq6uribjjhw5gmHDhmH+/PnYunWrxbonTZqExYsXQyaTAQCWLVuGBQsW4Mknn0RsbCzW\\\n",
       "rFkDBwcHAMAjjzyCCRMmYMWKFdi4cWOt/e3ZswdLly7FhAkTjMtSUlIwZswYvPzyyzh48KBxHkuK\\\n",
       "i4sxduxYODg4YM+ePYiIiDCuO336NOLi4jBlyhQcPXoUTk5OyM3NxaFDhzB06FBs3rzZZF+SJKGo\\\n",
       "qKjOuWo6duwYtm/f3qCxBs8//zw6d+7cqG0a6vDhwwCA3NxcJCQkoLy83LjO0dERM2bMwIwZM5pk\\\n",
       "bhIPA4zuiouLCxYtWmRyWyciIgIxMTHIzMzEzZs3a4WLNXZ2dsZ9m/Pw8DD5315eXhb30aNHDwwc\\\n",
       "OBD79u2DRqMxBpFBmzZt8Pe//90kVBISErBgwQLcuHEDixYtMtnmmWeeweTJk3H8+HGL8z344IMY\\\n",
       "N26cybIRI0YgOjoaOTk5yMnJQUxMTJ09f/HFF7h+/ToWL15sEl4AEB4ejr/+9a/417/+hX379iE+\\\n",
       "Pr7e10gmk9V6nepy/Phxq99LmRswYECTBZjhCcPZs2fjhRdewNSpU+Hu7o79+/dj2rRpePfdd+Hn\\\n",
       "53dHH4zI9jDA6K4EBwejbdu2tZZ37NgRQNWVRWMDLCEhAampqYiLi8PIkSMxcOBA9OnTp86T5q5d\\\n",
       "u7Bu3TocOXIEKpUKWq3WZL1Kpar1PUxwcDDatGljsswwxs3NDYGBgSbr5HI5vLy8cPnyZYs19OvX\\\n",
       "zxgqNfXv3x85OTk4duxYvQGWk5MDoOrKIzk5udb6s2fPAgDOnDmD+Ph4hIeHo0ePHti6dSv++OMP\\\n",
       "DBs2DNHR0ejVqxcUCkWd85gbPXo0Ro8e3eDxTc3wgEZ0dDRWrlxpXP7UU0/BwcEB//d//4cVK1Yw\\\n",
       "wAgAA4zuUrt27SwuN1yR6XS6Ru/zySefxNatW7Fq1Sps3rwZn3/+OQCgS5cumDlzJkaMGGEc+9FH\\\n",
       "H2HWrFlwc3Mz/s2QQqGATCbD9u3bceLECVRWVtaaw1KoGm5N1hW4crm8VjgaeHt7W1xuuEK8ceNG\\\n",
       "PR1X3RoFgA0bNtQ7rrS01FjLtm3b8P7772Pbtm2YP38+gKorspEjR2LBggXw9PSsd18tUfv27VFY\\\n",
       "WIhhw4bVWmf4rvXs2bMoLi5G+/btm6FCakkYYNQixcXFIS4uDuXl5fj555+xZ88erF27Fi+++CLS\\\n",
       "0tIwYMAAaLVaJCcnw8fHB/v37691lXXo0KH7Vm9BQYHF5YWFhQDqDnoDw/p9+/ahR48eDZrTzc0N\\\n",
       "CxcuxMKFC5GXl4esrCxs2LABGzduxIULF5Cammp1Hy3tO7CQkBAUFhZaDCc7Ozu4urpCpVKhoqKC\\\n",
       "AUYMMGrZnJ2dMWDAAAwYMABBQUF4/fXXsWPHDgwYMAAqlQrFxcUYNGhQrfAqKSnB0aNH71udP/74\\\n",
       "I/R6fa3biFlZWQBg8UnImvr06YPU1FRkZ2c3OMBqCgoKQlBQEBISEtCjRw/88MMPDbpKaWnfgQ0Z\\\n",
       "MgTZ2dk4depUrXUFBQVQqVRo27atkFeXdO/x78Coxdm3bx/KyspqLc/PzwcA43c8Xl5ecHFxwS+/\\\n",
       "/IKSkhLjOI1Gg1mzZkGlUt2fggGcO3cOa9euNVmWkpKCnJwchIaGWn2MPikpCW5ubli6dCkOHjxY\\\n",
       "a70kScjOzsatW7cAAHl5eTh58mStcSUlJSgtLYW9vb3J05p1GT16NNRqdaN+mvLx/KSkJLi4uGDD\\\n",
       "hg3G7/2AqlvRb7/9NoCqh2Ma0hvZPr4LqMWZO3cu/vjjDzz88MPo1KkTFAoFcnNz8f3338PDwwNj\\\n",
       "xowBUHVLadKkSVi+fDn69++PYcOGQaPRICMjA0VFRRg4cOB9+4PeRx99FHPnzsWePXsQGRlp/Dsw\\\n",
       "Z2dnrFq1qt5H6AHA3d0d69evR1JSEh577DEMGjQIERERxn9C6aeffsLFixeRl5cHR0dHnDhxAklJ\\\n",
       "SYiKikKXLl3g5+cHtVqNXbt2oaioCFOmTKn1kEpzWL58Oc6cOQMAxic4N2/ebLy9GxYWhqlTpxrH\\\n",
       "d+zYEe+99x6mTJmCIUOG4Mknn4SHhwcOHDiAY8eOISQkBAsWLLj/jVCLxACjFmfatGnYvn07fvnl\\\n",
       "F2MA+fv7429/+xsmT56MgIAA49g5c+bA09MTGzZswGeffYZ27dphyJAhmDt3rsWn+ZpK79698eab\\\n",
       "b2LRokX45JNPAACxsbF4++23G3xLcNCgQcjMzMSHH36I77//HgcPHoS9vT18fHzQp08fzJs3z/hd\\\n",
       "Wc+ePTFt2jQcOHAA6enpKCoqgoeHB8LCwvCPf/wDTz/9dJP12hh79uwx/usmBocOHTIG2MMPP2wS\\\n",
       "YEDVd2yBgYFYsWIFvv32W5SVlSEgIACvvvoq3njjDbi5ud23+qllk6nVasn6MCKyZOPGjZgyZQpm\\\n",
       "zpxp/Idriej+4HdgREQkJAYYEREJid+BUZM7f/48Nm3a1KCxTfk3RkRkW/gdGDW5jIwMDB8+vEFj\\\n",
       "09LShPxX1Ino/mOAERGRkPgdGBERCYkBRkREQmKAVVMqlc1dQrNprb231r6B1tt7a+0bsM3eGWBE\\\n",
       "RCQkBhgREQmJAUZEREJigBERkZAYYEREJCQGGBERCYkBRkREQmKAERGRkBhgREQkJAYYEREJiQFG\\\n",
       "RERCYoAREZGQGGBERCQkBhgREQmJAUZEREJigBERkZAYYEREJCQGGBERCYkBRkREQmKAERGRkBhg\\\n",
       "REQkJAYYEREJiQFGRERCYoAREZGQGGBERCQkBhgREQmJAUZEREJigBERkZBkarVaau4izCmVyuYu\\\n",
       "gYiI7oHQ0NAm23eLDLDmoFQqm/SFbslaa++ttW+g9fbeWvsGbLN33kIkIiIhMcCIiEhIDDAiIhIS\\\n",
       "A4yIiITEACMiIiExwIiISEgMMCIiEhIDjIiIhMQAIyIiITHAiIhISAwwIiISEgOMiIiExAAjIiIh\\\n",
       "McCIiEhIDDAiIhISA4yIiITEACMiIiExwIiISEgMMCIiEhIDjIiIhMQAIyIiITHAiIhISAwwIiIS\\\n",
       "EgOMiIiExAAjIiIhMcCIiEhIDDAiIhISA4yIiITEACMiIiExwIiISEgMMCIiEhIDjIiIhMQAIyIi\\\n",
       "ITHAiIhISAwwIiISEgOMiIiExAAjIiIhMcCIiEhIDDAiIhISA4yIiITEACMiIiHJ1Gq11NxFmFMq\\\n",
       "lc1dAhER3QOhoaFNtu8WGWDNQalUNukL3ZK11t5ba99A6+29tfYN2GbvvIVIRERCYoAREZGQGGBE\\\n",
       "RCQkBhgREQmJAUZEREJigBERkZAYYEREJCQGGBERCYkBRkREQmKAERGRkBhgREQkJAYYEREJiQFG\\\n",
       "RERCYoAREZGQGGBERCQkBhgREQmJAUZEREJigBERkZAYYEREJCQGGBERCYkBRkREQmKAERGRkBhg\\\n",
       "REQkJAYYEREJiQFGRERCYoAREZGQGGBERCQkBhgREQmJAUZEREJigBERkZAYYEREJCQGGBERCYkB\\\n",
       "RkREQmKAERGRkBhgNkpVoTP5r7XllsaYUxZrGrW8vjnqW29peX1jG7OfhrK2z6aYs7F1NGadtfdD\\\n",
       "Y+a1Na2pV1sjnzVr1jvNXURLcP36dXh6ejZ3GfdETn4lvs4rx6USHfZeroSHkx28nOU4WaTBF+fK\\\n",
       "cKlEi72XK+EgAwLa2pv0btjWsI3Bl2dLsfToTchlMnT1cKixvKx6OdDVw9G43DCXYY66ajSfx9J2\\\n",
       "9Y197+hN7LtciSBXe6v7MVfXMbdW2xm1Bgeu3mpQ7XfjTvs2X2fYT1GlHrsuVsBBBjhXFiPfrp3F\\\n",
       "ehtzbERjfsxtuVdztnSOM2CAVbOVg5uTX4m9lytxoVSH/ZcroZDLcLFUh6Jbehy4UomC8qpQswOg\\\n",
       "qpTgaFd1MvP09DRuKwE4o9bCQ1H1S/3l2VKsV5ZBkoCjKg3sq0Psy7NlWH+mFBKAo9c1sK8OsZNF\\\n",
       "GqTmlUMC8PtNHRztap8gLc1jabtLpbo6x/47twS/3dCiqFKPsze0xhO2tfkNLB1za7VdKNUh++ot\\\n",
       "2AG4Uqavt/a7OfHVV0d9ff8rtwS/V687d0OLm7f0OKzSoKBch90XK6CQy1BQoUdeUQVyyxxr1duY\\\n",
       "YyPiid38w5ot92rOVs5xNTHAqtnCwVVV6PB1XjlKtXqcUmurl+lRqpVw4GolbmokXCzVARJQrJHg\\\n",
       "pbDD5TI9/GSlULi64evqX1qDM2otzt7Q4Itz5ai54th1Da5X6vD17+Um8x+7rsEtvYSfCzUm+zlf\\\n",
       "osOf3OzhYm9nrNF8nvxyHbLzb5ksP6XWQnlDA3s7Wa2xey9V4qT69q3L4lt6qCp0uF6pr7WfmvPX\\\n",
       "ZH7MrdVW83Ut1kjooLDDbzd0Fmuva86GqK+O+vr+/lIFfq2uDwAKK3T4RaVBmfb2cTe8H35SaeHr\\\n",
       "6gSH6tf2fIkOPs52+PZCRYOOzd3015wMx7wx70NRezVnC+c4c2IfETLhqZBjeGdntLG3Q1h7e6D6\\\n",
       "vK+q0EOSgOsVemMQhbWv+oUc3tkZbg63t5XV2J+EqquMsPY1Pn3Kqra9qYHJHIZ9XinTm/zyywAM\\\n",
       "7+wMT4XcpEbzec4Ua2ttlxDsgsTgNhbHKuxlt+uqrsnZ3s7ifmrO35DXr67aXKpfV1mN+eqqvaFz\\\n",
       "NraO+vp2Njvuke4OiHR3MDnuAKCq1CNIIRlPyIZ6Q9s7NPjY3E1/LUFj3oei92rLxL8uJhNd3Ku+\\\n",
       "n0rNq7o6Ol2sNTl5AUC4mz28neV4KsgZXdwdoLxWe9uamxi+GzhTrEVY+9vfudS13EAGGOeoq0az\\\n",
       "0urcztJYL2c5ZDIZIEno4Fz7BFPX/PWxVpu3sxyxHRXIva5pcO13or466uvby1ledVKWydBBcfvz\\\n",
       "6WnDlZkMCG9vD3mZ5Xrv5NiIqjX1aqtaZIAplcpWNe+95gDAtVwOVZkdnDQyqDW3P2e6OUiQl0lw\\\n",
       "hR4O13TG8DL0btg2r8z04lwOoKMMkJcB18usLweAIBfTOSzVaD6Ppe3qG/ugix4AkKeyvh9LLB1z\\\n",
       "a7VF3NLhjwbWfjfutO8HXaquuAzr5ACctFXvA8PxB4DrqusW623MsRFRzWNu672aa45zXGhoaJPt\\\n",
       "u0UGWFM2XBelUtks8zaFk0Ua3Cwphw46VGq0cK5xlCsB6FzscdNZDk2H6iuwGr0btvVwNt1nYbkO\\\n",
       "l4q1aONieqVV13IAuAkY56irRvN5LG1X39jfKvRVVyKeta/A6psfqPuYW6vtlKMDbjprGlT73bjT\\\n",
       "vn8r11VdgXlWnZQLy3WovFX1PqiUVR1/eVkxPDw9LNbbmGMjGvNjbsu9mrOlc5xBiwwwunOGJ6gK\\\n",
       "ynUWbx8Ct28nGW4zOphta75JYbnOuM3p4qr/ejnLq5ZXz2FYXzPEpBpzmJ8g67ptY76doU5LY411\\\n",
       "yYBws7nrm78+1morKNfhwMlKi7dM73TOxtZRX981j0m4W9Wv9+kaD3ZAqjqGvhLgYaHexhwb0U/s\\\n",
       "ralXW8WHOGyIqkKHtPNVTyGeqRFengo7yGSAh8LO+AX/mWItyrR6pJ0vh1pze1vzL7D9XKoeEDCS\\\n",
       "qrZ1dYDJHIZ9+rnY1fpiPO18uckf0lqaJ6y9fa3t/nuuDF+eK7U4tkIr3a6ruqZyrd7ifmrO35DX\\\n",
       "r67ayqpfV6nGfHXV3tA5G1tHfX2Xmx333CINcos0JscdADyd7JBXIUOZVm9Sr7JY0+Bjczf9tQSN\\\n",
       "eR+K3qst42P01WzhEVMXezs4yICLpXrYyWRQV+oR7maPIFd7DO1UdY/EWS6DqlKPB9rK4aGQI9bf\\\n",
       "Ce7aYgT4dICDrOrvXoDbX2D/OcAZclnV33kZ/DWsDf5fRFvIZTIcVVUvlwF/DXVBUlhbeCjscKbG\\\n",
       "p/5YfyeEujmY1Gg+z2B/Ra3tHgtQILS9g8WxPi5ynC2u+nsnAHignT3GRrS1uJ+a89dkfsyt1fb7\\\n",
       "DR1k1a/rA65yeCrkddZe15wNUV8d9fXt4yKHslgLdfW6kPYOGBHkDHs7GZzlMlyvfj90drVHV8dS\\\n",
       "yBRtTOqN8nRs8LG5m/6ak+GYN+Z9KGqv5mzhHGeOAVbNVg5uQFt7ONoBRbf0GOyngFaq+sUc4OsE\\\n",
       "D4UdLpXpMNjPCZJMhlh/J0T7OBl7N2x7vkRn8vRVVw9H2MuA49c1eCGsDRJDXKqXO8BeJqtaHuqC\\\n",
       "xJCqE6KXsxweCjsoi7XGOSzVaD6Ppe3qGxvkao9zN7Rwd7LD5Mi29e7HEkvH3Fpt+eU6POTlCHu5\\\n",
       "zGrt9+I4Nrbvmuv+FtkWsR0VcLQDrlXqMbSTM8p1UlVYOagR6u9Vq97GHBsR1Tzmtt6rOVs5x9Uk\\\n",
       "U6vVdd0CblVs7QtOVYUOngq58b/1LTfv3XwbA2WxBqHta38SrWt5Xfuxtt7S8vrGAmjwfkzqrueY\\\n",
       "W6utMbXfjTvt23yded2G3hvbx73u736zdMxttVdztnaOA/gQh82q+YfDDVluaYw5SyFV33Jrv/x1\\\n",
       "rbe0vDFjGzp/fazNdyf1NEUdDV1n7f1wL+YVVWvq1dbwIQ4iIhISA4yIiITEACMiIiExwIiISEgM\\\n",
       "MCIiEhIDjIiIhMQAIyIiITHAiIhISAwwIiISEgOMiIiExAAjIiIhMcCIiEhIDDAiIhISA4yIiITE\\\n",
       "ACMiIiExwIiISEgMMCIiEhIDjIiIhMQAIyIiITHAiIhISAwwIiISEgOMiIiExAAjIiIhMcCIiEhI\\\n",
       "DDAiIhISA4yIiITEACMiIiExwIiISEgMMCIiEhIDjIiIhMQAIyIiITHAiIhISAwwIiISEgOMiIiE\\\n",
       "xAAjIiIhydRqtdTcRZhTKpXNXQIREd0DoaGhTbbvFhlgzUGpVDbpC92StdbeW2vfQOvtvbX2Ddhm\\\n",
       "77yFSEREQmKAERGRkBhgREQkJAYYEREJiQFGRERCYoAREZGQGGBERCQkBhgREQmJAUZEREJigBER\\\n",
       "kZAYYEREJCQGGBERCYkBRkREQmKAERGRkBhgREQkJAYYEREJiQFGRERCYoAREZGQGGBERCQkBhgR\\\n",
       "EQmJAUZEREJigBERkZAYYEREJCQGGBERCYkBRkREQmKAERGRkBhgREQkJAYYEREJiQFGRERCYoAR\\\n",
       "EZGQGGBERCQkBhgREQmJAUZEREJigBERkZAYYEREJCQGGBERCYkBRkREQmKAERGRkBhgREQkJAYY\\\n",
       "EREJSaZWq6XmLsKcUqls7hKIiOgeCA0NbbJ9t8gAaw5KpbJJX+iWrLX23lr7Blpv7621b8A2e+ct\\\n",
       "RCIiEhIDjIiIhMQAIyIiITHAiIhISAwwIiISEgOMiIiExAAjIiIhMcCIiEhIDDAiIhISA4yIiITE\\\n",
       "ACMiIiExwIiISEgMMCIiEhIDjIiIhMQAIyIiITHAiIhISAwwIiISEgOMiIiExAAjIiIhMcCIiEhI\\\n",
       "DDAiIhISA4yIiITEACMiIiExwIiISEgMMCIiEhIDjIiIhMQAIyIiITHAiIhISAwwIiISkkytVkvN\\\n",
       "XQQREVFj8QqMiIiExAAjIiIhMcCIiEhIDDAiIhKSsAF29epVvPTSSwgODoaPjw+io6Nx4MABAIBG\\\n",
       "o8G8efPQv39/+Pv7Izw8HOPHj8eFCxdM9lFZWYkZM2bgwQcfhL+/P/7yl7/g0qVLJmMuXLiAxMRE\\\n",
       "+Pv748EHH8Sbb76JW7dumYw5cOAABg8eDB8fH3Tv3h3r1q1rtt7Nvfbaa3Bzc8OqVatMlovYe0P6\\\n",
       "Pnv2LJKSktCpUyf4+flh0KBBOH36tNB9A9Z7LykpwYwZM9ClSxf4+vrioYcewurVq032IWLv3bp1\\\n",
       "g5ubW62fhIQE45g1a9YgKioKPj4+GDx4MLKysmy+72XLliE2NhaBgYEIDg5GYmIiTp48abIPSZKQ\\\n",
       "nJyMiIgI+Pr64oknnsCvv/5qMkatVmPixIno1KkTOnXqhIkTJ0KtVpuMyc3NxbBhw+Dr64s//elP\\\n",
       "WLJkCSSpZTz7J2SAqdVqxMfHQ5Ik/Pe//0VOTg7++c9/wsvLCwBQVlaGo0ePYvr06di/fz82bdqE\\\n",
       "S5cuYdSoUdBqtcb9vPXWW0hLS8PatWuxY8cO3Lx5E4mJidDpdAAAnU6HxMRElJSUYMeOHVi7di1S\\\n",
       "U1MxZ84c4z7y8vKQkJCAvn374ocffsAbb7yBN998EykpKc3Se00pKSk4fPgw/Pz8aq0TrfeG9J2X\\\n",
       "l4f4+Hh07twZqampyM7Oxty5c9GmTRth+25o73PmzMHu3bvx0UcfIScnB9OmTcP8+fPxxRdfCN17\\\n",
       "eno6Tp8+bfzZv38/ZDIZnn76aQDA119/jVmzZmHatGn44Ycf0LdvXzz33HMmH1Ztse8DBw5g3Lhx\\\n",
       "2LVrF1JTU2Fvb4+nn34aRUVFxn2sXLkSq1evxpIlS7B37154eXlh5MiRuHnzpnHM+PHjcezYMXz1\\\n",
       "1VfYsmULjh07hkmTJhnX37hxAyNHjoS3tzf27t2LxYsXY9WqVfjwww+bpO/GEvIx+gULFiAzMxO7\\\n",
       "du1q8DanTp1CTEwMMjMzERkZieLiYoSEhGD16tXGTzUXL15Et27dsGXLFsTFxeG7775DQkICjh8/\\\n",
       "joCAAADAl19+iVdffRVKpRLt2rXDvHnzkJaWhsOHDxvneuWVV3Dq1Cl8991397ZxNLz3P/74A/Hx\\\n",
       "8di2bRtGjRqFiRMn4pVXXgEAIXtvSN/jx4+HTCbDp59+anG9iH0DDeu9X79+GD58OGbPnm1cNmzY\\\n",
       "MERGRmLp0qXC9m7uvffewwcffIBTp07BxcUFcXFxiIyMxAcffGAc06tXL4wYMQLz5s2z2b7NlZSU\\\n",
       "oFOnTti4cSOGDh0KSZIQERGBCRMmYPr06QCA8vJyhIaGYuHChRg7dixOnz6N6Oho7Ny5EzExMQCA\\\n",
       "7OxsDB06FIcOHUJoaCjWrl2Ld955B2fOnIGzszMAYOnSpVi3bh1OnjwJmUzW5L3XR8grsO3bt6N3\\\n",
       "794YO3YsQkJCMGDAAHzyySf1XtYaPnW4ubkBAI4cOQKNRoNHHnnEOCYgIADh4eHIyckBABw8eBDh\\\n",
       "4eHGNzUAxMXFobKyEkeOHDGOqbkPw5hffvkFGo3m3jRcQ0N612q1GD9+PKZPn47w8PBa+xCxd2t9\\\n",
       "6/V67Ny5E+Hh4Xj22WcRHByM2NhYfP3110L33ZDeASAmJgY7d+7ExYsXAQA5OTk4ceIE4uLihO69\\\n",
       "JkmSsGHDBiQmJsLFxQW3bt3CkSNHatXzyCOPGHuyxb4tKSkpgV6vN57fzp8/j/z8fJOanZ2d0b9/\\\n",
       "f5O+27Zti+joaOOYmJgYtGnTxmRMv379jOEFVPV95coVnD9//p732lhCBlheXh7Wrl2LoKAgbN26\\\n",
       "FS+99BLmz59f5yfvW7duYe7cuXj88cfRsWNHAEBBQQHkcjk8PT1Nxnp5eaGgoMA4xvzWnKenJ+Ry\\\n",
       "eb1jvLy8oNVqoVKp7km/NTWk9+TkZLi7u2PcuHEW9yFi79b6LiwsRElJifG7gf/973949tlnMWHC\\\n",
       "BOzcuVPYvhvSOwAsWbIE3bp1Q9euXdGhQwc88cQTeOedd/D4448L3XtN6enpOH/+PF544QUAgEql\\\n",
       "gk6ns1hPzXptrW9LZs2ahW5bi/7VAAAF2klEQVTduqFv374AgPz8fGONNZn37enpaXIVJZPJ0KFD\\\n",
       "B6t9G9Y1N/vmLuBO6PV69OzZE/PmzQMAdO/eHb/99hvWrFmDiRMnmozVarWYOHEiiouLsXnzZqv7\\\n",
       "liSp1gG1pL4xhk/GTXF5ba33AwcOYNOmTcjIyGj0vlty79b61uv1AKpum7388ssAgKioKBw5cgRr\\\n",
       "1qwxnsgtacl9Aw17v3/88cfIycnB5s2bERgYiKysLLz99tvo1KkTHn300Tr33dJ7r+nzzz9Hr169\\\n",
       "EBUVVWdthnqs1WILfRvMnj0bP/74I3bu3Am5XG6yztprY6l2a2PuV98NIeQVmI+PT61bY2FhYcbb\\\n",
       "JwZarRbjxo1Dbm4uUlJS4OHhYVzn7e0NnU5X69PTtWvXjJ8wvL29a33KMP/UZ2nMtWvXYG9vbzLf\\\n",
       "vWKt94yMDFy9ehXh4eHw9PSEp6cnLly4gHnz5qFLly7GmkXr3Vrfnp6esLe3r3eMiH0D1nsvLy/H\\\n",
       "ggULMH/+fAwdOhRdu3bFxIkT8cwzzxifPhW1d4PCwkLs2LEDY8aMMS4zv0qqWU/Nem2t75reeust\\\n",
       "bN26FampqQgKCjIu9/HxAVD7Ksm872vXrpncipYkCSqVymrfQO2ru+YgZIDFxMTg7NmzJsvOnj2L\\\n",
       "wMBA4//WaDQYO3YscnNzkZaWZjygBj169ICDgwPS09ONyy5dumT8YhMA+vbti9OnT5s8cpueng4n\\\n",
       "Jyf06NHDOGbfvn0m+05PT0fPnj3h4OBwT/qtyVrv48ePR2ZmJjIyMow/fn5+mDx5svGJKRF7t9a3\\\n",
       "o6MjevXqBaVSWecYEfsGrPeu0Wig0WhqffqWy+XGK1NRezfYtGkTnJyc8MwzzxiXOTo6okePHiY9\\\n",
       "Geox9GSLfRvMnDkTW7ZsQWpqKsLCwkzWde7cGT4+PiZ9V1RUIDs726TvkpISHDx40Djm4MGDKC0t\\\n",
       "NRmTnZ2NiooK45j09HT4+fmhc+fO97TXOyGfNWvWO81dRGMFBARgyZIlsLOzg6+vL/bv349FixZh\\\n",
       "6tSp6N27N7RaLcaMGYPDhw9j/fr1cHV1RWlpKUpLSyGXy+Hg4ACFQoGrV6/i008/RdeuXVFcXIyp\\\n",
       "U6eiXbt2mD9/Puzs7BAUFIS0tDTs3bsXkZGROHXqFKZPn47nnnsOw4cPBwA88MADWLFiBQoLCxEY\\\n",
       "GIgdO3bg/fffx6JFixAREXHfe2/Tpg28vLxMfj7++GMMHjwYQ4cOBQAhe7fWNwC4u7tj8eLF8Pb2\\\n",
       "Rrt27ZCamoqVK1fi3XffRUhIiJB9N6R3JycnZGRkGB9ikSQJ27dvx7JlyzBp0iQ89NBDwvYOVF0V\\\n",
       "TJkyBfHx8cbHyA1cXV2RnJwMX19fKBQKLF26FFlZWfjwww/Rvn17m+17+vTp+OKLL/DZZ58hICDA\\\n",
       "eH4DqoJdJpNBp9Nh+fLlCAkJgU6nw5w5c5Cfn48VK1bAyckJHTp0wE8//YQtW7YgKioKly5dwtSp\\\n",
       "U9GrVy/jo/TBwcH4z3/+g+PHjyM0NBTZ2dn4+9//jtdff93k4Y9mo1arJRF/vvzySykyMlJycnKS\\\n",
       "goODpcWLF0tFRUWSWq2Wjh49KgGw+LN69WrjPq5evSpNmDBBcnd3l5ydnaX4+HjpxIkTJvMcP35c\\\n",
       "io+Pl5ydnSV3d3dpwoQJUn5+vsmYb775RoqKipIcHR2lTp06ScuWLWu23i39BAYGSgsXLjRZJmLv\\\n",
       "Del79erVUnBwsKRQKKQuXbpIa9asEb7vhvR++vRp6fnnn5f8/PwkhUIhhYaGSgsXLjQZI2rvqamp\\\n",
       "EgDp+++/t7j+vffekwIDAyVHR0epe/fu0vbt223imNfXd13nt5kzZxrHFBUVSTNnzpR8fHwkJycn\\\n",
       "qX///lJWVpbJfn7//XcpISFBcnV1lVxdXaWEhAQpLy/PZExmZqbUr18/ycnJSfLx8ZFmzZpV7/nm\\\n",
       "fv4I+XdgREREQn4HRkRExAAjIiIhMcCIiEhIDDAiIhISA4yIiIT0/wGMi6Lj8OtAEAAAAABJRU5E\\\n",
       "rkJggg==\\\n",
       "\"\n",
       "  frames[6] = \"data:image/png;base64,iVBORw0KGgoAAAANSUhEUgAAAbAAAAEgCAYAAADVKCZpAAAABHNCSVQICAgIfAhkiAAAAAlwSFlz\\\n",
       "AAALEgAACxIB0t1+/AAAADl0RVh0U29mdHdhcmUAbWF0cGxvdGxpYiB2ZXJzaW9uIDIuMi4zLCBo\\\n",
       "dHRwOi8vbWF0cGxvdGxpYi5vcmcvIxREBQAAIABJREFUeJzt3Xl8VPW9//HXmS0bgUAIYQsgIUDZ\\\n",
       "BFxAilqkPymgVVSgLbTWClilVq1UUVAEvAKXuuv91Va8Vn+itmKBXLyoyCKbgarsEgLKvodMyJ5Z\\\n",
       "zu+PYYYMSSDUQPjC+/l45FE95zvf7/dzzpx5z1nGWl6v10ZERMQwjrqegIiIyL9DASYiIkZSgImI\\\n",
       "iJEUYCIiYiQFmIiIGEkBJiIiRlKAiYiIkRRgIiJiJAWYiIgYSQEmIiJGUoCJiIiRFGAiImIkBZiI\\\n",
       "iBhJASZynk2bNo2kpCSWL19e11MRMZqrricgIhen7777jpdeeol169axd+9e8vPzadSoEZdddhkj\\\n",
       "R45k2LBhuN3uqNd88cUXLFy4kOXLl7N79268Xi+pqan06dOH+++/n65du9ZRNXIhUoCJyDmRnZ3N\\\n",
       "hx9+yJVXXkmPHj1ISkoiNzeXRYsWMXbsWGbPns28efNwuU5+DP3qV7/i6NGjXHnllQwZMoTY2Fg2\\\n",
       "bNjA3//+dz788EPefPNNbrrppjqsSi4kCjAROSduuOEGdu7ciWVZUcvLy8sZMmQIK1eu5J///CdD\\\n",
       "hw6NrLv33nsZNmwYLVq0iHrNu+++y7333ssDDzzAjTfeiMfjOS81yIVN98Dk37Jr1y6SkpIYPHgw\\\n",
       "ubm5PPDAA3To0IEmTZrQu3dv3nrrre/V//Llyxk+fDidO3emSZMmtGvXjh/96EdMmDAB2z75fyJ+\\\n",
       "4MABpk+fzo033kj79u1JSUmhY8eO3H333XzzzTennffhw4cZO3YsGRkZNG/enBtvvJGVK1cCUFhY\\\n",
       "yOOPP06XLl1o0qQJvXr1Yu7cuZX6e+edd0hKSmLatGmsWbOGW265hbS0NNLS0rjjjjtYt27dWdX9\\\n",
       "7bffcv/990fGTU9PZ8SIEVX2k5+fz4wZM7jmmmtIS0ujRYsWdOvWjZEjR14Q99c8Hk+l8AovD59F\\\n",
       "7dixI2rdQw89VCm8AH7+85+Tnp5Obm4uW7ZsOTcTFuPoDEy+l/z8fAYMGIDH4+GnP/0pZWVlzJs3\\\n",
       "j9///vc4HA5Gjhx51n1+8sknDB8+nMTERAYOHEiLFi3wer3s2LGD1157jcmTJ0cuO61atYoXX3yR\\\n",
       "a6+9lp/+9KfEx8ezY8cO5s2bx//+7/+ycOFCunXrVu28GzZsyNChQ9m/fz/z5s3j9ttv55NPPuHB\\\n",
       "Bx+kuLiYQYMGUVBQwJw5c7jrrrto0aIFV111VaX+vvzyS55//nn69evH6NGj2bFjB5mZmaxcuZK5\\\n",
       "c+fSq1evM9a9bNkyRowYQWlpKQMGDCA9PZ0DBw6QmZnJokWLmD17Nv379wfAtm3uuOMO1q5dyxVX\\\n",
       "XMHIkSPxeDwcOHCAVatWsWzZMq699tqz3vbnQyAQ4NNPPwU4q3ta4bMup9N5TuYl5lGAyfeyadMm\\\n",
       "fv3rX/Pss89GPljuu+8+fvjDH/LSSy/9WwH21ltvYds2mZmZXH755VHrjh07FnXP5LrrrmPbtm0k\\\n",
       "JiZGtVu3bh2DBg1i8uTJzJkzp8p533PPPUyfPj1ylvDcc88xZcoUbrrpJvr168frr78eecjghhtu\\\n",
       "YPTo0bzwwgu88847lfpbtGgRM2fOZPTo0ZFl8+bN48477+R3v/sda9asqfJsJCw/P5+77roLt9vN\\\n",
       "okWL6NixY2RddnY2/fv3Z+zYsaxfv56YmBg2b97M2rVrGThwIO+++25UX7Ztk5eXV+1YFW3YsIEF\\\n",
       "CxbUqG3YL37xC1q3bl3j9gcOHODNN98kGAxy7NgxFi9ezHfffcfPfvYzBg8eXKM+1q5dyzfffEPz\\\n",
       "5s3p1KnTWc1XLl4KMPle4uPjefrpp6O+FXfs2JHevXuzcuVKCgoKKoXLmTgcjkjfp2rUqFHUv6ek\\\n",
       "pFTZR/fu3bn22mtZunQpPp+v0tNuCQkJPPnkk1GhMmzYMKZMmcLx48d5+umno15z2223cd9997Fx\\\n",
       "48Yqx2vbti1333131LJbbrmFXr16kZWVRVZWFr1796625vfee49jx44xffr0qPAC6NChA7/61a/4\\\n",
       "r//6L5YuXcqAAQNOu40sy6q0naqzceNGZsyYUaO2YX379j2rADt48GDUGA6HgwcffJAJEybU6PW5\\\n",
       "ubncc889ADzzzDM6A5MIBZh8L+np6dSrV6/S8vB9jPz8/LMOsGHDhjF//nz69+/PkCFDuPbaa7nq\\\n",
       "qquq/dD8+OOPeeONN1i3bh25ubn4/f6o9bm5uTRt2rTSvBMSEqKWhdskJSWRlpYWtc7pdJKSksL+\\\n",
       "/furnMM111wTCZWK+vTpQ1ZWFhs2bDhtgGVlZQGwefNmpk2bVmn99u3bAdi2bRsDBgygQ4cOdO/e\\\n",
       "nTlz5rB7924GDRpEr1696NmzJ7GxsdWOc6oRI0YwYsSIGrf/d/To0QOv10sgEGD//v1kZmYyffp0\\\n",
       "li9fzj/+8Y/Thq3X62Xo0KF8++23/OEPf+DWW289p3MVsyjA5HupX79+lcvD35IDgcBZ93nTTTcx\\\n",
       "Z84cXn75Zd59913+9re/AdCpUyceffRRbrnllkjbP//5z4wfP56kpCT69etHWloasbGxWJbFggUL\\\n",
       "2LRpE2VlZZXGqCpUw5cmqwtcp9NZKRzDmjRpUuXy8Bni8ePHT1Nx6NIowNtvv33adkVFRZG5zJ07\\\n",
       "l2effZa5c+cyefJkIHRGNmTIEKZMmUJycvJp+zrfnE4naWlp3HfffTRt2pTf/OY3TJ06leeff77K\\\n",
       "9nl5eQwZMoR169bxwAMP8OSTT57nGcuFTgEmF6T+/fvTv39/SkpK+PLLL1m0aBGzZs3i17/+NZmZ\\\n",
       "mfTt2xe/38+0adNITU1l2bJllc6y1q5de97me/jw4SqXHzlyBKg+6MPC65cuXUr37t1rNGZSUhJT\\\n",
       "p05l6tSp7Ny5k1WrVvH222/zzjvvsGfPHubPn3/GPs7HPbCqhB9GWbFiRZXrjxw5wq233srmzZsZ\\\n",
       "N24cEydO/F7jycVJASYXtLi4OPr27Uvfvn1p06YNDz74IB999BF9+/YlNzeX/Px8rrvuukrhVVhY\\\n",
       "yPr168/bPL/44guCwWCly4irVq0CqPJJyIquuuoq5s+fz+rVq2scYBW1adOGNm3aMGzYMLp3787n\\\n",
       "n39Ofn4+DRo0OO3rzsc9sKqEL8VWfCAn7MCBA9x6661kZ2fzxBNP8PDDD3+vseTipd+ByQVn6dKl\\\n",
       "FBcXV1p+6NAhgMg9npSUFOLj4/n6668pLCyMtPP5fIwfP57c3NzzM2FCv2eaNWtW1LJ58+aRlZVF\\\n",
       "RkbGGR+jHzlyJElJScycOZM1a9ZUWm/bNqtXr6a8vByAnTt3Vvl7qMLCQoqKinC5XFWGw6lGjBiB\\\n",
       "1+s9q7+aPp6flZVV5eXbwsJCHnvsMQAGDBgQtW7v3r0MHjyY7OxsnnnmGYWXnJbOwOSCM3HiRHbv\\\n",
       "3s0Pf/hDWrVqRWxsLJs3b+azzz6jUaNG3HnnnUDoabZ77rmH559/nj59+jBo0CB8Ph/Lly8nLy+P\\\n",
       "a6+99rz9oPfHP/4xEydOZNGiRXTu3DnyO7C4uDhefvnl0z5CD9CwYUPeeustRo4cyY033sh1111H\\\n",
       "x44dcbvd7Nu3j3/961/s3buXnTt34vF42LRpEyNHjqRbt2506tSJZs2a4fV6+fjjj8nLy2Ps2LGV\\\n",
       "HlI536ZMmcKWLVvo06cPLVq0IDY2lv379/PJJ59w/Phxrr76asaNGxf1mkGDBrF79246depEfn5+\\\n",
       "lQ+0DB48+IxntHJpUIDJBefhhx9mwYIFfP3115EAat68Offeey/33XcfLVu2jLSdMGECycnJvP32\\\n",
       "27z55pvUr1+fH/3oR0ycOLHKD79z5YorruCRRx7h6aef5i9/+QsA/fr144knnqjxJcHrrruOlStX\\\n",
       "8sorr/DZZ5+xZs0aXC4XqampXHXVVUyaNClyr6xHjx48/PDDrFixgiVLlpCXl0ejRo1o3749zzzz\\\n",
       "zAXxtN6YMWOYN28e69at4/PPP6ekpISkpCR69uzJkCFDGDFiRKWzxN27dwOwZcuWav+LG61atVKA\\\n",
       "CQCW1+u1z9xMRKryzjvvMHbsWB599NHIZTEROT90D0xERIykABMRESPpHpicc7t27WL27Nk1alsb\\\n",
       "vzESkUuD7oHJObd8+XJuvvnmGrXNzMy8YP8r6iJyYVGAiYiIkXQPTEREjKQAExERIynATsjJyanr\\\n",
       "KdSZS7X2S7VuuHRrv1TrhouzdgWYiIgYSQEmIiJGUoCJiIiRFGAiImIkBZiIiBhJASYiIkZSgImI\\\n",
       "iJEUYCIiYiQFmIiIGEkBJiIiRlKAiYiIkRRgIiJiJAWYiIgYSQEmIiJGUoCJiIiRFGAiImIkBZiI\\\n",
       "iBhJASYiIkZSgImIiJEUYCIiYiQFmIiIGEkBJiIiRlKAiYiIkRRgIiJiJAWYiIgYSQEmIiJGUoCJ\\\n",
       "iIiRFGAiImIky+v12nU9iVPl5OTU9RRERKQWZGRknLO+L8gAqws5OTnndENfyC7V2i/VuuHSrf1S\\\n",
       "rRsuztp1CVFERIykABMRESMpwERExEgKMBERMZICTEREjKQAExERIynARETESAowERExkgJMRESM\\\n",
       "pAATEREjKcBERMRICjARETGSAkxERIykABMRESMpwERExEgKMBERMZICTEREjKQAExERIynARETE\\\n",
       "SAowERExkgJMRESMpAATEREjKcBERMRICjARETGSAkxERIykABMRESMpwERExEgKMBERMZICTERE\\\n",
       "jKQAExERIynARETESAowERExkgJMRESMpAATEREjKcBERMRICjARETGSAkxERIykABMRESMpwERE\\\n",
       "xEgKMBERMZICTEREjGR5vV67ridxqpycnLqegoiI1IKMjIxz1vcFGWB1IScn55xu6AvZpVr7pVo3\\\n",
       "XLq1X6p1w8VZuy4hioiIkRRgIiJiJAWYiIgYSQEmIiJGUoCJiIiRFGAiImIkBZiIiBhJASYiIkZS\\\n",
       "gImIiJEUYCIiYiQFmIiIGEkBJiIiRlKAiYiIkRRgIiJiJAWYiIgYSQEmIiJGUoCJiIiRFGAiImIk\\\n",
       "BZiIiBhJASYiIkZSgImIiJEUYCIiYiQFmIiIGEkBJiIiRlKAiYiIkRRgIiJiJAWYiIgYSQEmIiJG\\\n",
       "UoCJiIiRFGAiImIkBZiIiBhJASYiIkZSgImIiJEUYCIiYiQF2DmUWxo4q+XnYuxTx6pueVVtTpWT\\\n",
       "76t2eVWvqbi84vpwP7mlgajlp5vb6eo5tZ+qxqmqL6/v7Gs90/Y7074929dVNY/c0gA5+b6odRW3\\\n",
       "QVXbvbptUV3/1e2D8/HePd/q8jiV78c5fvz4p+p6EheCY8eOkZycXGv9ZR0q48OdJTSKcZAS54ws\\\n",
       "35Ln470dxbgtaFnPVWvjVTX2vsIAi/eXReYQHntfoZ/F+8sic6hYe3Xzfn97ETPXF+C0LLo0cldY\\\n",
       "XswTa/NZfaicjg3dkde8v72Yp/6Vz6qD5XjLg6w4WE6jGAeL95Uxc30B3xX4+XRvKSsOltPAY3Hc\\\n",
       "Z5+YWyBqbmeq50/rC/jndyWsy/XRwGNFXvP+9mJmri9gZ4Gfdbm+KrfB/9tRyhe5Fm0SXTWqNfza\\\n",
       "bV5fpJ6z2bdn+554Y2shL24sJNHjoEOSO9LHtHUFPL+hgLnfldAswYm3LMhr3xSx4mAZG/N8zFxX\\\n",
       "yLIDZcS6LD7eW8rHe0r4W3Yx3vIgXxwux21BXFk+qwrjeear45QGbHo09kT6f2lTIasPldGy3snt\\\n",
       "siXPx8ubCvlsXxnJMY5z9t491049zuvyOD3favsz7kKgADuhNndu1qEyFu8vwwa2ef00ij354Tl/\\\n",
       "Zwk28F1BAI+j9g+O8Nh7igIs219GrNNib1GAvPIgKw6UcbgkFAIOILfMxuMIfZglJydXO+/3txfx\\\n",
       "Vk4xtg3rc324Tnywv7+9mFc2FZBXHuRgSYCcfD8dG7pZvK+M/7ulgKOlNrsK/Ww85iPRbfHp3jIW\\\n",
       "7y+lxG+z6lA5B0uClPhtvvH6WJ/ro9Rvs3hfGZZlkVsWxOOAfUWBaut5f3sxG4+V811BgNyyAHll\\\n",
       "QZI8DlYeLOetbUXklwf515FyLCCvzI7aBnN3lnCo2KYcBzuO+yMhVl2t4X23pyjA6oPlOIADxcEa\\\n",
       "79uzfU+8sbWQOd+Gln95tJxEjwNvWZA/bylk6f4y8sptigM2Kw6UsdXr42BxkOx8P0v3lVHsD3Ko\\\n",
       "JMCqQ+UcLQ2w5nA5pQGbrMM+PA447rPJOljGRwfBtuGbPD9lAZvygM3b24r4riDA0bIgewr8pNVz\\\n",
       "caQ0yKytRWzN85FXFmRXUYDGhobYqV/W6uo4rQsXY4BZXq/XrutJXAhycnLIyMj43v3klgZ4fWsR\\\n",
       "wQpb1QIyGrjIyfdTcWM7LBjVMYHkWOep3XyvsQt9Qb4+6sM+MVhyrINjZUEaxoT+FxssC3o2dpPg\\\n",
       "dnCD5xBt27atct5N4x188G1JpC8IvfYnaTFk7iplf1EQKlSV0cDFvqIAxX4I2EEKfQA2jWIc+IKh\\\n",
       "NqUBO/LPKbEOyoM28S4HDTwWboeFZUGPxm6cloWNTdCmUj2HSoJ4y0LjhMdvFu+kUayDvLIgth0K\\\n",
       "mPC6Tg3dFPltGsY4OFQS4EBREJ/PR6sGMXicFlc09nBZfWeVtd7RNo6DxUGK/Ce3a3j7xbscZ9y3\\\n",
       "Z/ueuKF5DFO+PB7V3m/b+IOwvyhAbllo49l2qLoYJyS6HRT5gpQHQ324HBC0Q+N4nBb+INRzg9Ny\\\n",
       "0CTOwf6CUtLqx+J2WAAEbJv2SW6+Pe4/Wb8FyTGOE++tYNQ2uSLFze+7JNbae/d8CR/ndXmc1pXa\\\n",
       "+oy7kOgeWC1LjnVyc+s4rArLbGDbKQeFBdzcOq5WD4rw2AkuB+0buAhPIrc09IF+rDQYyZr2DVzE\\\n",
       "uxzc3DqOJHf18z5QHAz1VWHi7Ru4KPBB54ZukmMtwgMlxzooC0CcywJsnJZFnAviXQ6SYhykxDki\\\n",
       "H65gE+eC8qANhNq5HVak/wSXg2Hp8QxPT6iyHpd1cpzw2G6nRfN4J50bunE7rcjckmMdFPrsyDZw\\\n",
       "W6F1DT02bodF+wYuYl1WtbUeKA5iE6qjfQMX1onlcS5Hjfbt2b4nrmoSw5hO9bAqvMBlWQRsG5cD\\\n",
       "Et2hFQ4LElzgtCyK/UGsE9s2tBkt0hKctExw4g9C3Il2YHO4JEBSeHsTCqSxXRL5bad6kUuV4Unm\\\n",
       "lgajwgsLOjRwMTzd7A/0ujxOpfboEuIJtXl6nRIXOhPY5vVXud4Cftomjk4N3VWur42x9xYFiHNa\\\n",
       "kW/rFXVIctEkzhmZQ7j26uad4HYQ57I4VhakQ4OT90US3A4aeBwcLw8S73KQEEomPA4LlwNK/Dap\\\n",
       "cS66NnLjs08uLw+EvtmHvv2GwiTB5Yh8OFac2+nq8ThCZ2zxLosEtyMytwS3gzinRYHPJqOBC18V\\\n",
       "1xi6NnLTwC6lZcOEqHsf1dUaVs/tYGCrOIr9VV+4qG7fnu17okOSm0SPgy+PlkfV63KAPwhOh4XH\\\n",
       "EZqPwwJ/MBTWCW6LGGfoUlhyrJN4t4PW9Zx4T3ZDcqwDjx3A7XZjWXBPp3rc3DqOlDgnafWc7CkK\\\n",
       "cLS08vsGCzo2cHH3D+qdk/fu+VDxOK/L47QuXIyXEC/IC7s5OTnGj+sGEkuc7CyufJLbJj6I+2iA\\\n",
       "nKO1NlyVY+cWO4jxWXh9J79nJrltnMU2iUTPIVx7dfN2Ai0scBbDseLo5e09cKTcwltychwHUN+C\\\n",
       "hpTTOGCTf2Ie4eUxNpQGT5xJ+GxKfNXP7XT1NHSfCBIfOIvtyNzC860fIDL2qdugR4Mg2MfYmVuz\\\n",
       "WiG07zqWB9j9b+zbs31PdARaWG5yKrR3AM6gRaorVHduuYUFWEHAsrACNskem1SnjbfEIslt0zbe\\\n",
       "5qDlILfcItYZ2t4AJSUlZCQE6VjuJfzWdwNtbSff+Z1R2yy83doSwH306Dl7754PFY/zujxO60Jd\\\n",
       "fLaey8uWF2SA1cV12tq+Prwlz0dBYQmN4iqvKwB8jc/dN7vw2AEClPn8xFXYy2VAIN5FQZwzMoeK\\\n",
       "tVc37yMlAfbl+0mIjz4rOVISYNvRcsAiPu7kB16RP8jx0iAenBx1OilzB4lznVyeYFkEHKHLh0F3\\\n",
       "6AyszKo8tzPVk+e3AZt4t4NAhbmF51vudETGPnUbfJ2fT4OkJBonR394VVcrhPbdVo+bgjjfWe/b\\\n",
       "s31PZO4qYZ9dSFyF9kX+IIFAkEN+sG2beLdFedCO3LeynZAbsAgEHCTHhbbptwE4bgdwu20CQNDt\\\n",
       "wOErIy4ujn02bPWEzsDCc/z2aBFlLl/UNgNCfeHC19jcM7BTj/O6PE7Pt4vxHpguIZ5Qm6fXFZ9i\\\n",
       "qk7Fp55qU3jswyUBsvP9VDWJ3NIgca7Q03yNYh04i70kJydXO+8jJQGyT1xmyS0LEucMXbI7UhLg\\\n",
       "q6Pl5JbaFPuDuByhy1xF/pP3TbzlQfYWBYlxgi9ok1sapDxok1cWxGGB04ISP5HXhvsPz+1IabDa\\\n",
       "esLjFPtD94aO+2zinBbFfpvsfD9FviA7jgcifVe0u9DPgZIgRYHQJcMEt+O0tVbcFp/sLSX2lOUV\\\n",
       "VbVvz/Y9kbmrhNe2FEY9UFKx3gJf6EGYgG3jC568F1gWCN1XLPLZuKzQZdzs/AAOyz5xDyy0zGEH\\\n",
       "ifOEPpjDTzkGbCJPG1an4tOJtf3ePR8qHud1eZzWhYvxEqIe4qhluaUBMneVVLoR3L6Bq9IN48xd\\\n",
       "JbX6Y8nw2EX+INsqfNgnxzqwLGgU64g8CLEt30+xP0jmrpLID3qrmnezeEeorwoT35bvJ9ENm/N8\\\n",
       "5JbahAfKLQ0FVYk/dGYVsG1K/FDsD+ItC3KkJEjQDt3DAYsSfzhYQu18QTvSf5E/yN93FPP+jqIq\\\n",
       "6/HbJ8cJj+0L2OwvDrA5z4cvYEfmllsapJ7bimwDnx1al1du4QvabMv3U+q3q621WbwDi1Ad2/JD\\\n",
       "T+lty/dT4g/WaN+e7Xti7eEy/nJKePntUAD5g1Bw4hJg0IYifyjE4l0O7BPbNrQZbfYUBdhbFDhx\\\n",
       "PzLUDiyaxDnxhrc3oacZX91UwJ+3FJLtrRBeVmhbJ8c6oiaZne/n/R1FRv/Qty6PU6k9OgM7oba+\\\n",
       "ncS7HLit0O9H4OSN4Oubx1a6YdyveQwZSbV3eSI89t6iIA7LwlsWpEOSizaJLga2Cl0jCT8IcVk9\\\n",
       "J41infRrHkNDfz4tUxtXOe//0zIOpwXrj538YPtV+wR+07EeHofFhtzQb4wALk/2MOnKBqTXd7M5\\\n",
       "r5zSgIWFTXKskz6pMTSMcRKwbeq5HJQHQ0+CpcY5yWjgok19F83ineSWBmlT30VyrJMbW8aS0cBd\\\n",
       "ZT03tY6jNAAFviAlfkiKcdCjsYdRHetxWaKbTcd8WIQe2b882c3lyZ7INkg48ZCGKxggMdZN2/ou\\\n",
       "ft0xodpaR7ZPoFGsg++OB7BOzOOyxNBDEjXZt2f7nrg6NYbSgM03eaHllgX3dU7kp63jOFgSYH9R\\\n",
       "AF8QPE5oHOvg8mQ39T0OXE4LX8AmzmXhcVo0inWSXt9Fid8myePAxuLKFDdXNYmhrbOIo3ZMZNyh\\\n",
       "6fH0bxHL7gI/3nI78sDG77sm0rdZTNSDHW3qu7jjsvhafe+eL+HjvC6P07pyMZ6BKcBOqM2d27Ke\\\n",
       "C48DdhUGop5iCj/1lJPvp1/zGHqlxpyhp39/7LzyINc3i8Vvhw7Mvk1jaBTrYF9xgOubxWBbVmQO\\\n",
       "4dqrm3eXRh5cFmw85uOX7RMY3i7+xHI3CS4Hm4756JDk5vGe9enU0E2XRm7inA6+ySvnBw09DE2P\\\n",
       "x+W0GPWDerSq52Jbvp/BrWNJjQtdmrmzfQJ9m8WcmFssNkTmdrp62iS62F0YoIHHQcckN8PS4+mV\\\n",
       "GkOXRm5clsW2fD8DW8XSNMFVaRvc2DKWvMJCmtWP597O9c5Ya3jfHSoJcGWKB5fTOqt9e7bviR6N\\\n",
       "PZQFbLK9/shTgi3rnQj5Mpv88tCPtp/ulcSAlrEcLg3Sqp6TG1rGsr8oSLsT4ZPgdtC2votCn83P\\\n",
       "28VT3+OgX/MY+sTm0aZpY746Ws5tbeP4Tcd6tKznIjnWwZ6iAE3jHZGnDcNPJ+4tClDf4+CXGfHn\\\n",
       "5L17PlQ8zuvyOK0LF2OA6YfMJ5yLG5y5pYEqfz9S3fJzMfapY1W1/NTaq5tfTr6PjAaVv4nm5If+\\\n",
       "U02nvqbi8qjxTvQTviwTXl7dnM9UT1hV44fHqWobrN2SQ9u2bc+q1tPNseL66pzt66qaR25pIPSD\\\n",
       "dIisq7gtq9rup26L8D6vrv9wXzVZbpKqjvO6PE7Pp4vxIQ4F2AkX486tqUu19ku1brh0a79U64aL\\\n",
       "s3Y9xCEiIkZSgImIiJEUYCIiYiQFmIiIGEkBJiIiRlKAiYiIkRRgIiJiJAWYiIgYSQEmIiJGUoCJ\\\n",
       "iIiRFGAiImIkBZiIiBhJASYiIkZSgImIiJEUYCIiYiQFmIiIGEkBJiIiRlKAiYiIkRRgIiJiJAWY\\\n",
       "iIgYSQEmIiJGUoCJiIiRFGAiImIkBZiIiBhJASYiIkZSgImIiJEUYCIiYiQFmIiIGEkBJiIiRlKA\\\n",
       "iYiIkRRgIiJiJAWYiIgYSQEmIiJGUoCJiIiRFGAiImIky+v12nU9iVPl5OTU9RRERKQWZGRknLO+\\\n",
       "L8gAqws5OTnndENfyC7V2i/VuuHSrf1SrRsuztp1CVFERIykABMRESMpwERExEgKMBERMZICTERE\\\n",
       "jKQAExERIynARETESAowERExkgJMRESMpAATEREjKcBERMRICjARETGSAkxERIykABMRESMpwERE\\\n",
       "xEgKMBERMZICTEREjKQAExERIynARETESAowERExkgJMRESMpAATEREjKcBERMRICjARETGSAkxE\\\n",
       "RIykABMRESMpwERExEgKMBERMZICTEREjKQAExERIynARETESAowERExkgJMRESMpAATEREjKcBE\\\n",
       "RMRICjARETGSAkxERIykABMRESMpwERExEgKMBERMZLl9Xrtup7EqXJycup6CiIiUgsyMjLOWd8X\\\n",
       "ZIDVhZycnHO6oS9kl2rtl2rP3p21AAAMu0lEQVTdcOnWfqnWDRdn7bqEKCIiRlKAiYiIkRRgIiJi\\\n",
       "JAWYiIgYSQEmIiJGUoCJiIiRFGAiImIkBZiIiBhJASYiIkZSgImIiJEUYCIiYiQFmIiIGEkBJiIi\\\n",
       "RlKAiYiIkRRgIiJiJAWYiIgYSQEmIiJGUoCJiIiRFGAiImIkBZiIiBhJASYiIkZSgImIiJEUYCIi\\\n",
       "YiQFmIiIGEkBJiIiRlKAiYiIkRRgIiJiJAWYiIgYSQEmIiJGsrxer13XkxARETlbOgMTEREjKcBE\\\n",
       "RMRICjARETGSAkxERIxkbIAdPHiQ3/72t6Snp5OamkqvXr1YsWIFAD6fj0mTJtGnTx+aN29Ohw4d\\\n",
       "GDVqFHv27Inqo6ysjD/+8Y+0bduW5s2b87Of/Yx9+/ZFtdmzZw/Dhw+nefPmtG3blkceeYTy8vKo\\\n",
       "NitWrOD6668nNTWVyy+/nDfeeKPOaj/VAw88QFJSEi+//HLUchNrr0nd27dvZ+TIkbRq1YpmzZpx\\\n",
       "3XXXkZ2dbXTdcObaCwsL+eMf/0inTp1o2rQpV155Ja+++mpUHybW3rVrV5KSkir9DRs2LNLm9ddf\\\n",
       "p1u3bqSmpnL99dezatWqi77u5557jn79+pGWlkZ6ejrDhw9ny5YtUX3Yts20adPo2LEjTZs2ZfDg\\\n",
       "wXzzzTdRbbxeL2PGjKFVq1a0atWKMWPG4PV6o9ps3ryZQYMG0bRpU37wgx8wY8YMbPvCePbPyADz\\\n",
       "er0MGDAA27b5+9//TlZWFv/5n/9JSkoKAMXFxaxfv55x48axbNkyZs+ezb59+7jjjjvw+/2Rfh57\\\n",
       "7DEyMzOZNWsWH330EQUFBQwfPpxAIABAIBBg+PDhFBYW8tFHHzFr1izmz5/PhAkTIn3s3LmTYcOG\\\n",
       "cfXVV/P555/zhz/8gUceeYR58+bVSe0VzZs3j6+++opmzZpVWmda7TWpe+fOnQwYMIDWrVszf/58\\\n",
       "Vq9ezcSJE0lISDC27prWPmHCBD755BP+/Oc/k5WVxcMPP8zkyZN57733jK59yZIlZGdnR/6WLVuG\\\n",
       "ZVnceuutAHz44YeMHz+ehx9+mM8//5yrr76aoUOHRn1ZvRjrXrFiBXfffTcff/wx8+fPx+Vyceut\\\n",
       "t5KXlxfp48UXX+TVV19lxowZLF68mJSUFIYMGUJBQUGkzahRo9iwYQP/+Mc/+OCDD9iwYQP33HNP\\\n",
       "ZP3x48cZMmQITZo0YfHixUyfPp2XX36ZV1555ZzUfbaMfIx+ypQprFy5ko8//rjGr9m6dSu9e/dm\\\n",
       "5cqVdO7cmfz8fNq1a8err74a+Vazd+9eunbtygcffED//v359NNPGTZsGBs3bqRly5YAvP/++/z+\\\n",
       "978nJyeH+vXrM2nSJDIzM/nqq68iY91///1s3bqVTz/9tHYLp+a17969mwEDBjB37lzuuOMOxowZ\\\n",
       "w/333w9gZO01qXvUqFFYlsVf//rXKtebWDfUrPZrrrmGm2++mccffzyybNCgQXTu3JmZM2caW/up\\\n",
       "/vSnP/HSSy+xdetW4uPj6d+/P507d+all16KtOnZsye33HILkyZNumjrPlVhYSGtWrXinXfeYeDA\\\n",
       "gdi2TceOHRk9ejTjxo0DoKSkhIyMDKZOncpdd91FdnY2vXr1YuHChfTu3RuA1atXM3DgQNauXUtG\\\n",
       "RgazZs3iqaeeYtu2bcTFxQEwc+ZM3njjDbZs2YJlWee89tMx8gxswYIFXHHFFdx11120a9eOvn37\\\n",
       "8pe//OW0p7Xhbx1JSUkArFu3Dp/Pxw033BBp07JlSzp06EBWVhYAa9asoUOHDpE3NUD//v0pKytj\\\n",
       "3bp1kTYV+wi3+frrr/H5fLVTcAU1qd3v9zNq1CjGjRtHhw4dKvVhYu1nqjsYDLJw4UI6dOjA7bff\\\n",
       "Tnp6Ov369ePDDz80uu6a1A7Qu3dvFi5cyN69ewHIyspi06ZN9O/f3+jaK7Jtm7fffpvhw4cTHx9P\\\n",
       "eXk569atqzSfG264IVLTxVh3VQoLCwkGg5HPt127dnHo0KGoOcfFxdGnT5+ouuvVq0evXr0ibXr3\\\n",
       "7k1CQkJUm2uuuSYSXhCq+8CBA+zatavWaz1bRgbYzp07mTVrFm3atGHOnDn89re/ZfLkydV+8y4v\\\n",
       "L2fixIn85Cc/oUWLFgAcPnwYp9NJcnJyVNuUlBQOHz4caXPqpbnk5GScTudp26SkpOD3+8nNza2V\\\n",
       "eiuqSe3Tpk2jYcOG3H333VX2YWLtZ6r7yJEjFBYWRu4N/POf/+T2229n9OjRLFy40Ni6a1I7wIwZ\\\n",
       "M+jatStdunShcePGDB48mKeeeoqf/OQnRtde0ZIlS9i1axe//OUvAcjNzSUQCFQ5n4rzvdjqrsr4\\\n",
       "8ePp2rUrV199NQCHDh2KzLGiU+tOTk6OOouyLIvGjRufse7wurrmqusJ/DuCwSA9evRg0qRJAFx+\\\n",
       "+eV8++23vP7664wZMyaqrd/vZ8yYMeTn5/Puu++esW/btivt0Kqcrk34m/G5OL0+U+0rVqxg9uzZ\\\n",
       "LF++/Kz7vpBrP1PdwWAQCF02+93vfgdAt27dWLduHa+//nrkg7wqF3LdULP3+2uvvUZWVhbvvvsu\\\n",
       "aWlprFq1iieeeIJWrVrx4x//uNq+L/TaK/rb3/5Gz5496datW7VzC8/nTHO5GOoOe/zxx/niiy9Y\\\n",
       "uHAhTqczat2Ztk1Vcz9Tm/NVd00YeQaWmppa6dJY+/btI5dPwvx+P3fffTebN29m3rx5NGrUKLKu\\\n",
       "SZMmBAKBSt+ejh49GvmG0aRJk0rfMk791ldVm6NHj+JyuaLGqy1nqn358uUcPHiQDh06kJycTHJy\\\n",
       "Mnv27GHSpEl06tQpMmfTaj9T3cnJybhcrtO2MbFuOHPtJSUlTJkyhcmTJzNw4EC6dOnCmDFjuO22\\\n",
       "2yJPn5pae9iRI0f46KOPuPPOOyPLTj1LqjifivO92Oqu6LHHHmPOnDnMnz+fNm3aRJanpqYClc+S\\\n",
       "Tq376NGjUZeibdsmNzf3jHVD5bO7umBkgPXu3Zvt27dHLdu+fTtpaWmRf/f5fNx1111s3ryZzMzM\\\n",
       "yA4N6969O263myVLlkSW7du3L3JjE+Dqq68mOzs76pHbJUuWEBMTQ/fu3SNtli5dGtX3kiVL6NGj\\\n",
       "B263u1bqrehMtY8aNYqVK1eyfPnyyF+zZs247777Ik9MmVj7mer2eDz07NmTnJycatuYWDecuXaf\\\n",
       "z4fP56v07dvpdEbOTE2tPWz27NnExMRw2223RZZ5PB66d+8eVVN4PuGaLsa6wx599FE++OAD5s+f\\\n",
       "T/v27aPWtW7dmtTU1Ki6S0tLWb16dVTdhYWFrFmzJtJmzZo1FBUVRbVZvXo1paWlkTZLliyhWbNm\\\n",
       "tG7dulZr/Xc4x48f/1RdT+JstWzZkhkzZuBwOGjatCnLli3j6aef5qGHHuKKK67A7/dz55138tVX\\\n",
       "X/HWW2+RmJhIUVERRUVFOJ1O3G43sbGxHDx4kL/+9a906dKF/Px8HnroIerXr8/kyZNxOBy0adOG\\\n",
       "zMxMFi9eTOfOndm6dSvjxo1j6NCh3HzzzQBcdtllvPDCCxw5coS0tDQ++ugjnn32WZ5++mk6dux4\\\n",
       "3mtPSEggJSUl6u+1117j+uuvZ+DAgQBG1n6mugEaNmzI9OnTadKkCfXr12f+/Pm8+OKL/Md//Aft\\\n",
       "2rUzsu6a1B4TE8Py5csjD7HYts2CBQt47rnnuOeee7jyyiuNrR1CZwVjx45lwIABkcfIwxITE5k2\\\n",
       "bRpNmzYlNjaWmTNnsmrVKl555RUaNGhw0dY9btw43nvvPd58801atmwZ+XyDULBblkUgEOD555+n\\\n",
       "Xbt2BAIBJkyYwKFDh3jhhReIiYmhcePG/Otf/+KDDz6gW7du7Nu3j4ceeoiePXtGHqVPT0/nv//7\\\n",
       "v9m4cSMZGRmsXr2aJ598kgcffDDq4Y864/V6bRP/3n//fbtz5852TEyMnZ6ebk+fPt3Oy8uzvV6v\\\n",
       "vX79ehuo8u/VV1+N9HHw4EF79OjRdsOGDe24uDh7wIAB9qZNm6LG2bhxoz1gwAA7Li7ObtiwoT16\\\n",
       "9Gj70KFDUW3+53/+x+7WrZvt8XjsVq1a2c8991yd1V7VX1pamj116tSoZSbWXpO6X331VTs9Pd2O\\\n",
       "jY21O3XqZL/++uvG112T2rOzs+1f/OIXdrNmzezY2Fg7IyPDnjp1alQbU2ufP3++DdifffZZlev/\\\n",
       "9Kc/2WlpabbH47Evv/xye8GCBRfFPj9d3dV9vj366KORNnl5efajjz5qp6am2jExMXafPn3sVatW\\\n",
       "RfXz3Xff2cOGDbMTExPtxMREe9iwYfbOnTuj2qxcudK+5ppr7JiYGDs1NdUeP378aT9vzuefkb8D\\\n",
       "ExERMfIemIiIiAJMRESMpAATEREjKcBERMRICjARETHS/weofZJD3yAYhwAAAABJRU5ErkJggg==\\\n",
       "\"\n",
       "  frames[7] = \"data:image/png;base64,iVBORw0KGgoAAAANSUhEUgAAAbAAAAEgCAYAAADVKCZpAAAABHNCSVQICAgIfAhkiAAAAAlwSFlz\\\n",
       "AAALEgAACxIB0t1+/AAAADl0RVh0U29mdHdhcmUAbWF0cGxvdGxpYiB2ZXJzaW9uIDIuMi4zLCBo\\\n",
       "dHRwOi8vbWF0cGxvdGxpYi5vcmcvIxREBQAAIABJREFUeJzt3Xl8FfW9//HXzNmzERKSsCUgEIPs\\\n",
       "grJYEBGvFNzqBvdX6bVeBHu12lo33Iqgt+ClWuvW2mpv1et21VbgatGqIKtIVRRQMKAgshOSkD3n\\\n",
       "zJnfH3POIYckJFQQBt7Px4NHZc7Md76f2d5nZr6HGmVlZTYiIiIuYx7tDoiIiPwzFGAiIuJKCjAR\\\n",
       "EXElBZiIiLiSAkxERFxJASYiIq6kABMREVdSgImIiCspwERExJUUYCIi4koKMBERcSUFmIiIuJIC\\\n",
       "TEREXEkBJvIdmzlzJpmZmSxevPhod0XE1RRgInJEWZbFM888w9ixY+nSpQvt27enf//+XHXVVWzY\\\n",
       "sOGgy9q2zUUXXURmZiaZmZnU1tZ+R70WN/Ae7Q6IyPGrsrKSH/7whyxatIiioiLGjx9Pamoq27dv\\\n",
       "5/3332fDhg306NGj2eV/97vfsWTJEoLBoMJLGlGAicgRc+ONN7Jo0SJuu+02pk6dimEYSZ+Hw+Fm\\\n",
       "l/3888+ZMWMGN9xwA6+88gpbtmw50t0Vl9EjRPmnbN68mczMTM477zxKSkr42c9+RlFREbm5uQwd\\\n",
       "OpRnnnnmW7W/ePFiJkyYQO/evcnNzaVHjx6cddZZ3Hnnndj2/v8T8e3btzNr1izOPfdcTj75ZHJy\\\n",
       "cujZsyeTJk3i888/P2i/d+3axXXXXUdhYSEdO3bk3HPPZenSpYBz53DHHXfQp08fcnNzGTJkCK+9\\\n",
       "9lqj9p577jkyMzOZOXMmH3zwARdddBH5+fnk5+dz2WWXsWrVqkOq+8svv+T6669PrLd79+5cccUV\\\n",
       "TbZTXl7O/fffz7Bhw8jPz6dTp07069ePiRMnHhPv1z755BNefvllhg0bxu23394ovAB8Pl+Ty9bX\\\n",
       "1zNlyhS6devG7bfffqS7Ki6lOzD5VsrLyxkzZgx+v58LL7yQuro65syZww033IBpmkycOPGQ23zr\\\n",
       "rbeYMGEC6enpjB07lk6dOlFWVsbGjRt54oknmD59Ol6vc+guW7aM3/72t4wYMYILL7yQlJQUNm7c\\\n",
       "yJw5c/jb3/7G/Pnz6devX7P9btu2LZdffjnbtm1jzpw5XHrppbz11lv8/Oc/p7q6mnHjxlFRUcGr\\\n",
       "r77KVVddRadOnTj99NMbtffhhx/ym9/8hlGjRjF58mQ2btzIvHnzWLp0Ka+99hpDhgxpse733nuP\\\n",
       "K664gtraWsaMGUP37t3Zvn078+bN4+233+b5559n9OjRgPNu6LLLLmPlypUMGjSIiRMn4vf72b59\\\n",
       "O8uWLeO9995jxIgRh7ztD6eXX34ZgIkTJ1JWVsb8+fPZtm0bWVlZjBw5kpNOOqnZZX/1q1+xbt06\\\n",
       "3nnnHfx+/3fVZXEZBZh8K2vWrOHHP/4xDzzwAB6PB4Brr72W733vezz88MP/VIA988wz2LbNvHnz\\\n",
       "6N+/f9Jne/fuTYQXwJlnnskXX3xBenp60nyrVq1i3LhxTJ8+nVdffbXJfl9zzTXMmjUrcWfw4IMP\\\n",
       "MmPGDM4//3xGjRrFk08+mbhDOPvss5k8eTIPPfQQzz33XKP23n77bWbPns3kyZMT0+bMmcOVV17J\\\n",
       "T3/6Uz744IMm70DiysvLueqqq/D5fLz99tv07Nkz8dn69esZPXo01113HZ988gmBQIC1a9eycuVK\\\n",
       "xo4dywsvvJDUlm3blJaWNruuhj799FNef/31Vs0b98Mf/pAuXbq0ON9HH30EQElJCQMGDKCsrCzx\\\n",
       "mWmaTJo0iVmzZiWOm7hly5bx8MMPM3Xq1Ca/fIjEKcDkW0lJSeG+++5Lugj17NmToUOHsnTpUioq\\\n",
       "KhqFS0tM00y0faCsrKykv+fk5DTZxoABAxgxYgQLFy4kHA43elSVmprKL3/5y6RQGT9+PDNmzGDf\\\n",
       "vn3cd999SctccsklXHvttaxevbrJ9XXr1o1JkyYlTbvooosYMmQIK1asYMWKFQwdOrTZml988UX2\\\n",
       "7t3LrFmzksILoKioiH/7t3/j8ccfZ+HChYwZM+ag28gwjEbbqTmrV6/m/vvvb9W8ccOHD29VgO3Z\\\n",
       "sweA6dOnc+6553LPPffQsWNHPvroI2688Ub++Mc/0rZtW+64447EMvv27eMnP/kJ/fv35xe/+MUh\\\n",
       "9UtOPAow+Va6d+9OWlpao+mdOnUCnDuLQw2w8ePHM3fuXEaPHs3FF1/MiBEjOP3005u9aL755pv8\\\n",
       "6U9/YtWqVZSUlBCJRJI+LykpoX379o36nZqamjQtPk9mZib5+flJn3k8HnJycti2bVuTfRg2bFgi\\\n",
       "VBo644wzWLFiBZ9++ulBA2zFihUArF27lpkzZzb6PD7c/IsvvmDMmDEUFRUxYMAAXn31Vb7++mvG\\\n",
       "jRvHkCFDGDhwIMFgsNn1HOiKK67giiuuaPX8h8KyLAAKCgp4+umnE48CR44cydNPP83IkSN5/PHH\\\n",
       "ufnmmxOf3XrrrezatYuXX3456U5bpCk6QuRbycjIaHJ6/I4sfhE7FOeffz6vvvoqjzzyCC+88AJP\\\n",
       "P/00AL169eK2227joosuSsz7+9//nqlTp5KZmcmoUaPIz88nGAxiGAavv/46a9asoa6urtE6mgrV\\\n",
       "+AWzucD1eDyNwjEuNze3yenxO8R9+/YdpGLn0SjAs88+e9D5qqqqEn157bXXeOCBB3jttdeYPn06\\\n",
       "4NyRXXzxxcyYMYPs7OyDtnWkZWZmAnDOOec0eo/Vt29funTpwldffcX69evp27cvf/vb33jxxRe5\\\n",
       "9957KSoqOhpdFpdRgMkxafTo0YwePZqamho+/PBD3n77bZ566il+/OMfM2/ePIYPH04kEmHmzJnk\\\n",
       "5eXx3nvvNbrLWrly5XfW3127djU5fffu3UDzQR8X/3zhwoUMGDCgVevMzMzk3nvv5d5772XTpk0s\\\n",
       "W7aMZ599lueee44tW7Ywd+7cFts4ku/AevTowYcffkibNm2a7T+Q+H1XfKTl3Xffzd13393kMvF9\\\n",
       "vGjRIr0fEwWYHNtCoRDDhw9n+PDhdO3alZ///Oe88cYbDB8+nJKSEsrLyznzzDMbhVdlZSWffPLJ\\\n",
       "d9bP999/n2g02ugx4rJlywBavNiefvrpzJ07l+XLl7c6wBrq2rUrXbt2Zfz48QwYMIBFixZRXl7e\\\n",
       "bHjEHcl3YGeddRYvvfQS69ata/RZXV0dGzduBJxHjAD9+/fnRz/6UZNt/fWvf038KNrj8bT6HZ8c\\\n",
       "3xRgcsxZuHAhgwcPbjRAYefOnQCJdzw5OTmkpKTw8ccfU1lZmXgXFw6HmTp1KiUlJd9Znzdu3MhT\\\n",
       "Tz3VaBTiihUrKCwsbHEY/cSJE3nggQeYPXs2gwYNYvDgwUmf27bN+++/z6BBg/D7/WzatInq6mp6\\\n",
       "9eqVNF9lZSVVVVV4vd5WvUM6ku/ALrzwQmbMmMHf/vY3li9fzrBhwxKfzZ49m3379jFixAjy8vIA\\\n",
       "GDduHOPGjWuyrYULF1JZWcmDDz54SO/45PimAJNjzl133cXXX3/N9773PQoKCggGg6xdu5Z33nmH\\\n",
       "rKwsrrzySsAZrXjNNdfwm9/8hjPOOINx48YRDodZvHgxpaWljBgx4jv7Qe8555zDXXfdxdtvv03v\\\n",
       "3r0TvwMLhUI88sgjBx1CD9C2bVueeeYZJk6cyLnnnsuZZ55Jz5498fl8bN26lX/84x988803bNq0\\\n",
       "Cb/fz5o1a5g4cSL9+vWjV69edOjQgbKyMt58801KS0u57rrrGg1S+a6lpqby+OOPM2HCBC688ELO\\\n",
       "P/98OnXqxIcffsjy5cvJycnhoYceOqp9FHdTgMkx56abbuL111/n448/TgRQx44d+Y//+A+uvfZa\\\n",
       "OnfunJj3zjvvJDs7m2effZY///nPZGRkcNZZZ3HXXXc1OZrvSBk0aBC33nor9913H3/4wx8AGDVq\\\n",
       "FHfffXerHwmeeeaZLF26lEcffZR33nmHDz74AK/XS15eHqeffjrTpk1LvCs79dRTuemmm1iyZAkL\\\n",
       "FiygtLSUrKwsTj75ZH71q1/xgx/84IjVeihGjRrFO++8w+zZs1m0aBH79u0jLy+Pf//3f+eWW26h\\\n",
       "Q4cOR7uL4mJGWVmZ3fJsItKU5557juuuu47bbrtN/+SRyHdM/xaiiIi4kgJMRERcSe/A5IjbvHkz\\\n",
       "zz//fKvmbe1vjERE9A5MjrjFixdzwQUXtGreefPmHfV/RV1E3EEBJiIirqR3YCIi4koKMBERcSUF\\\n",
       "WExxcfHR7sJRc6LWfqLWDSdu7Sdq3XB81q4AExERV1KAiYiIKynARETElRRgIiLiSgowERFxJQWY\\\n",
       "iIi4kgJMRERcSQEmIiKupAATERFXUoCJiIgrKcBERMSVFGAiIuJKCjAREXElBZiIiLiSAkxERFxJ\\\n",
       "ASYiIq6kABMREVdSgImIiCspwERExJUUYCIi4koKMBERcSUFmIiIuJICTEREXEkBJiIirqQAExER\\\n",
       "V1KAiYiIKynARETElRRgIiLiSkZZWZl9tDtxoOLi4qPdBREROQwKCwuPWNvHZIAdDcXFxUd0Qx/L\\\n",
       "TtTaT9S64cSt/UStG47P2vUIUUREXEkBJiIirqQAExERV1KAiYiIKynARETElRRgIiLiSgowERFx\\\n",
       "JQWYiIi4kgJMRERcSQEmIiKupAATERFXUoCJiIgrKcBERMSVFGAiIuJKCjAREXElBZiIiLiSAkxE\\\n",
       "RFxJASYiIq6kABMREVdSgImIiCspwERExJUUYCIi4koKMBERcSUFmIiIuJICTEREXEkBJiIirqQA\\\n",
       "ExERV1KAiYiIKynARETElRRgIiLiSgowERFxJQWYiIi4kgJMRERcSQEmIiKupAATERFXUoCJiIgr\\\n",
       "KcBERMSVFGAiIuJKCjAREXElBZiIiLiSAkxERFzJKCsrs492Jw5UXFx8tLsgIiKHQWFh4RFr+5gM\\\n",
       "sKOhuLj4iG7oY9mJWvuJWjecuLWfqHXD8Vm7HiGKiIgrKcBERMSVFGAiIuJKCjAREXElBZiIiLiS\\\n",
       "AkxERFxJASYiIq6kABMREVdSgImIiCspwERExJUUYCIi4koKMBERcSUFmIiIuJICTEREXEkBJiIi\\\n",
       "rqQAExERV1KAiYiIKynARETElRRgIiLiSgowERFxJQWYiIi4kgJMRERcSQEmIiKupAATERFXUoCJ\\\n",
       "iIgrKcBERMSVFGAiIuJKCjAREXElBZiIiLiSAkxERFxJASYiIq6kABMREVdSgImIiCspwERExJUU\\\n",
       "YIeopNZq9fRDmfdQ2mzNuuJ/P3B6cXm4yTYaTmuuf/Flm5reVLsNpxWXh5uc3nCdB05rqo7m+t1c\\\n",
       "v5rbBgCbq2l2XQ37e+A88c8PbD8+/WB9PvC/W+pjw34cuNyBfYy3sXJXXaPlV+6qS1pfvPaVu+qa\\\n",
       "rK257dLaY7epepuqr7XH7aFqbvmyxpvzW5+nrfVdredE4j3aHXCTFTvrWLi9jgu6hOjV1peY/llp\\\n",
       "mHmbazirQ4AheYFDnre161qxs46Xv6wGDC7vFkosf2Cb8WW7pnnZVBlJtPHShmoeX1tBZsCksI2X\\\n",
       "y7ulMCQvwIYqg3c+3kedBae287G7Ntqo3y9tqOLxtZUUpHm5fWBG4rOXNlTzwCf7qLUgP83DKW19\\\n",
       "/HvPVFaXhHniswrSfSZh26YqDNf2TgPg8bUVpPlM8lJMsgIeerX18llphL11FmELMgMmEwtTSPeb\\\n",
       "zNtcQ07QZHdttFE9n5WG+d3aSkrrorRP8SRtk5c2VPM/xVUMy/PjMY2kbfA/xVX0yPCybGuAwj1l\\\n",
       "3DEwA4B5m2vomubh/zbX8nVlhGt7p9M13ZPYDwC/W1vJF+VhdlRFSfE57XpM6NXWx1+/qmHN3npO\\\n",
       "SvdyyUkhNlVaib5f0CVERX00qa3p/yhnR3WUCT1CVITtxP6bt7mGP3xWSV6Kyc7qKFN6pSWWWbGz\\\n",
       "jic+r2LlrjoCpsG009uQGzR5+csawCZiw9yvakjxGZxXEOSz0ghBL6wuiZAbMjGA3lk+PtoewPxq\\\n",
       "N3trbS7vHuL8ghAvf1lDcVmYrVUWp7T1cvvANg22i5eVu+ups2wmFqYc9Nht6Xx5aUMV/1Nc3Wjf\\\n",
       "xI/j+H5u6Rw51PV+Vhrm5e1eotl1h+08PRx9OpzrOdEYZWVl9tHuxLGguLiYwsLCZj9fsbOOd7c5\\\n",
       "31YN4MKu+0+6uZtqiG/Eszs6B2Fr523qoG1qXRX1UV7aWM368gjYUJTpZUJ35yLfsM28kMnOmijf\\\n",
       "VFls2hehKNNLbsiDzwOvfVnDrlqLmgi0D5kM7xBgSK6fvxfvZjup7KuLggH9sv3kp3oS/X5pQxWP\\\n",
       "rq2krC4KQP9sP3cMzGB1SZhff7KPrVUW9VHwGk6IdUz1sqM6Qlm9zb56Z5l0n4HfY4AN9VGbqohN\\\n",
       "wGOSHTDwGGDZUBG2sbHJDXkoSPOQFfBg2zZfVVik+gyqwnaint5ZPt7aUsvqvfWU1NpkBgxOz/Ez\\\n",
       "oXsKmyosnvmiin31Ucrqo/TP9tEny4/PA+9+U8euGout1RY+2yYj6OWkdA+FmT5s22bJjjrK6qIE\\\n",
       "PAY+06BXWx+9s3zsqY2ys9ris9Iw26osLMADpPoMerf1sas2yu4ai3DUxmNAVsBD9zZeqsI2XTO8\\\n",
       "mIDPhJyQhz01Fp+XRdhSGaE+agMGZ+T5OTnTR8B0jp1tVRZ7ai3aBT10TPVwTa80coMmv/+skoXb\\\n",
       "6qiK2PhMyPSbFGV6qbNgS5XFjiqLKGADHgNSvVAZcSZEAb/pfGZHbSK2gc8DIQ90SvVSZ9lsq3bu\\\n",
       "BlK9Bj0zvRRm+rFtm4/3hIlEbTL8Jl0zvPxbCyHW3Pny0oYqnimuZl+ds2/6Zfvom+Wnd5aPtXvD\\\n",
       "7KqxWF8WoWuGl86pnmbPkUNdb/zcKynZS1Z21mE5Tw9Xnw7XelrS0jXOjRRgMQfbuSW1Fk+uqyLa\\\n",
       "YEsZQGEbL8XlERpuwDrLuQgHPWaL85oGXN0zleyg56Drqo3YbKqMsKc2SsMG2gVNuqR7CHmdddVE\\\n",
       "ony8J0xRppd1ZRHs2LxpPoM1pWFqIzbhRMMGuSETjwGBaD3BYJDtsYtXx1QPg3P9pHpN2qeYvLCh\\\n",
       "mm1V8cuio7CNl68rLXZUW9RbYAG27VykDcBwsopwdP/0qO1MN3EuprYNntj84FxwTcPAZ0LQa5AX\\\n",
       "MvGZBrYNO2qitI/9PTvohHRZnUV1hES/OqR4yAqalNZFsW3YXr2/zz0yvGyssPAZNrtqbWc/2TZp\\\n",
       "PpMokBMwsQ3YXWMBBiEv1ESc4O2T5aO0LsqWKovSumiipvg+NBvUZBrOZ17TWbYgzYsRK9BrGmQF\\\n",
       "TL6pirCx3MJrQiS2P9L9JnkhD3tqo2T6DTZVRBL7qXuGB7/HIBKFbVUWJbEvErbtVBfwOIFTWufc\\\n",
       "gdmxY+7gJ7aNiZHY9obhhFvEdpY1Dae/uUETjwk1EafVDikmfo/BoBwfN/RJTzp245o7X9qnmLzy\\\n",
       "ZQ31lp041jAMTsn0Uh2xyQqYlNRGE/05tZ2PNJ/Z6BxpTmvO072xAPu252lrHcq149uspzWOxwDz\\\n",
       "TJ069Z6j3Yljwd69e8nOzm7ysxSvSVbA5IuySNL0+IUkzgAu6ZZCnyx/q+a9sGuILunJT3GbWpc3\\\n",
       "dhGPn9zxBvLTPLQJ7D/Y/abB2IIQVWGboMdIrLM+6gRIdQQisSZCXufSleE38UQtAn4fPtMgxWvS\\\n",
       "L9tHZqzdyrBNqtegvD5KTaxL2UET0zAwDKiL2li2E06m6azHNEi6kJoG+DzO3UrA41zoozb4Pfvn\\\n",
       "9ZpOgAEEPSZ5IZNT2/nJDXkoq7fpkeElXn5NxHaCgviF1elT0GtyUrpzh1Zab+M1nRDKDpp4DAOv\\\n",
       "CZVhMA2nz/GgjW8LyyYxn980yQoYZAY8sbsZA7/HWV+9tT+4EhegeBLg1JKf6uXUdn7qonBKpo/c\\\n",
       "kIeS2ig1ERuf6dx17qu3E/vCaxhUR2yygyZpPhOv4dw5dUgxaeP3YBoGdVEneE3D2aemASleMAyD\\\n",
       "iO1Mb3ih9BrNB5mzX5x9aBjOl5wUn4FlO9vBazr7C+LHjEF20CDoNenZxsuPTk5rdOwe7BiOH0sh\\\n",
       "jxO0+/eNkdh48X2JAUVtvLQNeJo8R5rTmvO0pqaGlJTQtz5PW+tQrh3fZj2tcbBrnFspwGJa2rk5\\\n",
       "Iefb/YEHYlzDRwOHMm9r15XqMwl5DSfEYid4Tmh/eMXbHN4+QFbQ5Jsqi1CDEPObTnjUWs5/+2N3\\\n",
       "Mqlek0gkgs/no2+2n/9XmEJ1JPmSl+ozaeM32VcfJcXrLLO/TYNw1LkoBzwGNgZm7KIYD6lUn0HI\\\n",
       "a9Ip1UMbv0l91MZvGtg4F9GQ11kOnBO+fYrJwHZ+ckIe0nwmYwtCRG2S6omv3wldg1SfmdgmqT6T\\\n",
       "kMegImxT2MZL2N4/v9eEesupPWJZBLwe/Ob+9MkNmWT4PKR4YXBugA4pnqRtmOJ1HoXWWjY2zoW+\\\n",
       "4T6Ih9cZ7f10SfcytiBEdcQmpeH+i9XpMSBqG4n1x/dHfJuPzQ+yL7x/X8T7H4mCxzTwm5DmM50v\\\n",
       "AVED0zBI8ZLoly/WNw/OHbKBc6foNwFsjNi+6pRq0j7FQ71l4I2tI+g1GmwXJ7xSfU54TTolrdlj\\\n",
       "92DHcLyukLfBvokesGDs2M4NeQ56jhzqeuNqa6uZcEr2YTlPD1efDtd6WnI8BtgxOYijuLj4mFyv\\\n",
       "D0iv8bCpuvHgza4pUXx7LIr3HPq8rV2XBwhEnIuKp9pmb3XTbcaXLak2CYQNysLOMibQzgNVlgFR\\\n",
       "MMM2NbFRWYFINd1si571Fl830W8PcLIfdtcblNXsv+CbQLbHmaHKMiiNQMR2PvfG/qSbUVI9NmZs\\\n",
       "Xe08UIVBqeXcH/hsO7FMkAhZRPFU17C32qkr3qcD6wFo64td4MPJ28QDdDIgw4LyA7ZBhgEBG7wB\\\n",
       "qLIi1Mb6FfQ42yTTZ5Pjt/FU1zjbpsHybX02bf1QWWtSiYEZu/uMPx4NGTYdvbV4qmtIJ5q0PeP7\\\n",
       "L95WJ5+N1zIoqTcS647vj8LUKD/KDLOzxEdxg31hAp6oQZ7Xqbuk3nkMaEQBw8Bn22R7oS4K1ZaB\\\n",
       "SfIdsRnbJ84jTxu/AVlm2Nl+UQMPkO2zqbKMRtslgE03LHx79hz02I1r7hxI2jeR5P2Z6bPxVNuk\\\n",
       "0/I5cqjrBeiaYuPbs+mwnaeHp0+Hbz0tORrX1iP52PKYDLCj8Zy2Nc+HPysNU1FZQ1ao8WcVQLjd\\\n",
       "/m9RhzJva9e1u8airj4CBlgpyXdgDduML2thUReOEIrt5apIlD3VUQxi76R8zjf+mpoa6rwpfGn4\\\n",
       "WOcPUBEKN+r37hqLL/bUAwYpof0XnKpIlJJqK/FN2jbBg/OILuLcLFIRNanFoH3AOXn3VFtYUbAN\\\n",
       "5yFj2AAnv2xq8bAXk64pzh1YBbDO76MiFG5UD0BpxAacO5yG22R3jcXW8gj1HpM6XzRpG+yrtUkx\\\n",
       "oKQujNfrxRfbDRbONinFoLTe5tQMP0DSOksjUcrqbaptZ7AEsceI8fdcNbbBtoifril+KkKeRN+z\\\n",
       "Qvv3X7ytrbUW5ZaNz7d/3fE7sK02PFvmY6sdJtRgX1RFolhWlJ0RsG2bFJ9BfdROvJMLGzblsS/6\\\n",
       "pgnRqPNIMOp0lSgQAazYA946G/ZGfWQGTCzLeUdaEXYe8fljjxAtDKI+gzqfyZd4Cbdr+Q4Mmj8H\\\n",
       "kvaNN5q0P+tix3ZFyNPiOXKo6wXYvLeEcLuuh+08PRx9OpzrORi9AzuOtXR7feCIoaZ8URYhKzZs\\\n",
       "urXzNgyhg61rd2x0VlxJXZSQx3ms07DN0vooS7Y7I+3iIxbBufBtr3bewYSjsfcolvOoyYha+Hw+\\\n",
       "vq60WL6zngx/cru7ayw+2uOM9quORGPviIxYmxaVYZvqiPOtP/5eKB5oVhTqLLBsm+qIMyqxOgI1\\\n",
       "1v6BHvH/Ng0IR23qLKgIR2njN6mK2Lz1TS01EZuvq6ykFzpVkSgltVGqI84Fd1/sHUt1xGZ9eYSq\\\n",
       "cJSN+6yk/pbU2tRHo+ypjVIf3T/wwhNLoH31NhXhKHWWwY5qi5Ja5/FofH1bKi1210SxYnc0idc2\\\n",
       "sQCzbaiMRNlXb2MYsGh7HcF4nxrsvz21Fturo4l94TEMamJ1+E2DklqLJTvrMXEeNx5Yb0XYJhx1\\\n",
       "tms46tzJWjZUxd5zRhrcGTZ8cGVDou9GvOaws28Mw6YybFNjxd4Hmvu3S02ExDbeUhEhP83b5LF7\\\n",
       "sGO44XFcFUneNw3Fj+1vqqxmz5FDXW9cTXUtW+p9h+U8PVx9Olzracnx+AhRP2RuhZJai3mbkw9A\\\n",
       "Azi5jbfhu3ts4H83VvPSxqpWzTtvc02TP+Q8cF21Edt5D3NAA86ggP0vEaojUf7wWSV7ai2+aBBe\\\n",
       "aT6D3bXR2Ig3Z2JNBAIe56IZsZ3g2FPrDN1eWxqmOuLcqXVIMVlbGqakdv+yJbVRAh7npXxV2CZs\\\n",
       "OUFgRZ2LpxWNjyiMTY/djTnh4HwOToA6Ayf2X2zBeae2uzbKqpJ61paGqbdsPtwTJmztH7ARsfeP\\\n",
       "jIv3KRwbBr621Jk33ueS2ih+E/bW2fhNJ2zDsYu8xzCotSBgOu+2qiPOYJX6qBP4u2os0nxOn3bW\\\n",
       "RKmK2Ima4gNB4qMQwQmySBS2VEVYvrOOestmbWmYtaVhMCAraFJtOW3H35/VxNrMCXnYW+cE6LZq\\\n",
       "C9u22V4dpToSJWLbeAxnJGJF7L1YNBZYlu0M2olvz/gREbGdO7um2MRGMcb+VIZtKuqdUDRibVdH\\\n",
       "nHBxBrk42zNsOV8OXtpYddAf5jZ1vnRIMfmiPEI4asfeBdqU1Nmk+pzBJNlBM9G5L8qdkGvqHGnO\\\n",
       "d3mettah9OnbrOdEpTuwmJZGIfoM+KrCObjiL11Hdgw2ejl7bucghW18rZp3VMcAhZnJjw2aWtel\\\n",
       "3VLon+Vz7ghiAwqKMr1cVZTKoJxAok2faXBajp8ozgv9srooRZleerTxcVqun62VFvVRm0jUoH3I\\\n",
       "ZESHAJd3S6G8oopq04+B8/L+lLZ+2gWdl+j/0jmE34RP94apjQVI/2w/005rQ48MH6v3hp2Luu08\\\n",
       "lixI83BKW39sRKFBJOrcVWQsarW0AAAThElEQVT4DdoETFK9ziABy4YUn0n7kEnbgEm6zwScz9qn\\\n",
       "eCjK9NIlzUdWwGRf2KZjqgfLdurumu7l/C4hamN3ajUR58fPp7bzc3XPNE5K97FmbxgDqLVs+mf7\\\n",
       "GJgTYGCOj901znCRqohN0ID0gIeemV4G5gbokuZhb50T9AGPQbrPpF+2n37ZftL9Jhk+k1rLpjrs\\\n",
       "JJfPgHS/wcB2fnwep1YDZ1h7TtD5UbdlQ7c2PtoFPeSGTLqme2njc0ZxxkdT+kyTobl+BucGOK2d\\\n",
       "j23Vzh1edcSmXdBDdtDDtb3TubBLiB01FtuqnEe2fo/zU4r+2T7a+D1EgZqwnRhZ6DMhwxf7koAz\\\n",
       "LeiJjfjEGcbh80CaD7pleEnxOneKZmxUYt8sL4NyAxSkedhXb+M3neOza4aXy05KaXTstnS+/Evn\\\n",
       "EB4D1pRGEvumX7aPAdl+xhY4z9biA126ZnjJDnqaPEea05rztKamhlBK6Fufp611KNeOb7Oe1jge\\\n",
       "78AUYDEt7dzOaV78JmyutJJGDMVHGBWXRxgV+yHioczb2nV1TvOS6TfZVWORE/IwvrvzQ9ID27yg\\\n",
       "awp+E0rro4zsECRiOyfMRV1TSPWafF4a5qQMLwNz/IzvnsKYghC+qj1UeNPICXkYWxDEZxpJ/e6T\\\n",
       "5SfVa7Bmb5iiTB93xP4ljj5ZPtr4TdbuDRPymvRs6+O03AC3DEine4aPL8rCdEv3kptiEvCY3Nw/\\\n",
       "g5Edg6wrC1OQ5qVPlpdT2vr5fkGQVJ9Ju5BJh5ATUJNPSeN7HQLsqIlyWo6fNgEzqZ7h7QN0TXd+\\\n",
       "i9bGb9Iz05fYJn2yfHgNgy/KI4wtCNI+1ZvYBl7D4MuKCGe2D1BaU0ev7CDTT2/DwHZ+tlZbjMsP\\\n",
       "Uh1xfmx9Y78MxuQH2Vxp8a89UhjRIcDOmig+Dxi2QW6Kh3/tkUqXDC+XdkuhxnJCp0+Wn6tPSSXF\\\n",
       "Z3Jajh+faXBFYSqFbbyxtlI5Nz/IZ6VhwGDSKalk+E1GdQxwefdU0v3O/uzfzodpGFwT+5c4Oqd5\\\n",
       "Y6Mibcrro2T6Te4bksmYzkF21UbpnuGhd7aPTfucx1Hju4cwDIMebTxUhG1OSvfQLmgysmOA2ro6\\\n",
       "ctJ82LbB/ytM4fo+6VRFIBj7ycaAdj6mn56Z2C7ndApiGAYZfpMfteJf4mjuHOiT5cdrkNg3HWL7\\\n",
       "Jj56dmu1xcgOQWw46Dnyz56nn+zYx3nd2x6W8/Rw9elwraclx2OA6YfMMa19wVlSazX7480Dpx/K\\\n",
       "vK1dV/wRQ0vriv/9wOnF5WGyYoMp4tOLi4vJyu+WmNZc/+LLHvhZ/N+1a9Rug3XtrYtS2MbXaHrD\\\n",
       "dTYUb+PAOpqq88BlGvarsI2vyW1Q2MbH258Uc2pRtybX1bC/DZePr29v7E64Yfvx5eLbqKk+H/jf\\\n",
       "8fU018f4/zYUXy6+/ob9yg56WLmrLvbPhe1ffuWuOrpleBPri9f+5b4Ip+cGGtXWcD83rKOp7Xww\\\n",
       "BzuWmqq7uf18qJpbfuVnxZzeq7BV837bPrS2vcO9nuYcj4M4FGAxx+POba0TtfYTtW44cWs/UeuG\\\n",
       "47N2DeIQERFXUoCJiIgrKcBERMSVFGAiIuJKCjAREXElBZiIiLiSAkxERFxJASYiIq6kABMREVdS\\\n",
       "gImIiCspwERExJUUYCIi4koKMBERcSUFmIiIuJICTEREXEkBJiIirqQAExERV1KAiYiIKynARETE\\\n",
       "lRRgIiLiSgowERFxJQWYiIi4kgJMRERcSQEmIiKupAATERFXUoCJiIgrKcBERMSVFGAiIuJKCjAR\\\n",
       "EXElBZiIiLiSAkxERFxJASYiIq6kABMREVdSgImIiCspwERExJWMsrIy+2h34kDFxcVHuwsiInIY\\\n",
       "FBYWHrG2j8kAOxqKi4uP6IY+lp2otZ+odcOJW/uJWjccn7XrEaKIiLiSAkxERFxJASYiIq6kABMR\\\n",
       "EVdSgImIiCspwERExJUUYCIi4koKMBERcSUFmIiIuJICTEREXEkBJiIirqQAExERV1KAiYiIKynA\\\n",
       "RETElRRgIiLiSgowERFxJQWYiIi4kgJMRERcSQEmIiKupAATERFXUoCJiIgrKcBERMSVFGAiIuJK\\\n",
       "CjAREXElBZiIiLiSAkxERFxJASYiIq6kABMREVdSgImIiCspwERExJUUYCIi4koKMBERcSUFmIiI\\\n",
       "uJICTEREXEkBJiIirqQAExERV1KAiYiIKynARETElRRgIiLiSgowERFxJaOsrMw+2p04UHFx8dHu\\\n",
       "goiIHAaFhYVHrO1jMsCOhuLi4iO6oY9lJ2rtJ2rdcOLWfqLWDcdn7XqEKCIirqQAExERV1KAiYiI\\\n",
       "KynARETElRRgIiLiSgowERFxJQWYiIi4kgJMRERcSQEmIiKupAATERFXUoCJiIgrKcBERMSVFGAi\\\n",
       "IuJKCjAREXElBZiIiLiSAkxERFxJASYiIq6kABMREVdSgImIiCspwERExJUUYCIi4koKMBERcSUF\\\n",
       "mIiIuJICTEREXEkBJiIirqQAExERV1KAiYiIKynARETElRRgIiLiSkZZWZl9tDshIiJyqHQHJiIi\\\n",
       "rqQAExERV1KAiYiIKynARETElVwbYDt27OAnP/kJ3bt3Jy8vjyFDhrBkyRIAwuEw06ZN44wzzqBj\\\n",
       "x44UFRVx9dVXs2XLlqQ26urquOWWW+jWrRsdO3bkX//1X9m6dWvSPFu2bGHChAl07NiRbt26ceut\\\n",
       "t1JfX580z5IlSxg5ciR5eXn079+fP/3pT0et9gP97Gc/IzMzk0ceeSRpuhtrb03dGzZsYOLEiRQU\\\n",
       "FNChQwfOPPNM1q9f7+q6oeXaKysrueWWW+jVqxft27fntNNO47HHHktqw4219+3bl8zMzEZ/xo8f\\\n",
       "n5jnySefpF+/fuTl5TFy5EiWLVt23Nf94IMPMmrUKPLz8+nevTsTJkzgs88+S2rDtm1mzpxJz549\\\n",
       "ad++Peeddx6ff/550jxlZWVMmTKFgoICCgoKmDJlCmVlZUnzrF27lnHjxtG+fXtOOeUU7r//fmz7\\\n",
       "2Bj758oAKysrY8yYMdi2zf/+7/+yYsUK/uu//oucnBwAqqur+eSTT7j55pt57733eP7559m6dSuX\\\n",
       "XXYZkUgk0c7tt9/OvHnzeOqpp3jjjTeoqKhgwoQJWJYFgGVZTJgwgcrKSt544w2eeuop5s6dy513\\\n",
       "3ploY9OmTYwfP57BgwezaNEifvGLX3DrrbcyZ86co1J7Q3PmzOGjjz6iQ4cOjT5zW+2tqXvTpk2M\\\n",
       "GTOGLl26MHfuXJYvX85dd91Famqqa+tube133nknb731Fr///e9ZsWIFN910E9OnT+fFF190de0L\\\n",
       "Fixg/fr1iT/vvfcehmHwgx/8AIC//OUvTJ06lZtuuolFixYxePBgLr/88qQvq8dj3UuWLGHSpEm8\\\n",
       "+eabzJ07F6/Xyw9+8ANKS0sTbfz2t7/lscce4/777+fdd98lJyeHiy++mIqKisQ8V199NZ9++ikv\\\n",
       "v/wyr7zyCp9++inXXHNN4vN9+/Zx8cUXk5uby7vvvsusWbN45JFHePTRR49I3YfKlcPoZ8yYwdKl\\\n",
       "S3nzzTdbvcy6desYOnQoS5cupXfv3pSXl9OjRw8ee+yxxLeab775hr59+/LKK68wevRo/v73vzN+\\\n",
       "/HhWr15N586dAXjppZe44YYbKC4uJiMjg2nTpjFv3jw++uijxLquv/561q1bx9///vfDWzitr/3r\\\n",
       "r79mzJgxvPbaa1x22WVMmTKF66+/HsCVtbem7quvvhrDMPjjH//Y5OdurBtaV/uwYcO44IILuOOO\\\n",
       "OxLTxo0bR+/evZk9e7Zraz/Qr3/9ax5++GHWrVtHSkoKo0ePpnfv3jz88MOJeQYOHMhFF13EtGnT\\\n",
       "jtu6D1RZWUlBQQHPPfccY8eOxbZtevbsyeTJk7n55psBqKmpobCwkHvvvZerrrqK9evXM2TIEObP\\\n",
       "n8/QoUMBWL58OWPHjmXlypUUFhby1FNPcc899/DFF18QCoUAmD17Nn/605/47LPPMAzjiNd+MK68\\\n",
       "A3v99dcZNGgQV111FT169GD48OH84Q9/OOhtbfxbR2ZmJgCrVq0iHA5z9tlnJ+bp3LkzRUVFrFix\\\n",
       "AoAPPviAoqKixEENMHr0aOrq6li1alVinoZtxOf5+OOPCYfDh6fgBlpTeyQS4eqrr+bmm2+mqKio\\\n",
       "URturL2luqPRKPPnz6eoqIhLL72U7t27M2rUKP7yl7+4uu7W1A4wdOhQ5s+fzzfffAPAihUrWLNm\\\n",
       "DaNHj3Z17Q3Zts2zzz7LhAkTSElJob6+nlWrVjXqz9lnn52o6XisuymVlZVEo9HE9W3z5s3s3Lkz\\\n",
       "qc+hUIgzzjgjqe60tDSGDBmSmGfo0KGkpqYmzTNs2LBEeIFT9/bt29m8efNhr/VQuTLANm3axFNP\\\n",
       "PUXXrl159dVX+clPfsL06dOb/eZdX1/PXXfdxfe//306deoEwK5du/B4PGRnZyfNm5OTw65duxLz\\\n",
       "HPhoLjs7G4/Hc9B5cnJyiEQilJSUHJZ6G2pN7TNnzqRt27ZMmjSpyTbcWHtLde/evZvKysrEu4G/\\\n",
       "/vWvXHrppUyePJn58+e7tu7W1A5w//3307dvX/r06UO7du0477zzuOeee/j+97/v6tobWrBgAZs3\\\n",
       "b+ZHP/oRACUlJViW1WR/Gvb3eKu7KVOnTqVv374MHjwYgJ07dyb62NCBdWdnZyfdRRmGQbt27Vqs\\\n",
       "O/7Z0eY92h34Z0SjUU499VSmTZsGQP/+/fnyyy958sknmTJlStK8kUiEKVOmUF5ezgsvvNBi27Zt\\\n",
       "N9qhTTnYPPFvxkfi9rql2pcsWcLzzz/P4sWLD7ntY7n2luqORqOA89jspz/9KQD9+vVj1apVPPnk\\\n",
       "k4kLeVOO5bqhdcf7E088wYoVK3jhhRfIz89n2bJl3H333RQUFHDOOec02/axXntDTz/9NAMHDqRf\\\n",
       "v37N9i3en5b6cjzUHXfHHXfw/vvvM3/+fDweT9JnLW2bpvre0jzfVd2t4co7sLy8vEaPxk4++eTE\\\n",
       "45O4SCTCpEmTWLt2LXPmzCErKyvxWW5uLpZlNfr2tGfPnsQ3jNzc3EbfMg781tfUPHv27MHr9Sat\\\n",
       "73BpqfbFixezY8cOioqKyM7OJjs7my1btjBt2jR69eqV6LPbam+p7uzsbLxe70HncWPd0HLtNTU1\\\n",
       "zJgxg+nTpzN27Fj69OnDlClTuOSSSxKjT91ae9zu3bt54403uPLKKxPTDrxLatifhv093upu6Pbb\\\n",
       "b+fVV19l7ty5dO3aNTE9Ly8PaHyXdGDde/bsSXoUbds2JSUlLdYNje/ujgZXBtjQoUPZsGFD0rQN\\\n",
       "GzaQn5+f+Hs4HOaqq65i7dq1zJs3L7FD4wYMGIDP52PBggWJaVu3bk282AQYPHgw69evTxpyu2DB\\\n",
       "AgKBAAMGDEjMs3DhwqS2FyxYwKmnnorP5zss9TbUUu1XX301S5cuZfHixYk/HTp04Nprr02MmHJj\\\n",
       "7S3V7ff7GThwIMXFxc3O48a6oeXaw+Ew4XC40bdvj8eTuDN1a+1xzz//PIFAgEsuuSQxze/3M2DA\\\n",
       "gKSa4v2J13Q81h1322238corrzB37lxOPvnkpM+6dOlCXl5eUt21tbUsX748qe7Kyko++OCDxDwf\\\n",
       "fPABVVVVSfMsX76c2traxDwLFiygQ4cOdOnS5bDW+s/wTJ069Z6j3YlD1blzZ+6//35M06R9+/a8\\\n",
       "99573Hfffdx4440MGjSISCTClVdeyUcffcQzzzxDeno6VVVVVFVV4fF48Pl8BINBduzYwR//+Ef6\\\n",
       "9OlDeXk5N954IxkZGUyfPh3TNOnatSvz5s3j3XffpXfv3qxbt46bb76Zyy+/nAsuuACAk046iYce\\\n",
       "eojdu3eTn5/PG2+8wQMPPMB9991Hz549v/PaU1NTycnJSfrzxBNPMHLkSMaOHQvgytpbqhugbdu2\\\n",
       "zJo1i9zcXDIyMpg7dy6//e1v+c///E969OjhyrpbU3sgEGDx4sWJQSy2bfP666/z4IMPcs0113Da\\\n",
       "aae5tnZw7gquu+46xowZkxhGHpeens7MmTNp3749wWCQ2bNns2zZMh599FHatGlz3NZ988038+KL\\\n",
       "L/LnP/+Zzp07J65v4AS7YRhYlsVvfvMbevTogWVZ3HnnnezcuZOHHnqIQCBAu3bt+Mc//sErr7xC\\\n",
       "v3792Lp1KzfeeCMDBw5MDKXv3r07//3f/83q1aspLCxk+fLl/PKXv+TnP/950uCPo6asrMx245+X\\\n",
       "XnrJ7t27tx0IBOzu3bvbs2bNsktLS+2ysjL7k08+sYEm/zz22GOJNnbs2GFPnjzZbtu2rR0Khewx\\\n",
       "Y8bYa9asSVrP6tWr7TFjxtihUMhu27atPXnyZHvnzp1J8/zf//2f3a9fP9vv99sFBQX2gw8+eNRq\\\n",
       "b+pPfn6+fe+99yZNc2Ptran7scces7t3724Hg0G7V69e9pNPPun6ultT+/r16+0f/vCHdocOHexg\\\n",
       "MGgXFhba9957b9I8bq197ty5NmC/8847TX7+61//2s7Pz7f9fr/dv39/+/XXXz8u9vnB6m7u+nbb\\\n",
       "bbcl5iktLbVvu+02Oy8vzw4EAvYZZ5xhL1u2LKmdr776yh4/frydnp5up6en2+PHj7c3bdqUNM/S\\\n",
       "pUvtYcOG2YFAwM7Ly7OnTp160OvNd/nHlb8DExERceU7MBEREQWYiIi4kgJMRERcSQEmIiKupAAT\\\n",
       "ERFX+v8W343zLiKYfAAAAABJRU5ErkJggg==\\\n",
       "\"\n",
       "  frames[8] = \"data:image/png;base64,iVBORw0KGgoAAAANSUhEUgAAAbAAAAEgCAYAAADVKCZpAAAABHNCSVQICAgIfAhkiAAAAAlwSFlz\\\n",
       "AAALEgAACxIB0t1+/AAAADl0RVh0U29mdHdhcmUAbWF0cGxvdGxpYiB2ZXJzaW9uIDIuMi4zLCBo\\\n",
       "dHRwOi8vbWF0cGxvdGxpYi5vcmcvIxREBQAAIABJREFUeJzt3XmYFOW99vFvVfU6+8LMsA2MDAMI\\\n",
       "sohRUBEXjATcN0giOephcYsmvpKIkQS3HCAmGjWebGISPS450RyByKUJsohAgKgooMK4gIrKMjDD\\\n",
       "7NNdXe8f1d30LAyDAaHg/lzXXA7V1VXPr7rrufupeno0KisrHURERDzGPNwNEBER+TIUYCIi4kkK\\\n",
       "MBER8SQFmIiIeJICTEREPEkBJiIinqQAExERT1KAiYiIJynARETEkxRgIiLiSQowERHxJAWYiIh4\\\n",
       "kgJMREQ8SQEmcojMnDmTnJwcli1bdribInJUUoCJyL8lEonw61//mhtvvJERI0ZQUFBATk4Ojz/+\\\n",
       "+D6fs27dOmbNmsWYMWM4/vjjKSgooG/fvkyYMIHly5fv83nbt2/nrrvu4rTTTqO4uJiePXty+umn\\\n",
       "M3PmTCoqKg5FeXIE8x3uBoiIt9XW1nLHHXcAUFhYSFFREZ9++mm7z7n11lv517/+xcCBAxkzZgxZ\\\n",
       "WVls3LiRBQsW8Le//Y2f/exnTJkypdlztmzZwrnnnsuOHTs49dRTOfvss4lGo7z22mvMnj2bp556\\\n",
       "ikWLFlFYWHjIapUjiwJMRP4taWlp/OUvf2HgwIF07tyZmTNnMnv27Hafc8UVV/DrX/+asrKyZsuX\\\n",
       "Ll3K5ZdfzvTp07n44ospKipKPvbII4+wY8cOpk6dyvTp05s9b9KkSTz33HP84Q9/4Pbbbz94xckR\\\n",
       "TZcQpV1btmwhJyeH888/n4qKCr73ve/Rt29fCgsLGT58OE888cS/tf1ly5Yxfvx4BgwYQGFhIb17\\\n",
       "9+ass87izjvvxHH2/s/CP//8c2bNmsV5551Hnz59KCgooF+/fkycOJF333233XZv376dm266ibKy\\\n",
       "Mrp27cp5552XvExVU1PDj370I0444QQKCwsZNmwYL7zwQqvtPfXUU+Tk5DBz5kxWr17NxRdfTHFx\\\n",
       "McXFxVxxxRWsXbv2gOr+8MMPufnmm5P7LS0t5aqrrmpzO1VVVcyePZtTTz2V4uJiunXrxqBBg5gw\\\n",
       "YcIRcX8tEAjw9a9/nc6dO3f4Oddff32r8AI488wzOeOMM2hqauKf//xns8c2b94MwNixY1s97/zz\\\n",
       "zwdg586dB9By8ToFmHRIVVUVo0ePZs2aNVx00UV885vf5PPPP+eWW27hf/7nf77UNv/+979z0UUX\\\n",
       "sXLlSkaMGMF3v/tdLrroIrKzs/ntb3+LbdvJdVesWMFDDz1ETk4OF110ETfccAMnnXQSc+fOZdSo\\\n",
       "Ubz99tvttvvdd9/lyiuv5LzzzmPNmjVcfvnlvP3221x00UUsWrSIsWPHcvnll/PRRx9x7bXXsmbN\\\n",
       "mja39/rrr3PBBRcQCoWYPHky55xzDosWLWLMmDGsWrWqQ3UvXbqUkSNH8swzzzB48GCuv/56zjnn\\\n",
       "HF555RVGjx7NK6+8klzXcRyuuOIKZs6cSVpaGhMmTGDSpEkMHz6ctWvXsnTp0gM44t4QCAQA8Pma\\\n",
       "XyDq168fAAsWLGj1nBdffBGAs88++xC3To4kuoQoHbJ+/XquueYafvGLX2BZFgA33ngjp59+Og8/\\\n",
       "/DATJkw44G0+8cQTOI7D/PnzGTx4cLPHdu3a1awDGzlyJJs2bSIzM7PZemvXrmXs2LHcfffdPP/8\\\n",
       "8222+7rrrmPWrFkYhgHAAw88wD333MMFF1zA2WefzWOPPYbf7wfgnHPOYfLkyfzyl7/kqaeearW9\\\n",
       "hQsXcv/99zN58uTksrlz53L11Vfz3e9+l9WrVyf305aqqiquvfZa/H4/CxcuTHbKABs3bmTUqFHc\\\n",
       "dNNNvPXWWwSDQTZs2MCaNWsYM2YMzzzzTLNtOY7D7t2797mvVG+//Xayk++ob3/72/Ts2fOAnvPv\\\n",
       "+vjjj1myZAlpaWmcfvrpzR773ve+x8svv8zPf/5zli9fzkknnUQ0GmXZsmVs3ryZGTNmtDk6k6OX\\\n",
       "Akw6JC0tjfvuuy8ZXuB+Ih4+fDjLly+nurq6Vbjsj2mayW23lJeX1+zfBQUFbW5jyJAhnHHGGSxZ\\\n",
       "soRIJJIMooT09HR+8pOfNAuVcePGcc8997Bnzx7uu+++Zs+57LLLuPHGG1m3bl2b++vVqxcTJ05s\\\n",
       "tuziiy9m2LBhrFq1ilWrVjF8+PB91vzss8+ya9cuZs2a1Sy8APr27ct//Md/8N///d8sWbKE0aNH\\\n",
       "t3uMDMNodZz2Zd26dfu9L9XSiBEjvtIAq6+vZ+LEiTQ2NnLPPfeQk5PT7PGCggIWLlzILbfcwty5\\\n",
       "c1m5cmXysSuvvJJLLrnkK2urHBkUYNIhpaWlZGRktFrerVs3wB1ZHGiAjRs3jnnz5jFq1CguvfRS\\\n",
       "zjjjDE4++eR9dpovv/wyjz/+OGvXrqWiooJoNNrs8YqKilb3YUpLS0lPT2+2LLFOTk4OxcXFzR6z\\\n",
       "LIuCggI+++yzNttw6qmnJkMl1WmnncaqVat4++232w2wxGXGDRs2MHPmzFaPv//++wBs2rSJ0aNH\\\n",
       "07dvX4YMGcLzzz/Pxx9/zNixYxk2bBhDhw4lFArtcz8tXXXVVVx11VUdXv+r1tTUxDXXXMOaNWu4\\\n",
       "8sorufnmm1uts2XLFq666ipqamp49tlnGT58ONFolMWLF3PHHXewcOFCXn75Zfr06XMYKpDDQQEm\\\n",
       "HZKVldXm8sSILPV+VUddcMEFPP/88zzyyCM888wz/OlPfwKgf//+3H777Vx88cXJdX/zm98wbdo0\\\n",
       "cnJyOPvssykuLiYUCmEYBi+++CLr16+nsbGx1T7aCtXEpcl9Ba5lWa3CMWFfU7QTI8Q9e/a0U7F7\\\n",
       "aRTgySefbHe92traZFteeOEFfvGLX/DCCy9w9913A+6I7NJLL+Wee+4hPz+/3W0d6RoaGvjOd77D\\\n",
       "P/7xD6644gp+85vftHkZ9oYbbmD9+vW8+uqrDBo0KLn8yiuvJBwOM2HCBGbOnMkf/vCHr7L5chgp\\\n",
       "wOSwGjVqFKNGjaK+vp7XX3+dhQsXMmfOHK655hrmz5/PiBEjiEajzJw5k6KiIpYuXdpqlLWvCReH\\\n",
       "wvbt29tcvmPHDmDfQZ+QeHzJkiUMGTKkQ/vMycnh3nvv5d5772Xz5s2sWLGCJ598kqeeeopPPvmE\\\n",
       "efPm7XcbR+o9sLq6Or71rW+xdOlSvvWtb/Hoo4+2OcKtrq5mxYoV5OTkNAuvhJEjRwIc8GxQ8TYF\\\n",
       "mBwRwuEwI0aMYMSIEZSUlPD973+fBQsWMGLECCoqKqiqqmLkyJGtwqumpoa33nrrK2vnP//5T2Kx\\\n",
       "WKtOdsWKFQBtdq6pTj75ZObNm8fKlSs7HGCpSkpKKCkpYdy4cQwZMoRXX32VqqoqsrOz233ekXgP\\\n",
       "bM+ePYwfP56VK1dy7bXX8sADD+xzAkwkEgHc17uxsZFgMNjs8cT0+ZbL5eimafRy2CxZsoS6urpW\\\n",
       "y7dt2waQvMdTUFBAWloab775JjU1Ncn1IpEI06ZN+0r/hNAHH3zAnDlzmi2bO3cuq1atoqysjGHD\\\n",
       "hrX7/AkTJpCTk8P999/P6tWrWz3uOA4rV66kqakJcL/79M4777Rar6amhtraWnw+X6vp5m256qqr\\\n",
       "qKysPKCfM844Y7/b/bIqKyu59NJLWblyJTfccAMPPvhgu7M38/Ly6Nu3L9FotFUQR6NRfvrTnwJ7\\\n",
       "R2JybNAITA6b6dOn8/HHH3P66afTo0cPQqEQGzZs4JVXXiEvL4+rr74acGcrXnfddTz44IOcdtpp\\\n",
       "jB07lkgkwrJly9i9ezdnnHHGV/aF3nPPPZfp06ezcOFCBgwYwAcffMD8+fMJh8M88sgj7XbCALm5\\\n",
       "uTzxxBNMmDCB8847j5EjR9KvXz/8fj9bt27lX//6F59++imbN28mEAiwfv16JkyYwKBBg+jfvz9d\\\n",
       "unShsrKSl19+md27d3PTTTe1mqRyODz44INs2rQJIDmD85lnnkle3u3Tpw+33nprcv0JEybw+uuv\\\n",
       "061bN7Kystqc0DJixIhmITp79mzGjRvHAw88wOLFixk2bBi2bbNkyRLKy8vp0aMHU6dOPZRlyhFG\\\n",
       "ASaHzW233caLL77Im2++mQygrl27csMNN3DjjTfSvXv35Lp33nkn+fn5PPnkk/zxj38kKyuLs846\\\n",
       "i+nTp7fZ+R0qJ510Ej/84Q+57777+N3vfge4X5798Y9/3OFLgiNHjmT58uX86le/4pVXXmH16tX4\\\n",
       "fD6Kioo4+eSTmTFjRvJe2Yknnshtt93Ga6+9xuLFi9m9ezd5eXn06dOH//qv/zpipo4vXLiw1R/h\\\n",
       "XbNmTTLATj/99GYBtmXLFgC2bt3a7qXN1AA766yzWLRoEQ8//DArVqxgzpw5WJZFz549ueWWW7j1\\\n",
       "1lvJzc09mGXJEc6orKx09r+ayLHtqaee4qabbuL2229P/uFaETm8dA9MREQ8SQEmIiKepHtgctBs\\\n",
       "2bKFp59+ukPrHo6/syciRxfdA5ODZtmyZVx44YUdWnf+/PmHdJq2iBz9FGAiIuJJugcmIiKepAAT\\\n",
       "ERFPUoDFlZeXH+4mHDbHau3Hat1w7NZ+rNYNR2ftCjAREfEkBZiIiHiSAkxERDxJASYiIp6kABMR\\\n",
       "EU9SgImIiCcpwERExJMUYCIi4kkKMBER8SQFmIiIeJICTEREPEkBJiIinqQAExERT1KAiYiIJynA\\\n",
       "RETEkxRgIiLiSQowERHxJAWYiIh4kgJMREQ8SQEmIiKepAATERFPUoCJiIgnKcBERMSTFGAiIuJJ\\\n",
       "CjAREfEkBZiIiHiSAkxERDxJASYiIp5kVFZWOoe7ES2Vl5cf7iaIiMhBUFZWdsi2fUQG2OFQXl5+\\\n",
       "SA/0kexYrf1YrRuO3dqP1brh6KxdlxBFRMSTFGAiIuJJCjAREfEkBZiIiHiSAkxERDxJASYiIp6k\\\n",
       "ABMREU9SgImIiCcpwERExJMUYCIi4kkKMBER8SQFmIiIeJICTEREPEkBJiIinqQAExERT1KAiYiI\\\n",
       "JynARETEkxRgIiLiSQowERHxJAWYiIh4kgJMREQ8SQEmIiKepAATERFPUoCJiIgnKcBERMSTFGAi\\\n",
       "IuJJCjAREfEkBZiIiHiSAkxERDxJASYiIp6kABMREU9SgImIiCcpwERExJMUYCIi4kkKMBER8SQF\\\n",
       "mIiIeJICTEREPEkBJiIinqQAExERT1KAiYiIJynARETEk4zKykrncDeipfLy8sPdBBEROQjKysoO\\\n",
       "2baPyAA7HMrLyw/pgT6SHau1H6t1w7Fb+7FaNxydtesSooiIeJICTEREPEkBJiIinqQAExERT1KA\\\n",
       "iYiIJynARETEkxRgIiLiSQowERHxJAWYiIh4kgJMREQ8SQEmIiKepAATERFPUoCJiIgnKcBERMST\\\n",
       "FGAiIuJJCjAREfEkBZiIiHiSAkxERDxJASYiIp6kABMREU9SgImIiCcpwERExJMUYCIi4kkKMBER\\\n",
       "8SQFmIiIeJICTEREPEkBJiIinqQAExERT1KAiYiIJynARETEkxRgIiLiSQowERHxJAWYiIh4kgJM\\\n",
       "REQ86YgNsIoG+4CWH2qJ/bbc/76W72tZe8vbWq/lumu2NyaXpz62Zntj8vfyqkirdiXWTzy2r8db\\\n",
       "ti/197a2m1ieeKy8KtJq/YoGO9nulstTf0/9Sd1e6u+J7azZ3tjs98R+U9uYWNbyGCaWb6lrXWvL\\\n",
       "/bc8NuVVERZ+Wp/8b+rjieV//bC22X7aqiXxvL9+WNvm/loub3mcEscitcbE9hPtSN136vZSa0/U\\\n",
       "kLqNtrabWNbyNUx936Ue65bvs5bHOHX7bb3f9vXcthzIuVcZab3sUPY1+zqX2nrfHao2HM18h7sB\\\n",
       "bVm1rZElnzdyYc8w/XP9yeXv7I4wf0s9Z3UJMqwo+JW3pyTDYnONnWxXoj0lGT4210SbtevfrWHV\\\n",
       "tkb+p7yOoGXwn/3S6Z/r58drKnnuw3p6ZFjkBEwKwxY3DMhgyWcN/OadWi4uCXFCboD/3lBDcYbF\\\n",
       "hT3DbK6JUpLhY82ORsqrbLbWROmWYVGW7ePkggCba2xCNRaf7NxDow0ndvKzoyHGhT3DVDfFkjWs\\\n",
       "q2jivzfU0CPDx7jeabyzO8JZXYJsrrb5xVt7aLAhO2DgtwxuHZRJXcTht+9Uk+k3qYzE+KTa5vhc\\\n",
       "P6O6hZi7uY4Mv4nPhO31MXKDBvlBC78FERsqGmNsq7fJ9BtUNMQAg7yQwRd1MRpth6z4ctM0yPUb\\\n",
       "VEXdZed2C/JWRYSCsMXg/AArtzVyalEAyzSSr8Of36/jf8pr6Z3lY8XWIGU7K/nR0CwAfr2hhsrG\\\n",
       "GHuaYmytddt7Qc8Qa3Y0uW0ImvxxYw27mxwswDQNzutWR6ewyYptjXywx8aJQQx46O1qsoIWpVkW\\\n",
       "b+6MurXWxcBwOLkwyOjuIWav3cPHNTad00zSfQYlmT4uOy7MQ+ur2VRpkx00yA+YpPkN6qMO3TN8\\\n",
       "+AxosB3e3R2hNupQGLa4oGeIzXts1lY0UR1xqI045AQNLjsuzJrtTWyts6locCgKm3QKmQzI8/PG\\\n",
       "50Eayrezs97hopJ6ru6Tzq/W17B6RxM1kRgFIZNxpem8uzvC6h2N1EYcMgMmg/L8DMr388rWRmoj\\\n",
       "MSqbHP6jTxp3Ds1OvrejMYe/f9JIut+gf66P/+yXkTxfHn+vlnd3R6iJxBhdHOLzuljyPQ4kz6c1\\\n",
       "OxpptGFCWRrDioIHdD61t+5fPvcRy288aOdpR/qNludSos6zugTJDJj8ekMNADcMyDgi+jsvMSor\\\n",
       "K53D3YiWZr65BwADuKhkb1jM21xPorHndD24L2p5eTllZWWtlq/a1siizxrZWhPloxqbvtk+CsMW\\\n",
       "A/L8bNgVYXu9zcbKKCVZPrqnW5zT1W3Tos8av3QNq7Y18kR5HZv3RAHol+unPhrjla0N1EQcmmxI\\\n",
       "90Fxho+AZbC11sZvQk0khmUahC2Dxhhk+w365PjYWmuzu9FhR72NE29TQcgkL2TRLd3kg4o6fMEg\\\n",
       "iQcH5QcwgIAJBWGLDbsibKyM0GA7NMUcsgMWIzoH2F4fY+3OJnY1xmiMf1DMDhhkBkwMHOptqGyM\\\n",
       "EXXcfZoG+AwIWVBnQ8xxlxmA3wCfaRB13PpiDkRbvDOd+E9bzPj2M/0GBm6I5AVNIjGHwfl+TsgL\\\n",
       "4Ldg0aeNbK+32Vpn43ccskI+jsu0yAqYfFob5eMam7qog2WA3zTIDpjkBg1qIw6f1Ng0xpq3wTIg\\\n",
       "YEBDrHXb0iwwDANwaLDdxpsGhH0G0Zh7fBLP8RmQ5TdojDnURfcuN+K1+UwwDPc41dskj6kBBOOP\\\n",
       "Ndhu3cm24S5PPY4+w92WbTtEMTAN8JuQHzTZ0xSjJr5vK/76O0BTPJQNIGSC3zKw4+0PmJAVMDm/\\\n",
       "R5CiNB/rdkVYs6OJJtsh5kBR2GRklyBndQux5LNGXv2sgW31NpbhtqdTyKIwbFGYZpEXMHCAN3Y2\\\n",
       "YTsGWX6D4zIthhYE2FYfSx6P9s4naP/cq6jYRV5+3kE5T9uT6DcAPoufnwVhi531NhgGnUImO+pt\\\n",
       "ttba1ETcPfXK8iVD7FD0d/vq47zsiA4wcN9YZdk+yquizToI04BJ/dLJD1kHZZ9tvbgVDTaPvVdL\\\n",
       "bSTGGzsjOPEOPi9osrsxRl7QjI8Q3I7ixE5+LMPAwSFk7b06eyA1VDTYPLy+mtd3xPcHVDfFeL/a\\\n",
       "xnEcbAfseGfpj3cwAdP9vTbqPpYbNGiKOTgY+OIdRW3U7VAcx22rCaT73Q7Mcmz8Ph8ODpZhUBA2\\\n",
       "8ZsGPsMgw2+wfleE6oiD34RIDMAhL2hS1eS4241BvH8mUYkRD6aok8zF5H8Tvyf+Tcp/of2g2h8D\\\n",
       "t5M24h1zdsDAMgx6Z/n4oNrGbzhsb3BotB0cxyHDbxJ1HPyG23nWRBxiuMfHib9GaT6DuohD02E8\\\n",
       "UxLH7OBxj37qdg9kH0bKjz8eaoPzfHxUY7OnMUZjzH1fmoZBQcjAZ7rHeUe9TcyBJtt9csCCwpBF\\\n",
       "JOaQ5jNxcKiPuu3rkmbF30cGJxf6SfOZyX23dT412s5+z71d8QDryLoJB9rXJPqNmAP10Xjfgdtv\\\n",
       "7Ip/AsoPmXxRZ/NFfYzO8fPNMOCkTgEG5fsPSX93NAbYEXkPrGVntqnFi2kAF/YMH7Tw2pf8kHsZ\\\n",
       "Ls1n0ifbl2zQroYYjkMyvDCgT7aPdJ/JuNI0xpemf+ka8kMW40vT6ZvtSx6IzIBJUcjAjm8gMWqJ\\\n",
       "4XYepgG24/7eOc0k7DNI85mk+dwOIvGYkdgx4LfAdhx8pjuKKAibFIV9dApZDMkPMCDXD4bboReE\\\n",
       "TcK+veEV9rltCVoGmX4I+tzgMo29PzHH3W9qR+cz3E4t8enbpHmnacWfa8VHahYH/gYNWW7NmX6D\\\n",
       "7ukWlmGSHzJpikFe0KApZpDmc4+Hz3CPQZrPiB8P97mB+DH1xz8YxBwHv7U3nDvKbPGT4DO+3ImX\\\n",
       "eixbLvsyUj88+OPHvSPbMtg7ujMNsEzolmbiYFAQMkn3m2T6DUzDIOxzR3B10RhNtvveMQ2DzIBB\\\n",
       "pt8gw+eOksFdpz7qfnzJD7md+gl5AW46IYN0394jtq/z6UDOvX/3PG1Pot8wgHCi74j3G4mNVzTE\\\n",
       "8FsGJ3Xy44+fEH2yfYR8xmHr77zImjZt2l2HuxEt5YVMNlVG23wsdah/MO3atYv8/PxWywvCFnkh\\\n",
       "k09rbcI+Y29opTQocVkx0a7Ec75sDQVhi+IMH59UR9nZ6O4vcVmuOuIkRxe+lDAAg1MKA3ytIMCe\\\n",
       "iON2Dn6TJjsRcEYyXPzx54V9BgHTJMu0yQ4FGJgf4FtladRFHdL8JmHLoKIxRsA0CFoGjbaD3zQJ\\\n",
       "mG63WRg2yQ64HZDfMvDHgxRjbzBZ8U/ZPtMNlTS/G36WET+Xjb3BZcTXzfC7J37I2htuHRkZhC33\\\n",
       "sl/3DB9fKwiAYVCW7SN+hYaAaeAzock2yA+ZRG2boM8iYLqjNNOAoGUSsgx8pjsiCFgQjbkjiXS/\\\n",
       "kRzFtteeZCDEAzBxPBKXOd39uEXFWjwvMfIDNyR88fUTjyePVXydxOuZOsJtj4kb0AYOBu6n/kw/\\\n",
       "ZAbc2uJZkgwpaF6rL952w3BfU59pUJxuJTvXgGnQL8eHY7iXsmMtDpRlmOQH3Xtxg/MDRJ3EiGuv\\\n",
       "/JBJus+kX66fif3SGdE52OHzaX/nXkNDHeOPzz8o52l7Ured5jdb9x3xfqNHpo80y6BT2KIg3Dqg\\\n",
       "DmZ/t68+zsuOyEkc/p2byay32FzX+nNqSVoM/06b8p0Hf7/l5eVttwfIrLeoqDMJRg0qI3u7iRy/\\\n",
       "g1XnkEnzdiWe82Vr8AO9sPgoYiX3l2vCTsMdTQQMtxeNxuKP+WOUWk1QB338sKPJbacVMzBsMBwD\\\n",
       "n+MQMKHJcdPDsGNY2IT9EIzW0cux6ddk83G83RYQjLjbMYF8C2ptg4aIO9Ix48mQbwHxx7ZFIeq4\\\n",
       "bUqMPAIGZFruaK/BhjQDmjCIQTLMAHDcN2Sm6ZBu2dTaBqYJNY6B47iXKffFB5gOBInR1YrQyXYI\\\n",
       "GJBlQ1Vk72tmAlkGBB3wBaHWjtIQn5mW2n/k+x1q7RgN8WMHjnvPzIJqBxodo80QM+JtCRhuOJnx\\\n",
       "mmK4geYQD4mYe4+sLgqJ7jMRXonDkREf9SZG3qmXaC3TvTwbc0heJgb3GKUczmSbEts1E8cKiBmO\\\n",
       "O0ow3IPrwyBmuNuItRg9J55vxWsCCOCQaUGaE6U+Ppkxx++4x94POxyDD5tMUifShSzo6otREHDc\\\n",
       "1waDytjedRLvqyAOvRwb/84dlO88sPOp/XUd/Ds3H7TztD2p27agWd+R6Dd21UGvNHdktrni0Pd3\\\n",
       "++rjDqVDednyiAywSKcSqmvqyQu3fqwaiHQ6+COw9q4Pv7M7QnVNPTY2jU1RwilHrdEAO81Hddhq\\\n",
       "1q7Ec75sDe/sjvDhjhoa/Xv391ltlEYnBvEASFy+AdgTM/nADlGS6WNTRQRwcPxg2zEcnHgAODTF\\\n",
       "9l6mcywT2zSpt5sIh9P40PDzXiBIdThCXhh21Ns0Rtz910ZjVNS53aPfDzYGMb97MlbU2URiEI05\\\n",
       "xOIjKcfZ2wk2OVARNUjzGfgsqIu49+NswDH2drqG4Xbm1TGDGsfEcRzqYg6RFiOVtkRxRz2NmHxm\\\n",
       "B8i2fOyIxGiyTBr9seQxrI3G2NPgkGZARWMEn8+HP/4y1Mec+F0hqI7E8JsmjuXeKwODiAE1Ubc9\\\n",
       "+xqBOfG2EL/XiLH3PqAdnwlhxpOkzobUWd2JiRKJbddE3XXjeQfsDfFofGKFGT9mdspjLduWOoqN\\\n",
       "kVjfwXHcoVy9YxCKTyyJpIzCEoGa+nybvZeImzDYbRtkGGZyBNYI7LRMNtfb1EcdbDPmjkKT7Tf4\\\n",
       "LGqwGygJ+thFFNt08MdT0QZifpNGn8mHhp9Ip/TkpIaOnk/trbtlVwWRTiUH7TxtT+q2d9Q37zsS\\\n",
       "/UZB2OLDxMSO/NYBdjD7u6PxHtgROYlj1pt79nuJ5mBfRtzXi5uYDZSYbbivBqVeRgSazSDax1P2\\\n",
       "WcM7uyPMebeG96r2Tkf7rDbK1jq3G0uEg2k2v6dkO5ATMDEN95O7E39yfdS919Nk7+0kg9bey4hm\\\n",
       "zKYoI5DsvE/s5LZpY3z/tdEYn9fZyZvr7qVHg0gMIjF3lNIYhZixd4RgpxSf/PQfD87EDMPESCEx\\\n",
       "aSJ5WTHxPKd5590RYcvdT8hyZ3rVRSE/ZJDuM90QbnBoisXcyRrxS5/h+BAmcZwSl9ISl/us+KXR\\\n",
       "hmj7o8CWWnZHiTp88WNwIHW1vDTotFh+4Cfx3rBOtMnBrXN/20qMxBwjPsK2SF5GrI3G+KIuRiTm\\\n",
       "EIlB2Ef8krOrKeZeMkyEmt80mgVcQuplxLO6BtmwK9Kh8wnaP/d2VewiPz/voJyn7UmdRbhjX32H\\\n",
       "AYUhk+3xe2N9c3yH9DLi0RhgR+QkjpY3MPtk+1rdbJ2/pf6Qf8mvosFm/pZ66qIxNlVFkw3KC5kY\\\n",
       "hnuSJRq0qSpKbTTG/35Qx58/qP3SNVQ02Pz5g9pkeIA7C3Fbg5MMqli8kzFxgyoWvwwXicEXde6N\\\n",
       "8LpojLqoO9sr8ZiT2DHu9633MKgWAAAWLElEQVQswyAav0S1oz7GtvooOxvc7xNt2B0BBzL8Bjvq\\\n",
       "YymdjvudJMtwZ31VR9zwSlx2Su38E4GU+Ik67g39RLjFaH7JzHb2Tv6IxkdoB9LJg3uJssmG6ojD\\\n",
       "p7U2thOjoiFGwIRdjQ4B052mHom5+7AMg7qoEz8e7nOb4sfUDWj3/lfEPrDwStSX+pMQPcDwSkg9\\\n",
       "li2XfRmpI6uI07HwSqxvs/eDlB2DrXUxDBx2NMSojcSojjjE4ve3Aibx+4nueyfmOFQ3ufdza6Ix\\\n",
       "/PGAS/OZ8Q8T7v2iSMxh/a4mHl1fQ2107xHb1/l0IOfev3uetifRbzi4sxA3VUWT/UZi4/khk4jt\\\n",
       "8PrOCJH4CbGpKkpD1Dls/Z0XHZGTOF77ovl3M87sGmp1s/XsrkHKcg7eCKytG5xpPhO/AZ/WxrCA\\\n",
       "yohD32wfx2X6GNPD/QSXuDlbkuUjP2RxXvcQZdl+Pqq2v1QNaT6TNMtgS41NZXwCx+BOAXpnWXxW\\\n",
       "Zyc7+Uy/+72RrukWjTbxE98hze+OKAzDoFPQZEgnv/v9K9OdhGHFZ98VhU26pPvon+ujoTFCeshP\\\n",
       "mmUS8rkzv/JDFkVhk9Js96sBDbaTnHXWKeTjzK5B8kMW1U0xmmLuqMXEnbZeELaSX2pOzDAz4zf9\\\n",
       "g6Y7ScOh+Uy/sOVOV/eZzSczpN6HaU9iBJcdcCec+EyDgpCFAwzO9zO0IMjQAj876t37PrVRh5AB\\\n",
       "mUGL43P89M52j1ND/PtLftM9pp1CFl3SzORUertFD28Z7nejWi4H9x5XwDIImCSPj89wPxRYRuvv\\\n",
       "Z+UE3MvCKX11crSTepwSo7fEcQrFR+ItA8iKty81LH2GO2Jyb6EayQklRWH3km0ktve5IXPvaDHx\\\n",
       "WoTN+OsUb3/ie2CXlITonxfANAy2N8TiE08MisImZ3YN8R9900kEU13UIRif7VkUtuicZlGW43cn\\\n",
       "NWT4qGqKEbTcY16a5ePc7iGa9k743ef51JFzr76+nnBa+N8+T9uT6Dc+qraTX0cpDJuUpEzY6Jnp\\\n",
       "I8PvvlcT751eWT6u6Zd+yPq7o3ESxxEZYAETttTYzYbNiVk95VVRzj7IX2KGfb+43TN8BEzY3eRw\\\n",
       "ZpcgUcd9oydmRm2tszmzSwgHku1KPOfL1tA9w0enoMkntTad0ywm9kvnmr4ZbK+3+WCPTb9cH72z\\\n",
       "/ZRm+/nJ17IpSjN5fWeEcaVpfKs0nfW7ovTP9XNt3wyCPoOvdwsT8kHI584i6Jfr5+TCABeXhAn6\\\n",
       "TIYEa8jMzKAgbDGmRwi/aTChLJ2ybB9bamwmHZ9B7ywf63dF6J8b4MYTMqi3HcaXpjE4P8CGXRHS\\\n",
       "fCbFGRb5YYs7h2YxvDDIpsoIpVk+soIGjVGHwfkBJpSl83mdTUmmj56Z7gzA47Isjs8NUJrtozjd\\\n",
       "R07QxDKhR4aFL95BlmS5YeQ33csu0ZhDyGfQOf6ptiBkcmlJiEbboSzHz/k9wlQ1xRjTI0TndB8X\\\n",
       "lYS5uCQNn2HwYXWUkZ2D7K5vpH9+iLtPzuaMLkE+rrEpDFkUhEwcB04qCDAx/hciSjL9nNU1RHlV\\\n",
       "JD6Jxg2nscUhhncO0GDH2BNxktPLB+ZaHJflZ0TnAE22Qdd0CxODjIDBGV1C3DQgkw273e/XdU03\\\n",
       "KQq7fyHj+wMz+aA6wu5Gh9yQQfc0i+4ZFhl+94NFz0z3Q0t9POW6pVt8syyNvKBFXdQNDjvmXja9\\\n",
       "qiwNO+YQw6HRhi5pJiWZFmd2DdLY2EhGyEfEhkuOCzPjpGy218eobHLHxV3STP6zXwZZAZPKJhsD\\\n",
       "d9RwSmGA83uGkjNdMQyu7pvGT4flkhcyqWqKMSjPT0WDQ/cMi5MLA0w8PoMRnYMUZ1jsbnTi0+sN\\\n",
       "xpWmkRN0A+y7J2QwtCDA1jqbr3cLYxgOWQGT7/RJ58KStA6fT/s79976Yg/nl+YelPO0Panbvirl\\\n",
       "XPpm73SGdgpQXhXlgh5hzisO88GeKLlBs9lf4jgU/d3RGGBH5D0wcIfhbX3vYV/L/137uz6c2G/L\\\n",
       "/e9reXtt7WgNiUsGqeuu2d5Ir6y9s0gSj63Z3sjJhe6bvLwqQl7QbNauxLZ2xb+AnXhuRYPNrk8+\\\n",
       "JK+4V7Nlie2m/t7WdhPLYe8XNcuy/c3WB/hwT5Re8VFq6vLU9qRKLN8VH4Umfq9sjNEry8eH8b9S\\\n",
       "kvg9J2hSlu1v1sbyqghl2f5WxzuxfOFb5ZzYt1ezWlvuP/XYJba5pTpKz0wfW6qjnNs9nHz8zZ1N\\\n",
       "9Mz0sa6iict6pSf3k2hTai2J7S79rIEzu4Za7a/l8pbHKXEsEnVXNNjJ7Sfal7rv1O2l1v7mzibO\\\n",
       "7R5O1r+v7SaWpR7bvKDJh3uiyfdd6vsl9TVueb4k2p/Yfuo6Ld+vbZ1rLR3IubfmnXJO7t/6DxYc\\\n",
       "qr5mX+dSy9+BQ9aGhKPxHtgRG2BftaPxxe2oY7X2Y7VuOHZrP1brhqOz9iNyEoeIiMj+KMBERMST\\\n",
       "FGAiIuJJCjAREfEkBZiIiHiSAkxERDxJASYiIp6kABMREU9SgImIiCcpwERExJMUYCIi4kkKMBER\\\n",
       "8SQFmIiIeJICTEREPEkBJiIinqQAExERT1KAiYiIJynARETEkxRgIiLiSQowERHxJAWYiIh4kgJM\\\n",
       "REQ8SQEmIiKepAATERFPUoCJiIgnKcBERMSTFGAiIuJJCjAREfEkBZiIiHiSAkxERDxJASYiIp6k\\\n",
       "ABMREU9SgImIiCcpwERExJMUYCIi4klGZWWlc7gb0VJ5efnhboKIiBwEZWVlh2zbR2SAHQ7l5eWH\\\n",
       "9EAfyY7V2o/VuuHYrf1YrRuOztp1CVFERDxJASYiIp6kABMREU9SgImIiCcpwERExJMUYCIi4kkK\\\n",
       "MBER8SQFmIiIeJICTEREPEkBJiIinqQAExERT1KAiYiIJynARETEkxRgIiLiSQowERHxJAWYiIh4\\\n",
       "kgJMREQ8SQEmIiKepAATERFPUoCJiIgnKcBERMSTFGAiIuJJCjAREfEkBZiIiHiSAkxERDxJASYi\\\n",
       "Ip6kABMREU9SgImIiCcpwERExJMUYCIi4kkKMBER8SQFmIiIeJICTEREPEkBJiIinqQAExERT1KA\\\n",
       "iYiIJynARETEkxRgIiLiSQowERHxJAWYiIh4klFZWekc7ka0VF5efribICIiB0FZWdkh2/YRGWCH\\\n",
       "Q3l5+SE90EeyY7X2Y7VuOHZrP1brhqOzdl1CFBERT1KAiYiIJynARETEkxRgIiLiSQowERHxJAWY\\\n",
       "iIh4kgJMREQ8SQEmIiKepAATERFPUoCJiIgnKcBERMSTFGAiIuJJCjAREfEkBZiIiHiSAkxERDxJ\\\n",
       "ASYiIp6kABMREU9SgImIiCcpwERExJMUYCIi4kkKMBER8SQFmIiIeJICTEREPEkBJiIinqQAExER\\\n",
       "T1KAiYiIJynARETEkxRgIiLiSQowERHxJKOystI53I0QERE5UBqBiYiIJynARETEkxRgIiLiSQow\\\n",
       "ERHxJM8G2BdffMH1119PaWkpRUVFDBs2jNdeew2ASCTCjBkzOO200+jatSt9+/Zl0qRJfPLJJ822\\\n",
       "0djYyA9+8AN69epF165d+eY3v8nWrVubrfPJJ58wfvx4unbtSq9evfjhD39IU1NTs3Vee+01zjzz\\\n",
       "TIqKihg8eDCPP/74Yau9pe9973vk5OTwyCOPNFvuxdo7Uvf777/PhAkT6NGjB126dGHkyJFs3LjR\\\n",
       "03XD/muvqanhBz/4Af3796dz58587Wtf49FHH222DS/WPnDgQHJyclr9jBs3LrnOY489xqBBgygq\\\n",
       "KuLMM89kxYoVR33dDzzwAGeffTbFxcWUlpYyfvx43nnnnWbbcByHmTNn0q9fPzp37sz555/Pu+++\\\n",
       "22ydyspKpkyZQo8ePejRowdTpkyhsrKy2TobNmxg7NixdO7cmeOPP57Zs2fjOEfG3D9PBlhlZSWj\\\n",
       "R4/GcRz+93//l1WrVvGzn/2MgoICAOrq6njrrbeYOnUqS5cu5emnn2br1q1cccUVRKPR5HbuuOMO\\\n",
       "5s+fz5w5c1iwYAHV1dWMHz8e27YBsG2b8ePHU1NTw4IFC5gzZw7z5s3jzjvvTG5j8+bNjBs3jlNO\\\n",
       "OYVXX32V//f//h8//OEPmTt37mGpPdXcuXN544036NKlS6vHvFZ7R+revHkzo0ePpmfPnsybN4+V\\\n",
       "K1cyffp00tPTPVt3R2u/8847+fvf/85vfvMbVq1axW233cbdd9/Ns88+6+naFy9ezMaNG5M/S5cu\\\n",
       "xTAMLrnkEgD++te/Mm3aNG677TZeffVVTjnlFK688spmH1aPxrpfe+01Jk6cyMsvv8y8efPw+Xxc\\\n",
       "cskl7N69O7mNhx56iEcffZTZs2ezaNEiCgoKuPTSS6murk6uM2nSJN5++23+8pe/8Nxzz/H2229z\\\n",
       "3XXXJR/fs2cPl156KYWFhSxatIhZs2bxyCOP8Ktf/eqQ1H2gPDmN/p577mH58uW8/PLLHX7Oe++9\\\n",
       "x/Dhw1m+fDkDBgygqqqK3r178+ijjyY/1Xz66acMHDiQ5557jlGjRvGPf/yDcePGsW7dOrp37w7A\\\n",
       "n//8Z2655RbKy8vJyspixowZzJ8/nzfeeCO5r5tvvpn33nuPf/zjHwe3cDpe+8cff8zo0aN54YUX\\\n",
       "uOKKK5gyZQo333wzgCdr70jdkyZNwjAMfv/737f5uBfrho7Vfuqpp3LhhRfyox/9KLls7NixDBgw\\\n",
       "gPvvv9+ztbf085//nIcffpj33nuPtLQ0Ro0axYABA3j44YeT6wwdOpSLL76YGTNmHLV1t1RTU0OP\\\n",
       "Hj146qmnGDNmDI7j0K9fPyZPnszUqVMBqK+vp6ysjHvvvZdrr72WjRs3MmzYMF566SWGDx8OwMqV\\\n",
       "KxkzZgxr1qyhrKyMOXPmcNddd7Fp0ybC4TAA999/P48//jjvvPMOhmEc8trb48kR2IsvvshJJ53E\\\n",
       "tddeS+/evRkxYgS/+93v2h3WJj515OTkALB27VoikQjnnHNOcp3u3bvTt29fVq1aBcDq1avp27dv\\\n",
       "8k0NMGrUKBobG1m7dm1yndRtJNZ58803iUQiB6fgFB2pPRqNMmnSJKZOnUrfvn1bbcOLte+v7lgs\\\n",
       "xksvvUTfvn25/PLLKS0t5eyzz+avf/2rp+vuSO0Aw4cP56WXXuLTTz8FYNWqVaxfv55Ro0Z5uvZU\\\n",
       "juPw5JNPMn78eNLS0mhqamLt2rWt2nPOOeckazoa625LTU0NsVgs2b9t2bKFbdu2NWtzOBzmtNNO\\\n",
       "a1Z3RkYGw4YNS64zfPhw0tPTm61z6qmnJsML3Lo///xztmzZctBrPVCeDLDNmzczZ84cSkpKeP75\\\n",
       "57n++uu5++679/nJu6mpienTp/ONb3yDbt26AbB9+3YsyyI/P7/ZugUFBWzfvj25TstLc/n5+ViW\\\n",
       "1e46BQUFRKNRKioqDkq9qTpS+8yZM8nNzWXixIltbsOLte+v7h07dlBTU5O8N/B///d/XH755Uye\\\n",
       "PJmXXnrJs3V3pHaA2bNnM3DgQE444QQ6derE+eefz1133cU3vvENT9eeavHixWzZsoXvfOc7AFRU\\\n",
       "VGDbdpvtSW3v0VZ3W6ZNm8bAgQM55ZRTANi2bVuyjala1p2fn99sFGUYBp06ddpv3YnHDjff4W7A\\\n",
       "lxGLxTjxxBOZMWMGAIMHD+bDDz/kscceY8qUKc3WjUajTJkyhaqqKp555pn9bttxnFYvaFvaWyfx\\\n",
       "yfhQDK/3V/trr73G008/zbJlyw5420dy7furOxaLAe5ls+9+97sADBo0iLVr1/LYY48lO/K2HMl1\\\n",
       "Q8fe77/97W9ZtWoVzzzzDMXFxaxYsYIf//jH9OjRg3PPPXef2z7Sa0/1pz/9iaFDhzJo0KB9ti3R\\\n",
       "nv215WioO+FHP/oR//znP3nppZewLKvZY/s7Nm21fX/rfFV1d4QnR2BFRUWtLo316dMnefkkIRqN\\\n",
       "MnHiRDZs2MDcuXPJy8tLPlZYWIht260+Pe3cuTP5CaOwsLDVp4yWn/raWmfnzp34fL5m+ztY9lf7\\\n",
       "smXL+OKLL+jbty/5+fnk5+fzySefMGPGDPr3759ss9dq31/d+fn5+Hy+dtfxYt2w/9rr6+u55557\\\n",
       "uPvuuxkzZgwnnHACU6ZM4bLLLkvOPvVq7Qk7duxgwYIFXH311cllLUdJqe1Jbe/RVneqO+64g+ef\\\n",
       "f5558+ZRUlKSXF5UVAS0HiW1rHvnzp3NLkU7jkNFRcV+64bWo7vDwZMBNnz4cN5///1my95//32K\\\n",
       "i4uT/45EIlx77bVs2LCB+fPnJ1/QhCFDhuD3+1m8eHFy2datW5M3NgFOOeUUNm7c2GzK7eLFiwkG\\\n",
       "gwwZMiS5zpIlS5pte/HixZx44on4/f6DUm+q/dU+adIkli9fzrJly5I/Xbp04cYbb0zOmPJi7fur\\\n",
       "OxAIMHToUMrLy/e5jhfrhv3XHolEiEQirT59W5aVHJl6tfaEp59+mmAwyGWXXZZcFggEGDJkSLOa\\\n",
       "Eu1J1HQ01p1w++2389xzzzFv3jz69OnT7LGePXtSVFTUrO6GhgZWrlzZrO6amhpWr16dXGf16tXU\\\n",
       "1tY2W2flypU0NDQk11m8eDFdunShZ8+eB7XWL8OaNm3aXYe7EQeqe/fuzJ49G9M06dy5M0uXLuW+\\\n",
       "++7j1ltv5aSTTiIajXL11Vfzxhtv8MQTT5CZmUltbS21tbVYloXf7ycUCvHFF1/w+9//nhNOOIGq\\\n",
       "qipuvfVWsrKyuPvuuzFNk5KSEubPn8+iRYsYMGAA7733HlOnTuXKK6/kwgsvBOC4447jl7/8JTt2\\\n",
       "7KC4uJgFCxbwi1/8gvvuu49+/fp95bWnp6dTUFDQ7Oe3v/0tZ555JmPGjAHwZO37qxsgNzeXWbNm\\\n",
       "UVhYSFZWFvPmzeOhhx7ipz/9Kb179/Zk3R2pPRgMsmzZsuQkFsdxePHFF3nggQe47rrr+NrXvubZ\\\n",
       "2sEdFdx0002MHj06OY08ITMzk5kzZ9K5c2dCoRD3338/K1as4Fe/+hXZ2dlHbd1Tp07l2Wef5Y9/\\\n",
       "/CPdu3dP9m/gBrthGNi2zYMPPkjv3r2xbZs777yTbdu28ctf/pJgMEinTp3417/+xXPPPcegQYPY\\\n",
       "unUrt956K0OHDk1OpS8tLeUPf/gD69ato6ysjJUrV/KTn/yE73//+80mfxw2lZWVjhd//vznPzsD\\\n",
       "BgxwgsGgU1pa6syaNcvZvXu3U1lZ6bz11lsO0ObPo48+mtzGF1984UyePNnJzc11wuGwM3r0aGf9\\\n",
       "+vXN9rNu3Tpn9OjRTjgcdnJzc53Jkyc727Zta7bO3/72N2fQoEFOIBBwevTo4TzwwAOHrfa2foqL\\\n",
       "i51777232TIv1t6Ruh999FGntLTUCYVCTv/+/Z3HHnvM83V3pPaNGzc63/72t50uXbo4oVDIKSsr\\\n",
       "c+69995m63i19nnz5jmA88orr7T5+M9//nOnuLjYCQQCzuDBg50XX3zxqHjN26t7X/3b7bffnlxn\\\n",
       "9+7dzu233+4UFRU5wWDQOe2005wVK1Y0285HH33kjBs3zsnMzHQyMzOdcePGOZs3b262zvLly51T\\\n",
       "Tz3VCQaDTlFRkTNt2rR2+5uv8seT3wMTERHx5D0wERERBZiIiHiSAkxERDxJASYiIp6kABMREU/6\\\n",
       "/3CHKOSZvG1bAAAAAElFTkSuQmCC\\\n",
       "\"\n",
       "\n",
       "\n",
       "    /* set a timeout to make sure all the above elements are created before\n",
       "       the object is initialized. */\n",
       "    setTimeout(function() {\n",
       "        animee67f574c72d4b779ae308086d3a5e49 = new Animation(frames, img_id, slider_id, 500.0,\n",
       "                                 loop_select_id);\n",
       "    }, 0);\n",
       "  })()\n",
       "</script>\n"
      ],
      "text/plain": [
       "<IPython.core.display.HTML object>"
      ]
     },
     "execution_count": 73,
     "metadata": {},
     "output_type": "execute_result"
    }
   ],
   "source": [
    "#: display animation\n",
    "HTML(anim.to_jshtml())"
   ]
  },
  {
   "cell_type": "markdown",
   "metadata": {
    "slideshow": {
     "slide_type": "slide"
    }
   },
   "source": [
    "## Visualize the distribution\n",
    "\n",
    "- We can plot the distribution of the sample median with a histogram.\n",
    "- This is an approximation using 128 samples.\n",
    "- Sample median is usually in [62,000, 70,000]."
   ]
  },
  {
   "cell_type": "code",
   "execution_count": 90,
   "metadata": {},
   "outputs": [
    {
     "data": {
      "image/png": "[encoded data removed]",
      "text/plain": [
       "<Figure size 432x288 with 1 Axes>"
      ]
     },
     "metadata": {},
     "output_type": "display_data"
    }
   ],
   "source": [
    "#: plot a histogram\n",
    "Table().with_column('Sample Medians', sample_medians).hist(bins=15, unit='$')\n",
    "\n",
    "# show each sample median as an 'x'\n",
    "plt.scatter(sample_medians, np.zeros_like(sample_medians), marker='x', s=80, alpha=.5).set_zorder(2)"
   ]
  },
  {
   "cell_type": "markdown",
   "metadata": {
    "slideshow": {
     "slide_type": "slide"
    }
   },
   "source": [
    "## The problem\n",
    "\n",
    "- Drawing new samples like this is costly (why not just do a census?)\n",
    "- Often, we can't ask for new samples from the population.\n",
    "- The bootstrap:\n",
    "    - the sample itself looks like the distribution.\n",
    "    - so re-sampling from the sample is like drawing from the distribution."
   ]
  },
  {
   "cell_type": "code",
   "execution_count": 56,
   "metadata": {},
   "outputs": [],
   "source": [
    "#: a trick to plot the sample and the distribution side-by-side\n",
    "bins=np.arange(10_000, 300_000, 10_000)\n",
    "labels = ['Population']*population.num_rows + ['Sample']*sample.num_rows\n",
    "together = population.append(sample).with_column('Labels', labels)"
   ]
  },
  {
   "cell_type": "code",
   "execution_count": 57,
   "metadata": {},
   "outputs": [
    {
     "data": {
      "image/png": "[encoded data removed]",
      "text/plain": [
       "<Figure size 432x288 with 1 Axes>"
      ]
     },
     "metadata": {},
     "output_type": "display_data"
    }
   ],
   "source": [
    "#: plot\n",
    "together.hist('Total Pay', group='Labels', bins=bins)"
   ]
  },
  {
   "cell_type": "markdown",
   "metadata": {
    "slideshow": {
     "slide_type": "slide"
    }
   },
   "source": [
    "## The bootstrap\n",
    "\n",
    "- We have a sample of 500 salaries, we want another.\n",
    "- Can't draw from the population.\n",
    "- But the original sample looks like the population.\n",
    "- So we re-sample the sample."
   ]
  },
  {
   "cell_type": "markdown",
   "metadata": {
    "slideshow": {
     "slide_type": "slide"
    }
   },
   "source": [
    "## Discussion question\n",
    "\n",
    "Which of these effectively resamples the sample, simulating the drawing of a new sample of 500 people?\n",
    "\n",
    "- A) `np.random.choice(sample, 500, replace=True)`\n",
    "- B) `np.random.choice(sample, 500, replace=False)`\n",
    "- C) `sample.sample(with_replacement=True)`\n",
    "- D) `sample.sample(with_replacement=False)`"
   ]
  },
  {
   "cell_type": "markdown",
   "metadata": {
    "slideshow": {
     "slide_type": "slide"
    }
   },
   "source": [
    "## Answer\n",
    "\n",
    "- If we sample without replacement, we're just shuffling.\n",
    "- So we sample *with* replacement to get something new."
   ]
  },
  {
   "cell_type": "markdown",
   "metadata": {
    "slideshow": {
     "slide_type": "slide"
    }
   },
   "source": [
    "## Running the bootstrap\n",
    "\n",
    "- Now we can simulate new samples by bootstrapping\n",
    "- I.e., we sample with replacement from our original sample"
   ]
  },
  {
   "cell_type": "code",
   "execution_count": 124,
   "metadata": {},
   "outputs": [],
   "source": [
    "n_resamples = 5000\n",
    "\n",
    "boot_medians = make_array()\n",
    "for i in range(n_resamples):\n",
    "    # perform bootstrap resampling\n",
    "    resample = sample.sample(500, with_replacement=True)\n",
    "    \n",
    "    # compute the median\n",
    "    median = np.median(resample.column('Total Pay'))\n",
    "    \n",
    "    # tack it on to our list of medians\n",
    "    boot_medians = np.append(medians, median)"
   ]
  },
  {
   "cell_type": "markdown",
   "metadata": {
    "slideshow": {
     "slide_type": "slide"
    }
   },
   "source": [
    "## Bootstrap distribution of the sample median\n",
    "\n",
    "- Bulk of the time, the sample median is typically in [60,000, 70,000].\n",
    "- Similar to what we found before.\n",
    "- The population median (red dot) is near the middle."
   ]
  },
  {
   "cell_type": "code",
   "execution_count": 93,
   "metadata": {},
   "outputs": [
    {
     "data": {
      "image/png": "[encoded data removed]",
      "text/plain": [
       "<Figure size 432x288 with 1 Axes>"
      ]
     },
     "metadata": {},
     "output_type": "display_data"
    }
   ],
   "source": [
    "#: visualize\n",
    "Table().with_column('Bootstrap Medians', medians).hist(unit='$')\n",
    "plt.scatter(population_median, 0, color='red', s=80).set_zorder(2)"
   ]
  },
  {
   "cell_type": "markdown",
   "metadata": {
    "slideshow": {
     "slide_type": "slide"
    }
   },
   "source": [
    "## Bootstrap rules of thumb\n",
    "\n",
    "- The bootstrap is an awesome tool:\n",
    "    - We used just one sample to get the (approximate) distribution of the sample median.\n",
    "- But it has limitations:\n",
    "    - Not good for sensitive statistics, like maximum.\n",
    "    - Requires sample to be good approximation of population.\n",
    "    - Works best when population is roughly bell-shaped.\n",
    "    - Can be slow (recommend 10,000+ bootstrap samples)"
   ]
  },
  {
   "cell_type": "markdown",
   "metadata": {
    "slideshow": {
     "slide_type": "slide"
    }
   },
   "source": [
    "## Example: boostrapping in the German tank problem\n",
    "\n",
    "- Suppose the population consists of 400 tanks.\n",
    "- We observe a random sample of 30 tanks."
   ]
  },
  {
   "cell_type": "code",
   "execution_count": 139,
   "metadata": {},
   "outputs": [],
   "source": [
    "#: 400 tanks\n",
    "tank_population = Table().with_column('Serial Number', np.arange(400))"
   ]
  },
  {
   "cell_type": "code",
   "execution_count": 140,
   "metadata": {},
   "outputs": [],
   "source": [
    "#: sample 30 tanks\n",
    "np.random.seed(4242)\n",
    "tank_sample = tank_population.sample(30, with_replacement=False)"
   ]
  },
  {
   "cell_type": "markdown",
   "metadata": {
    "slideshow": {
     "slide_type": "slide"
    }
   },
   "source": [
    "## Running the bootstrap\n",
    "\n",
    "- We want to estimate the maximum number in the population\n",
    "- Our estimator will be the max in the sample.\n",
    "- We run the bootstrap:"
   ]
  },
  {
   "cell_type": "code",
   "execution_count": 142,
   "metadata": {},
   "outputs": [],
   "source": [
    "n_resamples = 5000\n",
    "\n",
    "boot_maxes = make_array()\n",
    "for i in range(n_resamples):\n",
    "    # resample\n",
    "    resample = tank_sample.sample(with_replacement=True)\n",
    "    \n",
    "    # compute max\n",
    "    boot_max = resample.column('Serial Number').max()\n",
    "    \n",
    "    boot_maxes = np.append(boot_maxes, boot_max)"
   ]
  },
  {
   "cell_type": "markdown",
   "metadata": {
    "slideshow": {
     "slide_type": "slide"
    }
   },
   "source": [
    "## Visualize\n",
    "\n",
    "- The bootstrap distribution doesn't surround the right maximum of 399."
   ]
  },
  {
   "cell_type": "code",
   "execution_count": 143,
   "metadata": {},
   "outputs": [
    {
     "data": {
      "text/plain": [
       "<matplotlib.collections.PathCollection at 0x7f981c5ee4a8>"
      ]
     },
     "execution_count": 143,
     "metadata": {},
     "output_type": "execute_result"
    },
    {
     "data": {
      "image/png": "[encoded data removed]",
      "text/plain": [
       "<Figure size 432x288 with 1 Axes>"
      ]
     },
     "metadata": {},
     "output_type": "display_data"
    }
   ],
   "source": [
    "Table().with_column('Bootstrap Max', boot_maxes).hist(bins=20)\n",
    "plt.scatter(399, 0, color='red')"
   ]
  },
  {
   "cell_type": "markdown",
   "metadata": {
    "slideshow": {
     "slide_type": "slide"
    }
   },
   "source": [
    "# Confidence intervals"
   ]
  },
  {
   "cell_type": "markdown",
   "metadata": {},
   "source": [
    "## Confidence intervals\n",
    "\n",
    "- Bootstrapping approximates the distribution of an estimate\n",
    "- The true value typically lies within bulk of the distribution\n",
    "- We can give an interval that we are confident that the correct value lies within"
   ]
  },
  {
   "cell_type": "markdown",
   "metadata": {
    "slideshow": {
     "slide_type": "slide"
    }
   },
   "source": [
    "## A 95% confidence interval for median salary\n",
    "\n",
    "- Recall our bootstrap distribution of the sample median\n",
    "- Suppose by \"bulk\", we mean containing the middle 95% of the area."
   ]
  },
  {
   "cell_type": "code",
   "execution_count": 147,
   "metadata": {},
   "outputs": [
    {
     "data": {
      "image/png": "[encoded data removed]",
      "text/plain": [
       "<Figure size 432x288 with 1 Axes>"
      ]
     },
     "metadata": {},
     "output_type": "display_data"
    }
   ],
   "source": [
    "#: visualize\n",
    "Table().with_column('Bootstrap Medians', boot_medians).hist()"
   ]
  },
  {
   "cell_type": "markdown",
   "metadata": {
    "slideshow": {
     "slide_type": "slide"
    }
   },
   "source": [
    "## Finding the endpoints\n",
    "\n",
    "- We want to find two points, $x$ and $y$, such that the area:\n",
    "    - to the left of $x$ is about 2.5%\n",
    "    - to the right of $y$ is about 2.5%\n",
    "- Then the interval $[x,y]$ will have about 95% of the total area\n",
    "- I.e., we want the 2.5th percentile and 97.5th percentile."
   ]
  },
  {
   "cell_type": "markdown",
   "metadata": {
    "slideshow": {
     "slide_type": "slide"
    }
   },
   "source": [
    "## Computing percentiles\n",
    "\n",
    "- Use `percentile()` function:\n",
    "    - First arg: percentile to find as # in [0, 100]\n",
    "    - Second arg: array of values"
   ]
  },
  {
   "cell_type": "code",
   "execution_count": 148,
   "metadata": {},
   "outputs": [
    {
     "data": {
      "text/plain": [
       "61929.0"
      ]
     },
     "execution_count": 148,
     "metadata": {},
     "output_type": "execute_result"
    }
   ],
   "source": [
    "#...left\n",
    "left = percentile(2.5, boot_medians)\n",
    "left"
   ]
  },
  {
   "cell_type": "code",
   "execution_count": 152,
   "metadata": {},
   "outputs": [
    {
     "data": {
      "text/plain": [
       "69303.5"
      ]
     },
     "execution_count": 152,
     "metadata": {},
     "output_type": "execute_result"
    }
   ],
   "source": [
    "#...right\n",
    "right = percentile(97.5, boot_medians)\n",
    "right"
   ]
  },
  {
   "cell_type": "code",
   "execution_count": 155,
   "metadata": {},
   "outputs": [
    {
     "data": {
      "text/plain": [
       "[61929.0, 69303.5]"
      ]
     },
     "execution_count": 155,
     "metadata": {},
     "output_type": "execute_result"
    }
   ],
   "source": [
    "#: our interval is\n",
    "[left, right]"
   ]
  },
  {
   "cell_type": "markdown",
   "metadata": {
    "slideshow": {
     "slide_type": "slide"
    }
   },
   "source": [
    "## Visualizing our 95% confidence interval\n",
    "\n",
    "- Let's draw the interval on the histogram.\n",
    "- 95% of the bootstrap medians fell into this interval."
   ]
  },
  {
   "cell_type": "code",
   "execution_count": 163,
   "metadata": {},
   "outputs": [
    {
     "data": {
      "text/plain": [
       "[<matplotlib.lines.Line2D at 0x7f981cea70b8>]"
      ]
     },
     "execution_count": 163,
     "metadata": {},
     "output_type": "execute_result"
    },
    {
     "data": {
      "image/png": "[encoded data removed]",
      "text/plain": [
       "<Figure size 432x288 with 1 Axes>"
      ]
     },
     "metadata": {},
     "output_type": "display_data"
    }
   ],
   "source": [
    "#: visualize\n",
    "Table().with_column('Bootstrap Medians', boot_medians).hist()\n",
    "plt.plot([left, right], [0, 0], color='lime', linewidth=10)"
   ]
  },
  {
   "cell_type": "markdown",
   "metadata": {
    "slideshow": {
     "slide_type": "slide"
    }
   },
   "source": [
    "## Discussion question\n",
    "\n",
    "Would an 80% confidence interval be bigger, smaller, or the same size?\n",
    "\n",
    "- A) Bigger\n",
    "- B) Smaller\n",
    "- C) The same size"
   ]
  },
  {
   "cell_type": "markdown",
   "metadata": {
    "slideshow": {
     "slide_type": "slide"
    }
   },
   "source": [
    "## Discussion Question\n",
    "\n",
    "Suppose you had the true distribution of the sample median and used it to compute a 100% confidence interval. And suppose you compute a 100% confidence interval using the bootstrap. Which is bigger?\n",
    "\n",
    "- A) The first confidence interval (from the true distribution).\n",
    "- B) The second confidence interval (from the boostrap).\n",
    "- C) They're the same size."
   ]
  },
  {
   "cell_type": "markdown",
   "metadata": {
    "slideshow": {
     "slide_type": "slide"
    }
   },
   "source": [
    "## Interpreting confidence intervals\n",
    "\n",
    "- 95% of our bootstrap medians fell within this interval\n",
    "- We're pretty confident that the true median does, too.\n",
    "- How confident should we be about this?"
   ]
  },
  {
   "cell_type": "markdown",
   "metadata": {
    "slideshow": {
     "slide_type": "slide"
    }
   },
   "source": [
    "## Capturing the correct value\n",
    "\n",
    "- If we run the bootstrap again, we get a different distribution.\n",
    "- And so we get a different 95% confidence interval.\n",
    "- 95% of the time, the interval will capture the correct median."
   ]
  },
  {
   "cell_type": "markdown",
   "metadata": {
    "slideshow": {
     "slide_type": "slide"
    }
   },
   "source": [
    "## Interpreting confidence intervals\n",
    "\n",
    "- Doesn't have to be for same experiment!\n",
    "- Suppose you only ever make 95% confidence intervals.\n",
    "- Then roughly 95% of the CIs you make in your life will contain the true value of the thing being estimated."
   ]
  },
  {
   "cell_type": "markdown",
   "metadata": {
    "slideshow": {
     "slide_type": "slide"
    }
   },
   "source": [
    "## Misinterpreting confidence intervals\n",
    "\n",
    "- A 95% confidence interval has a 95% chance of containing the true value of the thing being estimated.\n",
    "- The interval is random, not the thing being estimated!"
   ]
  },
  {
   "cell_type": "markdown",
   "metadata": {
    "slideshow": {
     "slide_type": "slide"
    }
   },
   "source": [
    "## Misinterpreting confidence intervals\n",
    "\n",
    "- Our 95% confidence interval for the median salary was:"
   ]
  },
  {
   "cell_type": "code",
   "execution_count": 188,
   "metadata": {},
   "outputs": [
    {
     "data": {
      "text/plain": [
       "[61929.0, 69303.5]"
      ]
     },
     "execution_count": 188,
     "metadata": {},
     "output_type": "execute_result"
    }
   ],
   "source": [
    "#: remember...\n",
    "[left, right]"
   ]
  },
  {
   "cell_type": "markdown",
   "metadata": {},
   "source": [
    "- This does not mean that 95% of salaries are in this range!"
   ]
  },
  {
   "cell_type": "markdown",
   "metadata": {
    "slideshow": {
     "slide_type": "slide"
    }
   },
   "source": [
    "## Example: Estimating proportions\n",
    "\n",
    "- Can use the bootstrap to get confidence intervals on other things.\n",
    "- Such as: proportions."
   ]
  },
  {
   "cell_type": "code",
   "execution_count": 259,
   "metadata": {},
   "outputs": [
    {
     "data": {
      "text/html": [
       "<table border=\"1\" class=\"dataframe\">\n",
       "    <thead>\n",
       "        <tr>\n",
       "            <th>College</th> <th>Major</th> <th>Level</th>\n",
       "        </tr>\n",
       "    </thead>\n",
       "    <tbody>\n",
       "        <tr>\n",
       "            <td>MU     </td> <td>DS25 </td> <td>SO   </td>\n",
       "        </tr>\n",
       "        <tr>\n",
       "            <td>WA     </td> <td>DS25 </td> <td>SR   </td>\n",
       "        </tr>\n",
       "        <tr>\n",
       "            <td>FI     </td> <td>MA27 </td> <td>SR   </td>\n",
       "        </tr>\n",
       "        <tr>\n",
       "            <td>RE     </td> <td>EN28 </td> <td>SO   </td>\n",
       "        </tr>\n",
       "        <tr>\n",
       "            <td>FI     </td> <td>PS25 </td> <td>FR   </td>\n",
       "        </tr>\n",
       "        <tr>\n",
       "            <td>SI     </td> <td>DS25 </td> <td>SO   </td>\n",
       "        </tr>\n",
       "        <tr>\n",
       "            <td>RE     </td> <td>DS25 </td> <td>FR   </td>\n",
       "        </tr>\n",
       "        <tr>\n",
       "            <td>WA     </td> <td>CE25 </td> <td>SR   </td>\n",
       "        </tr>\n",
       "        <tr>\n",
       "            <td>MU     </td> <td>DS25 </td> <td>JR   </td>\n",
       "        </tr>\n",
       "        <tr>\n",
       "            <td>MU     </td> <td>EN26 </td> <td>SO   </td>\n",
       "        </tr>\n",
       "    </tbody>\n",
       "</table>\n",
       "<p>... (129 rows omitted)</p>"
      ],
      "text/plain": [
       "College | Major | Level\n",
       "MU      | DS25  | SO\n",
       "WA      | DS25  | SR\n",
       "FI      | MA27  | SR\n",
       "RE      | EN28  | SO\n",
       "FI      | PS25  | FR\n",
       "SI      | DS25  | SO\n",
       "RE      | DS25  | FR\n",
       "WA      | CE25  | SR\n",
       "MU      | DS25  | JR\n",
       "MU      | EN26  | SO\n",
       "... (129 rows omitted)"
      ]
     },
     "execution_count": 259,
     "metadata": {},
     "output_type": "execute_result"
    }
   ],
   "source": [
    "#: the people in \n",
    "this_section = Table.read_table('eldridge.csv')\n",
    "this_section"
   ]
  },
  {
   "cell_type": "markdown",
   "metadata": {
    "slideshow": {
     "slide_type": "slide"
    }
   },
   "source": [
    "## Discussion Question\n",
    "\n",
    "What is the most popular college in this section?\n",
    "\n",
    "- A) Sixth\n",
    "- B) Warren\n",
    "- C) Revelle\n",
    "- D) Marshall"
   ]
  },
  {
   "cell_type": "markdown",
   "metadata": {
    "slideshow": {
     "slide_type": "slide"
    }
   },
   "source": [
    "## Answer"
   ]
  },
  {
   "cell_type": "code",
   "execution_count": 260,
   "metadata": {
    "slideshow": {
     "slide_type": ""
    }
   },
   "outputs": [
    {
     "data": {
      "text/html": [
       "<table border=\"1\" class=\"dataframe\">\n",
       "    <thead>\n",
       "        <tr>\n",
       "            <th>College</th> <th>count</th>\n",
       "        </tr>\n",
       "    </thead>\n",
       "    <tbody>\n",
       "        <tr>\n",
       "            <td>FI     </td> <td>17   </td>\n",
       "        </tr>\n",
       "        <tr>\n",
       "            <td>GR     </td> <td>1    </td>\n",
       "        </tr>\n",
       "        <tr>\n",
       "            <td>MU     </td> <td>13   </td>\n",
       "        </tr>\n",
       "        <tr>\n",
       "            <td>RE     </td> <td>18   </td>\n",
       "        </tr>\n",
       "        <tr>\n",
       "            <td>SI     </td> <td>30   </td>\n",
       "        </tr>\n",
       "        <tr>\n",
       "            <td>TH     </td> <td>24   </td>\n",
       "        </tr>\n",
       "        <tr>\n",
       "            <td>WA     </td> <td>36   </td>\n",
       "        </tr>\n",
       "    </tbody>\n",
       "</table>"
      ],
      "text/plain": [
       "College | count\n",
       "FI      | 17\n",
       "GR      | 1\n",
       "MU      | 13\n",
       "RE      | 18\n",
       "SI      | 30\n",
       "TH      | 24\n",
       "WA      | 36"
      ]
     },
     "execution_count": 260,
     "metadata": {},
     "output_type": "execute_result"
    }
   ],
   "source": [
    "this_section.group('College')"
   ]
  },
  {
   "cell_type": "markdown",
   "metadata": {
    "slideshow": {
     "slide_type": "slide"
    }
   },
   "source": [
    "## Estimation\n",
    "\n",
    "- The proportion of students in Warren is...\n",
    "- This is an *estimate* of the proportion in the population.\n",
    "- But what is the population?"
   ]
  },
  {
   "cell_type": "code",
   "execution_count": 261,
   "metadata": {},
   "outputs": [
    {
     "data": {
      "text/plain": [
       "0.2589928057553957"
      ]
     },
     "execution_count": 261,
     "metadata": {},
     "output_type": "execute_result"
    }
   ],
   "source": [
    "proportion = this_section.where('College', 'WA').num_rows / first_section.num_rows\n",
    "proportion"
   ]
  },
  {
   "cell_type": "markdown",
   "metadata": {
    "slideshow": {
     "slide_type": "slide"
    }
   },
   "source": [
    "## Bootstrapped confidence interval\n",
    "\n",
    "- Let's bootstrap a 95% CI for the proportion"
   ]
  },
  {
   "cell_type": "code",
   "execution_count": 262,
   "metadata": {},
   "outputs": [],
   "source": [
    "#: run the bootstrap\n",
    "n_resamples = 5000\n",
    "\n",
    "boot_props = make_array()\n",
    "for i in range(n_resamples):\n",
    "    resampled = this_section.sample(with_replacement=True)\n",
    "    boot_prop = resampled.where('College', 'WA').num_rows / resampled.num_rows\n",
    "    boot_props = np.append(boot_props, boot_prop)"
   ]
  },
  {
   "cell_type": "markdown",
   "metadata": {
    "slideshow": {
     "slide_type": "slide"
    }
   },
   "source": [
    "## Visualizing the distribution"
   ]
  },
  {
   "cell_type": "code",
   "execution_count": 263,
   "metadata": {},
   "outputs": [
    {
     "data": {
      "image/png": "[encoded data removed]",
      "text/plain": [
       "<Figure size 432x288 with 1 Axes>"
      ]
     },
     "metadata": {},
     "output_type": "display_data"
    }
   ],
   "source": [
    "#: visualize\n",
    "Table().with_columns('Bootstrap Proportions', boot_props).hist()\n",
    "plt.scatter(proportion, 0, color='red', s=40).set_zorder(2)"
   ]
  },
  {
   "cell_type": "markdown",
   "metadata": {},
   "source": [
    "## Computing the confidence interval"
   ]
  },
  {
   "cell_type": "code",
   "execution_count": 264,
   "metadata": {},
   "outputs": [
    {
     "data": {
      "text/plain": [
       "0.18705035971223022"
      ]
     },
     "execution_count": 264,
     "metadata": {},
     "output_type": "execute_result"
    }
   ],
   "source": [
    "#: left endpoint\n",
    "left = percentile(2.5, boot_props)\n",
    "left"
   ]
  },
  {
   "cell_type": "code",
   "execution_count": 265,
   "metadata": {},
   "outputs": [
    {
     "data": {
      "text/plain": [
       "0.3381294964028777"
      ]
     },
     "execution_count": 265,
     "metadata": {},
     "output_type": "execute_result"
    }
   ],
   "source": [
    "#: right endpoint\n",
    "right = percentile(97.5, boot_props)\n",
    "right"
   ]
  },
  {
   "cell_type": "code",
   "execution_count": 266,
   "metadata": {},
   "outputs": [
    {
     "data": {
      "text/plain": [
       "[0.18705035971223022, 0.3381294964028777]"
      ]
     },
     "execution_count": 266,
     "metadata": {},
     "output_type": "execute_result"
    }
   ],
   "source": [
    "#: the interval\n",
    "[left, right]"
   ]
  },
  {
   "cell_type": "markdown",
   "metadata": {
    "slideshow": {
     "slide_type": "slide"
    }
   },
   "source": [
    "## Visualizing the confidence interval"
   ]
  },
  {
   "cell_type": "code",
   "execution_count": 313,
   "metadata": {},
   "outputs": [
    {
     "data": {
      "text/plain": [
       "[<matplotlib.lines.Line2D at 0x7f982e9f37f0>]"
      ]
     },
     "execution_count": 313,
     "metadata": {},
     "output_type": "execute_result"
    },
    {
     "data": {
      "image/png": "[encoded data removed]",
      "text/plain": [
       "<Figure size 432x288 with 1 Axes>"
      ]
     },
     "metadata": {},
     "output_type": "display_data"
    }
   ],
   "source": [
    "#: visualize\n",
    "Table().with_columns('Bootstrap Proportions', boot_props).hist()\n",
    "plt.scatter(proportion, 0, color='red', s=40).set_zorder(3)\n",
    "plt.plot([left, right], [0, 0], color='lime')"
   ]
  },
  {
   "cell_type": "markdown",
   "metadata": {
    "slideshow": {
     "slide_type": "slide"
    }
   },
   "source": [
    "## The other section\n",
    "\n",
    "- If other section drawn from same population, its proportion is likely to be in this interval.\n",
    "- Why? The interval was made by simulating draws from the population."
   ]
  },
  {
   "cell_type": "code",
   "execution_count": 267,
   "metadata": {},
   "outputs": [
    {
     "data": {
      "text/plain": [
       "0.17482517482517482"
      ]
     },
     "execution_count": 267,
     "metadata": {},
     "output_type": "execute_result"
    }
   ],
   "source": [
    "#: compute proportion in Warren for other section\n",
    "other_section = Table.read_table('fraenkel.csv')\n",
    "other_proportion = other_section.where('College', 'WA').num_rows / other_section.num_rows\n",
    "other_proportion"
   ]
  },
  {
   "cell_type": "code",
   "execution_count": 290,
   "metadata": {},
   "outputs": [
    {
     "data": {
      "text/plain": [
       "[0.18705035971223022, 0.3381294964028777]"
      ]
     },
     "execution_count": 290,
     "metadata": {},
     "output_type": "execute_result"
    }
   ],
   "source": [
    "#: remember the interval\n",
    "[left, right]"
   ]
  },
  {
   "cell_type": "markdown",
   "metadata": {
    "slideshow": {
     "slide_type": "slide"
    }
   },
   "source": [
    "## Are they from the same distribution?\n",
    "\n",
    "- A/B test!\n",
    "- New columns:\n",
    "    - \"Warren\": True/False, if in Warren.\n",
    "    - \"Section\": 'This' or 'Other'"
   ]
  },
  {
   "cell_type": "code",
   "execution_count": 291,
   "metadata": {},
   "outputs": [],
   "source": [
    "#: adding columns...\n",
    "this_section_in_warren = this_section.with_columns(\n",
    "    'Warren',\n",
    "    this_section.column('College') == 'WA',\n",
    "    'Section',\n",
    "    'This'\n",
    ")\n",
    "\n",
    "other_section_in_warren = other_section.with_columns(\n",
    "    'Warren',\n",
    "    other_section.column('College') == 'WA',\n",
    "    'Section',\n",
    "    'Other'\n",
    ")"
   ]
  },
  {
   "cell_type": "markdown",
   "metadata": {
    "slideshow": {
     "slide_type": "slide"
    }
   },
   "source": [
    "## Combine the sections"
   ]
  },
  {
   "cell_type": "code",
   "execution_count": 292,
   "metadata": {},
   "outputs": [
    {
     "data": {
      "text/html": [
       "<table border=\"1\" class=\"dataframe\">\n",
       "    <thead>\n",
       "        <tr>\n",
       "            <th>Warren</th> <th>Section</th>\n",
       "        </tr>\n",
       "    </thead>\n",
       "    <tbody>\n",
       "        <tr>\n",
       "            <td>False </td> <td>This   </td>\n",
       "        </tr>\n",
       "        <tr>\n",
       "            <td>True  </td> <td>This   </td>\n",
       "        </tr>\n",
       "        <tr>\n",
       "            <td>False </td> <td>This   </td>\n",
       "        </tr>\n",
       "        <tr>\n",
       "            <td>False </td> <td>This   </td>\n",
       "        </tr>\n",
       "        <tr>\n",
       "            <td>False </td> <td>This   </td>\n",
       "        </tr>\n",
       "        <tr>\n",
       "            <td>False </td> <td>This   </td>\n",
       "        </tr>\n",
       "        <tr>\n",
       "            <td>False </td> <td>This   </td>\n",
       "        </tr>\n",
       "        <tr>\n",
       "            <td>True  </td> <td>This   </td>\n",
       "        </tr>\n",
       "        <tr>\n",
       "            <td>False </td> <td>This   </td>\n",
       "        </tr>\n",
       "        <tr>\n",
       "            <td>False </td> <td>This   </td>\n",
       "        </tr>\n",
       "    </tbody>\n",
       "</table>\n",
       "<p>... (272 rows omitted)</p>"
      ],
      "text/plain": [
       "Warren | Section\n",
       "False  | This\n",
       "True   | This\n",
       "False  | This\n",
       "False  | This\n",
       "False  | This\n",
       "False  | This\n",
       "False  | This\n",
       "True   | This\n",
       "False  | This\n",
       "False  | This\n",
       "... (272 rows omitted)"
      ]
     },
     "execution_count": 292,
     "metadata": {},
     "output_type": "execute_result"
    }
   ],
   "source": [
    "#: combine the sections\n",
    "combined = this_section_in_warren.append(other_section_in_warren)\n",
    "combined = combined.select('Warren', 'Section')\n",
    "combined"
   ]
  },
  {
   "cell_type": "markdown",
   "metadata": {
    "slideshow": {
     "slide_type": "slide"
    }
   },
   "source": [
    "## Statistic\n",
    "\n",
    "- The difference between the group proportions"
   ]
  },
  {
   "cell_type": "code",
   "execution_count": 304,
   "metadata": {},
   "outputs": [],
   "source": [
    "#: the difference in proportion between groups\n",
    "def statistic(combined):\n",
    "    group_proportions = combined.group('Section', np.mean).column('Warren mean')\n",
    "    return group_proportions.item(1) - group_proportions.item(0)"
   ]
  },
  {
   "cell_type": "markdown",
   "metadata": {
    "slideshow": {
     "slide_type": "slide"
    }
   },
   "source": [
    "## Permutation test"
   ]
  },
  {
   "cell_type": "code",
   "execution_count": 305,
   "metadata": {},
   "outputs": [],
   "source": [
    "#: permutation test\n",
    "n_shuffles = 5000\n",
    "\n",
    "differences = make_array()\n",
    "for i in range(n_shuffles):\n",
    "    shuffled_sections = combined.sample(with_replacement=False).column('Section')\n",
    "    shuffled = combined.with_column('Section', shuffled_sections)\n",
    "    difference = statistic(shuffled)\n",
    "    differences = np.append(differences, difference)"
   ]
  },
  {
   "cell_type": "markdown",
   "metadata": {
    "slideshow": {
     "slide_type": "slide"
    }
   },
   "source": [
    "## Visualize"
   ]
  },
  {
   "cell_type": "code",
   "execution_count": 306,
   "metadata": {},
   "outputs": [
    {
     "data": {
      "image/png": "[encoded data removed]",
      "text/plain": [
       "<Figure size 432x288 with 1 Axes>"
      ]
     },
     "metadata": {},
     "output_type": "display_data"
    }
   ],
   "source": [
    "#: visualize\n",
    "Table().with_column('Differences', differences).hist()\n",
    "plt.scatter(statistic(combined), 0, color='red', s=40).set_zorder(2)"
   ]
  },
  {
   "cell_type": "markdown",
   "metadata": {
    "slideshow": {
     "slide_type": "slide"
    }
   },
   "source": [
    "## Calculate a p-value"
   ]
  },
  {
   "cell_type": "code",
   "execution_count": 309,
   "metadata": {},
   "outputs": [
    {
     "data": {
      "text/plain": [
       "0.0538"
      ]
     },
     "execution_count": 309,
     "metadata": {},
     "output_type": "execute_result"
    }
   ],
   "source": [
    "#: the p-value\n",
    "np.count_nonzero(differences >= statistic(combined)) / len(differences)"
   ]
  }
 ],
 "metadata": {
  "celltoolbar": "Slideshow",
  "kernelspec": {
   "display_name": "Python 3",
   "language": "python",
   "name": "python3"
  },
  "language_info": {
   "codemirror_mode": {
    "name": "ipython",
    "version": 3
   },
   "file_extension": ".py",
   "mimetype": "text/x-python",
   "name": "python",
   "nbconvert_exporter": "python",
   "pygments_lexer": "ipython3",
   "version": "3.6.6"
  },
  "livereveal": {
   "scroll": true,
   "transition": "none"
  }
 },
 "nbformat": 4,
 "nbformat_minor": 2
}
