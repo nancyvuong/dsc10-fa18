{
 "cells": [
  {
   "cell_type": "markdown",
   "metadata": {
    "slideshow": {
     "slide_type": "slide"
    }
   },
   "source": [
    "# Lecture 8\n",
    "\n",
    "Group, Join, Conditionals, and Iteration"
   ]
  },
  {
   "cell_type": "markdown",
   "metadata": {
    "slideshow": {
     "slide_type": "slide"
    }
   },
   "source": [
    "# Announcements\n",
    "\n",
    "- The project is due on Sunday evening.\n",
    "- That's less than a week!\n",
    "- No homework this week (due to project)\n",
    "- But there is a lab due tomorrow!"
   ]
  },
  {
   "cell_type": "markdown",
   "metadata": {
    "slideshow": {
     "slide_type": "slide"
    }
   },
   "source": [
    "# Grouping\n",
    "\n",
    "Classifying variables"
   ]
  },
  {
   "cell_type": "code",
   "execution_count": 1,
   "metadata": {},
   "outputs": [],
   "source": [
    "#: imports!\n",
    "\n",
    "import numpy as np\n",
    "from datascience import *\n",
    "\n",
    "import matplotlib.pyplot as plt\n",
    "plt.style.use('fivethirtyeight')\n",
    "%matplotlib inline"
   ]
  },
  {
   "cell_type": "markdown",
   "metadata": {
    "slideshow": {
     "slide_type": "slide"
    }
   },
   "source": [
    "## Grouping consists of Split - Apply - Combine\n",
    "\n",
    "![grouping_workflow.png](./grouping_workflow.png)"
   ]
  },
  {
   "cell_type": "markdown",
   "metadata": {
    "slideshow": {
     "slide_type": "slide"
    }
   },
   "source": [
    "## Our familiar NBA data..."
   ]
  },
  {
   "cell_type": "code",
   "execution_count": 2,
   "metadata": {},
   "outputs": [
    {
     "data": {
      "text/html": [
       "<table border=\"1\" class=\"dataframe\">\n",
       "    <thead>\n",
       "        <tr>\n",
       "            <th>PLAYER</th> <th>POSITION</th> <th>TEAM</th> <th>SALARY</th>\n",
       "        </tr>\n",
       "    </thead>\n",
       "    <tbody>\n",
       "        <tr>\n",
       "            <td>Paul Millsap    </td> <td>PF      </td> <td>Atlanta Hawks</td> <td>18.6717</td>\n",
       "        </tr>\n",
       "        <tr>\n",
       "            <td>Al Horford      </td> <td>C       </td> <td>Atlanta Hawks</td> <td>12     </td>\n",
       "        </tr>\n",
       "        <tr>\n",
       "            <td>Tiago Splitter  </td> <td>C       </td> <td>Atlanta Hawks</td> <td>9.75625</td>\n",
       "        </tr>\n",
       "        <tr>\n",
       "            <td>Jeff Teague     </td> <td>PG      </td> <td>Atlanta Hawks</td> <td>8      </td>\n",
       "        </tr>\n",
       "        <tr>\n",
       "            <td>Kyle Korver     </td> <td>SG      </td> <td>Atlanta Hawks</td> <td>5.74648</td>\n",
       "        </tr>\n",
       "        <tr>\n",
       "            <td>Thabo Sefolosha </td> <td>SF      </td> <td>Atlanta Hawks</td> <td>4      </td>\n",
       "        </tr>\n",
       "        <tr>\n",
       "            <td>Mike Scott      </td> <td>PF      </td> <td>Atlanta Hawks</td> <td>3.33333</td>\n",
       "        </tr>\n",
       "        <tr>\n",
       "            <td>Kent Bazemore   </td> <td>SF      </td> <td>Atlanta Hawks</td> <td>2      </td>\n",
       "        </tr>\n",
       "        <tr>\n",
       "            <td>Dennis Schroder </td> <td>PG      </td> <td>Atlanta Hawks</td> <td>1.7634 </td>\n",
       "        </tr>\n",
       "        <tr>\n",
       "            <td>Tim Hardaway Jr.</td> <td>SG      </td> <td>Atlanta Hawks</td> <td>1.30452</td>\n",
       "        </tr>\n",
       "    </tbody>\n",
       "</table>\n",
       "<p>... (407 rows omitted)</p>"
      ],
      "text/plain": [
       "PLAYER           | POSITION | TEAM          | SALARY\n",
       "Paul Millsap     | PF       | Atlanta Hawks | 18.6717\n",
       "Al Horford       | C        | Atlanta Hawks | 12\n",
       "Tiago Splitter   | C        | Atlanta Hawks | 9.75625\n",
       "Jeff Teague      | PG       | Atlanta Hawks | 8\n",
       "Kyle Korver      | SG       | Atlanta Hawks | 5.74648\n",
       "Thabo Sefolosha  | SF       | Atlanta Hawks | 4\n",
       "Mike Scott       | PF       | Atlanta Hawks | 3.33333\n",
       "Kent Bazemore    | SF       | Atlanta Hawks | 2\n",
       "Dennis Schroder  | PG       | Atlanta Hawks | 1.7634\n",
       "Tim Hardaway Jr. | SG       | Atlanta Hawks | 1.30452\n",
       "... (407 rows omitted)"
      ]
     },
     "execution_count": 2,
     "metadata": {},
     "output_type": "execute_result"
    }
   ],
   "source": [
    "#: read from csv and relabel\n",
    "nba = Table.read_table('nba_salaries.csv').relabeled(\"'15-'16 SALARY\", 'SALARY')\n",
    "nba"
   ]
  },
  {
   "cell_type": "markdown",
   "metadata": {
    "slideshow": {
     "slide_type": "slide"
    }
   },
   "source": [
    "## How big is each team?\n",
    "\n",
    "- We know how to do this: `.group()`.\n",
    "- Can visualize distribution of team sizes with `.hist()`."
   ]
  },
  {
   "cell_type": "code",
   "execution_count": 3,
   "metadata": {},
   "outputs": [
    {
     "data": {
      "image/png": "[encoded data removed]",
      "text/plain": [
       "<Figure size 432x288 with 1 Axes>"
      ]
     },
     "metadata": {
      "needs_background": "light"
     },
     "output_type": "display_data"
    }
   ],
   "source": [
    "nba.group('TEAM').hist('count')"
   ]
  },
  {
   "cell_type": "markdown",
   "metadata": {
    "slideshow": {
     "slide_type": "slide"
    }
   },
   "source": [
    "## How much does each team pay in payroll?\n",
    "\n",
    "- Instead of counting, we want to sum the `SALARY` column."
   ]
  },
  {
   "cell_type": "code",
   "execution_count": 4,
   "metadata": {},
   "outputs": [
    {
     "data": {
      "text/html": [
       "<table border=\"1\" class=\"dataframe\">\n",
       "    <thead>\n",
       "        <tr>\n",
       "            <th>TEAM</th> <th>PLAYER sum</th> <th>POSITION sum</th> <th>SALARY sum</th>\n",
       "        </tr>\n",
       "    </thead>\n",
       "    <tbody>\n",
       "        <tr>\n",
       "            <td>Atlanta Hawks        </td> <td>          </td> <td>            </td> <td>69.5731   </td>\n",
       "        </tr>\n",
       "        <tr>\n",
       "            <td>Boston Celtics       </td> <td>          </td> <td>            </td> <td>50.2855   </td>\n",
       "        </tr>\n",
       "        <tr>\n",
       "            <td>Brooklyn Nets        </td> <td>          </td> <td>            </td> <td>57.307    </td>\n",
       "        </tr>\n",
       "        <tr>\n",
       "            <td>Charlotte Hornets    </td> <td>          </td> <td>            </td> <td>84.1024   </td>\n",
       "        </tr>\n",
       "        <tr>\n",
       "            <td>Chicago Bulls        </td> <td>          </td> <td>            </td> <td>78.8209   </td>\n",
       "        </tr>\n",
       "        <tr>\n",
       "            <td>Cleveland Cavaliers  </td> <td>          </td> <td>            </td> <td>102.312   </td>\n",
       "        </tr>\n",
       "        <tr>\n",
       "            <td>Dallas Mavericks     </td> <td>          </td> <td>            </td> <td>65.7626   </td>\n",
       "        </tr>\n",
       "        <tr>\n",
       "            <td>Denver Nuggets       </td> <td>          </td> <td>            </td> <td>62.4294   </td>\n",
       "        </tr>\n",
       "        <tr>\n",
       "            <td>Detroit Pistons      </td> <td>          </td> <td>            </td> <td>42.2118   </td>\n",
       "        </tr>\n",
       "        <tr>\n",
       "            <td>Golden State Warriors</td> <td>          </td> <td>            </td> <td>94.0851   </td>\n",
       "        </tr>\n",
       "    </tbody>\n",
       "</table>\n",
       "<p>... (20 rows omitted)</p>"
      ],
      "text/plain": [
       "TEAM                  | PLAYER sum | POSITION sum | SALARY sum\n",
       "Atlanta Hawks         |            |              | 69.5731\n",
       "Boston Celtics        |            |              | 50.2855\n",
       "Brooklyn Nets         |            |              | 57.307\n",
       "Charlotte Hornets     |            |              | 84.1024\n",
       "Chicago Bulls         |            |              | 78.8209\n",
       "Cleveland Cavaliers   |            |              | 102.312\n",
       "Dallas Mavericks      |            |              | 65.7626\n",
       "Denver Nuggets        |            |              | 62.4294\n",
       "Detroit Pistons       |            |              | 42.2118\n",
       "Golden State Warriors |            |              | 94.0851\n",
       "... (20 rows omitted)"
      ]
     },
     "execution_count": 4,
     "metadata": {},
     "output_type": "execute_result"
    }
   ],
   "source": [
    "nba.group('TEAM', np.sum)"
   ]
  },
  {
   "cell_type": "markdown",
   "metadata": {
    "slideshow": {
     "slide_type": "slide"
    }
   },
   "source": [
    "## What happened with the columns?"
   ]
  },
  {
   "cell_type": "code",
   "execution_count": 5,
   "metadata": {},
   "outputs": [
    {
     "data": {
      "text/html": [
       "<table border=\"1\" class=\"dataframe\">\n",
       "    <thead>\n",
       "        <tr>\n",
       "            <th>TEAM</th> <th>PLAYER sum</th> <th>POSITION sum</th> <th>SALARY sum</th>\n",
       "        </tr>\n",
       "    </thead>\n",
       "    <tbody>\n",
       "        <tr>\n",
       "            <td>Atlanta Hawks        </td> <td>          </td> <td>            </td> <td>69.5731   </td>\n",
       "        </tr>\n",
       "        <tr>\n",
       "            <td>Boston Celtics       </td> <td>          </td> <td>            </td> <td>50.2855   </td>\n",
       "        </tr>\n",
       "        <tr>\n",
       "            <td>Brooklyn Nets        </td> <td>          </td> <td>            </td> <td>57.307    </td>\n",
       "        </tr>\n",
       "        <tr>\n",
       "            <td>Charlotte Hornets    </td> <td>          </td> <td>            </td> <td>84.1024   </td>\n",
       "        </tr>\n",
       "        <tr>\n",
       "            <td>Chicago Bulls        </td> <td>          </td> <td>            </td> <td>78.8209   </td>\n",
       "        </tr>\n",
       "        <tr>\n",
       "            <td>Cleveland Cavaliers  </td> <td>          </td> <td>            </td> <td>102.312   </td>\n",
       "        </tr>\n",
       "        <tr>\n",
       "            <td>Dallas Mavericks     </td> <td>          </td> <td>            </td> <td>65.7626   </td>\n",
       "        </tr>\n",
       "        <tr>\n",
       "            <td>Denver Nuggets       </td> <td>          </td> <td>            </td> <td>62.4294   </td>\n",
       "        </tr>\n",
       "        <tr>\n",
       "            <td>Detroit Pistons      </td> <td>          </td> <td>            </td> <td>42.2118   </td>\n",
       "        </tr>\n",
       "        <tr>\n",
       "            <td>Golden State Warriors</td> <td>          </td> <td>            </td> <td>94.0851   </td>\n",
       "        </tr>\n",
       "    </tbody>\n",
       "</table>\n",
       "<p>... (20 rows omitted)</p>"
      ],
      "text/plain": [
       "TEAM                  | PLAYER sum | POSITION sum | SALARY sum\n",
       "Atlanta Hawks         |            |              | 69.5731\n",
       "Boston Celtics        |            |              | 50.2855\n",
       "Brooklyn Nets         |            |              | 57.307\n",
       "Charlotte Hornets     |            |              | 84.1024\n",
       "Chicago Bulls         |            |              | 78.8209\n",
       "Cleveland Cavaliers   |            |              | 102.312\n",
       "Dallas Mavericks      |            |              | 65.7626\n",
       "Denver Nuggets        |            |              | 62.4294\n",
       "Detroit Pistons       |            |              | 42.2118\n",
       "Golden State Warriors |            |              | 94.0851\n",
       "... (20 rows omitted)"
      ]
     },
     "execution_count": 5,
     "metadata": {},
     "output_type": "execute_result"
    }
   ],
   "source": [
    "#: check it out...\n",
    "nba.group('TEAM', np.sum)"
   ]
  },
  {
   "cell_type": "markdown",
   "metadata": {},
   "source": [
    "- `np.sum` is applied to all columns (besides `TEAM`)\n",
    "- But we can't sum all columns. E.g., `PLAYER`.\n",
    "- In those cases: empty column."
   ]
  },
  {
   "cell_type": "markdown",
   "metadata": {
    "slideshow": {
     "slide_type": "slide"
    }
   },
   "source": [
    "## Which position has the highest average salary?\n",
    "\n",
    "- We need to group by position.\n",
    "- Within each group, find the average.\n",
    "- Then sort by average salary."
   ]
  },
  {
   "cell_type": "code",
   "execution_count": 6,
   "metadata": {},
   "outputs": [
    {
     "data": {
      "text/html": [
       "<table border=\"1\" class=\"dataframe\">\n",
       "    <thead>\n",
       "        <tr>\n",
       "            <th>POSITION</th> <th>PLAYER mean</th> <th>TEAM mean</th> <th>SALARY mean</th>\n",
       "        </tr>\n",
       "    </thead>\n",
       "    <tbody>\n",
       "        <tr>\n",
       "            <td>C       </td> <td>           </td> <td>         </td> <td>6.08291    </td>\n",
       "        </tr>\n",
       "        <tr>\n",
       "            <td>SF      </td> <td>           </td> <td>         </td> <td>5.53267    </td>\n",
       "        </tr>\n",
       "        <tr>\n",
       "            <td>PG      </td> <td>           </td> <td>         </td> <td>5.16549    </td>\n",
       "        </tr>\n",
       "        <tr>\n",
       "            <td>PF      </td> <td>           </td> <td>         </td> <td>4.95134    </td>\n",
       "        </tr>\n",
       "        <tr>\n",
       "            <td>SG      </td> <td>           </td> <td>         </td> <td>3.9882     </td>\n",
       "        </tr>\n",
       "    </tbody>\n",
       "</table>"
      ],
      "text/plain": [
       "POSITION | PLAYER mean | TEAM mean | SALARY mean\n",
       "C        |             |           | 6.08291\n",
       "SF       |             |           | 5.53267\n",
       "PG       |             |           | 5.16549\n",
       "PF       |             |           | 4.95134\n",
       "SG       |             |           | 3.9882"
      ]
     },
     "execution_count": 6,
     "metadata": {},
     "output_type": "execute_result"
    }
   ],
   "source": [
    "nba.group('POSITION', np.mean).sort('SALARY mean', descending=True)"
   ]
  },
  {
   "cell_type": "markdown",
   "metadata": {
    "slideshow": {
     "slide_type": "slide"
    }
   },
   "source": [
    "## What is the max salary of each position?\n",
    "\n",
    "- Group by position.\n",
    "- Within each group, use `max`."
   ]
  },
  {
   "cell_type": "code",
   "execution_count": 7,
   "metadata": {},
   "outputs": [
    {
     "data": {
      "text/html": [
       "<table border=\"1\" class=\"dataframe\">\n",
       "    <thead>\n",
       "        <tr>\n",
       "            <th>POSITION</th> <th>PLAYER max</th> <th>TEAM max</th> <th>SALARY max</th>\n",
       "        </tr>\n",
       "    </thead>\n",
       "    <tbody>\n",
       "        <tr>\n",
       "            <td>C       </td> <td>Zaza Pachulia  </td> <td>Washington Wizards</td> <td>22.3594   </td>\n",
       "        </tr>\n",
       "        <tr>\n",
       "            <td>PF      </td> <td>Zach Randolph  </td> <td>Washington Wizards</td> <td>22.1927   </td>\n",
       "        </tr>\n",
       "        <tr>\n",
       "            <td>PG      </td> <td>Zach LaVine    </td> <td>Washington Wizards</td> <td>21.4687   </td>\n",
       "        </tr>\n",
       "        <tr>\n",
       "            <td>SF      </td> <td>Wilson Chandler</td> <td>Washington Wizards</td> <td>25        </td>\n",
       "        </tr>\n",
       "        <tr>\n",
       "            <td>SG      </td> <td>Zoran Dragic   </td> <td>Washington Wizards</td> <td>20        </td>\n",
       "        </tr>\n",
       "    </tbody>\n",
       "</table>"
      ],
      "text/plain": [
       "POSITION | PLAYER max      | TEAM max           | SALARY max\n",
       "C        | Zaza Pachulia   | Washington Wizards | 22.3594\n",
       "PF       | Zach Randolph   | Washington Wizards | 22.1927\n",
       "PG       | Zach LaVine     | Washington Wizards | 21.4687\n",
       "SF       | Wilson Chandler | Washington Wizards | 25\n",
       "SG       | Zoran Dragic    | Washington Wizards | 20"
      ]
     },
     "execution_count": 7,
     "metadata": {},
     "output_type": "execute_result"
    }
   ],
   "source": [
    "#: like so...\n",
    "nba.group('POSITION', max)"
   ]
  },
  {
   "cell_type": "markdown",
   "metadata": {
    "slideshow": {
     "slide_type": "slide"
    }
   },
   "source": [
    "## Discussion question\n",
    "\n",
    "Does Zaza Pachulia make 22.3594 million per year?\n",
    "\n",
    "1. Yes\n",
    "2. No\n",
    "3. I cannot tell from this table."
   ]
  },
  {
   "cell_type": "code",
   "execution_count": 8,
   "metadata": {},
   "outputs": [
    {
     "data": {
      "text/html": [
       "<table border=\"1\" class=\"dataframe\">\n",
       "    <thead>\n",
       "        <tr>\n",
       "            <th>POSITION</th> <th>PLAYER max</th> <th>TEAM max</th> <th>SALARY max</th>\n",
       "        </tr>\n",
       "    </thead>\n",
       "    <tbody>\n",
       "        <tr>\n",
       "            <td>C       </td> <td>Zaza Pachulia  </td> <td>Washington Wizards</td> <td>22.3594   </td>\n",
       "        </tr>\n",
       "        <tr>\n",
       "            <td>PF      </td> <td>Zach Randolph  </td> <td>Washington Wizards</td> <td>22.1927   </td>\n",
       "        </tr>\n",
       "        <tr>\n",
       "            <td>PG      </td> <td>Zach LaVine    </td> <td>Washington Wizards</td> <td>21.4687   </td>\n",
       "        </tr>\n",
       "        <tr>\n",
       "            <td>SF      </td> <td>Wilson Chandler</td> <td>Washington Wizards</td> <td>25        </td>\n",
       "        </tr>\n",
       "        <tr>\n",
       "            <td>SG      </td> <td>Zoran Dragic   </td> <td>Washington Wizards</td> <td>20        </td>\n",
       "        </tr>\n",
       "    </tbody>\n",
       "</table>"
      ],
      "text/plain": [
       "POSITION | PLAYER max      | TEAM max           | SALARY max\n",
       "C        | Zaza Pachulia   | Washington Wizards | 22.3594\n",
       "PF       | Zach Randolph   | Washington Wizards | 22.1927\n",
       "PG       | Zach LaVine     | Washington Wizards | 21.4687\n",
       "SF       | Wilson Chandler | Washington Wizards | 25\n",
       "SG       | Zoran Dragic    | Washington Wizards | 20"
      ]
     },
     "execution_count": 8,
     "metadata": {},
     "output_type": "execute_result"
    }
   ],
   "source": [
    "#: ...\n",
    "nba.group('POSITION', max)"
   ]
  },
  {
   "cell_type": "markdown",
   "metadata": {
    "slideshow": {
     "slide_type": "slide"
    }
   },
   "source": [
    "## How does `.group()` work?"
   ]
  },
  {
   "cell_type": "code",
   "execution_count": 16,
   "metadata": {},
   "outputs": [],
   "source": [
    "#: prints what it is given\n",
    "def our_aggregator(group):\n",
    "    print('I was given', group)\n",
    "    # try len, sum, list...\n",
    "    return list(group)"
   ]
  },
  {
   "cell_type": "code",
   "execution_count": 26,
   "metadata": {},
   "outputs": [
    {
     "data": {
      "text/html": [
       "<table border=\"1\" class=\"dataframe\">\n",
       "    <thead>\n",
       "        <tr>\n",
       "            <th>PLAYER</th> <th>POSITION</th> <th>TEAM</th> <th>SALARY</th>\n",
       "        </tr>\n",
       "    </thead>\n",
       "    <tbody>\n",
       "        <tr>\n",
       "            <td>Tristan Thompson </td> <td>C       </td> <td>Cleveland Cavaliers</td> <td>14.2609</td>\n",
       "        </tr>\n",
       "        <tr>\n",
       "            <td>LaMarcus Aldridge</td> <td>PF      </td> <td>San Antonio Spurs  </td> <td>19.689 </td>\n",
       "        </tr>\n",
       "        <tr>\n",
       "            <td>Jarell Martin    </td> <td>PF      </td> <td>Memphis Grizzlies  </td> <td>1.23084</td>\n",
       "        </tr>\n",
       "        <tr>\n",
       "            <td>Drew Gooden      </td> <td>PF      </td> <td>Washington Wizards </td> <td>3.3    </td>\n",
       "        </tr>\n",
       "        <tr>\n",
       "            <td>Lucas Nogueira   </td> <td>C       </td> <td>Toronto Raptors    </td> <td>1.842  </td>\n",
       "        </tr>\n",
       "        <tr>\n",
       "            <td>LaMarcus Aldridge</td> <td>PF      </td> <td>San Antonio Spurs  </td> <td>19.689 </td>\n",
       "        </tr>\n",
       "    </tbody>\n",
       "</table>"
      ],
      "text/plain": [
       "PLAYER            | POSITION | TEAM                | SALARY\n",
       "Tristan Thompson  | C        | Cleveland Cavaliers | 14.2609\n",
       "LaMarcus Aldridge | PF       | San Antonio Spurs   | 19.689\n",
       "Jarell Martin     | PF       | Memphis Grizzlies   | 1.23084\n",
       "Drew Gooden       | PF       | Washington Wizards  | 3.3\n",
       "Lucas Nogueira    | C        | Toronto Raptors     | 1.842\n",
       "LaMarcus Aldridge | PF       | San Antonio Spurs   | 19.689"
      ]
     },
     "execution_count": 26,
     "metadata": {},
     "output_type": "execute_result"
    }
   ],
   "source": [
    "#: select 5 random Cs and PFs\n",
    "subset = nba.where('POSITION', are.contained_in(['C', 'PF'])).sample(6)\n",
    "subset"
   ]
  },
  {
   "cell_type": "code",
   "execution_count": 28,
   "metadata": {},
   "outputs": [
    {
     "name": "stdout",
     "output_type": "stream",
     "text": [
      "I was given ['Tristan Thompson' 'Lucas Nogueira']\n",
      "I was given ['LaMarcus Aldridge' 'Jarell Martin' 'Drew Gooden' 'LaMarcus Aldridge']\n",
      "I was given ['Cleveland Cavaliers' 'Toronto Raptors']\n",
      "I was given ['San Antonio Spurs' 'Memphis Grizzlies' 'Washington Wizards'\n",
      " 'San Antonio Spurs']\n",
      "I was given [14.26087  1.842  ]\n",
      "I was given [19.689    1.23084  3.3     19.689  ]\n"
     ]
    },
    {
     "data": {
      "text/html": [
       "<table border=\"1\" class=\"dataframe\">\n",
       "    <thead>\n",
       "        <tr>\n",
       "            <th>POSITION</th> <th>PLAYER our_aggregator</th> <th>TEAM our_aggregator</th> <th>SALARY our_aggregator</th>\n",
       "        </tr>\n",
       "    </thead>\n",
       "    <tbody>\n",
       "        <tr>\n",
       "            <td>C       </td> <td>['Tristan Thompson', 'Lucas Nogueira']                      </td> <td>['Cleveland Cavaliers', 'Toronto Raptors']                  </td> <td>[14.26087, 1.842]             </td>\n",
       "        </tr>\n",
       "        <tr>\n",
       "            <td>PF      </td> <td>['LaMarcus Aldridge', 'Jarell Martin', 'Drew Gooden', 'L ...</td> <td>['San Antonio Spurs', 'Memphis Grizzlies', 'Washington W ...</td> <td>[19.689, 1.23084, 3.3, 19.689]</td>\n",
       "        </tr>\n",
       "    </tbody>\n",
       "</table>"
      ],
      "text/plain": [
       "POSITION | PLAYER our_aggregator                                        | TEAM our_aggregator                                          | SALARY our_aggregator\n",
       "C        | ['Tristan Thompson', 'Lucas Nogueira']                       | ['Cleveland Cavaliers', 'Toronto Raptors']                   | [14.26087, 1.842]\n",
       "PF       | ['LaMarcus Aldridge', 'Jarell Martin', 'Drew Gooden', 'L ... | ['San Antonio Spurs', 'Memphis Grizzlies', 'Washington W ... | [19.689, 1.23084, 3.3, 19.689]"
      ]
     },
     "execution_count": 28,
     "metadata": {},
     "output_type": "execute_result"
    }
   ],
   "source": [
    "subset.group('POSITION', our_aggregator)"
   ]
  },
  {
   "cell_type": "markdown",
   "metadata": {
    "slideshow": {
     "slide_type": "slide"
    }
   },
   "source": [
    "## For each position, which team has the most players at that position?\n",
    "\n",
    "- We want to count...\n",
    "- but sizes of groups within groups.\n",
    "- i.e., sizes of position groups within teams."
   ]
  },
  {
   "cell_type": "code",
   "execution_count": 34,
   "metadata": {},
   "outputs": [
    {
     "data": {
      "text/html": [
       "<table border=\"1\" class=\"dataframe\">\n",
       "    <thead>\n",
       "        <tr>\n",
       "            <th>TEAM</th> <th>POSITION</th> <th>count</th>\n",
       "        </tr>\n",
       "    </thead>\n",
       "    <tbody>\n",
       "        <tr>\n",
       "            <td>Denver Nuggets    </td> <td>C       </td> <td>4    </td>\n",
       "        </tr>\n",
       "        <tr>\n",
       "            <td>Memphis Grizzlies </td> <td>PF      </td> <td>7    </td>\n",
       "        </tr>\n",
       "        <tr>\n",
       "            <td>Utah Jazz         </td> <td>PG      </td> <td>5    </td>\n",
       "        </tr>\n",
       "        <tr>\n",
       "            <td>Washington Wizards</td> <td>SF      </td> <td>4    </td>\n",
       "        </tr>\n",
       "        <tr>\n",
       "            <td>Phoenix Suns      </td> <td>SG      </td> <td>6    </td>\n",
       "        </tr>\n",
       "    </tbody>\n",
       "</table>"
      ],
      "text/plain": [
       "TEAM               | POSITION | count\n",
       "Denver Nuggets     | C        | 4\n",
       "Memphis Grizzlies  | PF       | 7\n",
       "Utah Jazz          | PG       | 5\n",
       "Washington Wizards | SF       | 4\n",
       "Phoenix Suns       | SG       | 6"
      ]
     },
     "execution_count": 34,
     "metadata": {},
     "output_type": "execute_result"
    }
   ],
   "source": [
    "nba.group(['TEAM', 'POSITION']).sort('count', descending=True).sort('POSITION', distinct=True)"
   ]
  },
  {
   "cell_type": "markdown",
   "metadata": {
    "slideshow": {
     "slide_type": "slide"
    }
   },
   "source": [
    "## What are the number of players at each position on *every* team?"
   ]
  },
  {
   "cell_type": "code",
   "execution_count": 35,
   "metadata": {},
   "outputs": [
    {
     "data": {
      "text/html": [
       "<table border=\"1\" class=\"dataframe\">\n",
       "    <thead>\n",
       "        <tr>\n",
       "            <th>TEAM</th> <th>POSITION</th> <th>count</th>\n",
       "        </tr>\n",
       "    </thead>\n",
       "    <tbody>\n",
       "        <tr>\n",
       "            <td>Atlanta Hawks </td> <td>C       </td> <td>3    </td>\n",
       "        </tr>\n",
       "        <tr>\n",
       "            <td>Atlanta Hawks </td> <td>PF      </td> <td>2    </td>\n",
       "        </tr>\n",
       "        <tr>\n",
       "            <td>Atlanta Hawks </td> <td>PG      </td> <td>2    </td>\n",
       "        </tr>\n",
       "        <tr>\n",
       "            <td>Atlanta Hawks </td> <td>SF      </td> <td>2    </td>\n",
       "        </tr>\n",
       "        <tr>\n",
       "            <td>Atlanta Hawks </td> <td>SG      </td> <td>5    </td>\n",
       "        </tr>\n",
       "        <tr>\n",
       "            <td>Boston Celtics</td> <td>C       </td> <td>3    </td>\n",
       "        </tr>\n",
       "        <tr>\n",
       "            <td>Boston Celtics</td> <td>PF      </td> <td>2    </td>\n",
       "        </tr>\n",
       "        <tr>\n",
       "            <td>Boston Celtics</td> <td>PG      </td> <td>4    </td>\n",
       "        </tr>\n",
       "        <tr>\n",
       "            <td>Boston Celtics</td> <td>SF      </td> <td>2    </td>\n",
       "        </tr>\n",
       "        <tr>\n",
       "            <td>Boston Celtics</td> <td>SG      </td> <td>4    </td>\n",
       "        </tr>\n",
       "    </tbody>\n",
       "</table>\n",
       "<p>... (137 rows omitted)</p>"
      ],
      "text/plain": [
       "TEAM           | POSITION | count\n",
       "Atlanta Hawks  | C        | 3\n",
       "Atlanta Hawks  | PF       | 2\n",
       "Atlanta Hawks  | PG       | 2\n",
       "Atlanta Hawks  | SF       | 2\n",
       "Atlanta Hawks  | SG       | 5\n",
       "Boston Celtics | C        | 3\n",
       "Boston Celtics | PF       | 2\n",
       "Boston Celtics | PG       | 4\n",
       "Boston Celtics | SF       | 2\n",
       "Boston Celtics | SG       | 4\n",
       "... (137 rows omitted)"
      ]
     },
     "execution_count": 35,
     "metadata": {},
     "output_type": "execute_result"
    }
   ],
   "source": [
    "nba.group(['TEAM', 'POSITION'])"
   ]
  },
  {
   "cell_type": "markdown",
   "metadata": {
    "slideshow": {
     "slide_type": "slide"
    }
   },
   "source": [
    "## A better approach: `.pivot()`:"
   ]
  },
  {
   "cell_type": "code",
   "execution_count": 109,
   "metadata": {},
   "outputs": [
    {
     "data": {
      "text/html": [
       "<table border=\"1\" class=\"dataframe\">\n",
       "    <thead>\n",
       "        <tr>\n",
       "            <th>TEAM</th> <th>C</th> <th>PF</th> <th>PG</th> <th>SF</th> <th>SG</th>\n",
       "        </tr>\n",
       "    </thead>\n",
       "    <tbody>\n",
       "        <tr>\n",
       "            <td>Atlanta Hawks        </td> <td>3   </td> <td>2   </td> <td>2   </td> <td>2   </td> <td>5   </td>\n",
       "        </tr>\n",
       "        <tr>\n",
       "            <td>Boston Celtics       </td> <td>3   </td> <td>2   </td> <td>4   </td> <td>2   </td> <td>4   </td>\n",
       "        </tr>\n",
       "        <tr>\n",
       "            <td>Brooklyn Nets        </td> <td>1   </td> <td>3   </td> <td>2   </td> <td>2   </td> <td>5   </td>\n",
       "        </tr>\n",
       "        <tr>\n",
       "            <td>Charlotte Hornets    </td> <td>3   </td> <td>3   </td> <td>4   </td> <td>2   </td> <td>6   </td>\n",
       "        </tr>\n",
       "        <tr>\n",
       "            <td>Chicago Bulls        </td> <td>2   </td> <td>2   </td> <td>2   </td> <td>2   </td> <td>4   </td>\n",
       "        </tr>\n",
       "        <tr>\n",
       "            <td>Cleveland Cavaliers  </td> <td>4   </td> <td>1   </td> <td>3   </td> <td>1   </td> <td>1   </td>\n",
       "        </tr>\n",
       "        <tr>\n",
       "            <td>Dallas Mavericks     </td> <td>2   </td> <td>2   </td> <td>4   </td> <td>1   </td> <td>2   </td>\n",
       "        </tr>\n",
       "        <tr>\n",
       "            <td>Denver Nuggets       </td> <td>4   </td> <td>2   </td> <td>2   </td> <td>4   </td> <td>2   </td>\n",
       "        </tr>\n",
       "        <tr>\n",
       "            <td>Detroit Pistons      </td> <td>3   </td> <td>0   </td> <td>1   </td> <td>4   </td> <td>2   </td>\n",
       "        </tr>\n",
       "        <tr>\n",
       "            <td>Golden State Warriors</td> <td>3   </td> <td>3   </td> <td>2   </td> <td>4   </td> <td>2   </td>\n",
       "        </tr>\n",
       "    </tbody>\n",
       "</table>\n",
       "<p>... (20 rows omitted)</p>"
      ],
      "text/plain": [
       "TEAM                  | C    | PF   | PG   | SF   | SG\n",
       "Atlanta Hawks         | 3    | 2    | 2    | 2    | 5\n",
       "Boston Celtics        | 3    | 2    | 4    | 2    | 4\n",
       "Brooklyn Nets         | 1    | 3    | 2    | 2    | 5\n",
       "Charlotte Hornets     | 3    | 3    | 4    | 2    | 6\n",
       "Chicago Bulls         | 2    | 2    | 2    | 2    | 4\n",
       "Cleveland Cavaliers   | 4    | 1    | 3    | 1    | 1\n",
       "Dallas Mavericks      | 2    | 2    | 4    | 1    | 2\n",
       "Denver Nuggets        | 4    | 2    | 2    | 4    | 2\n",
       "Detroit Pistons       | 3    | 0    | 1    | 4    | 2\n",
       "Golden State Warriors | 3    | 3    | 2    | 4    | 2\n",
       "... (20 rows omitted)"
      ]
     },
     "execution_count": 109,
     "metadata": {},
     "output_type": "execute_result"
    }
   ],
   "source": [
    "nba.pivot('POSITION', 'TEAM')"
   ]
  },
  {
   "cell_type": "markdown",
   "metadata": {
    "slideshow": {
     "slide_type": "slide"
    }
   },
   "source": [
    "## `.pivot()` can do more than count...\n",
    "\n",
    "- What is the *average* salary of each position on every team?"
   ]
  },
  {
   "cell_type": "code",
   "execution_count": 113,
   "metadata": {},
   "outputs": [
    {
     "data": {
      "text/html": [
       "<table border=\"1\" class=\"dataframe\">\n",
       "    <thead>\n",
       "        <tr>\n",
       "            <th>TEAM</th> <th>C</th> <th>PF</th> <th>PG</th> <th>SF</th> <th>SG</th>\n",
       "        </tr>\n",
       "    </thead>\n",
       "    <tbody>\n",
       "        <tr>\n",
       "            <td>Atlanta Hawks        </td> <td>7.58542</td> <td>11.0025</td> <td>4.8817 </td> <td>3      </td> <td>1.80969 </td>\n",
       "        </tr>\n",
       "        <tr>\n",
       "            <td>Boston Celtics       </td> <td>2.45046</td> <td>3.08548</td> <td>4.97465</td> <td>4.41716</td> <td>2.00755 </td>\n",
       "        </tr>\n",
       "        <tr>\n",
       "            <td>Brooklyn Nets        </td> <td>1.3629 </td> <td>4.45251</td> <td>3.9    </td> <td>13.0403</td> <td>1.74118 </td>\n",
       "        </tr>\n",
       "        <tr>\n",
       "            <td>Charlotte Hornets    </td> <td>6.77224</td> <td>4.68577</td> <td>4.4853 </td> <td>3.76642</td> <td>4.04238 </td>\n",
       "        </tr>\n",
       "        <tr>\n",
       "            <td>Chicago Bulls        </td> <td>10.4244</td> <td>3.46744</td> <td>11.1715</td> <td>1.95816</td> <td>6.19447 </td>\n",
       "        </tr>\n",
       "        <tr>\n",
       "            <td>Cleveland Cavaliers  </td> <td>7.75234</td> <td>19.689 </td> <td>6.55159</td> <td>22.9705</td> <td>8.98876 </td>\n",
       "        </tr>\n",
       "        <tr>\n",
       "            <td>Dallas Mavericks     </td> <td>3.23548</td> <td>11.9135</td> <td>4.41818</td> <td>15.3615</td> <td>1.21517 </td>\n",
       "        </tr>\n",
       "        <tr>\n",
       "            <td>Denver Nuggets       </td> <td>2.6163 </td> <td>7.02498</td> <td>3.72362</td> <td>7.19577</td> <td>0.841949</td>\n",
       "        </tr>\n",
       "        <tr>\n",
       "            <td>Detroit Pistons      </td> <td>4.0907 </td> <td>0      </td> <td>13.913 </td> <td>1.71622</td> <td>4.58088 </td>\n",
       "        </tr>\n",
       "        <tr>\n",
       "            <td>Golden State Warriors</td> <td>6.54125</td> <td>7.18637</td> <td>8.45726</td> <td>4.49669</td> <td>9.0005  </td>\n",
       "        </tr>\n",
       "    </tbody>\n",
       "</table>\n",
       "<p>... (20 rows omitted)</p>"
      ],
      "text/plain": [
       "TEAM                  | C       | PF      | PG      | SF      | SG\n",
       "Atlanta Hawks         | 7.58542 | 11.0025 | 4.8817  | 3       | 1.80969\n",
       "Boston Celtics        | 2.45046 | 3.08548 | 4.97465 | 4.41716 | 2.00755\n",
       "Brooklyn Nets         | 1.3629  | 4.45251 | 3.9     | 13.0403 | 1.74118\n",
       "Charlotte Hornets     | 6.77224 | 4.68577 | 4.4853  | 3.76642 | 4.04238\n",
       "Chicago Bulls         | 10.4244 | 3.46744 | 11.1715 | 1.95816 | 6.19447\n",
       "Cleveland Cavaliers   | 7.75234 | 19.689  | 6.55159 | 22.9705 | 8.98876\n",
       "Dallas Mavericks      | 3.23548 | 11.9135 | 4.41818 | 15.3615 | 1.21517\n",
       "Denver Nuggets        | 2.6163  | 7.02498 | 3.72362 | 7.19577 | 0.841949\n",
       "Detroit Pistons       | 4.0907  | 0       | 13.913  | 1.71622 | 4.58088\n",
       "Golden State Warriors | 6.54125 | 7.18637 | 8.45726 | 4.49669 | 9.0005\n",
       "... (20 rows omitted)"
      ]
     },
     "execution_count": 113,
     "metadata": {},
     "output_type": "execute_result"
    }
   ],
   "source": [
    "nba.pivot('POSITION', 'TEAM', 'SALARY', np.mean)"
   ]
  },
  {
   "cell_type": "markdown",
   "metadata": {
    "slideshow": {
     "slide_type": "slide"
    }
   },
   "source": [
    "# Join\n",
    "\n",
    "Combining columns from two different tables"
   ]
  },
  {
   "cell_type": "markdown",
   "metadata": {
    "slideshow": {
     "slide_type": "slide"
    }
   },
   "source": [
    "## Example"
   ]
  },
  {
   "cell_type": "code",
   "execution_count": 37,
   "metadata": {
    "slideshow": {
     "slide_type": ""
    }
   },
   "outputs": [
    {
     "data": {
      "text/html": [
       "<table border=\"1\" class=\"dataframe\">\n",
       "    <thead>\n",
       "        <tr>\n",
       "            <th>Location</th> <th>Product</th> <th>Price</th>\n",
       "        </tr>\n",
       "    </thead>\n",
       "    <tbody>\n",
       "        <tr>\n",
       "            <td>Cups           </td> <td>Green Tea  </td> <td>1.25 </td>\n",
       "        </tr>\n",
       "        <tr>\n",
       "            <td>Cups           </td> <td>Latte      </td> <td>2.5  </td>\n",
       "        </tr>\n",
       "        <tr>\n",
       "            <td>Cups           </td> <td>Drip Coffee</td> <td>1    </td>\n",
       "        </tr>\n",
       "        <tr>\n",
       "            <td>Art of Espresso</td> <td>Espresso   </td> <td>2    </td>\n",
       "        </tr>\n",
       "        <tr>\n",
       "            <td>Art of Espresso</td> <td>Latte      </td> <td>3    </td>\n",
       "        </tr>\n",
       "        <tr>\n",
       "            <td>Perks          </td> <td>Drip Coffee</td> <td>1.25 </td>\n",
       "        </tr>\n",
       "        <tr>\n",
       "            <td>Perks          </td> <td>Green Tea  </td> <td>1.5  </td>\n",
       "        </tr>\n",
       "    </tbody>\n",
       "</table>"
      ],
      "text/plain": [
       "Location        | Product     | Price\n",
       "Cups            | Green Tea   | 1.25\n",
       "Cups            | Latte       | 2.5\n",
       "Cups            | Drip Coffee | 1\n",
       "Art of Espresso | Espresso    | 2\n",
       "Art of Espresso | Latte       | 3\n",
       "Perks           | Drip Coffee | 1.25\n",
       "Perks           | Green Tea   | 1.5"
      ]
     },
     "execution_count": 37,
     "metadata": {},
     "output_type": "execute_result"
    }
   ],
   "source": [
    "#: table of products\n",
    "products = Table(['Location', 'Product', 'Price']).with_rows([\n",
    "    ['Cups', 'Green Tea', 1.25],\n",
    "    ['Cups', 'Latte', 2.50],\n",
    "    ['Cups', 'Drip Coffee', 1.00],\n",
    "    ['Art of Espresso', 'Espresso', 2.00],\n",
    "    ['Art of Espresso', 'Latte', 3.00],\n",
    "    ['Perks', 'Drip Coffee', 1.25],\n",
    "    ['Perks', 'Green Tea', 1.50]\n",
    "])\n",
    "products"
   ]
  },
  {
   "cell_type": "markdown",
   "metadata": {
    "slideshow": {
     "slide_type": "slide"
    }
   },
   "source": [
    "## Example"
   ]
  },
  {
   "cell_type": "code",
   "execution_count": 40,
   "metadata": {},
   "outputs": [
    {
     "data": {
      "text/html": [
       "<table border=\"1\" class=\"dataframe\">\n",
       "    <thead>\n",
       "        <tr>\n",
       "            <th>Location</th> <th>Discount</th>\n",
       "        </tr>\n",
       "    </thead>\n",
       "    <tbody>\n",
       "        <tr>\n",
       "            <td>Cups           </td> <td>0.25    </td>\n",
       "        </tr>\n",
       "        <tr>\n",
       "            <td>Art of Espresso</td> <td>0.1     </td>\n",
       "        </tr>\n",
       "    </tbody>\n",
       "</table>"
      ],
      "text/plain": [
       "Location        | Discount\n",
       "Cups            | 0.25\n",
       "Art of Espresso | 0.1"
      ]
     },
     "execution_count": 40,
     "metadata": {},
     "output_type": "execute_result"
    }
   ],
   "source": [
    "#: table of coupons\n",
    "coupons = Table(['Location', 'Discount']).with_rows([\n",
    "    ['Cups', .25],\n",
    "    ['Art of Espresso', .10]\n",
    "])\n",
    "coupons"
   ]
  },
  {
   "cell_type": "markdown",
   "metadata": {
    "slideshow": {
     "slide_type": "slide"
    }
   },
   "source": [
    "## How do we calculate discounted price of each product?\n",
    "\n",
    "- Idea: \"cross-reference\" tables.\n",
    "- I.e., for each row in `products`, find discount in `coupons` for that row's `Location`.\n",
    "- This is what `.join()` does:"
   ]
  },
  {
   "cell_type": "code",
   "execution_count": 41,
   "metadata": {},
   "outputs": [
    {
     "data": {
      "text/html": [
       "<table border=\"1\" class=\"dataframe\">\n",
       "    <thead>\n",
       "        <tr>\n",
       "            <th>Location</th> <th>Product</th> <th>Price</th> <th>Discount</th>\n",
       "        </tr>\n",
       "    </thead>\n",
       "    <tbody>\n",
       "        <tr>\n",
       "            <td>Art of Espresso</td> <td>Espresso   </td> <td>2    </td> <td>0.1     </td>\n",
       "        </tr>\n",
       "        <tr>\n",
       "            <td>Art of Espresso</td> <td>Latte      </td> <td>3    </td> <td>0.1     </td>\n",
       "        </tr>\n",
       "        <tr>\n",
       "            <td>Cups           </td> <td>Green Tea  </td> <td>1.25 </td> <td>0.25    </td>\n",
       "        </tr>\n",
       "        <tr>\n",
       "            <td>Cups           </td> <td>Latte      </td> <td>2.5  </td> <td>0.25    </td>\n",
       "        </tr>\n",
       "        <tr>\n",
       "            <td>Cups           </td> <td>Drip Coffee</td> <td>1    </td> <td>0.25    </td>\n",
       "        </tr>\n",
       "    </tbody>\n",
       "</table>"
      ],
      "text/plain": [
       "Location        | Product     | Price | Discount\n",
       "Art of Espresso | Espresso    | 2     | 0.1\n",
       "Art of Espresso | Latte       | 3     | 0.1\n",
       "Cups            | Green Tea   | 1.25  | 0.25\n",
       "Cups            | Latte       | 2.5   | 0.25\n",
       "Cups            | Drip Coffee | 1     | 0.25"
      ]
     },
     "execution_count": 41,
     "metadata": {},
     "output_type": "execute_result"
    }
   ],
   "source": [
    "discounted = products.join('Location', coupons)\n",
    "discounted"
   ]
  },
  {
   "cell_type": "code",
   "execution_count": 42,
   "metadata": {},
   "outputs": [
    {
     "data": {
      "text/html": [
       "<table border=\"1\" class=\"dataframe\">\n",
       "    <thead>\n",
       "        <tr>\n",
       "            <th>Location</th> <th>Product</th> <th>Price</th> <th>Discount</th> <th>Discounted Price</th>\n",
       "        </tr>\n",
       "    </thead>\n",
       "    <tbody>\n",
       "        <tr>\n",
       "            <td>Art of Espresso</td> <td>Espresso   </td> <td>2    </td> <td>0.1     </td> <td>1.8             </td>\n",
       "        </tr>\n",
       "        <tr>\n",
       "            <td>Art of Espresso</td> <td>Latte      </td> <td>3    </td> <td>0.1     </td> <td>2.7             </td>\n",
       "        </tr>\n",
       "        <tr>\n",
       "            <td>Cups           </td> <td>Green Tea  </td> <td>1.25 </td> <td>0.25    </td> <td>0.94            </td>\n",
       "        </tr>\n",
       "        <tr>\n",
       "            <td>Cups           </td> <td>Latte      </td> <td>2.5  </td> <td>0.25    </td> <td>1.88            </td>\n",
       "        </tr>\n",
       "        <tr>\n",
       "            <td>Cups           </td> <td>Drip Coffee</td> <td>1    </td> <td>0.25    </td> <td>0.75            </td>\n",
       "        </tr>\n",
       "    </tbody>\n",
       "</table>"
      ],
      "text/plain": [
       "Location        | Product     | Price | Discount | Discounted Price\n",
       "Art of Espresso | Espresso    | 2     | 0.1      | 1.8\n",
       "Art of Espresso | Latte       | 3     | 0.1      | 2.7\n",
       "Cups            | Green Tea   | 1.25  | 0.25     | 0.94\n",
       "Cups            | Latte       | 2.5   | 0.25     | 1.88\n",
       "Cups            | Drip Coffee | 1     | 0.25     | 0.75"
      ]
     },
     "execution_count": 42,
     "metadata": {},
     "output_type": "execute_result"
    }
   ],
   "source": [
    "discounted.with_column(\n",
    "    'Discounted Price',\n",
    "    np.round(discounted.column('Price') * (1 - discounted.column('Discount')), 2)\n",
    ")"
   ]
  },
  {
   "cell_type": "markdown",
   "metadata": {
    "slideshow": {
     "slide_type": "slide"
    }
   },
   "source": [
    "## The `.join()` method:\n",
    "\n",
    "- `this_table.join(common_column, that_table)`\n",
    "- Only contains rows with values of `common_column` which appear in *both* tables.\n",
    "    - For example, Perks was omitted.\n",
    "- What if the \"common columns\" have different names?\n",
    "- `this_table.join(this_column, that_table, that_column)`"
   ]
  },
  {
   "cell_type": "markdown",
   "metadata": {
    "slideshow": {
     "slide_type": "slide"
    }
   },
   "source": [
    "## Example"
   ]
  },
  {
   "cell_type": "code",
   "execution_count": 43,
   "metadata": {},
   "outputs": [
    {
     "data": {
      "text/html": [
       "<table border=\"1\" class=\"dataframe\">\n",
       "    <thead>\n",
       "        <tr>\n",
       "            <th>Cafe</th> <th>Discount</th>\n",
       "        </tr>\n",
       "    </thead>\n",
       "    <tbody>\n",
       "        <tr>\n",
       "            <td>Cups           </td> <td>0.25    </td>\n",
       "        </tr>\n",
       "        <tr>\n",
       "            <td>Art of Espresso</td> <td>0.1     </td>\n",
       "        </tr>\n",
       "    </tbody>\n",
       "</table>"
      ],
      "text/plain": [
       "Cafe            | Discount\n",
       "Cups            | 0.25\n",
       "Art of Espresso | 0.1"
      ]
     },
     "execution_count": 43,
     "metadata": {},
     "output_type": "execute_result"
    }
   ],
   "source": [
    "cafes = coupons.relabeled('Location', 'Cafe')\n",
    "cafes"
   ]
  },
  {
   "cell_type": "code",
   "execution_count": 44,
   "metadata": {},
   "outputs": [
    {
     "data": {
      "text/html": [
       "<table border=\"1\" class=\"dataframe\">\n",
       "    <thead>\n",
       "        <tr>\n",
       "            <th>Location</th> <th>Product</th> <th>Price</th> <th>Discount</th>\n",
       "        </tr>\n",
       "    </thead>\n",
       "    <tbody>\n",
       "        <tr>\n",
       "            <td>Art of Espresso</td> <td>Espresso   </td> <td>2    </td> <td>0.1     </td>\n",
       "        </tr>\n",
       "        <tr>\n",
       "            <td>Art of Espresso</td> <td>Latte      </td> <td>3    </td> <td>0.1     </td>\n",
       "        </tr>\n",
       "        <tr>\n",
       "            <td>Cups           </td> <td>Green Tea  </td> <td>1.25 </td> <td>0.25    </td>\n",
       "        </tr>\n",
       "        <tr>\n",
       "            <td>Cups           </td> <td>Latte      </td> <td>2.5  </td> <td>0.25    </td>\n",
       "        </tr>\n",
       "        <tr>\n",
       "            <td>Cups           </td> <td>Drip Coffee</td> <td>1    </td> <td>0.25    </td>\n",
       "        </tr>\n",
       "    </tbody>\n",
       "</table>"
      ],
      "text/plain": [
       "Location        | Product     | Price | Discount\n",
       "Art of Espresso | Espresso    | 2     | 0.1\n",
       "Art of Espresso | Latte       | 3     | 0.1\n",
       "Cups            | Green Tea   | 1.25  | 0.25\n",
       "Cups            | Latte       | 2.5   | 0.25\n",
       "Cups            | Drip Coffee | 1     | 0.25"
      ]
     },
     "execution_count": 44,
     "metadata": {},
     "output_type": "execute_result"
    }
   ],
   "source": [
    "products.join('Location', cafes, 'Cafe')"
   ]
  },
  {
   "cell_type": "markdown",
   "metadata": {
    "slideshow": {
     "slide_type": "slide"
    }
   },
   "source": [
    "# Booleans and Conditionals"
   ]
  },
  {
   "cell_type": "markdown",
   "metadata": {
    "slideshow": {
     "slide_type": "slide"
    }
   },
   "source": [
    "## Booleans\n",
    "\n",
    "- A **Boolean** variable is either true or false.\n",
    "    - yes or no\n",
    "    - on or off\n",
    "    - 0 or 1\n",
    "- Named after George Boole.\n",
    "- In Python: \n",
    "    - we have the `bool` type, `True` and `False` literals.\n",
    "    - `and`, `or`, `not` operators."
   ]
  },
  {
   "cell_type": "code",
   "execution_count": 45,
   "metadata": {},
   "outputs": [],
   "source": [
    "x = True"
   ]
  },
  {
   "cell_type": "code",
   "execution_count": 46,
   "metadata": {},
   "outputs": [
    {
     "data": {
      "text/plain": [
       "bool"
      ]
     },
     "execution_count": 46,
     "metadata": {},
     "output_type": "execute_result"
    }
   ],
   "source": [
    "type(x)"
   ]
  },
  {
   "cell_type": "markdown",
   "metadata": {
    "slideshow": {
     "slide_type": "slide"
    }
   },
   "source": [
    "## The `not` operator\n",
    "\n",
    "- Flips a `True` to a `False`, and a `False` to a `True`."
   ]
  },
  {
   "cell_type": "code",
   "execution_count": 50,
   "metadata": {},
   "outputs": [
    {
     "data": {
      "text/plain": [
       "False"
      ]
     },
     "execution_count": 50,
     "metadata": {},
     "output_type": "execute_result"
    }
   ],
   "source": [
    "#: ...\n",
    "is_sunny = True\n",
    "\n",
    "not is_sunny"
   ]
  },
  {
   "cell_type": "markdown",
   "metadata": {
    "slideshow": {
     "slide_type": "slide"
    }
   },
   "source": [
    "## The `and` operator\n",
    "\n",
    "- Placed between two `bool`s.\n",
    "- `True` if *both* are true, otherwise `False`."
   ]
  },
  {
   "cell_type": "code",
   "execution_count": 53,
   "metadata": {},
   "outputs": [
    {
     "data": {
      "text/plain": [
       "False"
      ]
     },
     "execution_count": 53,
     "metadata": {},
     "output_type": "execute_result"
    }
   ],
   "source": [
    "#: ...\n",
    "is_sunny = True\n",
    "is_warm = False\n",
    "\n",
    "is_sunny and is_warm"
   ]
  },
  {
   "cell_type": "markdown",
   "metadata": {
    "slideshow": {
     "slide_type": "slide"
    }
   },
   "source": [
    "## The `or` operator\n",
    "\n",
    "- Placed between two `bool`s.\n",
    "- `True` if at least one of them is `True`, otherwise `False`."
   ]
  },
  {
   "cell_type": "code",
   "execution_count": 52,
   "metadata": {},
   "outputs": [
    {
     "data": {
      "text/plain": [
       "True"
      ]
     },
     "execution_count": 52,
     "metadata": {},
     "output_type": "execute_result"
    }
   ],
   "source": [
    "#: ...\n",
    "is_sunny = True\n",
    "is_warm = False\n",
    "\n",
    "is_sunny or is_warm"
   ]
  },
  {
   "cell_type": "markdown",
   "metadata": {
    "slideshow": {
     "slide_type": "slide"
    }
   },
   "source": [
    "## Building expressions\n",
    "\n",
    "- We can chain together longer expressions.\n",
    "- Parsed from left to right.\n",
    "- But use parenthesis to make things clearer."
   ]
  },
  {
   "cell_type": "code",
   "execution_count": 54,
   "metadata": {},
   "outputs": [
    {
     "data": {
      "text/plain": [
       "False"
      ]
     },
     "execution_count": 54,
     "metadata": {},
     "output_type": "execute_result"
    }
   ],
   "source": [
    "#: ...\n",
    "is_sunny = True\n",
    "is_warm = False\n",
    "is_humid = True\n",
    "\n",
    "is_humid and not is_sunny or is_warm"
   ]
  },
  {
   "cell_type": "markdown",
   "metadata": {
    "slideshow": {
     "slide_type": "slide"
    }
   },
   "source": [
    "## Discussion question\n",
    "\n",
    "    a = True\n",
    "    b = True\n",
    "    not(((not a) and b) or ((not b) or a))\n",
    "    \n",
    "What does the expression evaluate to?\n",
    "\n",
    "- A) `True`\n",
    "- B) `False`\n",
    "- C) 32.7"
   ]
  },
  {
   "cell_type": "code",
   "execution_count": 55,
   "metadata": {
    "slideshow": {
     "slide_type": "slide"
    }
   },
   "outputs": [
    {
     "data": {
      "text/plain": [
       "False"
      ]
     },
     "execution_count": 55,
     "metadata": {},
     "output_type": "execute_result"
    }
   ],
   "source": [
    "#: let's see...\n",
    "a = True\n",
    "b = True\n",
    "not(((not a) and b) or ((not b) or a))"
   ]
  },
  {
   "cell_type": "markdown",
   "metadata": {
    "slideshow": {
     "slide_type": "slide"
    }
   },
   "source": [
    "## Comparisons\n",
    "\n",
    "- Comparisons produce `bool`s:"
   ]
  },
  {
   "cell_type": "code",
   "execution_count": 56,
   "metadata": {},
   "outputs": [
    {
     "data": {
      "text/plain": [
       "True"
      ]
     },
     "execution_count": 56,
     "metadata": {},
     "output_type": "execute_result"
    }
   ],
   "source": [
    "4 > 2"
   ]
  },
  {
   "cell_type": "markdown",
   "metadata": {
    "slideshow": {
     "slide_type": "slide"
    }
   },
   "source": [
    "## Comparison operators\n",
    "\n",
    "Operator | Description\n",
    "-------------| ----------\n",
    "`>` | greater than\n",
    "`>=` | greater than or equal to\n",
    "`<` | less than\n",
    "`<=` | less than or equal to\n",
    "`==` | equals\n",
    "`!=` | not equals"
   ]
  },
  {
   "cell_type": "markdown",
   "metadata": {
    "slideshow": {
     "slide_type": "slide"
    }
   },
   "source": [
    "## Careful!\n",
    "\n",
    "- Note that there's a difference between `=` and `==`.\n",
    "- Using the wrong one can result in a `SyntaxError`."
   ]
  },
  {
   "cell_type": "code",
   "execution_count": 57,
   "metadata": {},
   "outputs": [
    {
     "ename": "SyntaxError",
     "evalue": "can't assign to literal (<ipython-input-57-19d406bf21fe>, line 1)",
     "output_type": "error",
     "traceback": [
      "\u001b[0;36m  File \u001b[0;32m\"<ipython-input-57-19d406bf21fe>\"\u001b[0;36m, line \u001b[0;32m1\u001b[0m\n\u001b[0;31m    3 = 5\u001b[0m\n\u001b[0m         ^\u001b[0m\n\u001b[0;31mSyntaxError\u001b[0m\u001b[0;31m:\u001b[0m can't assign to literal\n"
     ]
    }
   ],
   "source": [
    "3 = 5"
   ]
  },
  {
   "cell_type": "markdown",
   "metadata": {
    "slideshow": {
     "slide_type": "slide"
    }
   },
   "source": [
    "## Conditionals\n",
    "\n",
    "- Do something if an expression is `True`.\n",
    "- Syntax (don't forget the colon):\n",
    "\n",
    "\n",
    "    if <condition>:\n",
    "        <body>\n",
    "            \n",
    "- Indentation matters!"
   ]
  },
  {
   "cell_type": "code",
   "execution_count": 58,
   "metadata": {},
   "outputs": [
    {
     "name": "stdout",
     "output_type": "stream",
     "text": [
      "Wear sunglasses!\n"
     ]
    }
   ],
   "source": [
    "#: in San Diego\n",
    "is_sunny = True\n",
    "\n",
    "if is_sunny:\n",
    "    print('Wear sunglasses!')"
   ]
  },
  {
   "cell_type": "markdown",
   "metadata": {
    "slideshow": {
     "slide_type": "slide"
    }
   },
   "source": [
    "## Conditionals\n",
    "\n",
    "- `else`: do something else if condition is `False`"
   ]
  },
  {
   "cell_type": "code",
   "execution_count": 59,
   "metadata": {},
   "outputs": [
    {
     "name": "stdout",
     "output_type": "stream",
     "text": [
      "Stay inside\n"
     ]
    }
   ],
   "source": [
    "#: in San Diego\n",
    "is_sunny = False\n",
    "\n",
    "if is_sunny:\n",
    "    print('Wear sunglasses')\n",
    "else:\n",
    "    print('Stay inside')"
   ]
  },
  {
   "cell_type": "markdown",
   "metadata": {
    "slideshow": {
     "slide_type": "slide"
    }
   },
   "source": [
    "## Conditionals\n",
    "\n",
    "- `elif`: If condition is `False`, check another condition\n",
    "- \"Falls through\" until first `True` condition.\n",
    "- But doesn't continue after that.\n",
    "- \"Catch\" everything that falls through with `else`"
   ]
  },
  {
   "cell_type": "code",
   "execution_count": 60,
   "metadata": {},
   "outputs": [
    {
     "name": "stdout",
     "output_type": "stream",
     "text": [
      "Wear shorts\n"
     ]
    }
   ],
   "source": [
    "#: in San Diego\n",
    "is_raining = False\n",
    "is_warm = True\n",
    "is_sunny = True\n",
    "\n",
    "if is_raining:\n",
    "    print('Go outside')\n",
    "elif is_warm:\n",
    "    print('Wear shorts')\n",
    "elif is_sunny:\n",
    "    print('Wear sunglasses')\n",
    "else:\n",
    "    print('All conditions false!')"
   ]
  },
  {
   "cell_type": "markdown",
   "metadata": {
    "slideshow": {
     "slide_type": "slide"
    }
   },
   "source": [
    "## Example: sign function\n",
    "\n",
    "Write a function that takes a single number and prints \"positive\" if it is a positive number and \"negative\" if it is a negative number."
   ]
  },
  {
   "cell_type": "code",
   "execution_count": 61,
   "metadata": {},
   "outputs": [],
   "source": [
    "def sign(x):\n",
    "    if x > 0:\n",
    "        print('positive')\n",
    "    elif x < 0:\n",
    "        print('negative')\n",
    "    else:\n",
    "        print('neither!')"
   ]
  },
  {
   "cell_type": "code",
   "execution_count": 62,
   "metadata": {},
   "outputs": [
    {
     "name": "stdout",
     "output_type": "stream",
     "text": [
      "positive\n"
     ]
    }
   ],
   "source": [
    "sign(7)"
   ]
  },
  {
   "cell_type": "code",
   "execution_count": 63,
   "metadata": {},
   "outputs": [
    {
     "name": "stdout",
     "output_type": "stream",
     "text": [
      "negative\n"
     ]
    }
   ],
   "source": [
    "sign(-2)"
   ]
  },
  {
   "cell_type": "code",
   "execution_count": 64,
   "metadata": {},
   "outputs": [
    {
     "name": "stdout",
     "output_type": "stream",
     "text": [
      "neither!\n"
     ]
    }
   ],
   "source": [
    "sign(0)"
   ]
  },
  {
   "cell_type": "markdown",
   "metadata": {
    "slideshow": {
     "slide_type": "slide"
    }
   },
   "source": [
    "## Example: the other one\n",
    "\n",
    "- Develop a function which takes a 2-element array and a value.\n",
    "- If the value is:\n",
    "    - the first element, return the second.\n",
    "    - the second element, return the first.\n",
    "    \n",
    "    \n",
    "    >>> choices = make_array('moon', 'sun')\n",
    "    >>> other_one(choices, 'moon')\n",
    "    sun\n",
    "    >>> other_one(choices, 'sun')\n",
    "    moon"
   ]
  },
  {
   "cell_type": "code",
   "execution_count": 65,
   "metadata": {},
   "outputs": [],
   "source": [
    "def other_one(arr, value):\n",
    "    if value == arr.item(0):\n",
    "        return arr.item(1)\n",
    "    elif value == arr.item(1):\n",
    "        return arr.item(0)\n",
    "    else:\n",
    "        print('Invalid input!')"
   ]
  },
  {
   "cell_type": "markdown",
   "metadata": {
    "slideshow": {
     "slide_type": "slide"
    }
   },
   "source": [
    "## Discussion question\n",
    "\n",
    "```\n",
    "def func(a, b):\n",
    "    if (a + b > 4 and b > 0):\n",
    "        return 'foo'\n",
    "    elif (a*b >= 4 or b < 0):\n",
    "        return 'bar'\n",
    "    else:\n",
    "        return 'baz'\n",
    "```\n",
    "\n",
    "What is returned when `func(2, 2)` is called?\n",
    "\n",
    "- A) foo\n",
    "- B) bar\n",
    "- C) baz\n",
    "- D) more than one of the above"
   ]
  },
  {
   "cell_type": "markdown",
   "metadata": {
    "slideshow": {
     "slide_type": "slide"
    }
   },
   "source": [
    "## Using parenthesis...\n",
    "\n",
    "Instead of:\n",
    "\n",
    "    if (a + b > 4 and b > 0):\n",
    "        ...\n",
    "\n",
    "You might prefer: \n",
    "\n",
    "    if (a + b > 4) and (b > 0):\n",
    "        ...\n",
    "        \n",
    "They do the same thing, because comparison operators are evaluated first.\n",
    "\n",
    "Fun fact: if `a = 2`, and `b = 2`, `a + b > (4 and b) > 0` evaluates to `True`."
   ]
  },
  {
   "cell_type": "markdown",
   "metadata": {
    "slideshow": {
     "slide_type": "slide"
    }
   },
   "source": [
    "# Iteration\n",
    "\n",
    "We can use Python to help automate our job at NASA:"
   ]
  },
  {
   "cell_type": "code",
   "execution_count": 66,
   "metadata": {},
   "outputs": [
    {
     "name": "stdout",
     "output_type": "stream",
     "text": [
      "Launching in...\n",
      "t-minus 10\n",
      "t-minus 9\n",
      "t-minus 8\n",
      "t-minus 7\n",
      "t-minus 6\n",
      "t-minus 5\n",
      "t-minus 4\n",
      "t-minus 3\n",
      "t-minus 2\n",
      "t-minus 1\n",
      "Blast off!\n"
     ]
    }
   ],
   "source": [
    "#: counting down...\n",
    "import time\n",
    "\n",
    "print(\"Launching in...\")\n",
    "print(\"t-minus\", 10)\n",
    "time.sleep(1)\n",
    "print(\"t-minus\", 9)\n",
    "time.sleep(1)\n",
    "print(\"t-minus\", 8)\n",
    "time.sleep(1)\n",
    "print(\"t-minus\", 7)\n",
    "time.sleep(1)\n",
    "print(\"t-minus\", 6)\n",
    "time.sleep(1)\n",
    "print(\"t-minus\", 5)\n",
    "time.sleep(1)\n",
    "print(\"t-minus\", 4)\n",
    "time.sleep(1)\n",
    "print(\"t-minus\", 3)\n",
    "time.sleep(1)\n",
    "print(\"t-minus\", 2)\n",
    "time.sleep(1)\n",
    "print(\"t-minus\", 1)\n",
    "time.sleep(1)\n",
    "print(\"Blast off!\")"
   ]
  },
  {
   "cell_type": "markdown",
   "metadata": {
    "slideshow": {
     "slide_type": "slide"
    }
   },
   "source": [
    "## Better approach: use a `for`-loop."
   ]
  },
  {
   "cell_type": "code",
   "execution_count": 67,
   "metadata": {},
   "outputs": [
    {
     "name": "stdout",
     "output_type": "stream",
     "text": [
      "Launching in...\n",
      "t-minus 10\n",
      "t-minus 9\n",
      "t-minus 8\n",
      "t-minus 7\n",
      "t-minus 6\n",
      "t-minus 5\n",
      "t-minus 4\n",
      "t-minus 3\n",
      "t-minus 2\n",
      "t-minus 1\n",
      "Blast off!\n"
     ]
    }
   ],
   "source": [
    "print(\"Launching in...\")\n",
    "\n",
    "for t in [10, 9, 8, 7, 6, 5, 4, 3, 2, 1]:\n",
    "    print(\"t-minus\", t)\n",
    "    time.sleep(1)\n",
    "    \n",
    "print(\"Blast off!\")"
   ]
  },
  {
   "cell_type": "markdown",
   "metadata": {
    "slideshow": {
     "slide_type": "slide"
    }
   },
   "source": [
    "## `for`-loops\n",
    "\n",
    "- Do something for every value in a sequence\n",
    "- Syntax (don't forget the colon):\n",
    "\n",
    "```\n",
    "for <loop variable> in <sequence>:\n",
    "    <body>\n",
    "```\n",
    "\n",
    "- Indentation matters!\n"
   ]
  },
  {
   "cell_type": "code",
   "execution_count": 68,
   "metadata": {},
   "outputs": [
    {
     "name": "stdout",
     "output_type": "stream",
     "text": [
      "1\n",
      "4\n",
      "9\n",
      "16\n"
     ]
    }
   ],
   "source": [
    "#: loop variable can be anything\n",
    "for x in [1, 2, 3, 4]:\n",
    "    print(x ** 2)"
   ]
  },
  {
   "cell_type": "markdown",
   "metadata": {
    "slideshow": {
     "slide_type": "slide"
    }
   },
   "source": [
    "## Ranges\n",
    "\n",
    "- We can use `np.arange` to create sequences to iterate over:"
   ]
  },
  {
   "cell_type": "code",
   "execution_count": 69,
   "metadata": {},
   "outputs": [
    {
     "name": "stdout",
     "output_type": "stream",
     "text": [
      "0\n",
      "1\n",
      "2\n",
      "3\n",
      "4\n",
      "5\n",
      "6\n",
      "7\n",
      "8\n",
      "9\n"
     ]
    }
   ],
   "source": [
    "#: count to 9, starting from 0\n",
    "for x in np.arange(10):\n",
    "    print(x)"
   ]
  },
  {
   "cell_type": "code",
   "execution_count": 71,
   "metadata": {},
   "outputs": [
    {
     "name": "stdout",
     "output_type": "stream",
     "text": [
      "10\n",
      "9\n",
      "8\n",
      "7\n",
      "6\n",
      "5\n",
      "4\n",
      "3\n",
      "2\n",
      "1\n"
     ]
    }
   ],
   "source": [
    "#: countdown\n",
    "for x in np.arange(10, 0, -1):\n",
    "    print(x)"
   ]
  },
  {
   "cell_type": "markdown",
   "metadata": {
    "slideshow": {
     "slide_type": "slide"
    }
   },
   "source": [
    "## Iterating over array by indexing"
   ]
  },
  {
   "cell_type": "code",
   "execution_count": 72,
   "metadata": {},
   "outputs": [
    {
     "name": "stdout",
     "output_type": "stream",
     "text": [
      "Flavor number 0 is Chocolate\n",
      "Flavor number 1 is Vanilla\n",
      "Flavor number 2 is Strawberry\n"
     ]
    }
   ],
   "source": [
    "#: use np.arange(size)\n",
    "\n",
    "flavors = make_array('Chocolate', 'Vanilla', 'Strawberry')\n",
    "\n",
    "for index in np.arange(flavors.size):\n",
    "    print('Flavor number', index, 'is', flavors.item(index))"
   ]
  },
  {
   "cell_type": "code",
   "execution_count": 73,
   "metadata": {},
   "outputs": [
    {
     "name": "stdout",
     "output_type": "stream",
     "text": [
      "Flavor number 0 is Chocolate\n",
      "Flavor number 1 is Vanilla\n",
      "Flavor number 2 is Strawberry\n"
     ]
    }
   ],
   "source": [
    "# using enumerate()\n",
    "for index, flavor in enumerate(flavors):\n",
    "    print('Flavor number', index, 'is', flavor)"
   ]
  },
  {
   "cell_type": "markdown",
   "metadata": {
    "slideshow": {
     "slide_type": "slide"
    }
   },
   "source": [
    "## Building an array by iterating\n",
    "\n",
    "- How many letters are in each name?\n",
    "- We want to save our results!\n",
    "- Use `np.append`: appends an element to end of array."
   ]
  },
  {
   "cell_type": "code",
   "execution_count": 77,
   "metadata": {},
   "outputs": [
    {
     "data": {
      "text/plain": [
       "array([6., 9., 6., 5.])"
      ]
     },
     "execution_count": 77,
     "metadata": {},
     "output_type": "execute_result"
    }
   ],
   "source": [
    "#: names\n",
    "names = ['Winona', 'Xanthippe', 'Yvonne', 'Zelda']\n",
    "\n",
    "lengths = make_array()\n",
    "\n",
    "for name in names:\n",
    "    lengths = np.append(lengths, len(name))\n",
    "    \n",
    "lengths"
   ]
  }
 ],
 "metadata": {
  "celltoolbar": "Slideshow",
  "kernelspec": {
   "display_name": "Python 3",
   "language": "python",
   "name": "python3"
  },
  "language_info": {
   "codemirror_mode": {
    "name": "ipython",
    "version": 3
   },
   "file_extension": ".py",
   "mimetype": "text/x-python",
   "name": "python",
   "nbconvert_exporter": "python",
   "pygments_lexer": "ipython3",
   "version": "3.6.6"
  },
  "livereveal": {
   "scroll": true,
   "transition": "none"
  }
 },
 "nbformat": 4,
 "nbformat_minor": 2
}
