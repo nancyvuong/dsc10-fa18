{
 "cells": [
  {
   "cell_type": "markdown",
   "metadata": {},
   "source": [
    "# Homework 8: Confidence Intervals and Sample Size\n",
    "\n",
    "## Due Sunday December 2nd, 11:59pm\n",
    "\n",
    "Please complete this notebook by filling in the cells provided. Before you begin, execute the following cell to load the provided tests. Each time you start your server, you will need to execute this cell again to load the tests.\n",
    "\n",
    "Reading:\n",
    "- [Chapter 13.3](https://ucsd-dsc10.gitbooks.io/textbook/content/chapters/11/estimation.html): Confidence intervals\n",
    "- [Chapter 13.4](https://ucsd-dsc10.gitbooks.io/textbook/content/chapters/11/3/confidence-intervals.html): Interpreting confidence intervals\n",
    "- [Chapter 14](https://ucsd-dsc10.gitbooks.io/textbook/content/chapters/12/why-the-mean-matters.html): Center/spread, the Central Limit Theorem, etc.\n",
    "\n",
    "Directly sharing answers is not okay, but discussing problems with the course staff or with other students is encouraged. \n",
    "\n",
    "You should start early so that you have time to get help if you're stuck."
   ]
  },
  {
   "cell_type": "code",
   "execution_count": 1,
   "metadata": {},
   "outputs": [],
   "source": [
    "#: Don't change this cell; just run it. \n",
    "\n",
    "import numpy as np\n",
    "from datascience import *\n",
    "\n",
    "%matplotlib inline\n",
    "import matplotlib.pyplot as plots\n",
    "plots.style.use('fivethirtyeight')\n",
    "\n",
    "from client.api.notebook import Notebook\n",
    "ok = Notebook('hw08.ok')\n",
    "_ = ok.auth(inline=True)"
   ]
  },
  {
   "cell_type": "markdown",
   "metadata": {},
   "source": [
    "**Important**: The `ok` tests don't usually tell you that your answer is correct. More often, they help catch careless mistakes. It's up to you to ensure that your answer is correct. If you're not sure, ask someone (not for the answer, but for some guidance about your approach)."
   ]
  },
  {
   "cell_type": "markdown",
   "metadata": {},
   "source": [
    "Once you're finished, you must do two things:\n",
    "\n",
    "### a. Turn into OK\n",
    "Select \"Save and Checkpoint\" in the File menu and then execute the `submit` cell below. The result will contain a link that you can use to check that your assignment has been submitted successfully. If you submit more than once before the deadline, we will only grade your final submission."
   ]
  },
  {
   "cell_type": "code",
   "execution_count": 2,
   "metadata": {},
   "outputs": [],
   "source": [
    "#: run this to submit your homework\n",
    "_ = ok.submit()"
   ]
  },
  {
   "cell_type": "markdown",
   "metadata": {},
   "source": [
    "### b. Turn PDF into Gradescope\n",
    "Select File > Download As > PDF via LaTeX in the File menu. Turn in this PDF file into the respective assignment at https://gradescope.com/.\n",
    "<br>\n",
    "If you submit more than once before the deadline, we will only grade your final submission"
   ]
  },
  {
   "cell_type": "markdown",
   "metadata": {},
   "source": [
    "## 1. Polling\n"
   ]
  },
  {
   "cell_type": "markdown",
   "metadata": {},
   "source": [
    "Four candidates are running for President of Dataland. A polling company surveys 1000 people selected uniformly at random from among voters in Dataland, and it asks each one who they are planning on voting for. After compiling the results, the polling company releases the following proportions from their sample:\n",
    "\n",
    "|Candidate  | Proportion|\n",
    "|:------------:|:------------:|\n",
    "|Candidate C | 0.49 |\n",
    "|Candidate T | 0.36 |\n",
    "|Candidate J | 0.08 |\n",
    "|Candidate S | 0.03 |\n",
    "|Undecided   | 0.04 |\n",
    "\n",
    "These proportions represent a uniform random sample of the population of Dataland. We will attempt to estimate the corresponding *population parameters* - the proportions of each kind of voter in the entire population.  We will use confidence intervals to compute a range of values that reflects the uncertainty of our estimate.\n",
    "\n",
    "The table `voters` contains the results of the survey. Candidates are represented by their initials. Undecided voters are denoted by `U`."
   ]
  },
  {
   "cell_type": "code",
   "execution_count": 3,
   "metadata": {},
   "outputs": [],
   "source": [
    "#: run this to randomly sample the data -- don't change this cell!\n",
    "votes = Table().with_column('vote', np.array(['C']*490 + ['T']*360 + ['J']*80 + ['S']*30 + ['U']*40))\n",
    "num_votes = votes.num_rows\n",
    "votes.sample()"
   ]
  },
  {
   "cell_type": "markdown",
   "metadata": {},
   "source": [
    "Below, we have given you code that will use bootstrapped samples to compute estimates of the true proportion of voters who are planning on voting for **Candidate C**."
   ]
  },
  {
   "cell_type": "code",
   "execution_count": 4,
   "metadata": {},
   "outputs": [],
   "source": [
    "#: run the bootstrap!\n",
    "def proportions_in_resamples():\n",
    "    statistics = make_array()\n",
    "    for i in np.arange(5000):\n",
    "        bootstrap = votes.sample()\n",
    "        sample_statistic = np.count_nonzero(bootstrap.column('vote') == 'C')/num_votes\n",
    "        statistics = np.append(statistics, sample_statistic)\n",
    "    return statistics\n",
    "\n",
    "boot_proportions = proportions_in_resamples()\n",
    "Table().with_column('Estimated Proportion', boot_proportions).hist(bins=np.arange(0.2,0.6,0.01))"
   ]
  },
  {
   "cell_type": "markdown",
   "metadata": {},
   "source": [
    "**Question 1.** Using the array `boot_proportions`, compute an approximate 95% confidence interval for the true proportions of voters planning on voting for candidate C.  (Compute the lower and upper ends of the interval, named `lower_bound` and `upper_bound`, respectively.)"
   ]
  },
  {
   "cell_type": "code",
   "execution_count": 5,
   "metadata": {},
   "outputs": [],
   "source": [
    "lower_bound = ...\n",
    "lower_bound"
   ]
  },
  {
   "cell_type": "code",
   "execution_count": 6,
   "metadata": {},
   "outputs": [],
   "source": [
    "upper_bound = ...\n",
    "upper_bound"
   ]
  },
  {
   "cell_type": "code",
   "execution_count": 7,
   "metadata": {},
   "outputs": [],
   "source": [
    "#: print the confidence interval\n",
    "print(\"Bootstrapped 95% confidence interval for the proportion of C voters in the population: [{:f}, {:f}]\".format(lower_bound, upper_bound))"
   ]
  },
  {
   "cell_type": "code",
   "execution_count": 8,
   "metadata": {},
   "outputs": [],
   "source": [
    "#: grade\n",
    "_ = ok.grade('q1_1')"
   ]
  },
  {
   "cell_type": "markdown",
   "metadata": {},
   "source": [
    "**Question 2.** The survey results seem to indicate that Candidate C is beating Candidate T among voters. We would like to use confidence intervals to determine a range of likely values for her true *lead*. Candidate C's lead over Candidate T is:\n",
    "\n",
    "$$\\text{(Candidate C's proportion of the vote)} - \\text{(Candidate T's proportion of the vote)}.$$\n",
    "\n",
    "Use the bootstrap to compute an approximate distribution for Candidate C's lead over Candidate T, and store your bootstrap estimates in `boot_leads`. Plot a histogram of the resulting samples.\n",
    "\n",
    "*Hint*: Use the code for `proportions_in_resamples` given to you above as a starting point."
   ]
  },
  {
   "cell_type": "code",
   "execution_count": 9,
   "metadata": {
    "for_assignment_type": "student",
    "manual_problem_id": "election_2"
   },
   "outputs": [],
   "source": [
    "# Use the bootstrap here\n",
    "\n",
    "boot_leads = ...\n",
    "\n",
    "# Display a histogram here"
   ]
  },
  {
   "cell_type": "code",
   "execution_count": 10,
   "metadata": {},
   "outputs": [],
   "source": [
    "#: grade\n",
    "_ = ok.grade('q1_2')"
   ]
  },
  {
   "cell_type": "markdown",
   "metadata": {},
   "source": [
    "**Question 3.** Compute an approximate 95% confidence interval for the difference in proportions."
   ]
  },
  {
   "cell_type": "code",
   "execution_count": 11,
   "metadata": {},
   "outputs": [],
   "source": [
    "diff_lower_bound = ...\n",
    "diff_lower_bound"
   ]
  },
  {
   "cell_type": "code",
   "execution_count": 12,
   "metadata": {},
   "outputs": [],
   "source": [
    "diff_upper_bound = ...\n",
    "diff_upper_bound"
   ]
  },
  {
   "cell_type": "code",
   "execution_count": 13,
   "metadata": {},
   "outputs": [],
   "source": [
    "#: print the confidence interval\n",
    "print(\"Bootstrapped 95% confidence interval for Candidate C's true lead over Candidate T: [{:f}, {:f}]\".format(diff_lower_bound, diff_upper_bound))"
   ]
  },
  {
   "cell_type": "code",
   "execution_count": 14,
   "metadata": {},
   "outputs": [],
   "source": [
    "#: grade\n",
    "_ = ok.grade('q1_3')"
   ]
  },
  {
   "cell_type": "markdown",
   "metadata": {},
   "source": [
    "The staff computed the following 95% confidence interval for the proportion of Candidate C voters: \n",
    "\n",
    "$$[.46, .52]$$\n",
    "\n",
    "(Your answer might have been slightly different, but that doesn't mean it was wrong since the data was randomly sampled.)"
   ]
  },
  {
   "cell_type": "markdown",
   "metadata": {},
   "source": [
    "**Question 4.**\n",
    "Can we say that 95% of the population lies in the range $[.46, .52]$? Explain your answer. "
   ]
  },
  {
   "cell_type": "markdown",
   "metadata": {
    "manual_problem_id": "interpreting_1"
   },
   "source": [
    "<hr style=\"color:Maroon;background-color:Maroon;border:0 none; height: 3px;\">\n",
    "\n",
    "<i>Write your answer here.</i>\n",
    "\n",
    "<hr style=\"color:Maroon;background-color:Maroon;border:0 none; height: 3px;\">"
   ]
  },
  {
   "cell_type": "markdown",
   "metadata": {},
   "source": [
    "**Question 5.**\n",
    "Can we say that there is approximately a 95% probability that the interval [.46, .52] contains the true proportion of the population who is voting for Candidate C? Explain your answer."
   ]
  },
  {
   "cell_type": "markdown",
   "metadata": {
    "manual_problem_id": "interpreting_2"
   },
   "source": [
    "<hr style=\"color:Maroon;background-color:Maroon;border:0 none; height: 3px;\">\n",
    "\n",
    "<i>Write your answer here.</i>\n",
    "\n",
    "<hr style=\"color:Maroon;background-color:Maroon;border:0 none; height: 3px;\">"
   ]
  },
  {
   "cell_type": "markdown",
   "metadata": {},
   "source": [
    "**Question 6.**\n",
    "Suppose we produced 10,000 new samples (each one a uniform random sample of 1,000 voters) and created a 95% confidence interval from each one. Roughly how many of those 10,000 intervals do you expect will actually contain the true proportion of the population? Assign your answer to the variable `how_many` below. It should be the *number* of intervals, not the proportion or percentage."
   ]
  },
  {
   "cell_type": "code",
   "execution_count": 15,
   "metadata": {},
   "outputs": [],
   "source": [
    "how_many = ...\n",
    "how_many"
   ]
  },
  {
   "cell_type": "code",
   "execution_count": 16,
   "metadata": {},
   "outputs": [],
   "source": [
    "#: grade\n",
    "_ = ok.grade('q1_6')"
   ]
  },
  {
   "cell_type": "markdown",
   "metadata": {},
   "source": [
    "**Question 7.**\n",
    "\n",
    "The staff also created 80%, 90%, and 99% confidence intervals from one sample, but we forgot to label which confidence interval represented which percentages! Match the interval to the percent of confidence the interval represents. (Write the percentage after each interval below.) **Then**, explain your thought process. Tip: Draw out the confidence intervals on a piece a paper to help you visualize them better."
   ]
  },
  {
   "cell_type": "markdown",
   "metadata": {
    "manual_problem_id": "interpreting_4"
   },
   "source": [
    "<hr style=\"color:Maroon;background-color:Maroon;border:0 none; height: 3px;\">\n",
    "\n",
    "**Answers:**\n",
    "\n",
    "$[.464,.517]$:\n",
    "\n",
    "$[.47,.511]$:\n",
    "\n",
    "$[.446,.533]$:\n",
    "\n",
    "\n",
    "<i>Write your explanation here.</i>\n",
    "\n",
    "<hr style=\"color:Maroon;background-color:Maroon;border:0 none; height: 3px;\">\n"
   ]
  },
  {
   "cell_type": "markdown",
   "metadata": {},
   "source": [
    "## 2. Grouped Means\n"
   ]
  },
  {
   "cell_type": "markdown",
   "metadata": {},
   "source": [
    "Suppose you'd like to know about the ages of the people in a small town.  The local government collects this data about everyone in the town, but to ensure that you don't see any individual's age, it only makes public the number of people of each age.  (This could have been done by calling `group` on the original data table.)  So the first few rows of the dataset look something like this:"
   ]
  },
  {
   "cell_type": "code",
   "execution_count": 17,
   "metadata": {},
   "outputs": [],
   "source": [
    "#: run this cell, but don't change it!\n",
    "ages = Table().with_columns('age', [0, 1, 2, 3, 5, 6], 'count', [2, 5, 1, 4, 10, 1])\n",
    "ages"
   ]
  },
  {
   "cell_type": "markdown",
   "metadata": {},
   "source": [
    "That means there were 2 people age 0, 5 people age 1, etc. Nobody is age 4."
   ]
  },
  {
   "cell_type": "markdown",
   "metadata": {},
   "source": [
    "**Question 1.** You first want to compute the mean age of the people in the town.\n",
    "\n",
    "Write a function called `grouped_mean`.  It should take as its argument a table like the one above, except that the columns might have different names.  It should return the mean of the numbers in the dataset, assuming the first column contains the numbers themselves and the second column contains the count of each number, as in the example.\n",
    "\n",
    "*Remember:* Even if you don't know the column name for the first column, you can access it by saying `tbl.column(0)`."
   ]
  },
  {
   "cell_type": "code",
   "execution_count": 18,
   "metadata": {},
   "outputs": [],
   "source": [
    "# define your function here\n"
   ]
  },
  {
   "cell_type": "code",
   "execution_count": 19,
   "metadata": {},
   "outputs": [],
   "source": [
    "#: here's what your function says about the mean age\n",
    "grouped_mean(ages)"
   ]
  },
  {
   "cell_type": "code",
   "execution_count": 20,
   "metadata": {},
   "outputs": [],
   "source": [
    "#: this cell tests your function on two examples\n",
    "example = Table().with_columns('age', [0, 1, 2, 3, 5, 6], 'count', [2, 5, 1, 4, 10, 1])\n",
    "example2 = Table().with_columns('age', [10, 11, 12, 23, 25, 26], 'count', [2, 5, 1, 4, 10, 1])\n",
    "\n",
    "if not (3.258 <= grouped_mean(example) <= 3.265):\n",
    "    print('Your code fails the first example.')\n",
    "else:\n",
    "    print('Your code passes the first example.')\n",
    "    \n",
    "if not (19.77 <= grouped_mean(example2) <= 19.8):\n",
    "    print('Your code fails the second example.')\n",
    "else:\n",
    "    print('Your code passes the second example.')"
   ]
  },
  {
   "cell_type": "code",
   "execution_count": 21,
   "metadata": {},
   "outputs": [],
   "source": [
    "#: grade\n",
    "_ = ok.grade('q2_1')"
   ]
  },
  {
   "cell_type": "markdown",
   "metadata": {},
   "source": [
    "**Question 2.**\n",
    "You next want to summarize how spread out the ages are, so you decide to compute their standard deviation.\n",
    "\n",
    "Write a function called `grouped_std`.  It should take as its argument a table like the one above, except that the columns might have different names.  It should return the standard deviation of the numbers in the dataset, assuming the first column contains the numbers and the second column contains the count of each number, as in the example.\n",
    "\n",
    "*Hint:* You can think of the standard deviation as the square root of the mean of a transformed version of the original dataset.  The numbers in the transformed dataset are the squared deviations from the mean.  You've already written a function that computes means of grouped numbers, so that should be useful."
   ]
  },
  {
   "cell_type": "code",
   "execution_count": 22,
   "metadata": {},
   "outputs": [],
   "source": [
    "# define your function here\n"
   ]
  },
  {
   "cell_type": "code",
   "execution_count": 23,
   "metadata": {},
   "outputs": [],
   "source": [
    "#: here's what your function says about the standard deviation of the ages\n",
    "grouped_std(ages)"
   ]
  },
  {
   "cell_type": "code",
   "execution_count": 24,
   "metadata": {},
   "outputs": [],
   "source": [
    "#: this cell tests your function on two examples\n",
    "if not (1.935 <= grouped_std(example) <= 1.945):\n",
    "    print('Your code fails the first example.')\n",
    "else:\n",
    "    print('Your code passes the first example.')\n",
    "    \n",
    "if not (6.54 <= grouped_std(example2) <= 6.58):\n",
    "    print('Your code fails the second example.')\n",
    "else:\n",
    "    print('Your code passes the second example.')"
   ]
  },
  {
   "cell_type": "code",
   "execution_count": 25,
   "metadata": {},
   "outputs": [],
   "source": [
    "#: grade\n",
    "_ = ok.grade('q2_2')"
   ]
  },
  {
   "cell_type": "markdown",
   "metadata": {},
   "source": [
    "**Question 3.**\n",
    "Maybe you aren't sure whether your code for the previous question is correct. We want to test `grouped_mean` and `grouped_std` against the analogous NumPy functions. But to do that, we need to do some preprocessing of the data. There's a NumPy function that will make this easy, but we haven't seen it before. Luckily, NumPy comes with complete documentation. In this problem, we'll get practice in reading it.\n",
    "\n",
    "The built-in NumPy function `np.std` computes the standard deviation of an array of numbers.  It doesn't work for grouped data, so you couldn't have just used it in your answer to question 2!  But we can use it to check `grouped_std` by manually duplicating each number once for each count, putting the duplicated numbers into an array, and calling `np.mean` or `np.std` on the result. That is, given the following table:\n",
    "\n",
    "|age|count|\n",
    "|-|-|\n",
    "|10|1|\n",
    "|15|2|\n",
    "\n",
    "we could create the following array by hand:\n",
    "\n",
    "$$\\verb|make_array(10, 15, 15)|$$\n",
    "\n",
    "Then we could use `np.std` on this new array to check that our function `grouped_std` works as intended.\n",
    "\n",
    "But manually creating such an array is a pain! If the town has 1,000 residents, you'll be stuck typing an array of 1,000 entries. It turns out that NumPy has a function, `np.repeat`, which can help us here. The documentation of the function is shown below:"
   ]
  },
  {
   "cell_type": "code",
   "execution_count": 26,
   "metadata": {},
   "outputs": [],
   "source": [
    "#: run this to read the documentation for `np.repeat`\n",
    "help(np.repeat)"
   ]
  },
  {
   "cell_type": "markdown",
   "metadata": {},
   "source": [
    "The documentation above doesn't tell us *exactly* how to do what we want, but it is a good starting point. Try experimenting with the function on some small examples. You can ignore the `axis` keyword argument.\n",
    "\n",
    "Now, using the above documentation, write a function called `ungroup_table` which accepts a table with two columns -- the first being the objects (such as ages), and the second column being the count of each object -- and returns an array with each object duplicated the appropriate number of times. Your function should not assume anything about the column names.\n",
    "\n",
    "*Hint*: Your function should be simple if you use `np.repeat` properly."
   ]
  },
  {
   "cell_type": "code",
   "execution_count": 27,
   "metadata": {},
   "outputs": [],
   "source": [
    "# define your function here\n"
   ]
  },
  {
   "cell_type": "markdown",
   "metadata": {},
   "source": [
    "Now we can check to see if your functions above -- `grouped_mean` and `grouped_std` -- agree with the NumPy functions. They should give very similar answers!"
   ]
  },
  {
   "cell_type": "code",
   "execution_count": 28,
   "metadata": {},
   "outputs": [],
   "source": [
    "#: check this against `grouped_std(ages)`\n",
    "np.std(ungroup_table(ages))"
   ]
  },
  {
   "cell_type": "code",
   "execution_count": 29,
   "metadata": {},
   "outputs": [],
   "source": [
    "#: check this against `grouped_mean(ages)`\n",
    "np.mean(ungroup_table(ages))"
   ]
  },
  {
   "cell_type": "code",
   "execution_count": 30,
   "metadata": {},
   "outputs": [],
   "source": [
    "#: grade\n",
    "_ = ok.grade('q2_3')"
   ]
  },
  {
   "cell_type": "markdown",
   "metadata": {},
   "source": [
    "## 3. Testing the Central Limit Theorem\n"
   ]
  },
  {
   "cell_type": "markdown",
   "metadata": {},
   "source": [
    "The Central Limit Theorem tells us that the probability distribution of the sum or average of a large random sample drawn with replacement will be roughly normal, *regardless of the distribution of the population from which the sample is drawn*.\n",
    "\n",
    "That's a pretty big claim, but the theorem doesn't stop there. It further states that the standard deviation of this normal distribution is given by $$\\frac{\\text{sd of the original distribution}}{\\sqrt{\\text{sample size}}}$$ In other words, suppose we start with *any distribution* that has standard deviation $\\sigma$, take a sample of size $n$ (where $n$ is a large number) from that distribution with replacement, and compute the mean of that sample. If we repeat this procedure many times, then those sample means will have a normal distribution with standard deviation $\\frac{\\sigma}{\\sqrt{n}}$.\n",
    "\n",
    "That's an even bigger claim than the first one! The proof of the theorem is beyond the scope of this class, but in this exercise, we will be exploring some data to see the CLT in action."
   ]
  },
  {
   "cell_type": "markdown",
   "metadata": {},
   "source": [
    "**Question 1.** The CLT only applies when sample sizes are \"sufficiently large.\" This isn't a very precise statement. Is 10 large?  How about 50?  The truth is that it depends both on the original population distribution and just how \"normal\" you want the result to look. Let's use a simulation to get a feel for how the distribution of the sample mean changes as sample size goes up.\n",
    "\n",
    "Consider a coin flip. If we say `Heads` is $1$ and `Tails` is $0$, then there's a 50% chance of getting a 1 and a 50% chance of getting a 0, which is definitely not a normal distribution.  The average of several coin tosses is equal to the proportion of heads in those coin tosses, so the CLT should apply if we compute the sample proportion of heads many times.\n",
    "\n",
    "Write a function called `simulate_sample_n` that takes in a sample size $n$. It should return an array that contains 5000 sample proportions of heads, each from $n$ coin flips."
   ]
  },
  {
   "cell_type": "code",
   "execution_count": 31,
   "metadata": {},
   "outputs": [],
   "source": [
    "# define your function here\n"
   ]
  },
  {
   "cell_type": "markdown",
   "metadata": {},
   "source": [
    "<div class=\"hide\">\\pagebreak</div>\n",
    "The code below will use the function you just defined to plot the empirical distribution of the sample mean for several different sample sizes. The x- and y-scales are kept the same to facilitate comparisons."
   ]
  },
  {
   "cell_type": "code",
   "execution_count": 32,
   "metadata": {
    "scrolled": false
   },
   "outputs": [],
   "source": [
    "#: run this cell to visualize\n",
    "bins = np.arange(-0.01,1.05,0.02)\n",
    "\n",
    "for sample_size in make_array(2, 5, 10, 20, 50, 100, 200, 400):\n",
    "    Table().with_column('Sample Size: {}'.format(sample_size), simulate_sample_n(sample_size)).hist(bins=bins)\n",
    "    plots.ylim(0, 30)"
   ]
  },
  {
   "cell_type": "markdown",
   "metadata": {},
   "source": [
    "You can see that even the means of samples of 10 items follow a roughly bell-shaped distribution.  A sample of 50 items looks quite bell-shaped."
   ]
  },
  {
   "cell_type": "markdown",
   "metadata": {
    "manual_problem_id": "clt_2"
   },
   "source": [
    "**Question 2** In the plot for a sample size of 10, why are the bars spaced at intervals of .1, with gaps in between?"
   ]
  },
  {
   "cell_type": "markdown",
   "metadata": {
    "manual_problem_id": "clt_2"
   },
   "source": [
    "<hr style=\"color:Maroon;background-color:Maroon;border:0 none; height: 3px;\">\n",
    "\n",
    "<i>Write your answer here.</i>\n",
    "\n",
    "<hr style=\"color:Maroon;background-color:Maroon;border:0 none; height: 3px;\">"
   ]
  },
  {
   "cell_type": "markdown",
   "metadata": {},
   "source": [
    "<div class=\"hide\">\\pagebreak</div>\n",
    "Now we will test the second claim of the CLT: That the SD of the sample mean is the SD of the original distribution, divided by the square root of the sample size.\n",
    "\n",
    "We have imported the flight delay data and computed its standard deviation for you."
   ]
  },
  {
   "cell_type": "code",
   "execution_count": 33,
   "metadata": {},
   "outputs": [],
   "source": [
    "#: run this cell, but don't change it under penalty of law!\n",
    "united = Table.read_table('united_summer2015.csv')\n",
    "united_std = np.std(united.column('Delay'))\n",
    "united_std"
   ]
  },
  {
   "cell_type": "markdown",
   "metadata": {},
   "source": [
    "**Question 3.** Write a function called `predict_sd`.  It takes a sample size `n` (a number) as its argument.  It returns the predicted standard deviation of the sample mean for samples of size `n` from the flight delays."
   ]
  },
  {
   "cell_type": "code",
   "execution_count": 34,
   "metadata": {},
   "outputs": [],
   "source": [
    "# define your function here\n"
   ]
  },
  {
   "cell_type": "code",
   "execution_count": 35,
   "metadata": {},
   "outputs": [],
   "source": [
    "#: the following should be True\n",
    "39.45 <= predict_sd(1) <= 39.485"
   ]
  },
  {
   "cell_type": "code",
   "execution_count": 36,
   "metadata": {},
   "outputs": [],
   "source": [
    "#: grade\n",
    "_ = ok.grade('q3_3')"
   ]
  },
  {
   "cell_type": "markdown",
   "metadata": {},
   "source": [
    "**Question 4.** Write a function called `empirical_sd` that takes a sample size `n` as its argument. The function should simulate 500 samples of size `n` from the flight delays dataset, and it should return the standard deviation of the **means of those 500 samples**.\n",
    "\n",
    "*Hint:* This function will be similar to the `simulate_sample_n` function you wrote earlier."
   ]
  },
  {
   "cell_type": "code",
   "execution_count": 37,
   "metadata": {},
   "outputs": [],
   "source": [
    "# define your function here\n"
   ]
  },
  {
   "cell_type": "code",
   "execution_count": 38,
   "metadata": {},
   "outputs": [],
   "source": [
    "#: this should be True\n",
    "28 <= empirical_sd(1) <= 50"
   ]
  },
  {
   "cell_type": "code",
   "execution_count": 39,
   "metadata": {},
   "outputs": [],
   "source": [
    "_ = ok.grade('q3_4')"
   ]
  },
  {
   "cell_type": "markdown",
   "metadata": {},
   "source": [
    "The cell below will plot the predicted and empirical SDs for the delay data for various sample sizes. It may take a few moments to run."
   ]
  },
  {
   "cell_type": "code",
   "execution_count": 40,
   "metadata": {},
   "outputs": [],
   "source": [
    "#: run this cell to visualize\n",
    "sd_table = Table().with_column('Sample Size', np.arange(1,101))\n",
    "predicted = sd_table.apply(predict_sd, 'Sample Size')\n",
    "empirical = sd_table.apply(empirical_sd, 'Sample Size')\n",
    "sd_table = sd_table.with_columns('Predicted SD', predicted, 'Empirical SD', empirical)\n",
    "sd_table.scatter('Sample Size')"
   ]
  },
  {
   "cell_type": "markdown",
   "metadata": {},
   "source": [
    "**Question 5.** The empirical SDs are very close to the predicted SDs, but they're not exactly the same.  Why?"
   ]
  },
  {
   "cell_type": "markdown",
   "metadata": {
    "manual_problem_id": "clt_5"
   },
   "source": [
    "<hr style=\"color:Maroon;background-color:Maroon;border:0 none; height: 3px;\">\n",
    "\n",
    "<i>Write your answer here.</i>\n",
    "\n",
    "<hr style=\"color:Maroon;background-color:Maroon;border:0 none; height: 3px;\">"
   ]
  },
  {
   "cell_type": "markdown",
   "metadata": {},
   "source": [
    "## 4. Polling and the Normal Distribution\n"
   ]
  },
  {
   "cell_type": "markdown",
   "metadata": {},
   "source": [
    "Michelle is a statistical consultant, and she works for a group that supports Proposition 68 (which would mandate labeling of all horizontal or vertical axes), called Yes on 68.  They want to know how many Californians will vote for the proposition.\n",
    "\n",
    "Michelle polls a uniform random sample of all California voters, and she finds that 215 of the 400 sampled voters will vote in favor of the proposition."
   ]
  },
  {
   "cell_type": "code",
   "execution_count": 41,
   "metadata": {},
   "outputs": [],
   "source": [
    "#: run this cell, but don't change it!\n",
    "sample = Table().with_columns(\n",
    "    \"Vote\",  make_array(\"Yes\", \"No\"),\n",
    "    \"Count\", make_array(215,   185))\n",
    "sample_size = sum(sample.column(\"Count\"))\n",
    "sample_proportions = sample.with_column(\n",
    "    \"Proportion\", sample.column(\"Count\") / sample_size)\n",
    "sample_proportions"
   ]
  },
  {
   "cell_type": "markdown",
   "metadata": {},
   "source": [
    "She uses 10,000 bootstrap resamples to compute a confidence interval for the proportion of all California voters who will vote Yes.  Run the next cell to see the empirical distribution of Yes proportions in the 10,000 resamples."
   ]
  },
  {
   "cell_type": "code",
   "execution_count": 42,
   "metadata": {},
   "outputs": [],
   "source": [
    "#: run this cell, but don't change it!\n",
    "resample_yes_proportions = make_array()\n",
    "for i in np.arange(10000):\n",
    "    resample = proportions_from_distribution(sample_proportions, \"Proportion\", sample_size)\n",
    "    resample_yes_proportions = np.append(resample_yes_proportions, resample.column(\"Random Sample\").item(0))\n",
    "Table().with_column(\"Resample Yes proportion\", resample_yes_proportions).hist(bins=np.arange(.2, .8, .01))"
   ]
  },
  {
   "cell_type": "markdown",
   "metadata": {},
   "source": [
    "**Question 1.**\n",
    "There are two distributions here: the distribution of opinions on Proposition 68, and the bootstrap distribution of estimates of the proportion in favor of the proposition. The Central Limit Theorem applies to one of these distributions; which is it? Explain *why* the theorem is applicable here."
   ]
  },
  {
   "cell_type": "markdown",
   "metadata": {
    "manual_problem_id": "polling_1"
   },
   "source": [
    "<hr style=\"color:Maroon;background-color:Maroon;border:0 none; height: 3px;\">\n",
    "\n",
    "<i>Write your answer here.</i>\n",
    "\n",
    "<hr style=\"color:Maroon;background-color:Maroon;border:0 none; height: 3px;\">"
   ]
  },
  {
   "cell_type": "markdown",
   "metadata": {},
   "source": [
    "<div class=\"hide\">\\pagebreak</div>\n",
    "In a population whose members are 0 and 1, there is a simple formula for the standard deviation of that population:\n",
    "\n",
    "$$\\text{standard deviation} = \\sqrt{(\\text{proportion of 0s}) \\times (\\text{proportion of 1s})}$$\n",
    "\n",
    "(Figuring out this formula, starting from the definition of the standard deviation, is a fun exercise for those who enjoy algebra -- and who doesn't?)"
   ]
  },
  {
   "cell_type": "markdown",
   "metadata": {},
   "source": [
    "**Question 2.**\n",
    "**Without accessing the data in `resample_yes_proportions` in any way**, and instead using only the Central Limit Theorem and the numbers of Yes and No voters in our sample of 400, compute a number `approximate_sd` that's the predicted standard deviation of the array `resample_yes_proportions` according to the central limit theorem. Since you don't know the true proportions of 0s and 1s in the population, use the proportions in the sample instead (since they're probably similar)."
   ]
  },
  {
   "cell_type": "code",
   "execution_count": 43,
   "metadata": {},
   "outputs": [],
   "source": [
    "approximate_sd = ...\n",
    "approximate_sd"
   ]
  },
  {
   "cell_type": "code",
   "execution_count": 44,
   "metadata": {},
   "outputs": [],
   "source": [
    "#: grade\n",
    "_ = ok.grade('q4_2')"
   ]
  },
  {
   "cell_type": "markdown",
   "metadata": {},
   "source": [
    "**Question 3.**\n",
    "Compute the standard deviation of the array `resample_yes_proportions` to verify that your answer to question 2 is approximately right."
   ]
  },
  {
   "cell_type": "code",
   "execution_count": 45,
   "metadata": {},
   "outputs": [],
   "source": [
    "exact_sd = ...\n",
    "exact_sd"
   ]
  },
  {
   "cell_type": "code",
   "execution_count": 46,
   "metadata": {},
   "outputs": [],
   "source": [
    "#: grade\n",
    "_ = ok.grade('q4_3')"
   ]
  },
  {
   "cell_type": "markdown",
   "metadata": {},
   "source": [
    "**Question 4.**\n",
    "**Still without accessing `resample_yes_proportions` in any way**, compute an approximate 95% confidence interval for the proportion of Yes voters in California.  The cell below draws your interval as a red bar below the histogram of `resample_yes_proportions`; use that to verify that your answer looks right.\n",
    "\n",
    "*Hint*: Before, we've used `percentile` on the bootstrap distribution to find the bounds for the confidence interval. Now the question says that we can't use the bootstrap distribution -- but we don't need it! We know (from the Central Limit Theorem) that the distribution of the sample mean is Normal with a certain standard deviation. We also know that 95% of the area of the normal distribution falls within a certain number of standard deviations from the mean.\n",
    "\n",
    "If you're still stuck, try studying [Section 14.3](https://ucsd-ets.github.io/dsc10-fa18-textbook/chapters/14/3/SD_and_the_Normal_Curve) in the textbook."
   ]
  },
  {
   "cell_type": "code",
   "execution_count": 47,
   "metadata": {},
   "outputs": [],
   "source": [
    "lower_limit = ...\n",
    "lower_limit"
   ]
  },
  {
   "cell_type": "code",
   "execution_count": 48,
   "metadata": {},
   "outputs": [],
   "source": [
    "upper_limit = ...\n",
    "upper_limit"
   ]
  },
  {
   "cell_type": "code",
   "execution_count": 49,
   "metadata": {},
   "outputs": [],
   "source": [
    "#: print the confidence interval\n",
    "print('lower:', lower_limit, 'upper:', upper_limit)"
   ]
  },
  {
   "cell_type": "code",
   "execution_count": 50,
   "metadata": {},
   "outputs": [],
   "source": [
    "#: grade\n",
    "_ = ok.grade('q4_4')"
   ]
  },
  {
   "cell_type": "code",
   "execution_count": 51,
   "metadata": {},
   "outputs": [],
   "source": [
    "# Run this cell to plot your confidence interval.\n",
    "Table().with_column('Resample Yes proportion', resample_yes_proportions).hist(bins=np.arange(.2, .8, .01))\n",
    "plots.plot(make_array(lower_limit, upper_limit), make_array(0, 0), c='r', lw=10);"
   ]
  },
  {
   "cell_type": "markdown",
   "metadata": {},
   "source": [
    "Your confidence interval should overlap the number 0.5.  That means we can't be very sure whether Proposition 68 is winning, even though the sample Yes proportion is a bit above 0.5.\n",
    "\n",
    "The Yes on 68 campaign really needs to know whether they're winning. To have more confidence in the result of the poll, the decide to redo it with a larger sample. They'd be happy if the standard deviation of the sample mean were only 0.005.  They ask Michelle to run a new poll with a sample size that's large enough to achieve that.  (Polling is expensive, so the sample also shouldn't be bigger than necessary.)\n",
    "\n",
    "Michelle consults Chapter 14 of your textbook.  Instead of making the conservative assumption that the population standard deviation is 0.5 (coding Yes voters as 1 and No voters as 0), she decides to assume that it's equal to the standard deviation of the sample,\n",
    "\n",
    "$$\\sqrt{(\\text{Yes proportion in the sample}) \\times (\\text{No proportion in the sample})}.$$\n",
    "\n",
    "Under that assumption, Michelle computes the smallest sample size necessary in order to be confident that the standard deviation of the sample mean is only 0.005."
   ]
  },
  {
   "cell_type": "markdown",
   "metadata": {},
   "source": [
    "**Question 5.**\n",
    "What sample size did she find? Assign your answer to the variable `sample_size`."
   ]
  },
  {
   "cell_type": "code",
   "execution_count": 52,
   "metadata": {},
   "outputs": [],
   "source": [
    "sample_size = ...\n",
    "sample_size"
   ]
  },
  {
   "cell_type": "code",
   "execution_count": 53,
   "metadata": {},
   "outputs": [],
   "source": [
    "#: grade\n",
    "_ = ok.grade('q4_5')"
   ]
  },
  {
   "cell_type": "markdown",
   "metadata": {},
   "source": [
    "To submit:\n",
    "\n",
    "1. Select `Kernel -> Restart & Run All` to ensure that you have executed all cells, including the test cells.\n",
    "3. Read through the notebook to make sure everything is fine and all tests passed.\n",
    "4. Submit using the cell below.\n",
    "5. Save PDF and submit to gradescope"
   ]
  },
  {
   "cell_type": "code",
   "execution_count": 54,
   "metadata": {},
   "outputs": [],
   "source": [
    "#: Run all tests at once\n",
    "import os\n",
    "_ = [ok.grade(q[:-3]) for q in os.listdir('tests') if q.startswith('q')]"
   ]
  },
  {
   "cell_type": "markdown",
   "metadata": {},
   "source": [
    "## Before submitting, select \"Kernel\" -> \"Restart & Run All\" from the menu!\n",
    "\n",
    "Then make sure that all of your cells ran without error."
   ]
  },
  {
   "cell_type": "code",
   "execution_count": 55,
   "metadata": {},
   "outputs": [],
   "source": [
    "#: run this to submit your homework\n",
    "_ = ok.submit()"
   ]
  },
  {
   "cell_type": "markdown",
   "metadata": {},
   "source": [
    "## Don't forget to submit to both OK and Gradescope!"
   ]
  }
 ],
 "metadata": {
  "kernelspec": {
   "display_name": "Python 3",
   "language": "python",
   "name": "python3"
  },
  "language_info": {
   "codemirror_mode": {
    "name": "ipython",
    "version": 3
   },
   "file_extension": ".py",
   "mimetype": "text/x-python",
   "name": "python",
   "nbconvert_exporter": "python",
   "pygments_lexer": "ipython3",
   "version": "3.6.6"
  }
 },
 "nbformat": 4,
 "nbformat_minor": 1
}
